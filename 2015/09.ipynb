{
 "cells": [
  {
   "cell_type": "code",
   "execution_count": 52,
   "id": "674124e4-9f56-4ffa-aca5-c98e6ed31f90",
   "metadata": {},
   "outputs": [],
   "source": [
    "import itertools"
   ]
  },
  {
   "cell_type": "code",
   "execution_count": 53,
   "id": "20e62f5c",
   "metadata": {},
   "outputs": [],
   "source": [
    "with open('input09', 'r') as f:\n",
    "    lines = [l.strip() for l in f.readlines()]"
   ]
  },
  {
   "cell_type": "markdown",
   "id": "040c4522",
   "metadata": {},
   "source": [
    "## Part 1"
   ]
  },
  {
   "cell_type": "code",
   "execution_count": 47,
   "id": "2fad19e5",
   "metadata": {},
   "outputs": [],
   "source": [
    "lines = [\n",
    "    'London to Dublin = 464',\n",
    "    'London to Belfast = 518',\n",
    "    'Dublin to Belfast = 141',\n",
    "]"
   ]
  },
  {
   "cell_type": "code",
   "execution_count": 54,
   "id": "a7a5bbe1",
   "metadata": {
    "scrolled": true
   },
   "outputs": [],
   "source": [
    "locations = list(set([l.split()[0] for l in lines] + [l.split()[2] for l in lines]))\n",
    "distances = dict(((l.split()[0], l.split()[2]), int(l.split()[-1])) for l in lines) | \\\n",
    "            dict(((l.split()[2], l.split()[0]), int(l.split()[-1])) for l in lines)\n",
    "routes = list(itertools.permutations(locations))"
   ]
  },
  {
   "cell_type": "code",
   "execution_count": 55,
   "id": "8e4dbe96-f3dc-4a3b-a3fb-c09d5a945480",
   "metadata": {},
   "outputs": [
    {
     "name": "stdout",
     "output_type": "stream",
     "text": [
      "141\n"
     ]
    }
   ],
   "source": [
    "print(min(sum(distances[segment] for segment in zip(route, route[1:])) for route in routes))"
   ]
  },
  {
   "cell_type": "markdown",
   "id": "7a157bf9",
   "metadata": {},
   "source": [
    "## Part 2"
   ]
  },
  {
   "cell_type": "code",
   "execution_count": 56,
   "id": "f3346bd5",
   "metadata": {},
   "outputs": [
    {
     "name": "stdout",
     "output_type": "stream",
     "text": [
      "736\n"
     ]
    }
   ],
   "source": [
    "print(max(sum(distances[segment] for segment in zip(route, route[1:])) for route in routes))"
   ]
  }
 ],
 "metadata": {
  "kernelspec": {
   "display_name": "Python 3 (ipykernel)",
   "language": "python",
   "name": "python3"
  },
  "language_info": {
   "codemirror_mode": {
    "name": "ipython",
    "version": 3
   },
   "file_extension": ".py",
   "mimetype": "text/x-python",
   "name": "python",
   "nbconvert_exporter": "python",
   "pygments_lexer": "ipython3",
   "version": "3.13.0"
  }
 },
 "nbformat": 4,
 "nbformat_minor": 5
}
