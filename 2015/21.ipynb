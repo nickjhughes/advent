{
 "cells": [
  {
   "cell_type": "code",
   "execution_count": 1,
   "id": "4a72d544",
   "metadata": {},
   "outputs": [],
   "source": [
    "with open('input21', 'r') as f:\n",
    "    lines = [l.strip() for l in f.readlines()]"
   ]
  },
  {
   "cell_type": "markdown",
   "id": "1fa7156c",
   "metadata": {},
   "source": [
    "## Part 1"
   ]
  },
  {
   "cell_type": "code",
   "execution_count": 2,
   "id": "2d5bdfbe-7cc0-4e07-a6b8-1a8624307480",
   "metadata": {},
   "outputs": [],
   "source": [
    "weapons = [\n",
    "    {\"cost\": 8, \"damage\": 4, \"armor\": 0},\n",
    "    {\"cost\": 10, \"damage\": 5, \"armor\": 0},\n",
    "    {\"cost\": 25, \"damage\": 6, \"armor\": 0},\n",
    "    {\"cost\": 40, \"damage\": 7, \"armor\": 0},\n",
    "    {\"cost\": 74, \"damage\": 8, \"armor\": 0},\n",
    "]\n",
    "armors = [\n",
    "    {\"cost\": 0, \"damage\": 0, \"armor\": 0},\n",
    "    {\"cost\": 13, \"damage\": 0, \"armor\": 1},\n",
    "    {\"cost\": 31, \"damage\": 0, \"armor\": 2},\n",
    "    {\"cost\": 53, \"damage\": 0, \"armor\": 3},\n",
    "    {\"cost\": 75, \"damage\": 0, \"armor\": 4},\n",
    "    {\"cost\": 102, \"damage\": 0, \"armor\": 5},\n",
    "]\n",
    "rings = [\n",
    "    {\"cost\": 0, \"damage\": 0, \"armor\": 0},\n",
    "    {\"cost\": 0, \"damage\": 0, \"armor\": 0},\n",
    "    {\"cost\": 25, \"damage\": 1, \"armor\": 0},\n",
    "    {\"cost\": 50, \"damage\": 2, \"armor\": 0},\n",
    "    {\"cost\": 100, \"damage\": 3, \"armor\": 0},\n",
    "    {\"cost\": 20, \"damage\": 0, \"armor\": 1},\n",
    "    {\"cost\": 40, \"damage\": 0, \"armor\": 2},\n",
    "    {\"cost\": 80, \"damage\": 0, \"armor\": 3},\n",
    "]"
   ]
  },
  {
   "cell_type": "code",
   "execution_count": 3,
   "id": "92ccf6e5-e24c-4fab-a14a-3187fe764b57",
   "metadata": {},
   "outputs": [],
   "source": [
    "player_hp = 100"
   ]
  },
  {
   "cell_type": "code",
   "execution_count": 4,
   "id": "7d6f0e76-6f66-4a65-98ed-52b19f9d9995",
   "metadata": {},
   "outputs": [],
   "source": [
    "boss = {\"hp\": int(lines[0].split()[2]), \"damage\": int(lines[1].split()[1]), \"armor\": int(lines[2].split()[1])}"
   ]
  },
  {
   "cell_type": "code",
   "execution_count": 5,
   "id": "52811d1d-3e53-4d5c-8df4-84edfd8304c1",
   "metadata": {},
   "outputs": [],
   "source": [
    "def fight(player, boss):\n",
    "    boss_hp = boss[\"hp\"]\n",
    "    player_hp = player[\"hp\"]\n",
    "    while True:\n",
    "        boss_hp -= max(player[\"damage\"] - boss[\"armor\"], 1)\n",
    "        if boss_hp <= 0:\n",
    "            return True\n",
    "        player_hp -= max(boss[\"damage\"] - player[\"armor\"], 1)\n",
    "        if player_hp <= 0:\n",
    "            return False"
   ]
  },
  {
   "cell_type": "code",
   "execution_count": 6,
   "id": "557ec0b0-40f9-4e60-b007-f5e2808e0991",
   "metadata": {},
   "outputs": [
    {
     "name": "stdout",
     "output_type": "stream",
     "text": [
      "91\n"
     ]
    }
   ],
   "source": [
    "min_cost = 1000\n",
    "for weapon in weapons:\n",
    "    for armor in armors:\n",
    "        for ring1 in rings:\n",
    "            for ring2 in rings:\n",
    "                if ring1 == ring2:\n",
    "                    continue\n",
    "                cost = weapon[\"cost\"] + armor[\"cost\"] + ring1[\"cost\"] + ring2[\"cost\"]\n",
    "                damage = weapon[\"damage\"] + armor[\"damage\"] + ring1[\"damage\"] + ring2[\"damage\"]\n",
    "                armor_value = weapon[\"armor\"] + armor[\"armor\"] + ring1[\"armor\"] + ring2[\"armor\"]\n",
    "                player_wins = fight({\"hp\": player_hp, \"damage\": damage, \"armor\": armor_value}, boss)\n",
    "                if player_wins and cost < min_cost:\n",
    "                    min_cost = cost\n",
    "print(min_cost)"
   ]
  },
  {
   "cell_type": "markdown",
   "id": "c52456e1",
   "metadata": {},
   "source": [
    "## Part 2"
   ]
  },
  {
   "cell_type": "code",
   "execution_count": 7,
   "id": "78a2dcaa-1561-4410-a62f-2461d10ee390",
   "metadata": {},
   "outputs": [
    {
     "name": "stdout",
     "output_type": "stream",
     "text": [
      "158\n"
     ]
    }
   ],
   "source": [
    "max_cost = 0\n",
    "for weapon in weapons:\n",
    "    for armor in armors:\n",
    "        for ring1 in rings:\n",
    "            for ring2 in rings:\n",
    "                if ring1 == ring2:\n",
    "                    continue\n",
    "                cost = weapon[\"cost\"] + armor[\"cost\"] + ring1[\"cost\"] + ring2[\"cost\"]\n",
    "                damage = weapon[\"damage\"] + armor[\"damage\"] + ring1[\"damage\"] + ring2[\"damage\"]\n",
    "                armor_value = weapon[\"armor\"] + armor[\"armor\"] + ring1[\"armor\"] + ring2[\"armor\"]\n",
    "                player_wins = fight({\"hp\": player_hp, \"damage\": damage, \"armor\": armor_value}, boss)\n",
    "                if not player_wins and cost > max_cost:\n",
    "                    max_cost = cost\n",
    "print(max_cost)"
   ]
  }
 ],
 "metadata": {
  "kernelspec": {
   "display_name": "Python 3 (ipykernel)",
   "language": "python",
   "name": "python3"
  },
  "language_info": {
   "codemirror_mode": {
    "name": "ipython",
    "version": 3
   },
   "file_extension": ".py",
   "mimetype": "text/x-python",
   "name": "python",
   "nbconvert_exporter": "python",
   "pygments_lexer": "ipython3",
   "version": "3.13.0"
  }
 },
 "nbformat": 4,
 "nbformat_minor": 5
}
