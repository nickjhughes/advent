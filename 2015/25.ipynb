{
 "cells": [
  {
   "cell_type": "code",
   "execution_count": 1,
   "id": "4a72d544",
   "metadata": {},
   "outputs": [],
   "source": [
    "with open('input25', 'r') as f:\n",
    "    lines = [l.strip() for l in f.readlines()]"
   ]
  },
  {
   "cell_type": "markdown",
   "id": "1fa7156c",
   "metadata": {},
   "source": [
    "## Part 1"
   ]
  },
  {
   "cell_type": "code",
   "execution_count": 2,
   "id": "c2c20095-ee41-4429-87f6-fbc175b41017",
   "metadata": {},
   "outputs": [],
   "source": [
    "row = int(lines[0].split()[15][:-1])\n",
    "col = int(lines[0].split()[17][:-1])"
   ]
  },
  {
   "cell_type": "code",
   "execution_count": 3,
   "id": "3cfab13f-75a5-433e-a873-6e7b413385a1",
   "metadata": {},
   "outputs": [],
   "source": [
    "def next_code(code):\n",
    "    return (code * 252533) % 33554393"
   ]
  },
  {
   "cell_type": "code",
   "execution_count": 4,
   "id": "41f3efcc-6775-4f76-8e73-d2933934a3b2",
   "metadata": {},
   "outputs": [
    {
     "name": "stdout",
     "output_type": "stream",
     "text": [
      "2650453\n"
     ]
    }
   ],
   "source": [
    "code0 = 20151125\n",
    "for start_row in range(row + col):\n",
    "    r = start_row\n",
    "    for c in range(1, start_row + 1):\n",
    "        code1 = next_code(code0)\n",
    "        if r == row and c == col:\n",
    "            print(code0)\n",
    "            break\n",
    "        code0 = code1\n",
    "        r -= 1"
   ]
  }
 ],
 "metadata": {
  "kernelspec": {
   "display_name": "Python 3 (ipykernel)",
   "language": "python",
   "name": "python3"
  },
  "language_info": {
   "codemirror_mode": {
    "name": "ipython",
    "version": 3
   },
   "file_extension": ".py",
   "mimetype": "text/x-python",
   "name": "python",
   "nbconvert_exporter": "python",
   "pygments_lexer": "ipython3",
   "version": "3.13.0"
  }
 },
 "nbformat": 4,
 "nbformat_minor": 5
}
