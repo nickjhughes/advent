{
 "cells": [
  {
   "cell_type": "code",
   "execution_count": 2,
   "id": "20e62f5c",
   "metadata": {},
   "outputs": [],
   "source": [
    "with open('input16', 'r') as f:\n",
    "    lines = [l.strip() for l in f.readlines()]"
   ]
  },
  {
   "cell_type": "markdown",
   "id": "040c4522",
   "metadata": {},
   "source": [
    "## Part 1"
   ]
  },
  {
   "cell_type": "code",
   "execution_count": 3,
   "id": "218b3b5e-687d-4c54-9428-662e418d910f",
   "metadata": {},
   "outputs": [],
   "source": [
    "counts = {\n",
    "    'children': 3,\n",
    "    'cats': 7,\n",
    "    'samoyeds': 2,\n",
    "    'pomeranians': 3,\n",
    "    'akitas': 0,\n",
    "    'vizslas': 0,\n",
    "    'goldfish': 5,\n",
    "    'trees': 3,\n",
    "    'cars': 2,\n",
    "    'perfumes': 1,\n",
    "}"
   ]
  },
  {
   "cell_type": "code",
   "execution_count": 16,
   "id": "606c1bdf-0182-4be7-a172-8aed022ae18b",
   "metadata": {},
   "outputs": [
    {
     "name": "stdout",
     "output_type": "stream",
     "text": [
      "373\n"
     ]
    }
   ],
   "source": [
    "for line in lines:\n",
    "    parts = line.split()\n",
    "    sue_num = int(parts[1][:-1])\n",
    "    sue_counts = {}\n",
    "    for (item, count) in zip(parts[2::2], parts[3::2]):\n",
    "        sue_counts[item.replace(':', '')] = int(count.replace(',', ''))\n",
    "    match = True\n",
    "    for (item, count) in sue_counts.items():\n",
    "        if count != counts[item]:\n",
    "            match = False\n",
    "            break\n",
    "    if match:\n",
    "        print(sue_num)\n",
    "        break"
   ]
  },
  {
   "cell_type": "markdown",
   "id": "7a157bf9",
   "metadata": {},
   "source": [
    "## Part 2"
   ]
  },
  {
   "cell_type": "code",
   "execution_count": 22,
   "id": "3656d353-c719-4675-b485-1c54a7af7e67",
   "metadata": {},
   "outputs": [
    {
     "name": "stdout",
     "output_type": "stream",
     "text": [
      "260\n"
     ]
    }
   ],
   "source": [
    "for line in lines:\n",
    "    parts = line.split()\n",
    "    sue_num = int(parts[1][:-1])\n",
    "    sue_counts = {}\n",
    "    for (item, count) in zip(parts[2::2], parts[3::2]):\n",
    "        sue_counts[item.replace(':', '')] = int(count.replace(',', ''))\n",
    "    match = True\n",
    "    for item in ['cats', 'trees']:\n",
    "        if item in sue_counts:\n",
    "            if sue_counts[item] <= counts[item]:\n",
    "                match = False\n",
    "                break\n",
    "    for item in ['pomeranians', 'goldfish']:\n",
    "        if item in sue_counts:\n",
    "            if sue_counts[item] >= counts[item]:\n",
    "                match = False\n",
    "                break\n",
    "    for item in ['children', 'samoyeds', 'akitas', 'vizslas', 'cars', 'perfumes']:\n",
    "        if item in sue_counts:\n",
    "            if sue_counts[item] != counts[item]:\n",
    "                match = False\n",
    "                break\n",
    "    if match:\n",
    "        print(sue_num)\n",
    "        break"
   ]
  }
 ],
 "metadata": {
  "kernelspec": {
   "display_name": "Python 3 (ipykernel)",
   "language": "python",
   "name": "python3"
  },
  "language_info": {
   "codemirror_mode": {
    "name": "ipython",
    "version": 3
   },
   "file_extension": ".py",
   "mimetype": "text/x-python",
   "name": "python",
   "nbconvert_exporter": "python",
   "pygments_lexer": "ipython3",
   "version": "3.13.0"
  }
 },
 "nbformat": 4,
 "nbformat_minor": 5
}
