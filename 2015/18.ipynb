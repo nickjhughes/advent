{
 "cells": [
  {
   "cell_type": "code",
   "execution_count": 37,
   "id": "409aab37",
   "metadata": {},
   "outputs": [],
   "source": [
    "import numpy as np"
   ]
  },
  {
   "cell_type": "code",
   "execution_count": 38,
   "id": "4a72d544",
   "metadata": {},
   "outputs": [],
   "source": [
    "with open('input18', 'r') as f:\n",
    "    lines = [l.strip() for l in f.readlines()]"
   ]
  },
  {
   "cell_type": "markdown",
   "id": "1fa7156c",
   "metadata": {},
   "source": [
    "## Part 1"
   ]
  },
  {
   "cell_type": "code",
   "execution_count": 23,
   "id": "e7e4717a",
   "metadata": {},
   "outputs": [],
   "source": [
    "lines = [\n",
    "    '.#.#.#',\n",
    "    '...##.',\n",
    "    '#....#',\n",
    "    '..#...',\n",
    "    '#.#..#',\n",
    "    '####..',\n",
    "]"
   ]
  },
  {
   "cell_type": "code",
   "execution_count": 27,
   "id": "fd71167c",
   "metadata": {},
   "outputs": [],
   "source": [
    "num_rows = len(lines)\n",
    "num_cols = len(lines[0])\n",
    "lights = np.zeros((num_rows, num_cols))\n",
    "for i, line in enumerate(lines):\n",
    "    lights[i,:] = [1 if l == '#' else 0 for l in line]"
   ]
  },
  {
   "cell_type": "code",
   "execution_count": 28,
   "id": "ec2826ae",
   "metadata": {},
   "outputs": [
    {
     "name": "stdout",
     "output_type": "stream",
     "text": [
      "1061\n"
     ]
    }
   ],
   "source": [
    "for _ in range(100):\n",
    "    new_lights = np.zeros((num_rows, num_cols))\n",
    "    for r in range(num_rows):\n",
    "        for c in range(num_cols):\n",
    "            on_neighbours = 0\n",
    "            if r > 0:\n",
    "                if c > 0:\n",
    "                    on_neighbours += lights[r - 1, c - 1]\n",
    "                on_neighbours += lights[r - 1, c]\n",
    "                if c < num_cols - 1:\n",
    "                    on_neighbours += lights[r - 1, c + 1]\n",
    "            if c > 0:\n",
    "                on_neighbours += lights[r, c - 1]\n",
    "            if c < num_cols - 1:\n",
    "                on_neighbours += lights[r, c + 1]\n",
    "            if r < num_rows - 1:\n",
    "                if c > 0:\n",
    "                    on_neighbours += lights[r + 1, c - 1]\n",
    "                on_neighbours += lights[r + 1, c]\n",
    "                if c < num_cols - 1:\n",
    "                    on_neighbours += lights[r + 1, c + 1]\n",
    "            if lights[r, c] == 1:\n",
    "                if on_neighbours in [2, 3]:\n",
    "                    new_lights[r, c] = 1\n",
    "                else:\n",
    "                    new_lights[r, c] = 0\n",
    "            else:\n",
    "                if on_neighbours == 3:\n",
    "                    new_lights[r, c] = 1\n",
    "                else:\n",
    "                    new_lights[r, c] = 0\n",
    "    lights = new_lights\n",
    "print(int(lights.sum()))"
   ]
  },
  {
   "cell_type": "markdown",
   "id": "c52456e1",
   "metadata": {},
   "source": [
    "## Part 2"
   ]
  },
  {
   "cell_type": "code",
   "execution_count": 34,
   "id": "11fecb39",
   "metadata": {},
   "outputs": [],
   "source": [
    "lines = [\n",
    "    '##.#.#',\n",
    "    '...##.',\n",
    "    '#....#',\n",
    "    '..#...',\n",
    "    '#.#..#',\n",
    "    '####.#',\n",
    "]"
   ]
  },
  {
   "cell_type": "code",
   "execution_count": 39,
   "id": "30fbf79e",
   "metadata": {},
   "outputs": [],
   "source": [
    "num_rows = len(lines)\n",
    "num_cols = len(lines[0])\n",
    "lights = np.zeros((num_rows, num_cols))\n",
    "for i, line in enumerate(lines):\n",
    "    lights[i,:] = [1 if l == '#' else 0 for l in line]"
   ]
  },
  {
   "cell_type": "code",
   "execution_count": 40,
   "id": "e41f685a",
   "metadata": {},
   "outputs": [
    {
     "name": "stdout",
     "output_type": "stream",
     "text": [
      "1006\n"
     ]
    }
   ],
   "source": [
    "for _ in range(100):\n",
    "    new_lights = np.zeros((num_rows, num_cols))\n",
    "    for r in range(num_rows):\n",
    "        for c in range(num_cols):\n",
    "            if (r, c) in [(0, 0), (num_rows - 1, 0), (0, num_cols - 1), (num_rows - 1, num_cols - 1)]:\n",
    "                new_lights[r, c] = 1\n",
    "                continue\n",
    "            on_neighbours = 0\n",
    "            if r > 0:\n",
    "                if c > 0:\n",
    "                    on_neighbours += lights[r - 1, c - 1]\n",
    "                on_neighbours += lights[r - 1, c]\n",
    "                if c < num_cols - 1:\n",
    "                    on_neighbours += lights[r - 1, c + 1]\n",
    "            if c > 0:\n",
    "                on_neighbours += lights[r, c - 1]\n",
    "            if c < num_cols - 1:\n",
    "                on_neighbours += lights[r, c + 1]\n",
    "            if r < num_rows - 1:\n",
    "                if c > 0:\n",
    "                    on_neighbours += lights[r + 1, c - 1]\n",
    "                on_neighbours += lights[r + 1, c]\n",
    "                if c < num_cols - 1:\n",
    "                    on_neighbours += lights[r + 1, c + 1]\n",
    "            if lights[r, c] == 1:\n",
    "                if on_neighbours in [2, 3]:\n",
    "                    new_lights[r, c] = 1\n",
    "                else:\n",
    "                    new_lights[r, c] = 0\n",
    "            else:\n",
    "                if on_neighbours == 3:\n",
    "                    new_lights[r, c] = 1\n",
    "                else:\n",
    "                    new_lights[r, c] = 0\n",
    "    lights = new_lights\n",
    "print(int(lights.sum()))"
   ]
  }
 ],
 "metadata": {
  "kernelspec": {
   "display_name": "Python 3 (ipykernel)",
   "language": "python",
   "name": "python3"
  },
  "language_info": {
   "codemirror_mode": {
    "name": "ipython",
    "version": 3
   },
   "file_extension": ".py",
   "mimetype": "text/x-python",
   "name": "python",
   "nbconvert_exporter": "python",
   "pygments_lexer": "ipython3",
   "version": "3.9.10"
  }
 },
 "nbformat": 4,
 "nbformat_minor": 5
}
