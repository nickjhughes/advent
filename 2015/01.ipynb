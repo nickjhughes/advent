{
 "cells": [
  {
   "cell_type": "code",
   "execution_count": 6,
   "id": "f48936c4",
   "metadata": {},
   "outputs": [],
   "source": [
    "with open('input01', 'r') as f:\n",
    "    lines = [l.strip() for l in f.readlines()]\n",
    "line = lines[0]"
   ]
  },
  {
   "cell_type": "markdown",
   "id": "f34c12a9",
   "metadata": {},
   "source": [
    "## Part 1"
   ]
  },
  {
   "cell_type": "code",
   "execution_count": 7,
   "id": "3f367cf5",
   "metadata": {},
   "outputs": [
    {
     "name": "stdout",
     "output_type": "stream",
     "text": [
      "280\n"
     ]
    }
   ],
   "source": [
    "floor = 0\n",
    "for char in line:\n",
    "    if char == '(':\n",
    "        floor += 1\n",
    "    elif char == ')':\n",
    "        floor -= 1\n",
    "print(floor)"
   ]
  },
  {
   "cell_type": "markdown",
   "id": "02c24d0b",
   "metadata": {},
   "source": [
    "## Part 2"
   ]
  },
  {
   "cell_type": "code",
   "execution_count": 9,
   "id": "a538d68c",
   "metadata": {},
   "outputs": [
    {
     "name": "stdout",
     "output_type": "stream",
     "text": [
      "1797\n"
     ]
    }
   ],
   "source": [
    "floor = 0\n",
    "for i, char in enumerate(line):\n",
    "    if char == '(':\n",
    "        floor += 1\n",
    "    elif char == ')':\n",
    "        floor -= 1\n",
    "    if floor == -1:\n",
    "        print(i + 1)\n",
    "        break"
   ]
  }
 ],
 "metadata": {
  "kernelspec": {
   "display_name": "Python 3 (ipykernel)",
   "language": "python",
   "name": "python3"
  },
  "language_info": {
   "codemirror_mode": {
    "name": "ipython",
    "version": 3
   },
   "file_extension": ".py",
   "mimetype": "text/x-python",
   "name": "python",
   "nbconvert_exporter": "python",
   "pygments_lexer": "ipython3",
   "version": "3.8.0"
  }
 },
 "nbformat": 4,
 "nbformat_minor": 5
}
