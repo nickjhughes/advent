{
 "cells": [
  {
   "cell_type": "code",
   "execution_count": 48,
   "id": "e7da0479-c12d-4d93-bef8-8ebf4ff23d14",
   "metadata": {},
   "outputs": [],
   "source": [
    "import numpy as np\n",
    "import scipy"
   ]
  },
  {
   "cell_type": "code",
   "execution_count": 61,
   "id": "20e62f5c",
   "metadata": {},
   "outputs": [],
   "source": [
    "with open('input15', 'r') as f:\n",
    "    lines = [l.strip() for l in f.readlines()]"
   ]
  },
  {
   "cell_type": "markdown",
   "id": "040c4522",
   "metadata": {},
   "source": [
    "## Part 1"
   ]
  },
  {
   "cell_type": "code",
   "execution_count": 57,
   "id": "2f8d9c13-18c6-490f-99ca-6430aaec53aa",
   "metadata": {},
   "outputs": [],
   "source": [
    "lines = [\n",
    "    \"Butterscotch: capacity -1, durability -2, flavor 6, texture 3, calories 8\",\n",
    "    \"Cinnamon: capacity 2, durability 3, flavor -2, texture -1, calories 3\"\n",
    "]"
   ]
  },
  {
   "cell_type": "code",
   "execution_count": 62,
   "id": "7aada9d3-97ac-4a8d-a193-3e8ee1221f0f",
   "metadata": {},
   "outputs": [],
   "source": [
    "ingredients = []\n",
    "calories = []\n",
    "for line in lines:\n",
    "    parts = line.split()\n",
    "    ingredients.append((\n",
    "        int(parts[2][:-1]),\n",
    "        int(parts[4][:-1]),\n",
    "        int(parts[6][:-1]),\n",
    "        int(parts[8][:-1]),\n",
    "    ))\n",
    "    calories.append(int(parts[10]))"
   ]
  },
  {
   "cell_type": "code",
   "execution_count": 59,
   "id": "cb48bf45-cdf8-4310-a72d-2b3e9acf97e7",
   "metadata": {},
   "outputs": [
    {
     "name": "stdout",
     "output_type": "stream",
     "text": [
      "62842880\n"
     ]
    }
   ],
   "source": [
    "results = []\n",
    "for b in range(101):\n",
    "    c = 100 - b\n",
    "    scores = np.array([b * i for i in ingredients[0]]) + np.array([c * i for i in ingredients[1]])\n",
    "    score = np.prod(np.max(np.array([scores, [0,0,0,0]]), 0))\n",
    "    results.append(score)\n",
    "print(max(results))"
   ]
  },
  {
   "cell_type": "code",
   "execution_count": 63,
   "id": "f858f33c-6d06-466e-9c6a-a9aeabcb5e15",
   "metadata": {},
   "outputs": [
    {
     "name": "stdout",
     "output_type": "stream",
     "text": [
      "18965440\n"
     ]
    }
   ],
   "source": [
    "results = []\n",
    "for a in range(101):\n",
    "    for b in range(101):\n",
    "        for c in range(101):\n",
    "            if a + b + c > 100:\n",
    "                continue\n",
    "            d = 100 - a - b - c\n",
    "            scores = np.array([a * i for i in ingredients[0]]) + \\\n",
    "                     np.array([b * i for i in ingredients[1]]) + \\\n",
    "                     np.array([c * i for i in ingredients[2]]) + \\\n",
    "                     np.array([d * i for i in ingredients[3]])\n",
    "            score = np.prod(np.max(np.array([scores, [0,0,0,0]]), 0))\n",
    "            results.append(score)\n",
    "print(max(results))"
   ]
  },
  {
   "cell_type": "markdown",
   "id": "7a157bf9",
   "metadata": {},
   "source": [
    "## Part 2"
   ]
  },
  {
   "cell_type": "code",
   "execution_count": 64,
   "id": "c3dfbdcf-ff2f-4b93-a3b1-2336c359c8a7",
   "metadata": {},
   "outputs": [
    {
     "name": "stdout",
     "output_type": "stream",
     "text": [
      "15862900\n"
     ]
    }
   ],
   "source": [
    "results = []\n",
    "for a in range(101):\n",
    "    for b in range(101):\n",
    "        for c in range(101):\n",
    "            if a + b + c > 100:\n",
    "                continue\n",
    "            d = 100 - a - b - c\n",
    "            cal = a * calories[0] + b * calories[1] + c * calories[2] + d * calories[3]\n",
    "            if cal != 500:\n",
    "                continue\n",
    "            scores = np.array([a * i for i in ingredients[0]]) + \\\n",
    "                     np.array([b * i for i in ingredients[1]]) + \\\n",
    "                     np.array([c * i for i in ingredients[2]]) + \\\n",
    "                     np.array([d * i for i in ingredients[3]])\n",
    "            score = np.prod(np.max(np.array([scores, [0,0,0,0]]), 0))\n",
    "            results.append(score)\n",
    "print(max(results))"
   ]
  }
 ],
 "metadata": {
  "kernelspec": {
   "display_name": "Python 3 (ipykernel)",
   "language": "python",
   "name": "python3"
  },
  "language_info": {
   "codemirror_mode": {
    "name": "ipython",
    "version": 3
   },
   "file_extension": ".py",
   "mimetype": "text/x-python",
   "name": "python",
   "nbconvert_exporter": "python",
   "pygments_lexer": "ipython3",
   "version": "3.13.0"
  }
 },
 "nbformat": 4,
 "nbformat_minor": 5
}
