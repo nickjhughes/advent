{
 "cells": [
  {
   "cell_type": "code",
   "execution_count": 63,
   "id": "4a72d544",
   "metadata": {},
   "outputs": [],
   "source": [
    "with open('input17', 'r') as f:\n",
    "    lines = [l.strip() for l in f.readlines()]"
   ]
  },
  {
   "cell_type": "markdown",
   "id": "1fa7156c",
   "metadata": {},
   "source": [
    "## Part 1"
   ]
  },
  {
   "cell_type": "code",
   "execution_count": 7,
   "id": "e7e4717a",
   "metadata": {},
   "outputs": [],
   "source": [
    "lines = [\n",
    "    '20',\n",
    "    '15',\n",
    "    '10',\n",
    "    '5',\n",
    "    '5',\n",
    "]"
   ]
  },
  {
   "cell_type": "code",
   "execution_count": 64,
   "id": "fd71167c",
   "metadata": {},
   "outputs": [],
   "source": [
    "all_containers = []\n",
    "for i, line in enumerate(lines):\n",
    "    all_containers.append((i, int(line)))"
   ]
  },
  {
   "cell_type": "code",
   "execution_count": 66,
   "id": "dadfdaab",
   "metadata": {},
   "outputs": [],
   "source": [
    "def get_options(containers, volume):\n",
    "    if volume == 0:\n",
    "        return [[]]\n",
    "    if len(containers) == 1:\n",
    "        if containers[0] == volume:\n",
    "            return [[containers[0]]]\n",
    "        return []\n",
    "    options = []\n",
    "    for container in containers:\n",
    "        if container[1] <= volume:\n",
    "            new_containers = containers.copy()\n",
    "            new_containers.remove(container)\n",
    "            container_options = get_options(new_containers, volume - container[1])\n",
    "            options.extend([[container] + l for l in container_options])\n",
    "    return options"
   ]
  },
  {
   "cell_type": "code",
   "execution_count": 69,
   "id": "fbff2673",
   "metadata": {},
   "outputs": [
    {
     "name": "stdout",
     "output_type": "stream",
     "text": [
      "654\n"
     ]
    }
   ],
   "source": [
    "total_volume = 150\n",
    "\n",
    "options = get_options(all_containers, total_volume)\n",
    "print(len(set(tuple(sorted(o, key=lambda x: x[0])) for o in options)))"
   ]
  },
  {
   "cell_type": "markdown",
   "id": "c52456e1",
   "metadata": {},
   "source": [
    "## Part 2"
   ]
  },
  {
   "cell_type": "code",
   "execution_count": 75,
   "id": "f2e0a735",
   "metadata": {},
   "outputs": [],
   "source": [
    "unique_options = set(tuple(sorted(o, key=lambda x: x[0])) for o in options)"
   ]
  },
  {
   "cell_type": "code",
   "execution_count": 76,
   "id": "8db822af",
   "metadata": {},
   "outputs": [
    {
     "data": {
      "text/plain": [
       "57"
      ]
     },
     "execution_count": 76,
     "metadata": {},
     "output_type": "execute_result"
    }
   ],
   "source": [
    "min_containers = min([len(o) for o in unique_options])\n",
    "len([o for o in unique_options if len(o) == min_containers])"
   ]
  }
 ],
 "metadata": {
  "kernelspec": {
   "display_name": "Python 3 (ipykernel)",
   "language": "python",
   "name": "python3"
  },
  "language_info": {
   "codemirror_mode": {
    "name": "ipython",
    "version": 3
   },
   "file_extension": ".py",
   "mimetype": "text/x-python",
   "name": "python",
   "nbconvert_exporter": "python",
   "pygments_lexer": "ipython3",
   "version": "3.9.10"
  }
 },
 "nbformat": 4,
 "nbformat_minor": 5
}
