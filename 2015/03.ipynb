{
 "cells": [
  {
   "cell_type": "code",
   "execution_count": 35,
   "id": "d3c90e3b",
   "metadata": {},
   "outputs": [],
   "source": [
    "with open('input03', 'r') as f:\n",
    "    lines = [l.strip() for l in f.readlines()]\n",
    "line = lines[0]"
   ]
  },
  {
   "cell_type": "markdown",
   "id": "a75d3cdf",
   "metadata": {},
   "source": [
    "## Part 1"
   ]
  },
  {
   "cell_type": "code",
   "execution_count": 36,
   "id": "6d2a4d01",
   "metadata": {},
   "outputs": [
    {
     "name": "stdout",
     "output_type": "stream",
     "text": [
      "2592\n"
     ]
    }
   ],
   "source": [
    "locations = set()\n",
    "locations.add((0, 0))\n",
    "x, y = 0, 0\n",
    "for char in line:\n",
    "    if char == '^':\n",
    "        y += 1\n",
    "    elif char == 'v':\n",
    "        y -= 1\n",
    "    elif char == '>':\n",
    "        x += 1\n",
    "    elif char == '<':\n",
    "        x -= 1\n",
    "    locations.add((x, y))\n",
    "print(len(locations))"
   ]
  },
  {
   "cell_type": "markdown",
   "id": "5bccc240",
   "metadata": {},
   "source": [
    "## Part 2"
   ]
  },
  {
   "cell_type": "code",
   "execution_count": 37,
   "id": "26198a54",
   "metadata": {
    "scrolled": true
   },
   "outputs": [
    {
     "name": "stdout",
     "output_type": "stream",
     "text": [
      "2360\n"
     ]
    }
   ],
   "source": [
    "locations = set()\n",
    "locations.add((0, 0))\n",
    "# Santa\n",
    "x, y = 0, 0\n",
    "for char in line[::2]:\n",
    "    if char == '^':\n",
    "        y += 1\n",
    "    elif char == 'v':\n",
    "        y -= 1\n",
    "    elif char == '>':\n",
    "        x += 1\n",
    "    elif char == '<':\n",
    "        x -= 1\n",
    "    locations.add((x, y))\n",
    "# Robo-Santa\n",
    "x, y = 0, 0\n",
    "for char in line[1::2]:\n",
    "    if char == '^':\n",
    "        y += 1\n",
    "    elif char == 'v':\n",
    "        y -= 1\n",
    "    elif char == '>':\n",
    "        x += 1\n",
    "    elif char == '<':\n",
    "        x -= 1\n",
    "    locations.add((x, y))\n",
    "print(len(locations))"
   ]
  }
 ],
 "metadata": {
  "kernelspec": {
   "display_name": "Python 3 (ipykernel)",
   "language": "python",
   "name": "python3"
  },
  "language_info": {
   "codemirror_mode": {
    "name": "ipython",
    "version": 3
   },
   "file_extension": ".py",
   "mimetype": "text/x-python",
   "name": "python",
   "nbconvert_exporter": "python",
   "pygments_lexer": "ipython3",
   "version": "3.8.0"
  }
 },
 "nbformat": 4,
 "nbformat_minor": 5
}
