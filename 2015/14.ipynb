{
 "cells": [
  {
   "cell_type": "code",
   "execution_count": 39,
   "id": "82b44aa9",
   "metadata": {},
   "outputs": [],
   "source": [
    "import numpy as np"
   ]
  },
  {
   "cell_type": "code",
   "execution_count": 107,
   "id": "20e62f5c",
   "metadata": {},
   "outputs": [],
   "source": [
    "with open('input14', 'r') as f:\n",
    "    lines = [l.strip() for l in f.readlines()]"
   ]
  },
  {
   "cell_type": "markdown",
   "id": "040c4522",
   "metadata": {},
   "source": [
    "## Part 1"
   ]
  },
  {
   "cell_type": "code",
   "execution_count": 96,
   "id": "0deb12ac",
   "metadata": {},
   "outputs": [],
   "source": [
    "lines = [\n",
    "    'Comet can fly 14 km/s for 10 seconds, but then must rest for 127 seconds.',\n",
    "    'Dancer can fly 16 km/s for 11 seconds, but then must rest for 162 seconds.'\n",
    "]"
   ]
  },
  {
   "cell_type": "code",
   "execution_count": 108,
   "id": "6d2248ef",
   "metadata": {},
   "outputs": [
    {
     "name": "stdout",
     "output_type": "stream",
     "text": [
      "[(19, 7, 124), (3, 15, 28), (19, 9, 164), (19, 9, 158), (13, 7, 82), (25, 6, 145), (14, 3, 38), (3, 16, 37), (25, 6, 143)]\n"
     ]
    }
   ],
   "source": [
    "reindeer = []\n",
    "for line in lines:\n",
    "    words = line.split()\n",
    "    speed = int(words[3])\n",
    "    flight_time = int(words[6])\n",
    "    rest_time = int(words[13])\n",
    "    reindeer.append((speed, flight_time, rest_time))\n",
    "print(reindeer)"
   ]
  },
  {
   "cell_type": "code",
   "execution_count": 115,
   "id": "37ece072",
   "metadata": {},
   "outputs": [
    {
     "name": "stdout",
     "output_type": "stream",
     "text": [
      "2660\n"
     ]
    }
   ],
   "source": [
    "num_steps = 2503\n",
    "dists = []\n",
    "for speed, flight_time, rest_time in reindeer:\n",
    "    cycle = np.arange(1, flight_time + 1) * speed\n",
    "    cycle = np.concatenate([cycle, cycle[-1] * np.ones(rest_time)])\n",
    "    while len(cycle) < num_steps:\n",
    "        cycle = np.concatenate([cycle, cycle[-1] + np.arange(1, flight_time + 1) * speed])\n",
    "        cycle = np.concatenate([cycle, cycle[-1] * np.ones(rest_time)])\n",
    "    dists.append(int(cycle[num_steps]))\n",
    "print(max(dists))"
   ]
  },
  {
   "cell_type": "markdown",
   "id": "7a157bf9",
   "metadata": {},
   "source": [
    "## Part 2"
   ]
  },
  {
   "cell_type": "code",
   "execution_count": 125,
   "id": "be6289b9",
   "metadata": {},
   "outputs": [
    {
     "name": "stdout",
     "output_type": "stream",
     "text": [
      "1256\n"
     ]
    }
   ],
   "source": [
    "num_steps = 2503\n",
    "all_cycles = np.zeros((len(reindeer), num_steps))\n",
    "i = 0\n",
    "for speed, flight_time, rest_time in reindeer:\n",
    "    cycle = np.arange(1, flight_time + 1) * speed\n",
    "    cycle = np.concatenate([cycle, cycle[-1] * np.ones(rest_time)])\n",
    "    while len(cycle) < num_steps:\n",
    "        cycle = np.concatenate([cycle, cycle[-1] + np.arange(1, flight_time + 1) * speed])\n",
    "        cycle = np.concatenate([cycle, cycle[-1] * np.ones(rest_time)])\n",
    "    all_cycles[i,:] = cycle[:num_steps]\n",
    "    i += 1\n",
    "\n",
    "points = np.zeros(len(reindeer))\n",
    "for step in range(num_steps):\n",
    "    winning_dist = all_cycles[:,step].max()\n",
    "    for i in np.where(all_cycles[:,step] == winning_dist)[0]:\n",
    "        points[i] += 1\n",
    "print(int(max(points)))"
   ]
  }
 ],
 "metadata": {
  "kernelspec": {
   "display_name": "Python 3 (ipykernel)",
   "language": "python",
   "name": "python3"
  },
  "language_info": {
   "codemirror_mode": {
    "name": "ipython",
    "version": 3
   },
   "file_extension": ".py",
   "mimetype": "text/x-python",
   "name": "python",
   "nbconvert_exporter": "python",
   "pygments_lexer": "ipython3",
   "version": "3.8.0"
  }
 },
 "nbformat": 4,
 "nbformat_minor": 5
}
