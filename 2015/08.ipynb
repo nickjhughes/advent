{
 "cells": [
  {
   "cell_type": "code",
   "execution_count": 65,
   "id": "20e62f5c",
   "metadata": {},
   "outputs": [],
   "source": [
    "with open('input08', 'r') as f:\n",
    "    lines = [l.strip() for l in f.readlines()]"
   ]
  },
  {
   "cell_type": "markdown",
   "id": "040c4522",
   "metadata": {},
   "source": [
    "## Part 1"
   ]
  },
  {
   "cell_type": "code",
   "execution_count": 63,
   "id": "2fad19e5",
   "metadata": {},
   "outputs": [],
   "source": [
    "lines = [\n",
    "    '\"\"',\n",
    "    '\"abc\"',\n",
    "    '\"aaa\\\\\"aaa\"',\n",
    "    '\"\\\\x27\"',\n",
    "]"
   ]
  },
  {
   "cell_type": "code",
   "execution_count": 66,
   "id": "a7a5bbe1",
   "metadata": {
    "scrolled": true
   },
   "outputs": [
    {
     "name": "stdout",
     "output_type": "stream",
     "text": [
      "1371\n"
     ]
    }
   ],
   "source": [
    "total_code_length = 0\n",
    "total_str_length = 0\n",
    "for line in lines:\n",
    "    code_length = 2\n",
    "    str_length = 0\n",
    "    i = 1\n",
    "    while i < len(line) - 1:\n",
    "        if line[i] == '\\\\':\n",
    "            if line[i+1] == '\\\\':\n",
    "                # Escaped slash\n",
    "                str_length += 1\n",
    "                code_length += 2\n",
    "                i += 2\n",
    "            elif line[i+1] == '\"':\n",
    "                # Escaped quote\n",
    "                str_length += 1\n",
    "                code_length += 2\n",
    "                i += 2\n",
    "            elif line[i+1] == 'x':\n",
    "                # Escaped hex character\n",
    "                str_length += 1\n",
    "                code_length += 4\n",
    "                i += 4\n",
    "        else:\n",
    "            # Normal character\n",
    "            str_length += 1\n",
    "            code_length += 1\n",
    "            i += 1\n",
    "    total_code_length += code_length\n",
    "    total_str_length += str_length\n",
    "print(total_code_length - total_str_length)"
   ]
  },
  {
   "cell_type": "markdown",
   "id": "7a157bf9",
   "metadata": {},
   "source": [
    "## Part 2"
   ]
  },
  {
   "cell_type": "code",
   "execution_count": 68,
   "id": "f3346bd5",
   "metadata": {},
   "outputs": [
    {
     "name": "stdout",
     "output_type": "stream",
     "text": [
      "2117\n"
     ]
    }
   ],
   "source": [
    "total_code_length = 0\n",
    "total_new_code_length = 0\n",
    "for line in lines:\n",
    "    code_length = 0\n",
    "    new_code_length = 2\n",
    "    i = 0\n",
    "    while i < len(line):\n",
    "        if line[i] == '\"':\n",
    "            code_length += 1\n",
    "            new_code_length += 2\n",
    "        elif line[i] == '\\\\':\n",
    "            code_length += 1\n",
    "            new_code_length += 2\n",
    "        else:\n",
    "            code_length += 1\n",
    "            new_code_length += 1\n",
    "        i += 1\n",
    "    total_code_length += code_length\n",
    "    total_new_code_length += new_code_length\n",
    "print(total_new_code_length - total_code_length)"
   ]
  }
 ],
 "metadata": {
  "kernelspec": {
   "display_name": "Python 3 (ipykernel)",
   "language": "python",
   "name": "python3"
  },
  "language_info": {
   "codemirror_mode": {
    "name": "ipython",
    "version": 3
   },
   "file_extension": ".py",
   "mimetype": "text/x-python",
   "name": "python",
   "nbconvert_exporter": "python",
   "pygments_lexer": "ipython3",
   "version": "3.9.9"
  }
 },
 "nbformat": 4,
 "nbformat_minor": 5
}
