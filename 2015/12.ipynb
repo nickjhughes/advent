{
 "cells": [
  {
   "cell_type": "code",
   "execution_count": 12,
   "id": "77b9d7b5-1e23-45ae-94fd-4f675a474955",
   "metadata": {},
   "outputs": [],
   "source": [
    "import json\n",
    "import re"
   ]
  },
  {
   "cell_type": "code",
   "execution_count": 9,
   "id": "20e62f5c",
   "metadata": {},
   "outputs": [],
   "source": [
    "with open('input12', 'r') as f:\n",
    "    lines = [l.strip() for l in f.readlines()]"
   ]
  },
  {
   "cell_type": "markdown",
   "id": "040c4522",
   "metadata": {},
   "source": [
    "## Part 1"
   ]
  },
  {
   "cell_type": "code",
   "execution_count": 11,
   "id": "2f8d9c13-18c6-490f-99ca-6430aaec53aa",
   "metadata": {},
   "outputs": [
    {
     "name": "stdout",
     "output_type": "stream",
     "text": [
      "191164\n"
     ]
    }
   ],
   "source": [
    "print(sum(int(n) for n in re.findall(r'(-?\\d+)', lines[0])))"
   ]
  },
  {
   "cell_type": "markdown",
   "id": "7a157bf9",
   "metadata": {},
   "source": [
    "## Part 2"
   ]
  },
  {
   "cell_type": "code",
   "execution_count": 41,
   "id": "d30d96ef-9e5f-4950-9e30-8163e08be9cd",
   "metadata": {},
   "outputs": [],
   "source": [
    "doc = json.loads(lines[0])"
   ]
  },
  {
   "cell_type": "code",
   "execution_count": 42,
   "id": "8328ebb6-523f-4a09-a988-2ed90d3d8abd",
   "metadata": {},
   "outputs": [
    {
     "name": "stdout",
     "output_type": "stream",
     "text": [
      "87842\n"
     ]
    }
   ],
   "source": [
    "numbers = []\n",
    "\n",
    "def recurse_obj(doc):\n",
    "    if type(doc) == dict:\n",
    "        if \"red\" not in doc.values():\n",
    "            [recurse_obj(e) for e in doc.values()]\n",
    "    elif type(doc) == list:\n",
    "        [recurse_obj(e) for e in doc]\n",
    "    elif type(doc) == str:\n",
    "        pass\n",
    "    elif type(doc) == int:\n",
    "        numbers.append(doc)\n",
    "    else:\n",
    "        raise TypeError(f\"unexpected type {type(doc)}\")\n",
    "\n",
    "recurse_obj(doc)\n",
    "print(sum(numbers))"
   ]
  }
 ],
 "metadata": {
  "kernelspec": {
   "display_name": "Python 3 (ipykernel)",
   "language": "python",
   "name": "python3"
  },
  "language_info": {
   "codemirror_mode": {
    "name": "ipython",
    "version": 3
   },
   "file_extension": ".py",
   "mimetype": "text/x-python",
   "name": "python",
   "nbconvert_exporter": "python",
   "pygments_lexer": "ipython3",
   "version": "3.13.0"
  }
 },
 "nbformat": 4,
 "nbformat_minor": 5
}
