{
 "cells": [
  {
   "cell_type": "code",
   "execution_count": 31,
   "id": "92ad3bbf",
   "metadata": {},
   "outputs": [],
   "source": [
    "from collections import defaultdict"
   ]
  },
  {
   "cell_type": "markdown",
   "id": "733c1005",
   "metadata": {},
   "source": [
    "## Part 1"
   ]
  },
  {
   "cell_type": "code",
   "execution_count": 34,
   "id": "5924ed74",
   "metadata": {},
   "outputs": [],
   "source": [
    "def increment(password):\n",
    "    nums = [ord(c) - 97 for c in password]\n",
    "    i = len(nums) - 1\n",
    "    while True:\n",
    "        nums[i] += 1\n",
    "        if nums[i] >= 26:\n",
    "            nums[i] = 0\n",
    "            i -= 1\n",
    "            continue\n",
    "        break\n",
    "    new_password = ''.join(chr(v + 97) for v in nums)\n",
    "    return new_password"
   ]
  },
  {
   "cell_type": "code",
   "execution_count": 43,
   "id": "1e96774a",
   "metadata": {},
   "outputs": [],
   "source": [
    "def check(password):\n",
    "    triplets = [chr(i) + chr(i+1) + chr(i+2) for i in range(97, 97 + 24)]\n",
    "    if any(bad_char in password for bad_char in ['i', 'o', 'l']):\n",
    "        return False\n",
    "    if not any(triplet in password for triplet in triplets):\n",
    "        return False\n",
    "    pair_counts = defaultdict(int)\n",
    "    for i in range(len(password) - 1):\n",
    "        if password[i] == password[i+1]:\n",
    "            pair_counts[password[i] + password[i+1]] += 1\n",
    "    if len(pair_counts) < 2:\n",
    "        return False\n",
    "    return True"
   ]
  },
  {
   "cell_type": "code",
   "execution_count": 48,
   "id": "1e3b42f8",
   "metadata": {},
   "outputs": [
    {
     "name": "stdout",
     "output_type": "stream",
     "text": [
      "vzbxxyzz\n"
     ]
    }
   ],
   "source": [
    "password = 'vzbxkghb'\n",
    "while not check(password):\n",
    "    password = increment(password)\n",
    "print(password)"
   ]
  },
  {
   "cell_type": "markdown",
   "id": "d515cb43",
   "metadata": {},
   "source": [
    "## Part 2"
   ]
  },
  {
   "cell_type": "code",
   "execution_count": 51,
   "id": "efd45678",
   "metadata": {},
   "outputs": [
    {
     "name": "stdout",
     "output_type": "stream",
     "text": [
      "vzcaabcc\n"
     ]
    }
   ],
   "source": [
    "password = increment('vzbxxyzz')\n",
    "while not check(password):\n",
    "    password = increment(password)\n",
    "print(password)"
   ]
  }
 ],
 "metadata": {
  "kernelspec": {
   "display_name": "Python 3 (ipykernel)",
   "language": "python",
   "name": "python3"
  },
  "language_info": {
   "codemirror_mode": {
    "name": "ipython",
    "version": 3
   },
   "file_extension": ".py",
   "mimetype": "text/x-python",
   "name": "python",
   "nbconvert_exporter": "python",
   "pygments_lexer": "ipython3",
   "version": "3.8.0"
  }
 },
 "nbformat": 4,
 "nbformat_minor": 5
}
