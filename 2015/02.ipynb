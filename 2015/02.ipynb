{
 "cells": [
  {
   "cell_type": "code",
   "execution_count": 5,
   "id": "5b921ed7",
   "metadata": {},
   "outputs": [],
   "source": [
    "with open('input02', 'r') as f:\n",
    "    lines = [l.strip() for l in f.readlines()]"
   ]
  },
  {
   "cell_type": "markdown",
   "id": "d47efa65",
   "metadata": {},
   "source": [
    "## Part  1"
   ]
  },
  {
   "cell_type": "code",
   "execution_count": 11,
   "id": "5b95c251",
   "metadata": {},
   "outputs": [
    {
     "name": "stdout",
     "output_type": "stream",
     "text": [
      "1588178\n"
     ]
    }
   ],
   "source": [
    "total_area = 0\n",
    "for line in lines:\n",
    "    l, w, h = [int(v) for v in line.split('x')]\n",
    "    total_area += 2 * l * w + 2 * w * h + 2 * h * l + min(l * w, w * h, h * l)\n",
    "print(total_area)"
   ]
  },
  {
   "cell_type": "markdown",
   "id": "eadf9299",
   "metadata": {},
   "source": [
    "## Part 2"
   ]
  },
  {
   "cell_type": "code",
   "execution_count": 16,
   "id": "1983af37",
   "metadata": {},
   "outputs": [
    {
     "name": "stdout",
     "output_type": "stream",
     "text": [
      "3783758\n"
     ]
    }
   ],
   "source": [
    "total_ribbon = 0\n",
    "for line in lines:\n",
    "    l, w, h = [int(v) for v in line.split('x')]\n",
    "    total_ribbon += min(2 * (l + w), 2 * (w + h), 2 * (h + l)) + l * w * h\n",
    "print(total_ribbon)"
   ]
  }
 ],
 "metadata": {
  "kernelspec": {
   "display_name": "Python 3 (ipykernel)",
   "language": "python",
   "name": "python3"
  },
  "language_info": {
   "codemirror_mode": {
    "name": "ipython",
    "version": 3
   },
   "file_extension": ".py",
   "mimetype": "text/x-python",
   "name": "python",
   "nbconvert_exporter": "python",
   "pygments_lexer": "ipython3",
   "version": "3.8.0"
  }
 },
 "nbformat": 4,
 "nbformat_minor": 5
}
