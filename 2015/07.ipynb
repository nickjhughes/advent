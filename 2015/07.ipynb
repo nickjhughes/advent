{
 "cells": [
  {
   "cell_type": "code",
   "execution_count": 73,
   "id": "211b0b1e",
   "metadata": {},
   "outputs": [],
   "source": [
    "import numpy as np"
   ]
  },
  {
   "cell_type": "code",
   "execution_count": 74,
   "id": "20e62f5c",
   "metadata": {},
   "outputs": [],
   "source": [
    "with open('input07', 'r') as f:\n",
    "    lines = [l.strip() for l in f.readlines()]"
   ]
  },
  {
   "cell_type": "markdown",
   "id": "040c4522",
   "metadata": {},
   "source": [
    "## Part 1"
   ]
  },
  {
   "cell_type": "code",
   "execution_count": 56,
   "id": "0df3c085",
   "metadata": {},
   "outputs": [],
   "source": [
    "lines = [\n",
    "    'x AND y -> d',\n",
    "    '123 -> x',\n",
    "    '456 -> y',\n",
    "    'x OR y -> e',\n",
    "    'x LSHIFT 2 -> f',\n",
    "    'y RSHIFT 2 -> g',\n",
    "    'NOT x -> h',\n",
    "    'NOT y -> i',\n",
    "]"
   ]
  },
  {
   "cell_type": "code",
   "execution_count": 76,
   "id": "d519d496",
   "metadata": {},
   "outputs": [
    {
     "data": {
      "text/plain": [
       "3176"
      ]
     },
     "execution_count": 76,
     "metadata": {},
     "output_type": "execute_result"
    }
   ],
   "source": [
    "wires = {}\n",
    "while True:\n",
    "    num_updates = 0\n",
    "    for line in lines:\n",
    "        wire_input, wire = line.split(' -> ')\n",
    "        if wire in wires:\n",
    "            continue\n",
    "        ins = wire_input.split()\n",
    "        if len(ins) == 1:\n",
    "            if ins[0].isnumeric():\n",
    "                in1 = np.uint16(wire_input)\n",
    "            else:\n",
    "                if ins[0] not in wires:\n",
    "                    continue\n",
    "                in1 = wires[ins[0]]\n",
    "            wires[wire] = in1\n",
    "        elif len(ins) == 2:\n",
    "            if ins[1].isnumeric():\n",
    "                in1 = np.uint16(ins[1])\n",
    "            else:\n",
    "                if ins[1] not in wires:\n",
    "                    continue\n",
    "                in1 = wires[ins[1]]\n",
    "            wires[wire] = ~in1\n",
    "        elif len(ins) == 3:\n",
    "            in1, in2 = ins[0], ins[2]\n",
    "            if in1.isnumeric():\n",
    "                in1 = np.uint16(in1)\n",
    "            else:\n",
    "                if in1 not in wires:\n",
    "                    continue\n",
    "                in1 = wires[in1]\n",
    "            if in2.isnumeric():\n",
    "                in2 = np.uint16(in2)\n",
    "            else:\n",
    "                if in2 not in wires:\n",
    "                    continue\n",
    "                in2 = wires[in2]\n",
    "            if ins[1] == 'AND':\n",
    "                wires[wire] = in1 & in2\n",
    "            elif ins[1] == 'OR':\n",
    "                wires[wire] = in1 | in2\n",
    "            elif ins[1] == 'LSHIFT':\n",
    "                wires[wire] = in1 << in2\n",
    "            elif ins[1] == 'RSHIFT':\n",
    "                wires[wire] = in1 >> in2\n",
    "        num_updates += 1\n",
    "    if num_updates == 0:\n",
    "        break\n",
    "\n",
    "# print('\\n'.join(f'{k}: {v}' for k, v in sorted(wires.items(), key=lambda x: x)))\n",
    "wires['a']"
   ]
  },
  {
   "cell_type": "markdown",
   "id": "7a157bf9",
   "metadata": {},
   "source": [
    "## Part 2"
   ]
  },
  {
   "cell_type": "code",
   "execution_count": 79,
   "id": "ed036b5a",
   "metadata": {},
   "outputs": [
    {
     "data": {
      "text/plain": [
       "14710"
      ]
     },
     "execution_count": 79,
     "metadata": {},
     "output_type": "execute_result"
    }
   ],
   "source": [
    "wires = {'b': 3176}\n",
    "while True:\n",
    "    num_updates = 0\n",
    "    for line in lines:\n",
    "        wire_input, wire = line.split(' -> ')\n",
    "        if wire in wires or wire == 'b':\n",
    "            continue\n",
    "        ins = wire_input.split()\n",
    "        if len(ins) == 1:\n",
    "            if ins[0].isnumeric():\n",
    "                in1 = np.uint16(wire_input)\n",
    "            else:\n",
    "                if ins[0] not in wires:\n",
    "                    continue\n",
    "                in1 = wires[ins[0]]\n",
    "            wires[wire] = in1\n",
    "        elif len(ins) == 2:\n",
    "            if ins[1].isnumeric():\n",
    "                in1 = np.uint16(ins[1])\n",
    "            else:\n",
    "                if ins[1] not in wires:\n",
    "                    continue\n",
    "                in1 = wires[ins[1]]\n",
    "            wires[wire] = ~in1\n",
    "        elif len(ins) == 3:\n",
    "            in1, in2 = ins[0], ins[2]\n",
    "            if in1.isnumeric():\n",
    "                in1 = np.uint16(in1)\n",
    "            else:\n",
    "                if in1 not in wires:\n",
    "                    continue\n",
    "                in1 = wires[in1]\n",
    "            if in2.isnumeric():\n",
    "                in2 = np.uint16(in2)\n",
    "            else:\n",
    "                if in2 not in wires:\n",
    "                    continue\n",
    "                in2 = wires[in2]\n",
    "            if ins[1] == 'AND':\n",
    "                wires[wire] = in1 & in2\n",
    "            elif ins[1] == 'OR':\n",
    "                wires[wire] = in1 | in2\n",
    "            elif ins[1] == 'LSHIFT':\n",
    "                wires[wire] = in1 << in2\n",
    "            elif ins[1] == 'RSHIFT':\n",
    "                wires[wire] = in1 >> in2\n",
    "        num_updates += 1\n",
    "    if num_updates == 0:\n",
    "        break\n",
    "\n",
    "wires['a']"
   ]
  }
 ],
 "metadata": {
  "kernelspec": {
   "display_name": "Python 3 (ipykernel)",
   "language": "python",
   "name": "python3"
  },
  "language_info": {
   "codemirror_mode": {
    "name": "ipython",
    "version": 3
   },
   "file_extension": ".py",
   "mimetype": "text/x-python",
   "name": "python",
   "nbconvert_exporter": "python",
   "pygments_lexer": "ipython3",
   "version": "3.9.9"
  }
 },
 "nbformat": 4,
 "nbformat_minor": 5
}
