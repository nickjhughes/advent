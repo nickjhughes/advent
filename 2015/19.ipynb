{
 "cells": [
  {
   "cell_type": "code",
   "execution_count": 18,
   "id": "d7eea4e5",
   "metadata": {},
   "outputs": [],
   "source": [
    "import re\n",
    "from collections import defaultdict"
   ]
  },
  {
   "cell_type": "code",
   "execution_count": 29,
   "id": "4a72d544",
   "metadata": {},
   "outputs": [],
   "source": [
    "with open('input19', 'r') as f:\n",
    "    lines = [l.strip() for l in f.readlines()]"
   ]
  },
  {
   "cell_type": "markdown",
   "id": "1fa7156c",
   "metadata": {},
   "source": [
    "## Part 1"
   ]
  },
  {
   "cell_type": "code",
   "execution_count": 27,
   "id": "e7e4717a",
   "metadata": {},
   "outputs": [],
   "source": [
    "lines = [\n",
    "    'H => HO',\n",
    "    'H => OH',\n",
    "    'O => HH',\n",
    "    '',\n",
    "    'HOH',\n",
    "]"
   ]
  },
  {
   "cell_type": "code",
   "execution_count": 30,
   "id": "fd71167c",
   "metadata": {},
   "outputs": [
    {
     "name": "stdout",
     "output_type": "stream",
     "text": [
      "509\n"
     ]
    }
   ],
   "source": [
    "all_subs = defaultdict(list)\n",
    "for line in lines:\n",
    "    if len(line) == 0:\n",
    "        continue\n",
    "    if '=>' in line:\n",
    "        element, sub = line.split(' => ')\n",
    "        all_subs[element].append(sub)\n",
    "    else:\n",
    "        molecule = line\n",
    "\n",
    "new_molecules = set()\n",
    "for element, all_subs in all_subs.items():\n",
    "    for sub in all_subs:\n",
    "        for match in re.finditer(element, molecule):\n",
    "            start, end = match.span()\n",
    "            new_molecule = molecule[:start] + sub + molecule[end:]\n",
    "            new_molecules.add(new_molecule)\n",
    "print(len(new_molecules))"
   ]
  },
  {
   "cell_type": "markdown",
   "id": "c52456e1",
   "metadata": {},
   "source": [
    "## Part 2"
   ]
  },
  {
   "cell_type": "code",
   "execution_count": 31,
   "id": "dbc765c4",
   "metadata": {},
   "outputs": [],
   "source": [
    "lines = [\n",
    "    'e => H',\n",
    "    'e => O',\n",
    "    'H => HO',\n",
    "    'H => OH',\n",
    "    'O => HH',\n",
    "    '',\n",
    "    'HOH',\n",
    "]"
   ]
  },
  {
   "cell_type": "code",
   "execution_count": 32,
   "id": "fb55b038",
   "metadata": {},
   "outputs": [],
   "source": [
    "all_subs = defaultdict(list)\n",
    "for line in lines:\n",
    "    if len(line) == 0:\n",
    "        continue\n",
    "    if '=>' in line:\n",
    "        element, sub = line.split(' => ')\n",
    "        all_subs[element].append(sub)\n",
    "    else:\n",
    "        molecule = line"
   ]
  },
  {
   "cell_type": "code",
   "execution_count": null,
   "id": "4c2c9a74",
   "metadata": {},
   "outputs": [],
   "source": []
  }
 ],
 "metadata": {
  "kernelspec": {
   "display_name": "Python 3 (ipykernel)",
   "language": "python",
   "name": "python3"
  },
  "language_info": {
   "codemirror_mode": {
    "name": "ipython",
    "version": 3
   },
   "file_extension": ".py",
   "mimetype": "text/x-python",
   "name": "python",
   "nbconvert_exporter": "python",
   "pygments_lexer": "ipython3",
   "version": "3.10.2"
  }
 },
 "nbformat": 4,
 "nbformat_minor": 5
}
