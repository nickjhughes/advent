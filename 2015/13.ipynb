{
 "cells": [
  {
   "cell_type": "code",
   "execution_count": 13,
   "id": "d9960a4c-d0a4-4248-a063-6f78a7abf8bf",
   "metadata": {},
   "outputs": [],
   "source": [
    "import itertools"
   ]
  },
  {
   "cell_type": "code",
   "execution_count": 27,
   "id": "20e62f5c",
   "metadata": {},
   "outputs": [],
   "source": [
    "with open('input13', 'r') as f:\n",
    "    lines = [l.strip() for l in f.readlines()]"
   ]
  },
  {
   "cell_type": "markdown",
   "id": "040c4522",
   "metadata": {},
   "source": [
    "## Part 1"
   ]
  },
  {
   "cell_type": "code",
   "execution_count": 2,
   "id": "2f8d9c13-18c6-490f-99ca-6430aaec53aa",
   "metadata": {},
   "outputs": [],
   "source": [
    "lines = [\n",
    "    \"Alice would gain 54 happiness units by sitting next to Bob.\",\n",
    "    \"Alice would lose 79 happiness units by sitting next to Carol.\",\n",
    "    \"Alice would lose 2 happiness units by sitting next to David.\",\n",
    "    \"Bob would gain 83 happiness units by sitting next to Alice.\",\n",
    "    \"Bob would lose 7 happiness units by sitting next to Carol.\",\n",
    "    \"Bob would lose 63 happiness units by sitting next to David.\",\n",
    "    \"Carol would lose 62 happiness units by sitting next to Alice.\",\n",
    "    \"Carol would gain 60 happiness units by sitting next to Bob.\",\n",
    "    \"Carol would gain 55 happiness units by sitting next to David.\",\n",
    "    \"David would gain 46 happiness units by sitting next to Alice.\",\n",
    "    \"David would lose 7 happiness units by sitting next to Bob.\",\n",
    "    \"David would gain 41 happiness units by sitting next to Carol.\",\n",
    "]"
   ]
  },
  {
   "cell_type": "code",
   "execution_count": 28,
   "id": "c672ce27-b865-4f7f-8ddf-9b7222116918",
   "metadata": {},
   "outputs": [],
   "source": [
    "happiness = {}\n",
    "people = set()\n",
    "for line in lines:\n",
    "    parts = line.split()\n",
    "    people.add(parts[0])\n",
    "    value = int(parts[3])\n",
    "    if parts[2] == \"lose\":\n",
    "        value = -value\n",
    "    happiness[(parts[0], parts[-1][:-1])] = value\n",
    "people = list(people)"
   ]
  },
  {
   "cell_type": "code",
   "execution_count": 29,
   "id": "567eb0bd-49b9-4ae7-95d2-8a5e04f29077",
   "metadata": {},
   "outputs": [
    {
     "name": "stdout",
     "output_type": "stream",
     "text": [
      "664\n"
     ]
    }
   ],
   "source": [
    "hs = []\n",
    "for order in itertools.permutations(people):\n",
    "    h = 0\n",
    "    for i in range(len(order)):\n",
    "        h += happiness[(order[i], order[i-1])]\n",
    "        h += happiness[(order[i], order[(i+1) % len(order)])]\n",
    "    hs.append(h)\n",
    "print(max(hs))"
   ]
  },
  {
   "cell_type": "markdown",
   "id": "7a157bf9",
   "metadata": {},
   "source": [
    "## Part 2"
   ]
  },
  {
   "cell_type": "code",
   "execution_count": 30,
   "id": "d98c9678-8d4f-47d5-876b-6177ccd862fe",
   "metadata": {},
   "outputs": [],
   "source": [
    "for p in people:\n",
    "    happiness[(\"Me\", p)] = 0\n",
    "    happiness[(p, \"Me\")] = 0\n",
    "people.append(\"Me\")"
   ]
  },
  {
   "cell_type": "code",
   "execution_count": 31,
   "id": "f8dc375d-ef3a-4bec-b85c-6047cb973d3d",
   "metadata": {},
   "outputs": [
    {
     "name": "stdout",
     "output_type": "stream",
     "text": [
      "640\n"
     ]
    }
   ],
   "source": [
    "hs = []\n",
    "for order in itertools.permutations(people):\n",
    "    h = 0\n",
    "    for i in range(len(order)):\n",
    "        h += happiness[(order[i], order[i-1])]\n",
    "        h += happiness[(order[i], order[(i+1) % len(order)])]\n",
    "    hs.append(h)\n",
    "print(max(hs))"
   ]
  }
 ],
 "metadata": {
  "kernelspec": {
   "display_name": "Python 3 (ipykernel)",
   "language": "python",
   "name": "python3"
  },
  "language_info": {
   "codemirror_mode": {
    "name": "ipython",
    "version": 3
   },
   "file_extension": ".py",
   "mimetype": "text/x-python",
   "name": "python",
   "nbconvert_exporter": "python",
   "pygments_lexer": "ipython3",
   "version": "3.13.0"
  }
 },
 "nbformat": 4,
 "nbformat_minor": 5
}
