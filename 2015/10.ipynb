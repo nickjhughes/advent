{
 "cells": [
  {
   "cell_type": "markdown",
   "id": "13cad54d",
   "metadata": {},
   "source": [
    "## Part 1"
   ]
  },
  {
   "cell_type": "code",
   "execution_count": 28,
   "id": "8d25b97d",
   "metadata": {},
   "outputs": [],
   "source": [
    "line = '1113122113'"
   ]
  },
  {
   "cell_type": "code",
   "execution_count": 29,
   "id": "9a323bca",
   "metadata": {},
   "outputs": [
    {
     "name": "stdout",
     "output_type": "stream",
     "text": [
      "360154\n"
     ]
    }
   ],
   "source": [
    "for _ in range(40):\n",
    "    new_line = ''\n",
    "    i = 0\n",
    "    while i < len(line):\n",
    "        char = line[i]\n",
    "        char_count = 1\n",
    "        if i < len(line) - 1:\n",
    "            while line[i+1] == char and i < len(line):\n",
    "                char_count += 1\n",
    "                i += 1\n",
    "        new_line += str(char_count) + str(char)\n",
    "        i += 1\n",
    "    line = new_line\n",
    "print(len(line))"
   ]
  },
  {
   "cell_type": "markdown",
   "id": "5b685ea6",
   "metadata": {},
   "source": [
    "## Part 2"
   ]
  },
  {
   "cell_type": "code",
   "execution_count": 30,
   "id": "fa57f8c7",
   "metadata": {},
   "outputs": [],
   "source": [
    "line = '1113122113'"
   ]
  },
  {
   "cell_type": "code",
   "execution_count": 31,
   "id": "0a539faa",
   "metadata": {},
   "outputs": [
    {
     "name": "stdout",
     "output_type": "stream",
     "text": [
      "5103798\n"
     ]
    }
   ],
   "source": [
    "for _ in range(50):\n",
    "    new_line = ''\n",
    "    i = 0\n",
    "    while i < len(line):\n",
    "        char = line[i]\n",
    "        char_count = 1\n",
    "        if i < len(line) - 1:\n",
    "            while line[i+1] == char and i < len(line):\n",
    "                char_count += 1\n",
    "                i += 1\n",
    "        new_line += str(char_count) + str(char)\n",
    "        i += 1\n",
    "    line = new_line\n",
    "print(len(line))"
   ]
  }
 ],
 "metadata": {
  "kernelspec": {
   "display_name": "Python 3 (ipykernel)",
   "language": "python",
   "name": "python3"
  },
  "language_info": {
   "codemirror_mode": {
    "name": "ipython",
    "version": 3
   },
   "file_extension": ".py",
   "mimetype": "text/x-python",
   "name": "python",
   "nbconvert_exporter": "python",
   "pygments_lexer": "ipython3",
   "version": "3.9.9"
  }
 },
 "nbformat": 4,
 "nbformat_minor": 5
}
