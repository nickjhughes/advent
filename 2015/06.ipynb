{
 "cells": [
  {
   "cell_type": "code",
   "execution_count": 24,
   "id": "20b5d323",
   "metadata": {},
   "outputs": [],
   "source": [
    "import numpy as np"
   ]
  },
  {
   "cell_type": "code",
   "execution_count": 25,
   "id": "20e62f5c",
   "metadata": {},
   "outputs": [],
   "source": [
    "with open('input06', 'r') as f:\n",
    "    lines = [l.strip() for l in f.readlines()]"
   ]
  },
  {
   "cell_type": "markdown",
   "id": "040c4522",
   "metadata": {},
   "source": [
    "## Part 1"
   ]
  },
  {
   "cell_type": "code",
   "execution_count": 26,
   "id": "57696aa1",
   "metadata": {},
   "outputs": [],
   "source": [
    "lights = np.zeros((1000, 1000), dtype='bool')\n",
    "for line in lines:\n",
    "    line = line.replace('turn ', '')\n",
    "    op, start, _, end = line.split()\n",
    "    x0, y0 = [int(v) for v in start.split(',')]\n",
    "    x1, y1 = [int(v) for v in end.split(',')]\n",
    "    if op == 'on':\n",
    "        lights[y0:y1+1, x0:x1+1] = True\n",
    "    elif op == 'off':\n",
    "        lights[y0:y1+1, x0:x1+1] = False\n",
    "    elif op == 'toggle':\n",
    "        lights[y0:y1+1, x0:x1+1] = ~lights[y0:y1+1, x0:x1+1]"
   ]
  },
  {
   "cell_type": "code",
   "execution_count": 27,
   "id": "47a6ac09",
   "metadata": {},
   "outputs": [
    {
     "data": {
      "text/plain": [
       "569999"
      ]
     },
     "execution_count": 27,
     "metadata": {},
     "output_type": "execute_result"
    }
   ],
   "source": [
    "lights.sum()"
   ]
  },
  {
   "cell_type": "markdown",
   "id": "7a157bf9",
   "metadata": {},
   "source": [
    "## Part 2"
   ]
  },
  {
   "cell_type": "code",
   "execution_count": 30,
   "id": "16896e56",
   "metadata": {},
   "outputs": [],
   "source": [
    "lights = np.zeros((1000, 1000), dtype='int')\n",
    "for line in lines:\n",
    "    line = line.replace('turn ', '')\n",
    "    op, start, _, end = line.split()\n",
    "    x0, y0 = [int(v) for v in start.split(',')]\n",
    "    x1, y1 = [int(v) for v in end.split(',')]\n",
    "    if op == 'on':\n",
    "        lights[y0:y1+1, x0:x1+1] += 1\n",
    "    elif op == 'off':\n",
    "        lights[y0:y1+1, x0:x1+1] -= 1\n",
    "        lights[y0:y1+1, x0:x1+1] = np.clip(lights[y0:y1+1, x0:x1+1], 0, None)\n",
    "    elif op == 'toggle':\n",
    "        lights[y0:y1+1, x0:x1+1] += 2"
   ]
  },
  {
   "cell_type": "code",
   "execution_count": 31,
   "id": "84ef7410",
   "metadata": {},
   "outputs": [
    {
     "data": {
      "text/plain": [
       "17836115"
      ]
     },
     "execution_count": 31,
     "metadata": {},
     "output_type": "execute_result"
    }
   ],
   "source": [
    "lights.sum()"
   ]
  }
 ],
 "metadata": {
  "kernelspec": {
   "display_name": "Python 3 (ipykernel)",
   "language": "python",
   "name": "python3"
  },
  "language_info": {
   "codemirror_mode": {
    "name": "ipython",
    "version": 3
   },
   "file_extension": ".py",
   "mimetype": "text/x-python",
   "name": "python",
   "nbconvert_exporter": "python",
   "pygments_lexer": "ipython3",
   "version": "3.8.0"
  }
 },
 "nbformat": 4,
 "nbformat_minor": 5
}
