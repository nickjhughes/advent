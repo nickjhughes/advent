{
 "cells": [
  {
   "cell_type": "code",
   "execution_count": 7,
   "id": "20b5d323",
   "metadata": {},
   "outputs": [],
   "source": [
    "from collections import defaultdict"
   ]
  },
  {
   "cell_type": "code",
   "execution_count": 4,
   "id": "20e62f5c",
   "metadata": {},
   "outputs": [],
   "source": [
    "with open('input05', 'r') as f:\n",
    "    lines = [l.strip() for l in f.readlines()]"
   ]
  },
  {
   "cell_type": "markdown",
   "id": "040c4522",
   "metadata": {},
   "source": [
    "## Part 1"
   ]
  },
  {
   "cell_type": "code",
   "execution_count": 26,
   "id": "0df3c085",
   "metadata": {},
   "outputs": [],
   "source": [
    "vowels = 'aeiou'\n",
    "bad_pairs = ['ab', 'cd', 'pq', 'xy']\n",
    "double_pairs = [chr(a) + chr(a) for a in range(ord('a'), ord('z') + 1)]"
   ]
  },
  {
   "cell_type": "code",
   "execution_count": 28,
   "id": "d519d496",
   "metadata": {},
   "outputs": [
    {
     "name": "stdout",
     "output_type": "stream",
     "text": [
      "255\n"
     ]
    }
   ],
   "source": [
    "nice_strings = 0\n",
    "for line in lines:\n",
    "    char_counts = defaultdict(int)\n",
    "    pair_counts = defaultdict(int)\n",
    "    for i, char in enumerate(line):\n",
    "        char_counts[char] += 1\n",
    "        if i < len(line) - 1:\n",
    "            pair_counts[char + line[i+1]] += 1\n",
    "    if sum([v for k, v in char_counts.items() if k in vowels]) < 3:\n",
    "        continue\n",
    "    if sum([v for k, v in pair_counts.items() if k in bad_pairs]) > 0:\n",
    "        continue\n",
    "    if sum([v for k, v in pair_counts.items() if k in double_pairs]) == 0:\n",
    "        continue\n",
    "    nice_strings += 1\n",
    "print(nice_strings)"
   ]
  },
  {
   "cell_type": "markdown",
   "id": "7a157bf9",
   "metadata": {},
   "source": [
    "## Part 2"
   ]
  },
  {
   "cell_type": "code",
   "execution_count": 50,
   "id": "ed036b5a",
   "metadata": {},
   "outputs": [
    {
     "name": "stdout",
     "output_type": "stream",
     "text": [
      "['xx', 'yx']\n",
      "hi\n",
      "0\n"
     ]
    }
   ],
   "source": [
    "nice_strings = 0\n",
    "for line in ['xxyxx']:\n",
    "    disjoint_pairs = [''.join(p) for p in zip(line[::2], line[1::2])]\n",
    "    disjoint_pair_counts = defaultdict(int)\n",
    "    for pair in disjoint_pairs:\n",
    "        disjoint_pair_counts[pair] += 1\n",
    "    print(disjoint_pairs)\n",
    "    if max(disjoint_pair_counts.values()) < 2:\n",
    "        print('hi')\n",
    "        continue\n",
    "    second_property = False\n",
    "    for l in [line[::2], line[1::2]]:\n",
    "        for i in range(len(l) - 1):\n",
    "            if l[i] == l[i+1]:\n",
    "                second_property = True\n",
    "    if not second_property:\n",
    "        continue\n",
    "    nice_strings += 1\n",
    "print(nice_strings)"
   ]
  },
  {
   "cell_type": "code",
   "execution_count": 38,
   "id": "bff85b43",
   "metadata": {},
   "outputs": [
    {
     "data": {
      "text/plain": [
       "'qhhzzqkp'"
      ]
     },
     "execution_count": 38,
     "metadata": {},
     "output_type": "execute_result"
    }
   ],
   "source": []
  },
  {
   "cell_type": "code",
   "execution_count": null,
   "id": "4da6e667",
   "metadata": {},
   "outputs": [],
   "source": []
  }
 ],
 "metadata": {
  "kernelspec": {
   "display_name": "Python 3 (ipykernel)",
   "language": "python",
   "name": "python3"
  },
  "language_info": {
   "codemirror_mode": {
    "name": "ipython",
    "version": 3
   },
   "file_extension": ".py",
   "mimetype": "text/x-python",
   "name": "python",
   "nbconvert_exporter": "python",
   "pygments_lexer": "ipython3",
   "version": "3.8.0"
  }
 },
 "nbformat": 4,
 "nbformat_minor": 5
}
