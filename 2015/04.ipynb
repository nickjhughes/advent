{
 "cells": [
  {
   "cell_type": "code",
   "execution_count": 3,
   "id": "354a70a8",
   "metadata": {},
   "outputs": [],
   "source": [
    "import hashlib"
   ]
  },
  {
   "cell_type": "code",
   "execution_count": 4,
   "id": "75679fd1",
   "metadata": {},
   "outputs": [],
   "source": [
    "with open('input04', 'r') as f:\n",
    "    lines = [l.strip() for l in f.readlines()]\n",
    "line = lines[0]"
   ]
  },
  {
   "cell_type": "markdown",
   "id": "d1f15dff",
   "metadata": {},
   "source": [
    "## Part 1"
   ]
  },
  {
   "cell_type": "code",
   "execution_count": 12,
   "id": "89ae4d6a",
   "metadata": {},
   "outputs": [
    {
     "name": "stdout",
     "output_type": "stream",
     "text": [
      "346386\n"
     ]
    }
   ],
   "source": [
    "i = 0\n",
    "while True:\n",
    "    md5 = hashlib.md5(f'{line}{i}'.encode('ascii')).hexdigest()\n",
    "    if md5.startswith('00000'):\n",
    "        break\n",
    "    i += 1\n",
    "print(i)"
   ]
  },
  {
   "cell_type": "markdown",
   "id": "400b7947",
   "metadata": {},
   "source": [
    "## Part 2"
   ]
  },
  {
   "cell_type": "code",
   "execution_count": 13,
   "id": "89bba19b",
   "metadata": {},
   "outputs": [
    {
     "name": "stdout",
     "output_type": "stream",
     "text": [
      "9958218\n"
     ]
    }
   ],
   "source": [
    "i = 0\n",
    "while True:\n",
    "    md5 = hashlib.md5(f'{line}{i}'.encode('ascii')).hexdigest()\n",
    "    if md5.startswith('000000'):\n",
    "        break\n",
    "    i += 1\n",
    "print(i)"
   ]
  }
 ],
 "metadata": {
  "kernelspec": {
   "display_name": "Python 3 (ipykernel)",
   "language": "python",
   "name": "python3"
  },
  "language_info": {
   "codemirror_mode": {
    "name": "ipython",
    "version": 3
   },
   "file_extension": ".py",
   "mimetype": "text/x-python",
   "name": "python",
   "nbconvert_exporter": "python",
   "pygments_lexer": "ipython3",
   "version": "3.8.0"
  }
 },
 "nbformat": 4,
 "nbformat_minor": 5
}
