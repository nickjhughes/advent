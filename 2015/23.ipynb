{
 "cells": [
  {
   "cell_type": "code",
   "execution_count": 8,
   "id": "20e62f5c",
   "metadata": {},
   "outputs": [],
   "source": [
    "with open('input23', 'r') as f:\n",
    "    lines = [l.strip() for l in f.readlines()]"
   ]
  },
  {
   "cell_type": "markdown",
   "id": "040c4522",
   "metadata": {},
   "source": [
    "## Part 1"
   ]
  },
  {
   "cell_type": "code",
   "execution_count": 3,
   "id": "f1be26ea-8c7d-4eb7-8c41-fa7e9b558c2c",
   "metadata": {},
   "outputs": [],
   "source": [
    "lines = [\n",
    "    'inc a',\n",
    "    'jio a, +2',\n",
    "    'tpl a',\n",
    "    'inc a',\n",
    "]"
   ]
  },
  {
   "cell_type": "code",
   "execution_count": 16,
   "id": "0d6fcab0-1679-4301-b4fb-9db027333a00",
   "metadata": {},
   "outputs": [],
   "source": [
    "def run_program(instructions, init_a=0):\n",
    "    a = init_a\n",
    "    b = 0\n",
    "    ip = 0\n",
    "\n",
    "    states = set()\n",
    "\n",
    "    while ip >= 0 and ip < len(instructions):\n",
    "        state = (ip, a, b)\n",
    "        if state in states:\n",
    "            raise Exception(f\"infinite loop: {state}\")\n",
    "        states.add(state)\n",
    "        instruction = instructions[ip]\n",
    "        parts = instruction.split()\n",
    "        if parts[0] == 'hlf':\n",
    "            if parts[1] == 'a':\n",
    "                a //= 2\n",
    "            elif parts[1] == 'b':\n",
    "                b //= 2\n",
    "            else:\n",
    "                raise ValueError(f\"invalid register {parts[1]}\")\n",
    "            ip += 1\n",
    "        elif parts[0] == 'tpl':\n",
    "            if parts[1] == 'a':\n",
    "                a *= 3\n",
    "            elif parts[1] == 'b':\n",
    "                b *= 3\n",
    "            else:\n",
    "                raise ValueError(f\"invalid register {parts[1]}\")\n",
    "            ip += 1\n",
    "        elif parts[0] == 'inc':\n",
    "            if parts[1] == 'a':\n",
    "                a += 1\n",
    "            elif parts[1] == 'b':\n",
    "                b += 1\n",
    "            else:\n",
    "                raise ValueError(f\"invalid register {parts[1]}\")\n",
    "            ip += 1\n",
    "        elif parts[0] == 'jmp':\n",
    "            offset = int(parts[1])\n",
    "            ip += offset\n",
    "        elif parts[0] == 'jie':\n",
    "            if parts[1] == 'a,':\n",
    "                value = a\n",
    "            elif parts[1] == 'b,':\n",
    "                value = b\n",
    "            else:\n",
    "                raise ValueError(f\"invalid register {parts[1]}\")\n",
    "            if value % 2 == 0:\n",
    "                offset = int(parts[2])\n",
    "                ip += offset\n",
    "            else:\n",
    "                ip += 1\n",
    "        elif parts[0] == 'jio':\n",
    "            if parts[1] == 'a,':\n",
    "                value = a\n",
    "            elif parts[1] == 'b,':\n",
    "                value = b\n",
    "            else:\n",
    "                raise ValueError(f\"invalid register {parts[1]}\")\n",
    "            if value == 1:\n",
    "                offset = int(parts[2])\n",
    "                ip += offset\n",
    "            else:\n",
    "                ip += 1\n",
    "        else:\n",
    "            raise ValueError(f\"invalid opcode {parts[0]}\")\n",
    "\n",
    "    return (a, b)"
   ]
  },
  {
   "cell_type": "code",
   "execution_count": 17,
   "id": "1ac77b54-4d25-4dd6-a927-b165ac85f1ac",
   "metadata": {},
   "outputs": [
    {
     "name": "stdout",
     "output_type": "stream",
     "text": [
      "(1, 184)\n"
     ]
    }
   ],
   "source": [
    "print(run_program(lines))"
   ]
  },
  {
   "cell_type": "markdown",
   "id": "7a157bf9",
   "metadata": {},
   "source": [
    "## Part 2"
   ]
  },
  {
   "cell_type": "code",
   "execution_count": 19,
   "id": "3c3ecd2b-3d6a-417c-91e8-57c125944660",
   "metadata": {},
   "outputs": [
    {
     "name": "stdout",
     "output_type": "stream",
     "text": [
      "(1, 231)\n"
     ]
    }
   ],
   "source": [
    "print(run_program(lines, 1))"
   ]
  }
 ],
 "metadata": {
  "kernelspec": {
   "display_name": "Python 3 (ipykernel)",
   "language": "python",
   "name": "python3"
  },
  "language_info": {
   "codemirror_mode": {
    "name": "ipython",
    "version": 3
   },
   "file_extension": ".py",
   "mimetype": "text/x-python",
   "name": "python",
   "nbconvert_exporter": "python",
   "pygments_lexer": "ipython3",
   "version": "3.13.0"
  }
 },
 "nbformat": 4,
 "nbformat_minor": 5
}
