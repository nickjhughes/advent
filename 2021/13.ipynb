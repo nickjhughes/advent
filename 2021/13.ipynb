{
 "cells": [
  {
   "cell_type": "code",
   "execution_count": 1,
   "id": "f71fe61c",
   "metadata": {},
   "outputs": [],
   "source": [
    "import json\n",
    "import os\n",
    "import numpy as np\n",
    "import pandas as pd\n",
    "import requests\n",
    "import browser_cookie3\n",
    "import matplotlib.pyplot as plt\n",
    "%matplotlib inline"
   ]
  },
  {
   "cell_type": "code",
   "execution_count": 2,
   "id": "55deaf8e",
   "metadata": {},
   "outputs": [],
   "source": [
    "if not os.path.exists('input13'):\n",
    "    cookies = browser_cookie3.firefox(domain_name=\"adventofcode.com\")\n",
    "    session_cookie = [c for c in list(cookies) if c.name == \"session\"][0].value\n",
    "    resp = requests.get('https://adventofcode.com/2021/day/13/input', cookies={'session': session_cookie})\n",
    "    with open('input13', 'w') as f:\n",
    "        f.write(resp.text)"
   ]
  },
  {
   "cell_type": "code",
   "execution_count": 12,
   "id": "37066f70",
   "metadata": {},
   "outputs": [],
   "source": [
    "with open('input13', 'r') as f:\n",
    "    lines = [l.strip() for l in f.readlines()]"
   ]
  },
  {
   "cell_type": "markdown",
   "id": "13ae2ad9",
   "metadata": {},
   "source": [
    "## Part 1"
   ]
  },
  {
   "cell_type": "code",
   "execution_count": 4,
   "id": "7474f761",
   "metadata": {},
   "outputs": [],
   "source": [
    "lines = [\n",
    "    '6,10',\n",
    "    '0,14',\n",
    "    '9,10',\n",
    "    '0,3',\n",
    "    '10,4',\n",
    "    '4,11',\n",
    "    '6,0',\n",
    "    '6,12',\n",
    "    '4,1',\n",
    "    '0,13',\n",
    "    '10,12',\n",
    "    '3,4',\n",
    "    '3,0',\n",
    "    '8,4',\n",
    "    '1,10',\n",
    "    '2,14',\n",
    "    '8,10',\n",
    "    '9,0',\n",
    "    '',\n",
    "    'fold along y=7',\n",
    "    'fold along x=5',\n",
    "]"
   ]
  },
  {
   "cell_type": "code",
   "execution_count": 10,
   "id": "39287531",
   "metadata": {},
   "outputs": [],
   "source": [
    "xs = []\n",
    "ys = []\n",
    "for line in lines:\n",
    "    if len(line) == 0:\n",
    "        break\n",
    "    x, y = line.split(',')\n",
    "    xs.append(int(x))\n",
    "    ys.append(int(y))\n",
    "\n",
    "grid = np.zeros((max(ys) + 1, max(xs) + 1))\n",
    "for x, y in zip(xs, ys):\n",
    "    grid[y, x] = 1\n",
    "\n",
    "folds = []\n",
    "for line in lines:\n",
    "    if line.startswith('fold along'):\n",
    "        folds.append(line[11:])"
   ]
  },
  {
   "cell_type": "code",
   "execution_count": 11,
   "id": "3d926580",
   "metadata": {},
   "outputs": [
    {
     "data": {
      "text/plain": [
       "684"
      ]
     },
     "execution_count": 11,
     "metadata": {},
     "output_type": "execute_result"
    }
   ],
   "source": [
    "for fold in folds:\n",
    "    value = int(fold[2:])\n",
    "    if fold.startswith('x='):\n",
    "        # Fold left\n",
    "        new_grid = grid[:,:value]\n",
    "        flipped = np.fliplr(grid[:,value+1:])\n",
    "        new_grid[:,value-flipped.shape[1]:] += flipped\n",
    "    else:\n",
    "        # Fold up\n",
    "        new_grid = grid[:value,:]\n",
    "        flipped = np.flipud(grid[value+1:,:])\n",
    "        new_grid[value-flipped.shape[0]:,:] += flipped\n",
    "    grid = (new_grid > 0).astype('int')\n",
    "    break\n",
    "grid.sum()"
   ]
  },
  {
   "cell_type": "markdown",
   "id": "4c78af75",
   "metadata": {},
   "source": [
    "## Part 2"
   ]
  },
  {
   "cell_type": "code",
   "execution_count": 13,
   "id": "ed1884b5",
   "metadata": {},
   "outputs": [],
   "source": [
    "xs = []\n",
    "ys = []\n",
    "for line in lines:\n",
    "    if len(line) == 0:\n",
    "        break\n",
    "    x, y = line.split(',')\n",
    "    xs.append(int(x))\n",
    "    ys.append(int(y))\n",
    "\n",
    "grid = np.zeros((max(ys) + 1, max(xs) + 1))\n",
    "for x, y in zip(xs, ys):\n",
    "    grid[y, x] = 1\n",
    "\n",
    "folds = []\n",
    "for line in lines:\n",
    "    if line.startswith('fold along'):\n",
    "        folds.append(line[11:])"
   ]
  },
  {
   "cell_type": "code",
   "execution_count": 14,
   "id": "2ed5b3eb",
   "metadata": {},
   "outputs": [
    {
     "data": {
      "image/png": "[encoded data removed]",
      "text/plain": [
       "<Figure size 432x288 with 1 Axes>"
      ]
     },
     "metadata": {
      "needs_background": "light"
     },
     "output_type": "display_data"
    }
   ],
   "source": [
    "for fold in folds:\n",
    "    value = int(fold[2:])\n",
    "    if fold.startswith('x='):\n",
    "        # Fold left\n",
    "        new_grid = grid[:,:value]\n",
    "        flipped = np.fliplr(grid[:,value+1:])\n",
    "        new_grid[:,value-flipped.shape[1]:] += flipped\n",
    "    else:\n",
    "        # Fold up\n",
    "        new_grid = grid[:value,:]\n",
    "        flipped = np.flipud(grid[value+1:,:])\n",
    "        new_grid[value-flipped.shape[0]:,:] += flipped\n",
    "    grid = (new_grid > 0).astype('int')\n",
    "plt.imshow(grid)\n",
    "plt.show()"
   ]
  }
 ],
 "metadata": {
  "kernelspec": {
   "display_name": "Python 3 (ipykernel)",
   "language": "python",
   "name": "python3"
  },
  "language_info": {
   "codemirror_mode": {
    "name": "ipython",
    "version": 3
   },
   "file_extension": ".py",
   "mimetype": "text/x-python",
   "name": "python",
   "nbconvert_exporter": "python",
   "pygments_lexer": "ipython3",
   "version": "3.9.9"
  }
 },
 "nbformat": 4,
 "nbformat_minor": 5
}
