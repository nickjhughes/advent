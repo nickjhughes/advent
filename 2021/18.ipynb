{
 "cells": [
  {
   "cell_type": "code",
   "execution_count": 339,
   "id": "f71fe61c",
   "metadata": {},
   "outputs": [],
   "source": [
    "import copy\n",
    "import json\n",
    "import math\n",
    "import os\n",
    "import numpy as np\n",
    "import pandas as pd\n",
    "import matplotlib.pyplot as plt\n",
    "from collections import Counter, defaultdict\n",
    "%matplotlib inline"
   ]
  },
  {
   "cell_type": "code",
   "execution_count": 344,
   "id": "37066f70",
   "metadata": {},
   "outputs": [],
   "source": [
    "with open('input18', 'r') as f:\n",
    "    lines = [l.strip() for l in f.readlines()]"
   ]
  },
  {
   "cell_type": "markdown",
   "id": "13ae2ad9",
   "metadata": {},
   "source": [
    "## Part 1"
   ]
  },
  {
   "cell_type": "code",
   "execution_count": 192,
   "id": "b34e8eee",
   "metadata": {},
   "outputs": [],
   "source": [
    "class Tree(object):\n",
    "    def __init__(self):\n",
    "        self.left = None\n",
    "        self.right = None\n",
    "    def __str__(self):\n",
    "        return f'[{self.left},{self.right}]'"
   ]
  },
  {
   "cell_type": "code",
   "execution_count": 125,
   "id": "205ce431",
   "metadata": {},
   "outputs": [],
   "source": [
    "def to_tree(number):\n",
    "    tree = Tree()\n",
    "    if type(number[0]) is int:\n",
    "        tree.left = number[0]\n",
    "    else:\n",
    "        tree.left = to_tree(number[0])\n",
    "    if type(number[1]) is int:\n",
    "        tree.right = number[1]\n",
    "    else:\n",
    "        tree.right = to_tree(number[1])\n",
    "    return tree"
   ]
  },
  {
   "cell_type": "code",
   "execution_count": 126,
   "id": "81bcf3ae",
   "metadata": {},
   "outputs": [],
   "source": [
    "def replace_node(tree, search, replace):\n",
    "    to_visit = [tree]\n",
    "    while len(to_visit) > 0:\n",
    "        node = to_visit.pop(0)\n",
    "        if type(node) is Tree:\n",
    "            if node.left == search:\n",
    "                node.left = replace\n",
    "                return tree\n",
    "            elif node.right == search:\n",
    "                node.right = replace\n",
    "                return tree\n",
    "            else:\n",
    "                to_visit.append(node.left)\n",
    "                to_visit.append(node.right)\n",
    "    return tree"
   ]
  },
  {
   "cell_type": "code",
   "execution_count": 127,
   "id": "b6961435",
   "metadata": {},
   "outputs": [],
   "source": [
    "def add_to_prev_leaf(tree, base_node, addition, direction):\n",
    "    to_visit = [(tree, None, None)]\n",
    "    last_leaf = (None, None)\n",
    "    while len(to_visit) > 0:\n",
    "        node, parent, child = to_visit.pop(0)\n",
    "        if type(node) is Tree:\n",
    "            if node == base_node:\n",
    "                break\n",
    "            else:\n",
    "                if direction == 0:\n",
    "                    to_visit.insert(0, (node.right, node, 1))\n",
    "                    to_visit.insert(0, (node.left, node, 0))\n",
    "                else:\n",
    "                    to_visit.insert(0, (node.left, node, 0))\n",
    "                    to_visit.insert(0, (node.right, node, 1))\n",
    "        else:\n",
    "            last_leaf = (parent, child)\n",
    "    if last_leaf[0] is not None:\n",
    "        if last_leaf[1] == 0:\n",
    "            last_leaf[0].left += addition\n",
    "        else:\n",
    "            last_leaf[0].right += addition\n",
    "    return tree"
   ]
  },
  {
   "cell_type": "code",
   "execution_count": 217,
   "id": "7a28b7fc",
   "metadata": {},
   "outputs": [],
   "source": [
    "def explode(tree):\n",
    "    to_visit = [(tree, 0, None, None)]\n",
    "    while len(to_visit) > 0:\n",
    "        node, depth, parent, direction = to_visit.pop(0)\n",
    "        if type(node) is Tree:\n",
    "            if depth == 4:\n",
    "                if parent is not None:\n",
    "                    tree = add_to_prev_leaf(tree, node, node.left, 0)\n",
    "                    tree = add_to_prev_leaf(tree, node, node.right, 1)\n",
    "                tree = replace_node(tree, node, 0)\n",
    "                return tree, True\n",
    "                break\n",
    "            else:\n",
    "                to_visit.insert(0, (node.right, depth + 1, node, 0))\n",
    "                to_visit.insert(0, (node.left, depth + 1, node, 1))\n",
    "    return tree, False"
   ]
  },
  {
   "cell_type": "code",
   "execution_count": 299,
   "id": "5f27d152",
   "metadata": {},
   "outputs": [],
   "source": [
    "def split(tree):\n",
    "    to_visit = [(tree, None, None)]\n",
    "    while len(to_visit) > 0:\n",
    "        node, parent, child = to_visit.pop(0)\n",
    "        if type(node) is int:\n",
    "            if node >= 10:\n",
    "                new_node = Tree()\n",
    "                new_node.left = int(math.floor(node / 2))\n",
    "                new_node.right = int(math.ceil(node / 2))\n",
    "                if child == 0:\n",
    "                    parent.left = new_node\n",
    "                else:\n",
    "                    parent.right = new_node\n",
    "                return tree, Tree\n",
    "        else:\n",
    "            to_visit.insert(0, (node.right, node, 1))\n",
    "            to_visit.insert(0, (node.left, node, 0))\n",
    "    return tree, False"
   ]
  },
  {
   "cell_type": "code",
   "execution_count": 304,
   "id": "c5cfff5b",
   "metadata": {},
   "outputs": [],
   "source": [
    "def reduce(tree):\n",
    "    while True:\n",
    "        tree, did_explode = explode(tree)\n",
    "        if did_explode:\n",
    "            continue\n",
    "        tree, did_split = split(tree)\n",
    "        if did_split:\n",
    "            continue\n",
    "        break\n",
    "    return tree"
   ]
  },
  {
   "cell_type": "code",
   "execution_count": 132,
   "id": "b393cae8",
   "metadata": {},
   "outputs": [],
   "source": [
    "def add(n1, n2):\n",
    "    tree = Tree()\n",
    "    tree.left = n1\n",
    "    tree.right = n2\n",
    "    result = reduce(tree)\n",
    "    return result"
   ]
  },
  {
   "cell_type": "code",
   "execution_count": 241,
   "id": "94f06e68",
   "metadata": {},
   "outputs": [],
   "source": [
    "def magnitude(t):\n",
    "    if type(t) is int:\n",
    "        return t\n",
    "    else:\n",
    "        return 3 * magnitude(t.left) + 2 * magnitude(t.right)"
   ]
  },
  {
   "cell_type": "code",
   "execution_count": 286,
   "id": "98ffd365",
   "metadata": {},
   "outputs": [],
   "source": [
    "def print_tree(tree, depth=0):\n",
    "    if type(tree) is int:\n",
    "        print('| ' * depth + '|_' + str(tree))\n",
    "    else:\n",
    "        print('| ' * depth + '|_.')\n",
    "        print_tree(tree.left, depth + 1)\n",
    "        print_tree(tree.right, depth + 1)"
   ]
  },
  {
   "cell_type": "code",
   "execution_count": 316,
   "id": "7508d912",
   "metadata": {},
   "outputs": [
    {
     "name": "stdout",
     "output_type": "stream",
     "text": [
      "4116\n"
     ]
    }
   ],
   "source": [
    "trees = []\n",
    "for line in lines:\n",
    "    trees.append(to_tree(eval(line)))\n",
    "\n",
    "result = add(trees.pop(0), trees.pop(0))\n",
    "while len(trees) > 0:\n",
    "    result = add(result, trees.pop(0))\n",
    "print(magnitude(result))"
   ]
  },
  {
   "cell_type": "markdown",
   "id": "4c78af75",
   "metadata": {},
   "source": [
    "## Part 2"
   ]
  },
  {
   "cell_type": "code",
   "execution_count": 345,
   "id": "81ca9fe7",
   "metadata": {},
   "outputs": [],
   "source": [
    "trees = []\n",
    "for line in lines:\n",
    "    trees.append(to_tree(eval(line)))"
   ]
  },
  {
   "cell_type": "code",
   "execution_count": 346,
   "id": "4598a990",
   "metadata": {},
   "outputs": [
    {
     "name": "stdout",
     "output_type": "stream",
     "text": [
      "4638\n"
     ]
    }
   ],
   "source": [
    "magnitudes = []\n",
    "for i in range(len(trees)):\n",
    "    for j in range(len(trees)):\n",
    "        if i == j:\n",
    "            continue\n",
    "        magnitudes.append(magnitude(add(copy.deepcopy(trees[i]), copy.deepcopy(trees[j]))))\n",
    "print(max(magnitudes))"
   ]
  }
 ],
 "metadata": {
  "kernelspec": {
   "display_name": "Python 3 (ipykernel)",
   "language": "python",
   "name": "python3"
  },
  "language_info": {
   "codemirror_mode": {
    "name": "ipython",
    "version": 3
   },
   "file_extension": ".py",
   "mimetype": "text/x-python",
   "name": "python",
   "nbconvert_exporter": "python",
   "pygments_lexer": "ipython3",
   "version": "3.8.0"
  }
 },
 "nbformat": 4,
 "nbformat_minor": 5
}
