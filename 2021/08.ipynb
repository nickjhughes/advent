{
 "cells": [
  {
   "cell_type": "code",
   "execution_count": 84,
   "id": "6bdfd073",
   "metadata": {},
   "outputs": [],
   "source": [
    "import numpy as np\n",
    "import pandas as pd"
   ]
  },
  {
   "cell_type": "code",
   "execution_count": 85,
   "id": "b86cd34a",
   "metadata": {},
   "outputs": [],
   "source": [
    "with open('input8', 'r') as f:\n",
    "    lines = [l.strip() for l in f.readlines()]"
   ]
  },
  {
   "cell_type": "markdown",
   "id": "9737e56d",
   "metadata": {},
   "source": [
    "## Part 1"
   ]
  },
  {
   "cell_type": "code",
   "execution_count": 21,
   "id": "93585879",
   "metadata": {},
   "outputs": [],
   "source": [
    "lines = ['acedgfb cdfbe gcdfa fbcad dab cefabd cdfgeb eafb cagedb ab | cdfeb fcadb cdfeb cdbaf']"
   ]
  },
  {
   "cell_type": "code",
   "execution_count": 81,
   "id": "3796d666",
   "metadata": {},
   "outputs": [],
   "source": [
    "lines = [\n",
    "    'be cfbegad cbdgef fgaecd cgeb fdcge agebfd fecdb fabcd edb | fdgacbe cefdb cefbgd gcbe',\n",
    "    'edbfga begcd cbg gc gcadebf fbgde acbgfd abcde gfcbed gfec | fcgedb cgb dgebacf gc',\n",
    "    'fgaebd cg bdaec gdafb agbcfd gdcbef bgcad gfac gcb cdgabef | cg cg fdcagb cbg',\n",
    "    'fbegcd cbd adcefb dageb afcb bc aefdc ecdab fgdeca fcdbega | efabcd cedba gadfec cb',\n",
    "    'aecbfdg fbg gf bafeg dbefa fcge gcbea fcaegb dgceab fcbdga | gecf egdcabf bgf bfgea',\n",
    "    'fgeab ca afcebg bdacfeg cfaedg gcfdb baec bfadeg bafgc acf | gebdcfa ecba ca fadegcb',\n",
    "    'dbcfg fgd bdegcaf fgec aegbdf ecdfab fbedc dacgb gdcebf gf | cefg dcbef fcge gbcadfe',\n",
    "    'bdfegc cbegaf gecbf dfcage bdacg ed bedf ced adcbefg gebcd | ed bcgafe cdgba cbgef',\n",
    "    'egadfb cdbfeg cegd fecab cgb gbdefca cg fgcdab egfdb bfceg | gbdfcae bgc cg cgb',\n",
    "    'gcafb gcf dcaebfg ecagb gf abcdeg gaef cafbge fdbac fegbdc | fgae cfgab fg bagce',\n",
    "]"
   ]
  },
  {
   "cell_type": "code",
   "execution_count": 86,
   "id": "678b92af",
   "metadata": {},
   "outputs": [
    {
     "name": "stdout",
     "output_type": "stream",
     "text": [
      "479\n"
     ]
    }
   ],
   "source": [
    "count = 0\n",
    "for line in lines:\n",
    "    combos = line.split(' | ')[0].split()\n",
    "    output = line.split(' | ')[1].split()\n",
    "    for digit in output:\n",
    "        if len(digit) in [2, 4, 3, 7]: # digits 1, 4, 7, 8\n",
    "            count += 1\n",
    "print(count)"
   ]
  },
  {
   "cell_type": "markdown",
   "id": "ace44e59",
   "metadata": {},
   "source": [
    "## Part 2"
   ]
  },
  {
   "cell_type": "code",
   "execution_count": 87,
   "id": "52791294",
   "metadata": {},
   "outputs": [],
   "source": [
    "segment_to_digit = {\n",
    "    'a': [0, 2, 3, 5, 6 ,7, 8, 9],\n",
    "    'b': [0, 4, 5, 6, 8, 9],\n",
    "    'c': [0, 1, 2, 3, 4, 7, 8, 9],\n",
    "    'd': [2, 3, 4, 5, 6, 8, 9],\n",
    "    'e': [0, 2, 6, 8],\n",
    "    'f': [0, 1, 3, 4, 5, 6, 7, 8, 9],\n",
    "    'g': [0, 2, 3, 5, 6, 8, 9],\n",
    "}\n",
    "digit_to_segment = {\n",
    "    0: ['a', 'b', 'c', 'e', 'f', 'g'],\n",
    "    1: ['c', 'f'],\n",
    "    2: ['a', 'c', 'd', 'e', 'g'],\n",
    "    3: ['a', 'c', 'd', 'f', 'g'],\n",
    "    4: ['b', 'c', 'd', 'f'],\n",
    "    5: ['a', 'b', 'd', 'f', 'g'],\n",
    "    6: ['a', 'b', 'd', 'e', 'f', 'g'],\n",
    "    7: ['a', 'c', 'f'],\n",
    "    8: ['a', 'b', 'c', 'd', 'e', 'f', 'g'],\n",
    "    9: ['a', 'b', 'c', 'd', 'f', 'g'],\n",
    "}"
   ]
  },
  {
   "cell_type": "code",
   "execution_count": 88,
   "id": "b15a12c9",
   "metadata": {},
   "outputs": [
    {
     "name": "stdout",
     "output_type": "stream",
     "text": [
      "1041746\n"
     ]
    }
   ],
   "source": [
    "output_sum = 0\n",
    "for line in lines:\n",
    "    combos = line.split(' | ')[0].split()\n",
    "    output = line.split(' | ')[1].split()\n",
    "    mapping = {}\n",
    "    segment_count = {}\n",
    "    for segment in segment_to_digit.keys():\n",
    "        segment_count[segment] = len([c for c in combos if segment in c])\n",
    "    for segment in segment_count.keys():\n",
    "        if segment_count[segment] == 4:\n",
    "            mapping[segment] = 'e'\n",
    "        elif segment_count[segment] == 9:\n",
    "            mapping[segment] = 'f'\n",
    "        elif segment_count[segment] == 6:\n",
    "            mapping[segment] = 'b'\n",
    "        elif segment_count[segment] == 8:\n",
    "            if segment in [c for c in combos if len(c) == 2][0]:\n",
    "                mapping[segment] = 'c'\n",
    "            else:\n",
    "                mapping[segment] = 'a'\n",
    "        elif segment_count[segment] == 7:\n",
    "            if segment in [c for c in combos if len(c) == 4][0]:\n",
    "                mapping[segment] = 'd'\n",
    "            else:\n",
    "                mapping[segment] = 'g'\n",
    "    reverse_mapping = {v: k for k, v in mapping.items()}\n",
    "\n",
    "    digit_strs = []\n",
    "    for digit in range(10):\n",
    "        digit_strs.append(''.join(sorted([reverse_mapping[s] for s in digit_to_segment[digit]])))\n",
    "\n",
    "    output_digits = []\n",
    "    for o in output:\n",
    "        output_digits.append(digit_strs.index(''.join(sorted(o))))\n",
    "    output_number = int(''.join(str(n) for n in output_digits))\n",
    "    output_sum += output_number\n",
    "print(output_sum)"
   ]
  }
 ],
 "metadata": {
  "kernelspec": {
   "display_name": "Python 3 (ipykernel)",
   "language": "python",
   "name": "python3"
  },
  "language_info": {
   "codemirror_mode": {
    "name": "ipython",
    "version": 3
   },
   "file_extension": ".py",
   "mimetype": "text/x-python",
   "name": "python",
   "nbconvert_exporter": "python",
   "pygments_lexer": "ipython3",
   "version": "3.9.9"
  }
 },
 "nbformat": 4,
 "nbformat_minor": 5
}
