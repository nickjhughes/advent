{
 "cells": [
  {
   "cell_type": "code",
   "execution_count": 149,
   "id": "f71fe61c",
   "metadata": {},
   "outputs": [],
   "source": [
    "from collections import Counter\n",
    "import numpy as np\n",
    "import pandas as pd"
   ]
  },
  {
   "cell_type": "code",
   "execution_count": 150,
   "id": "37066f70",
   "metadata": {},
   "outputs": [],
   "source": [
    "with open('input12', 'r') as f:\n",
    "    lines = [l.strip() for l in f.readlines()]"
   ]
  },
  {
   "cell_type": "markdown",
   "id": "13ae2ad9",
   "metadata": {},
   "source": [
    "## Part 1"
   ]
  },
  {
   "cell_type": "code",
   "execution_count": 111,
   "id": "7474f761",
   "metadata": {},
   "outputs": [],
   "source": [
    "lines = [\n",
    "    'start-A',\n",
    "    'start-b',\n",
    "    'A-c',\n",
    "    'A-b',\n",
    "    'b-d',\n",
    "    'A-end',\n",
    "    'b-end',\n",
    "]"
   ]
  },
  {
   "cell_type": "code",
   "execution_count": 151,
   "id": "39287531",
   "metadata": {},
   "outputs": [],
   "source": [
    "edges = set()\n",
    "nodes = set()\n",
    "for line in lines:\n",
    "    n1, n2 = line.split('-')\n",
    "    nodes.add(n1)\n",
    "    nodes.add(n2)\n",
    "    edges.add((n1, n2))\n",
    "    edges.add((n2, n1))"
   ]
  },
  {
   "cell_type": "code",
   "execution_count": 152,
   "id": "585589d7",
   "metadata": {},
   "outputs": [],
   "source": [
    "def find_paths(start, path):\n",
    "    if start == 'end':\n",
    "        return [path + ['end']]\n",
    "    paths = []\n",
    "    for _, node in [e for e in edges if e[0] == start]:\n",
    "        if node in path and node.lower() == node:\n",
    "            continue\n",
    "        paths.extend(find_paths(node, path + [start]))\n",
    "    return paths"
   ]
  },
  {
   "cell_type": "code",
   "execution_count": 153,
   "id": "580757bd",
   "metadata": {},
   "outputs": [
    {
     "data": {
      "text/plain": [
       "4912"
      ]
     },
     "execution_count": 153,
     "metadata": {},
     "output_type": "execute_result"
    }
   ],
   "source": [
    "len(find_paths('start', []))"
   ]
  },
  {
   "cell_type": "markdown",
   "id": "4c78af75",
   "metadata": {},
   "source": [
    "## Part 2"
   ]
  },
  {
   "cell_type": "code",
   "execution_count": 154,
   "id": "e73d01dc",
   "metadata": {},
   "outputs": [],
   "source": [
    "def find_paths(start, path):\n",
    "    if start == 'end':\n",
    "        return [path + ['end']]\n",
    "    paths = []\n",
    "    for _, node in [e for e in edges if e[0] == start]:\n",
    "        if node == 'start':\n",
    "            continue\n",
    "        small_caves = Counter([n for n in path + [start] if n.lower() == n and n not in ['start', 'end']])\n",
    "        if node.lower() == node and node in path + [start]:\n",
    "            if len([v for v in small_caves.values() if v == 2]) == 0:\n",
    "                pass\n",
    "            else:\n",
    "                continue\n",
    "        paths.extend(find_paths(node, path + [start]))\n",
    "    return paths"
   ]
  },
  {
   "cell_type": "code",
   "execution_count": 155,
   "id": "69a0358f",
   "metadata": {
    "scrolled": true
   },
   "outputs": [
    {
     "data": {
      "text/plain": [
       "150004"
      ]
     },
     "execution_count": 155,
     "metadata": {},
     "output_type": "execute_result"
    }
   ],
   "source": [
    "len(find_paths('start', []))"
   ]
  }
 ],
 "metadata": {
  "kernelspec": {
   "display_name": "Python 3 (ipykernel)",
   "language": "python",
   "name": "python3"
  },
  "language_info": {
   "codemirror_mode": {
    "name": "ipython",
    "version": 3
   },
   "file_extension": ".py",
   "mimetype": "text/x-python",
   "name": "python",
   "nbconvert_exporter": "python",
   "pygments_lexer": "ipython3",
   "version": "3.8.0"
  }
 },
 "nbformat": 4,
 "nbformat_minor": 5
}
