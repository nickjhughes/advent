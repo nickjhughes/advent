{
 "cells": [
  {
   "cell_type": "code",
   "execution_count": 68,
   "id": "9318fec5",
   "metadata": {},
   "outputs": [],
   "source": [
    "import math\n",
    "import numpy as np\n",
    "import pandas as pd\n",
    "from collections import defaultdict"
   ]
  },
  {
   "cell_type": "code",
   "execution_count": 89,
   "id": "51dbc47e",
   "metadata": {},
   "outputs": [],
   "source": [
    "with open('input6', 'r') as f:\n",
    "    fish = [int(n) for n in f.read().strip().split(',')]"
   ]
  },
  {
   "cell_type": "markdown",
   "id": "07e2ca32",
   "metadata": {},
   "source": [
    "## Part 1"
   ]
  },
  {
   "cell_type": "code",
   "execution_count": 87,
   "id": "767b3f5d",
   "metadata": {},
   "outputs": [],
   "source": [
    "fish = [int(n) for n in '3,4,3,1,2'.split(',')]"
   ]
  },
  {
   "cell_type": "code",
   "execution_count": 42,
   "id": "387edafe",
   "metadata": {},
   "outputs": [
    {
     "name": "stdout",
     "output_type": "stream",
     "text": [
      "390011\n"
     ]
    }
   ],
   "source": [
    "# print('Initial state:', ','.join(str(f) for f in fish))\n",
    "for day in range(80):\n",
    "    for i in range(len(fish)):\n",
    "        fish[i] -= 1\n",
    "        if fish[i] == -1:\n",
    "            fish[i] = 6\n",
    "            fish.append(8)\n",
    "#     print(f'After {day+1} day:', ','.join(str(f) for f in fish))\n",
    "print(len(fish))"
   ]
  },
  {
   "cell_type": "markdown",
   "id": "82808807",
   "metadata": {},
   "source": [
    "## Part 2"
   ]
  },
  {
   "cell_type": "code",
   "execution_count": 90,
   "id": "439f52b4",
   "metadata": {},
   "outputs": [
    {
     "name": "stdout",
     "output_type": "stream",
     "text": [
      "1746710169834\n"
     ]
    }
   ],
   "source": [
    "counters = defaultdict(int)\n",
    "for f in fish:\n",
    "    counters[f] += 1\n",
    "for day in range(256):\n",
    "    new_counters = defaultdict(int)\n",
    "    for i in range(1, 9):\n",
    "        new_counters[i - 1] += counters[i]\n",
    "    new_counters[6] += counters[0]\n",
    "    new_counters[8] += counters[0]\n",
    "    counters = new_counters\n",
    "print(sum(counters.values()))"
   ]
  }
 ],
 "metadata": {
  "kernelspec": {
   "display_name": "Python 3 (ipykernel)",
   "language": "python",
   "name": "python3"
  },
  "language_info": {
   "codemirror_mode": {
    "name": "ipython",
    "version": 3
   },
   "file_extension": ".py",
   "mimetype": "text/x-python",
   "name": "python",
   "nbconvert_exporter": "python",
   "pygments_lexer": "ipython3",
   "version": "3.8.0"
  }
 },
 "nbformat": 4,
 "nbformat_minor": 5
}
