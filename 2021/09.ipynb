{
 "cells": [
  {
   "cell_type": "code",
   "execution_count": 1,
   "id": "2c5f2f75",
   "metadata": {},
   "outputs": [],
   "source": [
    "import numpy as np\n",
    "import pandas as pd\n",
    "from scipy import ndimage"
   ]
  },
  {
   "cell_type": "code",
   "execution_count": 21,
   "id": "11942c1a",
   "metadata": {},
   "outputs": [],
   "source": [
    "with open('input9', 'r') as f:\n",
    "    lines = [l.strip() for l in f.readlines()]"
   ]
  },
  {
   "cell_type": "markdown",
   "id": "78b66a29",
   "metadata": {},
   "source": [
    "## Part 1"
   ]
  },
  {
   "cell_type": "code",
   "execution_count": 6,
   "id": "b2e3991e",
   "metadata": {},
   "outputs": [],
   "source": [
    "lines = [\n",
    "    '2199943210',\n",
    "    '3987894921',\n",
    "    '9856789892',\n",
    "    '8767896789',\n",
    "    '9899965678',\n",
    "]"
   ]
  },
  {
   "cell_type": "code",
   "execution_count": 22,
   "id": "6f70db15",
   "metadata": {},
   "outputs": [],
   "source": [
    "num_lines = len(lines)\n",
    "line_length = len(lines[0])\n",
    "height = np.zeros((num_lines, line_length))\n",
    "for i, line in enumerate(lines):\n",
    "    height[i,:] = [int(d) for d in line]"
   ]
  },
  {
   "cell_type": "code",
   "execution_count": 67,
   "id": "df1bd26d",
   "metadata": {},
   "outputs": [
    {
     "name": "stdout",
     "output_type": "stream",
     "text": [
      "508\n"
     ]
    }
   ],
   "source": [
    "risk_sum = 0\n",
    "for x in range(line_length):\n",
    "    for y in range(num_lines):\n",
    "        value = height[y, x]\n",
    "        if (x == 0 or height[y, x-1] > value) \\\n",
    "          and (x == line_length - 1 or height[y, x+1] > value) \\\n",
    "          and (y == 0 or height[y-1, x] > value) \\\n",
    "          and (y == num_lines - 1 or height[y+1, x] > value):\n",
    "            risk_sum += value + 1\n",
    "print(int(risk_sum))"
   ]
  },
  {
   "cell_type": "markdown",
   "id": "5102ac1a",
   "metadata": {},
   "source": [
    "## Part 2"
   ]
  },
  {
   "cell_type": "code",
   "execution_count": 23,
   "id": "0e53f8ba",
   "metadata": {},
   "outputs": [
    {
     "data": {
      "text/plain": [
       "1564640"
      ]
     },
     "execution_count": 23,
     "metadata": {},
     "output_type": "execute_result"
    }
   ],
   "source": [
    "mask = height.copy()\n",
    "mask[mask < 9] = 1\n",
    "mask[mask == 9] = 0\n",
    "labels, nb = ndimage.label(mask)\n",
    "basin_sizes = []\n",
    "for i in range(1, nb + 1):\n",
    "    basin_sizes.append(np.sum(labels == i))\n",
    "np.prod(sorted(basin_sizes, reverse=True)[:3])"
   ]
  }
 ],
 "metadata": {
  "kernelspec": {
   "display_name": "Python 3 (ipykernel)",
   "language": "python",
   "name": "python3"
  },
  "language_info": {
   "codemirror_mode": {
    "name": "ipython",
    "version": 3
   },
   "file_extension": ".py",
   "mimetype": "text/x-python",
   "name": "python",
   "nbconvert_exporter": "python",
   "pygments_lexer": "ipython3",
   "version": "3.9.9"
  }
 },
 "nbformat": 4,
 "nbformat_minor": 5
}
