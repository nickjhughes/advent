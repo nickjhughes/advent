{
 "cells": [
  {
   "cell_type": "code",
   "execution_count": 1,
   "id": "f71fe61c",
   "metadata": {},
   "outputs": [],
   "source": [
    "import copy\n",
    "import json\n",
    "import math\n",
    "import os\n",
    "import numpy as np\n",
    "import pandas as pd\n",
    "import matplotlib.pyplot as plt\n",
    "from collections import Counter, defaultdict\n",
    "%matplotlib inline"
   ]
  },
  {
   "cell_type": "code",
   "execution_count": 2,
   "id": "37066f70",
   "metadata": {},
   "outputs": [],
   "source": [
    "with open('input19', 'r') as f:\n",
    "    lines = [l.strip() for l in f.readlines()]"
   ]
  },
  {
   "cell_type": "markdown",
   "id": "13ae2ad9",
   "metadata": {},
   "source": [
    "## Part 1"
   ]
  },
  {
   "cell_type": "code",
   "execution_count": 3,
   "id": "36307094",
   "metadata": {},
   "outputs": [],
   "source": [
    "def get_24_rotations():\n",
    "    rollmat = np.array([[1, 0, 0], [0, 0, 1], [0, -1, 0]], dtype=float)\n",
    "    turnmat = np.array([[0, -1, 0], [1, 0, 0], [0, 0, 1]], dtype=float)\n",
    "    rotations = []\n",
    "    current_rot = np.eye(3)\n",
    "    for cycle in range(2):\n",
    "        for step in range(3): # RTTT 3 times\n",
    "            current_rot = rollmat @ current_rot \n",
    "            rotations.append(current_rot) # R\n",
    "            for i in range(3): # TTT\n",
    "                current_rot = turnmat @ current_rot\n",
    "                rotations.append(current_rot)\n",
    "        current_rot = rollmat @ turnmat @ rollmat @ current_rot # RTR\n",
    "    return rotations"
   ]
  },
  {
   "cell_type": "code",
   "execution_count": 4,
   "id": "cbaa927d",
   "metadata": {},
   "outputs": [],
   "source": [
    "def rotate_point(point, matrix):\n",
    "    result = np.matmul(matrix, np.array([[point[0]], [point[1]], [point[2]]]))\n",
    "    return result.flatten().astype(int).tolist()"
   ]
  },
  {
   "cell_type": "code",
   "execution_count": 5,
   "id": "7242b23a",
   "metadata": {},
   "outputs": [],
   "source": [
    "def offset_point(point, offset):\n",
    "    return [point[0] - offset[0], point[1] - offset[1], point[2] - offset[2]]"
   ]
  },
  {
   "cell_type": "code",
   "execution_count": 6,
   "id": "c3f41c4e",
   "metadata": {},
   "outputs": [],
   "source": [
    "rotation_matrices = get_24_rotations()"
   ]
  },
  {
   "cell_type": "code",
   "execution_count": 7,
   "id": "1209948f",
   "metadata": {},
   "outputs": [],
   "source": [
    "def find_position_rotation(scanners, index1, index2):\n",
    "    correct_rotation = None\n",
    "    correct_matches = None\n",
    "    for base_point1 in scanners[index1]:\n",
    "        for base_point2 in scanners[index2]:\n",
    "            for matrix in rotation_matrices:\n",
    "                points1 = [offset_point(p, base_point1) for p in scanners[index1]]\n",
    "                points2 = [rotate_point(offset_point(p, base_point2), matrix) for p in scanners[index2]]\n",
    "                matching_points = []\n",
    "                matching_point_indices = []\n",
    "                for i, point in enumerate(points1):\n",
    "                    for j, other in enumerate(points2):\n",
    "                        if point[0] == other[0] and point[1] == other[1] and point[2] == other[2]:\n",
    "                            matching_points.append(point)\n",
    "                            matching_point_indices.append((i, j))\n",
    "                if len(matching_points) >= 12:\n",
    "                    correct_rotation = matrix\n",
    "                    correct_matches = matching_point_indices\n",
    "    if not correct_matches:\n",
    "        return None, None\n",
    "    p1 = scanners[index1][correct_matches[0][0]]\n",
    "    p2 = rotate_point(scanners[index2][correct_matches[0][1]], correct_rotation)\n",
    "    position = [p1[0] - p2[0], p1[1] - p2[1], p1[2] - p2[2]]\n",
    "    return correct_rotation, position"
   ]
  },
  {
   "cell_type": "code",
   "execution_count": 9,
   "id": "eba04d6c",
   "metadata": {},
   "outputs": [
    {
     "name": "stdout",
     "output_type": "stream",
     "text": [
      "Found scanner 13 from 0: (1119, -64, -35)\n",
      "Found scanner 9 from 13: (1144, -108, -1182)\n",
      "Found scanner 7 from 9: (1266, 1249, -1241)\n",
      "Found scanner 14 from 0: (-73, -1233, 97)\n",
      "Found scanner 16 from 13: (1269, -1230, 61)\n",
      "Found scanner 4 from 16: (2343, -1304, 29)\n",
      "Found scanner 6 from 4: (2462, -1251, -1106)\n",
      "Found scanner 1 from 6: (3537, -1150, -1217)\n",
      "Found scanner 10 from 6: (2380, -1267, -2303)\n",
      "Found scanner 19 from 6: (2287, -2446, -1197)\n",
      "Found scanner 11 from 19: (1109, -2459, -1128)\n",
      "Found scanner 5 from 11: (83, -2435, -1213)\n",
      "Found scanner 2 from 5: (-43, -2452, -2367)\n",
      "Found scanner 15 from 2: (66, -2393, -3614)\n",
      "Found scanner 3 from 15: (1139, -2459, -3674)\n",
      "Found scanner 8 from 15: (78, -3586, -3635)\n",
      "Found scanner 12 from 8: (-1157, -3702, -3631)\n",
      "Found scanner 18 from 2: (-76, -3579, -2294)\n",
      "Found scanner 20 from 6: (1270, -1220, -1133)\n",
      "Found scanner 21 from 5: (-1264, -2373, -1181)\n",
      "Found scanner 23 from 2: (1231, -2497, -2442)\n",
      "Found scanner 24 from 11: (1198, -3696, -1197)\n",
      "Found scanner 22 from 24: (1206, -4735, -1099)\n",
      "Found scanner 17 from 22: (1186, -6068, -1202)\n",
      "Found scanner 25 from 10: (2449, -2407, -2348)\n",
      "Found 306 beacons\n"
     ]
    }
   ],
   "source": [
    "scanners = []\n",
    "for line in lines:\n",
    "    if line.startswith('---'):\n",
    "        scanners.append([])\n",
    "    elif len(line) > 0:\n",
    "        scanners[-1].append([int(v) for v in line.split(',')])\n",
    "\n",
    "scanner_positions = [None] * len(scanners)\n",
    "scanner_positions[0] = [0, 0, 0]\n",
    "scanner_rotations = [None] * len(scanners)\n",
    "scanner_rotations[0] = np.eye(3)\n",
    "\n",
    "while sum(p is None for p in scanner_positions) > 0:\n",
    "    found = False\n",
    "    for i in [i for i, p in enumerate(scanner_positions) if p is None]:\n",
    "        if found:\n",
    "            break\n",
    "        for j in [j for j, p in enumerate(scanner_positions) if p is not None]:\n",
    "            rot, pos = find_position_rotation(scanners, j, i)\n",
    "            if pos is not None:\n",
    "                print(f'Found scanner {i} from {j}: ({pos[0]}, {pos[1]}, {pos[2]})')\n",
    "                scanner_positions[i] = pos\n",
    "                scanner_rotations[i] = rot\n",
    "                new_scanner = []\n",
    "                for p in scanners[i]:\n",
    "                    new_scanner.append(offset_point(rotate_point(p, rot), [-p for p in pos]))\n",
    "                scanners[i] = new_scanner\n",
    "                found = True\n",
    "                break\n",
    "    if not found:\n",
    "        print('Failed to find next scanner')\n",
    "        break\n",
    "\n",
    "beacons = set()\n",
    "for scanner in scanners:\n",
    "    for p in scanner:\n",
    "        beacons.add(tuple(p))\n",
    "print(f'Found {len(beacons)} beacons')"
   ]
  },
  {
   "cell_type": "markdown",
   "id": "4c78af75",
   "metadata": {},
   "source": [
    "## Part 2"
   ]
  },
  {
   "cell_type": "code",
   "execution_count": 13,
   "id": "5ac2c7ed",
   "metadata": {},
   "outputs": [
    {
     "data": {
      "text/plain": [
       "9764"
      ]
     },
     "execution_count": 13,
     "metadata": {},
     "output_type": "execute_result"
    }
   ],
   "source": [
    "def manhatten_dist(p1, p2):\n",
    "    return abs(p1[0] - p2[0]) + abs(p1[1] - p2[1]) + abs(p1[2] - p2[2])\n",
    "\n",
    "dists = []\n",
    "for i in range(len(scanner_positions)):\n",
    "    for j in range(len(scanner_positions)):\n",
    "        dists.append(manhatten_dist(scanner_positions[i], scanner_positions[j]))\n",
    "max(dists)"
   ]
  }
 ],
 "metadata": {
  "kernelspec": {
   "display_name": "Python 3 (ipykernel)",
   "language": "python",
   "name": "python3"
  },
  "language_info": {
   "codemirror_mode": {
    "name": "ipython",
    "version": 3
   },
   "file_extension": ".py",
   "mimetype": "text/x-python",
   "name": "python",
   "nbconvert_exporter": "python",
   "pygments_lexer": "ipython3",
   "version": "3.8.0"
  }
 },
 "nbformat": 4,
 "nbformat_minor": 5
}
