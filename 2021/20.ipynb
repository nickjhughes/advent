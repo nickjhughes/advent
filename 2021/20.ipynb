{
 "cells": [
  {
   "cell_type": "code",
   "execution_count": 1,
   "id": "f71fe61c",
   "metadata": {},
   "outputs": [],
   "source": [
    "import json\n",
    "import math\n",
    "import os\n",
    "import numpy as np\n",
    "import pandas as pd\n",
    "import requests\n",
    "import browser_cookie3\n",
    "import matplotlib.pyplot as plt\n",
    "from collections import Counter, defaultdict\n",
    "%matplotlib inline"
   ]
  },
  {
   "cell_type": "code",
   "execution_count": 10,
   "id": "37066f70",
   "metadata": {},
   "outputs": [],
   "source": [
    "with open('input20', 'r') as f:\n",
    "    lines = [l.strip() for l in f.readlines()]"
   ]
  },
  {
   "cell_type": "markdown",
   "id": "13ae2ad9",
   "metadata": {},
   "source": [
    "## Part 1"
   ]
  },
  {
   "cell_type": "code",
   "execution_count": 3,
   "id": "11bea8a6",
   "metadata": {},
   "outputs": [],
   "source": [
    "lines = [\n",
    "    '..#.#..#####.#.#.#.###.##.....###.##.#..###.####..#####..#....#..#..##..###..######.###...####..#..#####..##..#.#####...##.#.#..#.##..#.#......#.###.######.###.####...#.##.##..#..#..#####.....#.#....###..#.##......#.....#..#..#..##..#...##.######.####.####.#.#...#.......#..#.#.#...####.##.#......#..#...##.#.##..#...##.#.##..###.#......#.#.......#.#.#.####.###.##...#.....####.#..#..#.##.#....##..#.####....##...##..#...#......#.#.......#.......##..####..#...#.#.#...##..#.#..###..#####........#..####......#..#',\n",
    "    '',\n",
    "    '#..#.',\n",
    "    '#....',\n",
    "    '##..#',\n",
    "    '..#..',\n",
    "    '..###',\n",
    "]"
   ]
  },
  {
   "cell_type": "code",
   "execution_count": 4,
   "id": "68658a12",
   "metadata": {},
   "outputs": [],
   "source": [
    "def print_image(image):\n",
    "    for r in range(image.shape[0]):\n",
    "        for c in range(image.shape[1]):\n",
    "            print('#' if image[r,c] == 1 else '.', end='')\n",
    "        print()"
   ]
  },
  {
   "cell_type": "code",
   "execution_count": 5,
   "id": "9783a121",
   "metadata": {},
   "outputs": [],
   "source": [
    "def enhance(image, algorithm, fill_value):\n",
    "    pad_image = np.pad(image, 1, constant_values=fill_value)\n",
    "    new_image = np.zeros(pad_image.shape, dtype=int)\n",
    "    for r in range(new_image.shape[0]):\n",
    "        for c in range(new_image.shape[1]):\n",
    "            bits = []\n",
    "            for dr in [-1, 0, 1]:\n",
    "                for dc in [-1, 0, 1]:\n",
    "                    rr = r + dr\n",
    "                    cc = c + dc\n",
    "                    if rr >= 0 and rr < new_image.shape[0] and cc >= 0 and cc < new_image.shape[1]:\n",
    "                        bits.append(pad_image[rr, cc])\n",
    "                    else:\n",
    "                        bits.append(fill_value)\n",
    "            value = int(''.join(str(v) for v in bits), 2)\n",
    "            new_image[r, c] = 1 if algorithm[value] == '#' else 0\n",
    "    return new_image"
   ]
  },
  {
   "cell_type": "code",
   "execution_count": 11,
   "id": "7474f761",
   "metadata": {},
   "outputs": [],
   "source": [
    "algorithm = lines[0]\n",
    "rows = len(lines) - 2\n",
    "cols = len(lines[2])\n",
    "\n",
    "image = np.zeros((rows, cols), dtype=int)\n",
    "for i, line in enumerate(lines[2:]):\n",
    "    image[i,:] = [1 if c == '#' else 0 for c in line]"
   ]
  },
  {
   "cell_type": "code",
   "execution_count": 12,
   "id": "cd292ac4",
   "metadata": {},
   "outputs": [
    {
     "name": "stdout",
     "output_type": "stream",
     "text": [
      "5229\n"
     ]
    }
   ],
   "source": [
    "for step in range(2):\n",
    "    image = enhance(image, algorithm, int(step % 2))\n",
    "print(image.sum())"
   ]
  },
  {
   "cell_type": "markdown",
   "id": "4c78af75",
   "metadata": {},
   "source": [
    "## Part 2"
   ]
  },
  {
   "cell_type": "code",
   "execution_count": 13,
   "id": "3b4dd42a",
   "metadata": {},
   "outputs": [],
   "source": [
    "algorithm = lines[0]\n",
    "rows = len(lines) - 2\n",
    "cols = len(lines[2])\n",
    "\n",
    "image = np.zeros((rows, cols), dtype=int)\n",
    "for i, line in enumerate(lines[2:]):\n",
    "    image[i,:] = [1 if c == '#' else 0 for c in line]"
   ]
  },
  {
   "cell_type": "code",
   "execution_count": 14,
   "id": "b00075b4",
   "metadata": {},
   "outputs": [
    {
     "name": "stdout",
     "output_type": "stream",
     "text": [
      "17009\n"
     ]
    }
   ],
   "source": [
    "for step in range(50):\n",
    "    image = enhance(image, algorithm, int(step % 2))\n",
    "print(image.sum())"
   ]
  }
 ],
 "metadata": {
  "kernelspec": {
   "display_name": "Python 3 (ipykernel)",
   "language": "python",
   "name": "python3"
  },
  "language_info": {
   "codemirror_mode": {
    "name": "ipython",
    "version": 3
   },
   "file_extension": ".py",
   "mimetype": "text/x-python",
   "name": "python",
   "nbconvert_exporter": "python",
   "pygments_lexer": "ipython3",
   "version": "3.9.9"
  }
 },
 "nbformat": 4,
 "nbformat_minor": 5
}
