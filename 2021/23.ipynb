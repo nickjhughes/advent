{
 "cells": [
  {
   "cell_type": "code",
   "execution_count": 7,
   "id": "f71fe61c",
   "metadata": {},
   "outputs": [],
   "source": [
    "import json\n",
    "import math\n",
    "import os\n",
    "import numpy as np\n",
    "import pandas as pd\n",
    "import itertools\n",
    "import matplotlib.pyplot as plt\n",
    "from copy import deepcopy\n",
    "from collections import Counter, defaultdict\n",
    "%matplotlib inline"
   ]
  },
  {
   "cell_type": "markdown",
   "id": "13ae2ad9",
   "metadata": {},
   "source": [
    "## Part 1"
   ]
  },
  {
   "cell_type": "code",
   "execution_count": 8,
   "id": "7cf1078c",
   "metadata": {},
   "outputs": [],
   "source": [
    "move_costs = {\n",
    "    'A': 1,\n",
    "    'B': 10,\n",
    "    'C': 100,\n",
    "    'D': 1000,\n",
    "}\n",
    "home_rooms = {\n",
    "    'A': 0,\n",
    "    'B': 1,\n",
    "    'C': 2,\n",
    "    'D': 3,\n",
    "}"
   ]
  },
  {
   "cell_type": "code",
   "execution_count": 9,
   "id": "03c4ee57",
   "metadata": {},
   "outputs": [],
   "source": [
    "def print_game(rooms, hallway):\n",
    "    num_rooms = len(rooms)\n",
    "    hallway_len = len(hallway)\n",
    "    room_size = len(rooms[0])\n",
    "    \n",
    "    print('#' * (hallway_len + 2))\n",
    "    print('#', end='')\n",
    "    for piece in hallway:\n",
    "        if piece is None:\n",
    "            print('.', end='')\n",
    "        else:\n",
    "            print(piece[0], end='')\n",
    "    print('#')\n",
    "    for r in range(room_size - 1, -1, -1):\n",
    "        char = '#' if r == room_size - 1 else ' '\n",
    "        print(char * ((hallway_len + 2 - (2 * num_rooms) - 1) // 2), end='')\n",
    "        for i in range(num_rooms):\n",
    "            if rooms[i][r] is not None:\n",
    "                piece = rooms[i][r][0]\n",
    "            else:\n",
    "                piece = '.'\n",
    "            print(f'#{piece}', end='')\n",
    "        print('#', end='')\n",
    "        print(char * ((hallway_len + 2 - (2 * num_rooms) - 1) // 2))\n",
    "    print(' ' * ((hallway_len + 2 - (2 * num_rooms) - 1) // 2), end='')\n",
    "    for i in range(len(rooms)):\n",
    "        print('##', end='')\n",
    "    print('#', end='')\n",
    "    print(' ' * ((hallway_len + 2 - (2 * num_rooms) - 1) // 2))"
   ]
  },
  {
   "cell_type": "code",
   "execution_count": 40,
   "id": "fb159c3a",
   "metadata": {},
   "outputs": [],
   "source": [
    "def get_moves(piece, rooms, hallway, doors):\n",
    "    debug = False\n",
    "\n",
    "    piece_type = piece[0]\n",
    "    home_room = home_rooms[piece_type]\n",
    "    move_cost = move_costs[piece_type]\n",
    "    room_size = len(rooms[0])\n",
    "\n",
    "    if piece in hallway:\n",
    "        loc = 'hallway'\n",
    "    else:\n",
    "        loc = 'room'\n",
    "\n",
    "    moves = []\n",
    "    if loc == 'room':\n",
    "        # In a room\n",
    "        for i, room in enumerate(rooms):\n",
    "            if piece in room:\n",
    "                room_number = i\n",
    "                room_index = room.index(piece)\n",
    "        if room_index < (room_size - 1) and sum(r is not None for r in rooms[room_number][room_index+1:]) > 0:\n",
    "            # Blocked in room\n",
    "            if debug: print('blocked in room')\n",
    "            return []\n",
    "        if room_number == home_room:\n",
    "            # In home room\n",
    "            if sum(r is not None and r[0] != piece_type for r in rooms[home_room]) == 0:\n",
    "                # With only other home pieces\n",
    "                if debug: print('already in home room')\n",
    "                return []\n",
    "        # Move into hallway\n",
    "        room_door = doors[room_number]\n",
    "        for i in range(room_door + 1, len(hallway)):\n",
    "            if hallway[i] is None:\n",
    "                if i not in doors:\n",
    "                    cost = ((room_size - room_index) + (i - room_door)) * move_cost\n",
    "                    moves.append(('hallway', i, cost))\n",
    "            else:\n",
    "                break\n",
    "        for i in range(room_door - 1, -1, -1):\n",
    "            if hallway[i] is None:\n",
    "                if i not in doors:\n",
    "                    cost = ((room_size - room_index) + (room_door - i)) * move_cost\n",
    "                    moves.append(('hallway', i, cost))\n",
    "            else:\n",
    "                break\n",
    "        return moves\n",
    "        # Ignoring direct moves to other rooms for simplicity\n",
    "    else:\n",
    "        # In hallway\n",
    "        if rooms[home_room][room_size - 1] is not None:\n",
    "            # Home room full already\n",
    "            if debug: print('home room already full')\n",
    "            return []\n",
    "        if sum(r is not None and r[0] != piece_type for r in rooms[home_room]) > 0:\n",
    "            # Home room has a different piece in it\n",
    "            if debug: print('home room has different piece in it')\n",
    "            return []\n",
    "        cur_pos = hallway.index(piece)\n",
    "        if cur_pos < doors[home_room]:\n",
    "            if sum(hallway[i] is not None for i in range(cur_pos + 1, doors[home_room] + 1)) > 0:\n",
    "                # Blocked path to home room\n",
    "                if debug: print('path to home room blocked')\n",
    "                return []\n",
    "        else:\n",
    "            if sum(hallway[i] is not None for i in range(doors[home_room], cur_pos)) > 0:\n",
    "                # Blocked path to home room\n",
    "                if debug: print('path to home room blocked')\n",
    "                return []\n",
    "        if cur_pos > doors[home_room]:\n",
    "            cost = (cur_pos - doors[home_room]) * move_cost\n",
    "        else:\n",
    "            cost = (doors[home_room] - cur_pos) * move_cost\n",
    "        space = min(r for r, space in enumerate(rooms[home_room]) if space is None)\n",
    "        cost += (room_size - space) * move_cost\n",
    "        moves.append(('room', (home_room, space), cost))\n",
    "        return moves"
   ]
  },
  {
   "cell_type": "code",
   "execution_count": 41,
   "id": "604222e1",
   "metadata": {},
   "outputs": [],
   "source": [
    "def do_move(piece, move, rooms, hallway):\n",
    "    new_rooms = deepcopy(rooms)\n",
    "    new_hallway = deepcopy(hallway)\n",
    "    if move[0] == 'room':\n",
    "        # Move to room\n",
    "        new_hallway[new_hallway.index(piece)] = None\n",
    "        new_rooms[move[1][0]][move[1][1]] = piece\n",
    "    else:\n",
    "        # Move to hallway\n",
    "        for i, room in enumerate(rooms):\n",
    "            if piece in room:\n",
    "                room_number = i\n",
    "                room_index = room.index(piece)\n",
    "        new_rooms[room_number][room_index] = None\n",
    "        new_hallway[move[1]] = piece\n",
    "    return new_rooms, new_hallway"
   ]
  },
  {
   "cell_type": "code",
   "execution_count": 42,
   "id": "bda65fce",
   "metadata": {},
   "outputs": [],
   "source": [
    "def get_all_moves(rooms, hallway, doors):\n",
    "    moves = []\n",
    "    all_pieces = [''.join(p) for p in itertools.product(move_costs.keys(), [str(v + 1) for v in range(len(rooms[0]))])]\n",
    "    for piece in all_pieces:\n",
    "        piece_moves = get_moves(piece, rooms, hallway, doors)\n",
    "        complete_piece_moves = []\n",
    "        for move in piece_moves:\n",
    "            complete_piece_moves.append((piece, *move))\n",
    "        if len(complete_piece_moves) > 0:\n",
    "            moves.extend(complete_piece_moves)\n",
    "    return moves"
   ]
  },
  {
   "cell_type": "code",
   "execution_count": 43,
   "id": "a728c91b",
   "metadata": {},
   "outputs": [],
   "source": [
    "def game_finished(rooms, hallway, doors):\n",
    "    if sum(h is not None for h in hallway) == 0:\n",
    "        wrong_room = False\n",
    "        for piece, i in home_rooms.items():\n",
    "            for r in range(len(rooms[0])):\n",
    "                if rooms[i][r][0] != piece:\n",
    "                    return False\n",
    "        # Every piece is home\n",
    "        return True\n",
    "    return False"
   ]
  },
  {
   "cell_type": "code",
   "execution_count": 44,
   "id": "80c02bd9",
   "metadata": {},
   "outputs": [],
   "source": [
    "def game_stalled(rooms, hallway, doors):\n",
    "    return len(get_all_moves(rooms, hallway, doors)) == 0"
   ]
  },
  {
   "cell_type": "code",
   "execution_count": 32,
   "id": "e78962d1",
   "metadata": {},
   "outputs": [],
   "source": [
    "def explore_moves(rooms, hallway, doors, cost_so_far):\n",
    "    global evaluations, best_so_far\n",
    "    if game_finished(rooms, hallway, doors):\n",
    "        if cost_so_far < best_so_far:\n",
    "            best_so_far = cost_so_far\n",
    "            print(best_so_far)\n",
    "        return 0, []\n",
    "    min_cost = 1e100\n",
    "    evaluations += 1\n",
    "    all_moves = sorted(get_all_moves(rooms, hallway, doors), key=lambda m: m[3])\n",
    "    \n",
    "    room_moves = [move for move in all_moves if move[1] == 'room']\n",
    "    if len(room_moves) > 0:\n",
    "        all_moves = [room_moves[0]]\n",
    "    \n",
    "    for move in all_moves:\n",
    "        piece, ma, mb, move_cost = move\n",
    "        if cost_so_far + move_cost > best_so_far:\n",
    "            continue\n",
    "        new_rooms, new_hallway = do_move(piece, (ma, mb), rooms, hallway)\n",
    "        if game_stalled(new_rooms, new_hallway, doors) and not game_finished(new_rooms, new_hallway, doors):\n",
    "            continue\n",
    "        resulting_cost, new_moves = explore_moves(new_rooms, new_hallway, doors, cost_so_far + move_cost)\n",
    "        if resulting_cost == -1:\n",
    "            continue\n",
    "        if move_cost + resulting_cost < min_cost:\n",
    "            min_cost = move_cost + resulting_cost\n",
    "            moves = [move] + new_moves\n",
    "    if min_cost == 1e100:\n",
    "        return -1, []\n",
    "    return min_cost, moves"
   ]
  },
  {
   "cell_type": "code",
   "execution_count": 33,
   "id": "3ebc3b3b",
   "metadata": {},
   "outputs": [],
   "source": [
    "doors = [2, 4, 6, 8]"
   ]
  },
  {
   "cell_type": "code",
   "execution_count": 46,
   "id": "e66c97dd",
   "metadata": {},
   "outputs": [
    {
     "name": "stdout",
     "output_type": "stream",
     "text": [
      "#############\n",
      "#...........#\n",
      "###B#C#B#D###\n",
      "  #A#D#C#A#  \n",
      "  #########  \n"
     ]
    }
   ],
   "source": [
    "# Example\n",
    "#############\n",
    "#...........#\n",
    "###B#C#B#D###\n",
    "  #A#D#C#A#\n",
    "  #########\n",
    "\n",
    "test_rooms = [\n",
    "    ['A1', 'B1'],\n",
    "    ['D1', 'C1'],\n",
    "    ['C2', 'B2'],\n",
    "    ['A2', 'D2'],\n",
    "]\n",
    "test_hallway = [None, None, None, None, None, None, None, None, None, None, None]\n",
    "print_game(test_rooms, test_hallway)"
   ]
  },
  {
   "cell_type": "code",
   "execution_count": 45,
   "id": "274e19de",
   "metadata": {},
   "outputs": [
    {
     "name": "stdout",
     "output_type": "stream",
     "text": [
      "#############\n",
      "#...........#\n",
      "###C#C#B#D###\n",
      "  #D#A#B#A#  \n",
      "  #########  \n"
     ]
    }
   ],
   "source": [
    "# Input\n",
    "#############\n",
    "#...........#\n",
    "###C#C#B#D###\n",
    "  #D#A#B#A#\n",
    "  #########\n",
    "\n",
    "test_rooms = [\n",
    "    ['D1', 'C1'],\n",
    "    ['A1', 'C2'],\n",
    "    ['B1', 'B2'],\n",
    "    ['A2', 'D2'],\n",
    "]\n",
    "test_hallway = [None, None, None, None, None, None, None, None, None, None, None]\n",
    "print_game(test_rooms, test_hallway)"
   ]
  },
  {
   "cell_type": "code",
   "execution_count": 47,
   "id": "16a3df36",
   "metadata": {},
   "outputs": [
    {
     "name": "stdout",
     "output_type": "stream",
     "text": [
      "12581\n",
      "12563\n",
      "12541\n",
      "12539\n",
      "12521\n",
      "(12521, [('B2', 'hallway', 3, 40), ('C1', 'hallway', 5, 200), ('C1', 'room', (2, 1), 200), ('D2', 'hallway', 7, 2000), ('A2', 'hallway', 9, 3), ('D2', 'room', (3, 0), 3000), ('D1', 'hallway', 5, 3000), ('B2', 'room', (1, 0), 30), ('D1', 'room', (3, 1), 4000), ('B1', 'hallway', 3, 20), ('B1', 'room', (1, 1), 20), ('A2', 'room', (0, 1), 8)])\n",
      "402324\n"
     ]
    }
   ],
   "source": [
    "evaluations = 0\n",
    "best_so_far = 1e100\n",
    "print(explore_moves(test_rooms, test_hallway, doors, 0))\n",
    "print(evaluations)"
   ]
  },
  {
   "cell_type": "code",
   "execution_count": 48,
   "id": "e59a8490",
   "metadata": {},
   "outputs": [
    {
     "data": {
      "text/plain": [
       "12521"
      ]
     },
     "execution_count": 48,
     "metadata": {},
     "output_type": "execute_result"
    }
   ],
   "source": [
    "best_so_far"
   ]
  },
  {
   "cell_type": "markdown",
   "id": "4c78af75",
   "metadata": {},
   "source": [
    "## Part 2"
   ]
  },
  {
   "cell_type": "code",
   "execution_count": 61,
   "id": "e029df03",
   "metadata": {},
   "outputs": [
    {
     "name": "stdout",
     "output_type": "stream",
     "text": [
      "#############\n",
      "#...........#\n",
      "###C#C#B#D###\n",
      "  #D#C#B#A#  \n",
      "  #D#B#A#C#  \n",
      "  #D#A#B#A#  \n",
      "  #########  \n"
     ]
    }
   ],
   "source": [
    "# Input\n",
    "#############\n",
    "#...........#\n",
    "###C#C#B#D###\n",
    "  #D#C#B#A#\n",
    "  #D#B#A#C#\n",
    "  #D#A#B#A#\n",
    "  #########\n",
    "\n",
    "test_rooms = [\n",
    "    ['D1', 'D2', 'D3', 'C1'],\n",
    "    ['A1', 'B1', 'C2', 'C3'],\n",
    "    ['B2', 'A2', 'B3', 'B4'],\n",
    "    ['A3', 'C4', 'A4', 'D4'],\n",
    "]\n",
    "test_hallway = [None, None, None, None, None, None, None, None, None, None, None]\n",
    "print_game(test_rooms, test_hallway)"
   ]
  },
  {
   "cell_type": "code",
   "execution_count": 59,
   "id": "13f343d5",
   "metadata": {},
   "outputs": [
    {
     "name": "stdout",
     "output_type": "stream",
     "text": [
      "#############\n",
      "#...........#\n",
      "###B#C#B#D###\n",
      "  #D#C#B#A#  \n",
      "  #D#B#A#C#  \n",
      "  #A#D#C#A#  \n",
      "  #########  \n"
     ]
    }
   ],
   "source": [
    "# Example\n",
    "#############\n",
    "#...........#\n",
    "###B#C#B#D###\n",
    "  #D#C#B#A#\n",
    "  #D#B#A#C#\n",
    "  #A#D#C#A#\n",
    "  #########\n",
    "\n",
    "test_rooms = [\n",
    "    ['A1', 'D1', 'D2', 'B1'],\n",
    "    ['D3', 'B2', 'C1', 'C2'],\n",
    "    ['C3', 'A2', 'B3', 'B4'],\n",
    "    ['A3', 'C4', 'A4', 'D4'],\n",
    "]\n",
    "test_hallway = [None, None, None, None, None, None, None, None, None, None, None]\n",
    "print_game(test_rooms, test_hallway)"
   ]
  },
  {
   "cell_type": "code",
   "execution_count": 57,
   "id": "546f4830",
   "metadata": {},
   "outputs": [
    {
     "name": "stdout",
     "output_type": "stream",
     "text": [
      "#############\n",
      "#AA.D.B.B.BD#\n",
      "###B#.#.#.###\n",
      "  #D#.#C#.#  \n",
      "  #D#.#C#C#  \n",
      "  #A#.#C#A#  \n",
      "  #########  \n"
     ]
    }
   ],
   "source": [
    "# Example Test\n",
    "#############\n",
    "#AA.D.B.B.BD#\n",
    "###B#.#.#.###\n",
    "  #D#.#C#.#\n",
    "  #D#.#C#C#\n",
    "  #A#.#C#A#\n",
    "  #########\n",
    "\n",
    "test_rooms = [\n",
    "    ['A3', 'D3', 'D4', 'B4'],\n",
    "    [None, None, None, None],\n",
    "    ['C1', 'C2', 'C3', None],\n",
    "    ['A4', 'C4', None, None],\n",
    "]\n",
    "test_hallway = ['A1', 'A2', None, 'D1', None, 'B1', None, 'B2', None, 'B3', 'D2']\n",
    "print_game(test_rooms, test_hallway)"
   ]
  },
  {
   "cell_type": "code",
   "execution_count": 62,
   "id": "2a17bbe0",
   "metadata": {},
   "outputs": [
    {
     "name": "stdout",
     "output_type": "stream",
     "text": [
      "47393\n",
      "47193\n",
      "(47193, [('B4', 'hallway', 10, 50), ('B3', 'hallway', 9, 50), ('A2', 'hallway', 0, 9), ('B2', 'hallway', 7, 50), ('C1', 'hallway', 3, 200), ('C1', 'room', (2, 0), 700), ('C3', 'hallway', 5, 200), ('C3', 'room', (2, 1), 400), ('C2', 'hallway', 5, 300), ('C2', 'room', (2, 2), 300), ('B1', 'hallway', 5, 40), ('A1', 'hallway', 1, 7), ('B1', 'room', (1, 0), 50), ('B2', 'room', (1, 1), 60), ('B3', 'room', (1, 2), 70), ('B4', 'room', (1, 3), 70), ('D3', 'hallway', 3, 3000), ('D4', 'hallway', 5, 4000), ('A4', 'hallway', 10, 4), ('C4', 'hallway', 7, 400), ('C4', 'room', (2, 3), 200), ('A3', 'hallway', 9, 5), ('D4', 'room', (3, 0), 7000), ('D3', 'room', (3, 1), 8000), ('D2', 'hallway', 3, 4000), ('D2', 'room', (3, 2), 7000), ('D1', 'hallway', 3, 5000), ('A1', 'room', (0, 0), 5), ('A2', 'room', (0, 1), 5), ('D1', 'room', (3, 3), 6000), ('A3', 'room', (0, 2), 9), ('A4', 'room', (0, 3), 9)])\n",
      "5767915\n"
     ]
    }
   ],
   "source": [
    "evaluations = 0\n",
    "best_so_far = 1e100\n",
    "print(explore_moves(test_rooms, test_hallway, doors, 0))\n",
    "print(evaluations)"
   ]
  }
 ],
 "metadata": {
  "kernelspec": {
   "display_name": "Python 3 (ipykernel)",
   "language": "python",
   "name": "python3"
  },
  "language_info": {
   "codemirror_mode": {
    "name": "ipython",
    "version": 3
   },
   "file_extension": ".py",
   "mimetype": "text/x-python",
   "name": "python",
   "nbconvert_exporter": "python",
   "pygments_lexer": "ipython3",
   "version": "3.9.9"
  }
 },
 "nbformat": 4,
 "nbformat_minor": 5
}
