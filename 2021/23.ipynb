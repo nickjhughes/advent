{
 "cells": [
  {
   "cell_type": "code",
   "execution_count": 377,
   "id": "f71fe61c",
   "metadata": {},
   "outputs": [],
   "source": [
    "import json\n",
    "import math\n",
    "import os\n",
    "import numpy as np\n",
    "import pandas as pd\n",
    "import matplotlib.pyplot as plt\n",
    "from copy import deepcopy\n",
    "from collections import Counter, defaultdict\n",
    "%matplotlib inline"
   ]
  },
  {
   "cell_type": "code",
   "execution_count": 378,
   "id": "37066f70",
   "metadata": {},
   "outputs": [],
   "source": [
    "with open('input23', 'r') as f:\n",
    "    lines = [l.strip('\\n') for l in f.readlines()]"
   ]
  },
  {
   "cell_type": "markdown",
   "id": "13ae2ad9",
   "metadata": {},
   "source": [
    "## Part 1"
   ]
  },
  {
   "cell_type": "code",
   "execution_count": 379,
   "id": "03c4ee57",
   "metadata": {},
   "outputs": [],
   "source": [
    "def print_game(rooms, hallway):\n",
    "    print('#' * (len(hallway) + 2))\n",
    "    print('#', end='')\n",
    "    for piece in hallway:\n",
    "        if piece is None:\n",
    "            print('.', end='')\n",
    "        else:\n",
    "            print(piece[0], end='')\n",
    "    print('#')\n",
    "    print('#' * ((len(hallway) + 2 - (2 * len(rooms)) - 1) // 2), end='')\n",
    "    for i in range(len(rooms)):\n",
    "        if rooms[i][1] is not None:\n",
    "            piece = rooms[i][1][0]\n",
    "        else:\n",
    "            piece = '.'\n",
    "        print(f'#{piece}', end='')\n",
    "    print('#', end='')\n",
    "    print('#' * ((len(hallway) + 2 - (2 * len(rooms)) - 1) // 2))\n",
    "    print(' ' * ((len(hallway) + 2 - (2 * len(rooms)) - 1) // 2), end='')\n",
    "    for i in range(len(rooms)):\n",
    "        if rooms[i][0] is not None:\n",
    "            piece = rooms[i][0][0]\n",
    "        else:\n",
    "            piece = '.'\n",
    "        print(f'#{piece}', end='')\n",
    "    print('#', end='')\n",
    "    print(' ' * ((len(hallway) + 2 - (2 * len(rooms)) - 1) // 2))\n",
    "    print(' ' * ((len(hallway) + 2 - (2 * len(rooms)) - 1) // 2), end='')\n",
    "    for i in range(len(rooms)):\n",
    "        print('##', end='')\n",
    "    print('#', end='')\n",
    "    print(' ' * ((len(hallway) + 2 - (2 * len(rooms)) - 1) // 2))"
   ]
  },
  {
   "cell_type": "code",
   "execution_count": 380,
   "id": "fb159c3a",
   "metadata": {},
   "outputs": [],
   "source": [
    "def get_moves(piece, rooms, hallway, doors):\n",
    "    debug = False\n",
    "\n",
    "    piece_type = piece[0]\n",
    "    home_room = home_rooms[piece_type]\n",
    "    move_cost = move_costs[piece_type]\n",
    "\n",
    "    if piece in hallway:\n",
    "        loc = 'hallway'\n",
    "    else:\n",
    "        loc = 'room'\n",
    "\n",
    "    moves = []\n",
    "    if loc == 'room':\n",
    "        # In a room\n",
    "        for i, room in enumerate(rooms):\n",
    "            if piece in room:\n",
    "                room_number = i\n",
    "                room_index = room.index(piece)\n",
    "        if room_index == 0 and rooms[room_number][1] is not None:\n",
    "            # Blocked in room\n",
    "            if debug: print('blocked in room')\n",
    "            return []\n",
    "        if room_number == home_room:\n",
    "            # In home room\n",
    "            if room_index == 0 or (room_index == 1 and rooms[room_number][0][0] == piece_type):\n",
    "                # And either at the end of the room or with other home pieces\n",
    "                if debug: print('already in home room')\n",
    "                return []\n",
    "        # Move into hallway\n",
    "        room_door = doors[room_number]\n",
    "        for i in range(room_door + 1, len(hallway)):\n",
    "            if hallway[i] is None:\n",
    "                if i not in doors:\n",
    "                    if room_index == 0:\n",
    "                        cost = move_cost * 2\n",
    "                    else:\n",
    "                        cost = move_cost\n",
    "                    cost += (i - room_door) * move_cost\n",
    "                    moves.append(('hallway', i, cost))\n",
    "            else:\n",
    "                break\n",
    "        for i in range(room_door - 1, -1, -1):\n",
    "            if hallway[i] is None:\n",
    "                if i not in doors:\n",
    "                    if room_index == 0:\n",
    "                        cost = move_cost * 2\n",
    "                    else:\n",
    "                        cost = move_cost\n",
    "                    cost += (room_door - i) * move_cost\n",
    "                    moves.append(('hallway', i, cost))\n",
    "            else:\n",
    "                break\n",
    "        return moves\n",
    "        # Ignoring direct moves to other rooms for simplicity\n",
    "    else:\n",
    "        # In hallway\n",
    "        if rooms[home_room][1] is not None:\n",
    "            # Home room full already\n",
    "            if debug: print('home room already full')\n",
    "            return []\n",
    "        if rooms[home_room][0] is not None and rooms[home_room][0][0] != piece_type:\n",
    "            # Home room has a different piece in it\n",
    "            if debug: print('home room has different piece in it')\n",
    "            return []\n",
    "        cur_pos = hallway.index(piece)\n",
    "        if cur_pos > doors[home_room]:\n",
    "            if sum(hallway[i] is not None for i in range(doors[home_room], cur_pos)) > 0:\n",
    "                # Blocked path to home room\n",
    "                if debug: print('path to home room blocked')\n",
    "                return []\n",
    "        else:\n",
    "            if sum(hallway[i] is not None for i in range(cur_pos, doors[home_room] - 1, -1)) > 0:\n",
    "                # Blocked path to home room\n",
    "                if debug: print('path to home room blocked')\n",
    "                return []\n",
    "        if cur_pos > doors[home_room]:\n",
    "            cost = (cur_pos - doors[home_room]) * move_cost\n",
    "        else:\n",
    "            cost = (doors[home_room] - cur_pos) * move_cost\n",
    "        if rooms[home_room][0] is None:\n",
    "            cost += 2 * move_cost\n",
    "            moves.append(('room', (home_room, 0), cost))\n",
    "        else:\n",
    "            cost += move_cost\n",
    "            moves.append(('room', (home_room, 1), cost))\n",
    "        return moves"
   ]
  },
  {
   "cell_type": "code",
   "execution_count": 381,
   "id": "604222e1",
   "metadata": {},
   "outputs": [],
   "source": [
    "def do_move(piece, move, rooms, hallway):\n",
    "    new_rooms = deepcopy(rooms)\n",
    "    new_hallway = deepcopy(hallway)\n",
    "    if move[0] == 'room':\n",
    "        # Move to room\n",
    "        new_hallway[new_hallway.index(piece)] = None\n",
    "        new_rooms[move[1][0]][move[1][1]] = piece\n",
    "    else:\n",
    "        # Move to hallway\n",
    "        for i, room in enumerate(rooms):\n",
    "            if piece in room:\n",
    "                room_number = i\n",
    "                room_index = room.index(piece)\n",
    "        new_rooms[room_number][room_index] = None\n",
    "        new_hallway[move[1]] = piece\n",
    "    return new_rooms, new_hallway"
   ]
  },
  {
   "cell_type": "code",
   "execution_count": 382,
   "id": "bda65fce",
   "metadata": {},
   "outputs": [],
   "source": [
    "def get_all_moves(rooms, hallway, doors):\n",
    "    moves = []\n",
    "    for piece in ['A1', 'A2', 'B1', 'B2', 'C1', 'C2', 'D1', 'D2']:\n",
    "        piece_moves = get_moves(piece, rooms, hallway, doors)\n",
    "        complete_piece_moves = []\n",
    "        for move in piece_moves:\n",
    "            complete_piece_moves.append((piece, *move))\n",
    "        if len(complete_piece_moves) > 0:\n",
    "            moves.extend(complete_piece_moves)\n",
    "    return moves"
   ]
  },
  {
   "cell_type": "code",
   "execution_count": 383,
   "id": "a728c91b",
   "metadata": {},
   "outputs": [],
   "source": [
    "def game_finished(rooms, hallway, doors):\n",
    "    if sum(h is not None for h in hallway) == 0:\n",
    "        wrong_room = False\n",
    "        for piece, i in home_rooms.items():\n",
    "            if rooms[i][0][0] != piece or rooms[i][1][0] != piece:\n",
    "                wrong_room = True\n",
    "                break\n",
    "        if not wrong_room:\n",
    "            # Every piece is home\n",
    "            return True\n",
    "    return False"
   ]
  },
  {
   "cell_type": "code",
   "execution_count": 384,
   "id": "80c02bd9",
   "metadata": {},
   "outputs": [],
   "source": [
    "def game_stalled(rooms, hallway, doors):\n",
    "    return len(get_all_moves(rooms, hallway, doors)) == 0"
   ]
  },
  {
   "cell_type": "code",
   "execution_count": 385,
   "id": "e78962d1",
   "metadata": {},
   "outputs": [],
   "source": [
    "def explore_moves(rooms, hallway, doors, max_cost):\n",
    "    if game_finished(rooms, hallway, doors):\n",
    "        return 0\n",
    "    min_cost = 1e100\n",
    "    all_moves = sorted(get_all_moves(rooms, hallway, doors), key=lambda m: m[3])\n",
    "    for move in all_moves:\n",
    "        piece, ma, mb, move_cost = move\n",
    "        if move_cost > max_cost:\n",
    "            continue\n",
    "        new_rooms, new_hallway = do_move(piece, (ma, mb), rooms, hallway)\n",
    "        if game_stalled(new_rooms, new_hallway, doors) and not game_finished(new_rooms, new_hallway, doors):\n",
    "            continue\n",
    "        resulting_cost = explore_moves(new_rooms, new_hallway, doors, min_cost)\n",
    "        if resulting_cost == -1:\n",
    "            continue\n",
    "        if move_cost + resulting_cost < min_cost:\n",
    "            min_cost = move_cost + resulting_cost\n",
    "    if min_cost == 1e100:\n",
    "        return -1\n",
    "    return min_cost"
   ]
  },
  {
   "cell_type": "code",
   "execution_count": 386,
   "id": "33502b97",
   "metadata": {},
   "outputs": [],
   "source": [
    "lines = [\n",
    "    '#############',\n",
    "    '#...........#',\n",
    "    '###B#C#B#D###',\n",
    "    '  #A#D#C#A#',\n",
    "    '  #########',\n",
    "]"
   ]
  },
  {
   "cell_type": "code",
   "execution_count": 387,
   "id": "7cf1078c",
   "metadata": {},
   "outputs": [],
   "source": [
    "move_costs = {\n",
    "    'A': 1,\n",
    "    'B': 10,\n",
    "    'C': 100,\n",
    "    'D': 1000,\n",
    "}\n",
    "home_rooms = {\n",
    "    'A': 0,\n",
    "    'B': 1,\n",
    "    'C': 2,\n",
    "    'D': 3,\n",
    "}"
   ]
  },
  {
   "cell_type": "code",
   "execution_count": 389,
   "id": "3ebc3b3b",
   "metadata": {},
   "outputs": [],
   "source": [
    "rooms = [\n",
    "    ['A1', 'B1'],\n",
    "    ['D1', 'C1'],\n",
    "    ['C2', 'B2'],\n",
    "    ['A2', 'D2'],\n",
    "]\n",
    "hallway = [None] * len(lines[1].strip('#'))\n",
    "doors = [2, 4, 6, 8]"
   ]
  },
  {
   "cell_type": "code",
   "execution_count": 375,
   "id": "274e19de",
   "metadata": {},
   "outputs": [
    {
     "name": "stdout",
     "output_type": "stream",
     "text": [
      "#############\n",
      "#...B.......#\n",
      "###B#C#.#D###\n",
      "  #A#D#C#A#  \n",
      "  #########  \n"
     ]
    }
   ],
   "source": [
    "#############\n",
    "#...B.......#\n",
    "###B#C#.#D###\n",
    "  #A#D#C#A#\n",
    "  #########\n",
    "test_rooms = [\n",
    "    ['A1', 'B1'],\n",
    "    ['D1', 'C1'],\n",
    "    ['C2', None],\n",
    "    ['A2', 'D2'],\n",
    "]\n",
    "test_hallway = [None, None, None, 'B2', None, None, None, None, None, None, None]\n",
    "print_game(test_rooms, test_hallway)"
   ]
  },
  {
   "cell_type": "code",
   "execution_count": 390,
   "id": "16a3df36",
   "metadata": {},
   "outputs": [
    {
     "ename": "KeyboardInterrupt",
     "evalue": "",
     "output_type": "error",
     "traceback": [
      "\u001b[0;31m---------------------------------------------------------------------------\u001b[0m",
      "\u001b[0;31mKeyboardInterrupt\u001b[0m                         Traceback (most recent call last)",
      "\u001b[0;32m/var/folders/zc/sfqmd6b941sgfj47z2nn_gnh0000gn/T/ipykernel_78887/2460236376.py\u001b[0m in \u001b[0;36m<module>\u001b[0;34m\u001b[0m\n\u001b[0;32m----> 1\u001b[0;31m \u001b[0mexplore_moves\u001b[0m\u001b[0;34m(\u001b[0m\u001b[0mrooms\u001b[0m\u001b[0;34m,\u001b[0m \u001b[0mhallway\u001b[0m\u001b[0;34m,\u001b[0m \u001b[0mdoors\u001b[0m\u001b[0;34m,\u001b[0m \u001b[0;36m1e100\u001b[0m\u001b[0;34m)\u001b[0m\u001b[0;34m\u001b[0m\u001b[0;34m\u001b[0m\u001b[0m\n\u001b[0m",
      "\u001b[0;32m/var/folders/zc/sfqmd6b941sgfj47z2nn_gnh0000gn/T/ipykernel_78887/3367311559.py\u001b[0m in \u001b[0;36mexplore_moves\u001b[0;34m(rooms, hallway, doors, max_cost)\u001b[0m\n\u001b[1;32m     11\u001b[0m         \u001b[0;32mif\u001b[0m \u001b[0mgame_stalled\u001b[0m\u001b[0;34m(\u001b[0m\u001b[0mnew_rooms\u001b[0m\u001b[0;34m,\u001b[0m \u001b[0mnew_hallway\u001b[0m\u001b[0;34m,\u001b[0m \u001b[0mdoors\u001b[0m\u001b[0;34m)\u001b[0m \u001b[0;32mand\u001b[0m \u001b[0;32mnot\u001b[0m \u001b[0mgame_finished\u001b[0m\u001b[0;34m(\u001b[0m\u001b[0mnew_rooms\u001b[0m\u001b[0;34m,\u001b[0m \u001b[0mnew_hallway\u001b[0m\u001b[0;34m,\u001b[0m \u001b[0mdoors\u001b[0m\u001b[0;34m)\u001b[0m\u001b[0;34m:\u001b[0m\u001b[0;34m\u001b[0m\u001b[0;34m\u001b[0m\u001b[0m\n\u001b[1;32m     12\u001b[0m             \u001b[0;32mcontinue\u001b[0m\u001b[0;34m\u001b[0m\u001b[0;34m\u001b[0m\u001b[0m\n\u001b[0;32m---> 13\u001b[0;31m         \u001b[0mresulting_cost\u001b[0m \u001b[0;34m=\u001b[0m \u001b[0mexplore_moves\u001b[0m\u001b[0;34m(\u001b[0m\u001b[0mnew_rooms\u001b[0m\u001b[0;34m,\u001b[0m \u001b[0mnew_hallway\u001b[0m\u001b[0;34m,\u001b[0m \u001b[0mdoors\u001b[0m\u001b[0;34m,\u001b[0m \u001b[0mmin_cost\u001b[0m\u001b[0;34m)\u001b[0m\u001b[0;34m\u001b[0m\u001b[0;34m\u001b[0m\u001b[0m\n\u001b[0m\u001b[1;32m     14\u001b[0m         \u001b[0;32mif\u001b[0m \u001b[0mresulting_cost\u001b[0m \u001b[0;34m==\u001b[0m \u001b[0;34m-\u001b[0m\u001b[0;36m1\u001b[0m\u001b[0;34m:\u001b[0m\u001b[0;34m\u001b[0m\u001b[0;34m\u001b[0m\u001b[0m\n\u001b[1;32m     15\u001b[0m             \u001b[0;32mcontinue\u001b[0m\u001b[0;34m\u001b[0m\u001b[0;34m\u001b[0m\u001b[0m\n",
      "\u001b[0;32m/var/folders/zc/sfqmd6b941sgfj47z2nn_gnh0000gn/T/ipykernel_78887/3367311559.py\u001b[0m in \u001b[0;36mexplore_moves\u001b[0;34m(rooms, hallway, doors, max_cost)\u001b[0m\n\u001b[1;32m     11\u001b[0m         \u001b[0;32mif\u001b[0m \u001b[0mgame_stalled\u001b[0m\u001b[0;34m(\u001b[0m\u001b[0mnew_rooms\u001b[0m\u001b[0;34m,\u001b[0m \u001b[0mnew_hallway\u001b[0m\u001b[0;34m,\u001b[0m \u001b[0mdoors\u001b[0m\u001b[0;34m)\u001b[0m \u001b[0;32mand\u001b[0m \u001b[0;32mnot\u001b[0m \u001b[0mgame_finished\u001b[0m\u001b[0;34m(\u001b[0m\u001b[0mnew_rooms\u001b[0m\u001b[0;34m,\u001b[0m \u001b[0mnew_hallway\u001b[0m\u001b[0;34m,\u001b[0m \u001b[0mdoors\u001b[0m\u001b[0;34m)\u001b[0m\u001b[0;34m:\u001b[0m\u001b[0;34m\u001b[0m\u001b[0;34m\u001b[0m\u001b[0m\n\u001b[1;32m     12\u001b[0m             \u001b[0;32mcontinue\u001b[0m\u001b[0;34m\u001b[0m\u001b[0;34m\u001b[0m\u001b[0m\n\u001b[0;32m---> 13\u001b[0;31m         \u001b[0mresulting_cost\u001b[0m \u001b[0;34m=\u001b[0m \u001b[0mexplore_moves\u001b[0m\u001b[0;34m(\u001b[0m\u001b[0mnew_rooms\u001b[0m\u001b[0;34m,\u001b[0m \u001b[0mnew_hallway\u001b[0m\u001b[0;34m,\u001b[0m \u001b[0mdoors\u001b[0m\u001b[0;34m,\u001b[0m \u001b[0mmin_cost\u001b[0m\u001b[0;34m)\u001b[0m\u001b[0;34m\u001b[0m\u001b[0;34m\u001b[0m\u001b[0m\n\u001b[0m\u001b[1;32m     14\u001b[0m         \u001b[0;32mif\u001b[0m \u001b[0mresulting_cost\u001b[0m \u001b[0;34m==\u001b[0m \u001b[0;34m-\u001b[0m\u001b[0;36m1\u001b[0m\u001b[0;34m:\u001b[0m\u001b[0;34m\u001b[0m\u001b[0;34m\u001b[0m\u001b[0m\n\u001b[1;32m     15\u001b[0m             \u001b[0;32mcontinue\u001b[0m\u001b[0;34m\u001b[0m\u001b[0;34m\u001b[0m\u001b[0m\n",
      "\u001b[0;32m/var/folders/zc/sfqmd6b941sgfj47z2nn_gnh0000gn/T/ipykernel_78887/3367311559.py\u001b[0m in \u001b[0;36mexplore_moves\u001b[0;34m(rooms, hallway, doors, max_cost)\u001b[0m\n\u001b[1;32m     11\u001b[0m         \u001b[0;32mif\u001b[0m \u001b[0mgame_stalled\u001b[0m\u001b[0;34m(\u001b[0m\u001b[0mnew_rooms\u001b[0m\u001b[0;34m,\u001b[0m \u001b[0mnew_hallway\u001b[0m\u001b[0;34m,\u001b[0m \u001b[0mdoors\u001b[0m\u001b[0;34m)\u001b[0m \u001b[0;32mand\u001b[0m \u001b[0;32mnot\u001b[0m \u001b[0mgame_finished\u001b[0m\u001b[0;34m(\u001b[0m\u001b[0mnew_rooms\u001b[0m\u001b[0;34m,\u001b[0m \u001b[0mnew_hallway\u001b[0m\u001b[0;34m,\u001b[0m \u001b[0mdoors\u001b[0m\u001b[0;34m)\u001b[0m\u001b[0;34m:\u001b[0m\u001b[0;34m\u001b[0m\u001b[0;34m\u001b[0m\u001b[0m\n\u001b[1;32m     12\u001b[0m             \u001b[0;32mcontinue\u001b[0m\u001b[0;34m\u001b[0m\u001b[0;34m\u001b[0m\u001b[0m\n\u001b[0;32m---> 13\u001b[0;31m         \u001b[0mresulting_cost\u001b[0m \u001b[0;34m=\u001b[0m \u001b[0mexplore_moves\u001b[0m\u001b[0;34m(\u001b[0m\u001b[0mnew_rooms\u001b[0m\u001b[0;34m,\u001b[0m \u001b[0mnew_hallway\u001b[0m\u001b[0;34m,\u001b[0m \u001b[0mdoors\u001b[0m\u001b[0;34m,\u001b[0m \u001b[0mmin_cost\u001b[0m\u001b[0;34m)\u001b[0m\u001b[0;34m\u001b[0m\u001b[0;34m\u001b[0m\u001b[0m\n\u001b[0m\u001b[1;32m     14\u001b[0m         \u001b[0;32mif\u001b[0m \u001b[0mresulting_cost\u001b[0m \u001b[0;34m==\u001b[0m \u001b[0;34m-\u001b[0m\u001b[0;36m1\u001b[0m\u001b[0;34m:\u001b[0m\u001b[0;34m\u001b[0m\u001b[0;34m\u001b[0m\u001b[0m\n\u001b[1;32m     15\u001b[0m             \u001b[0;32mcontinue\u001b[0m\u001b[0;34m\u001b[0m\u001b[0;34m\u001b[0m\u001b[0m\n",
      "\u001b[0;32m/var/folders/zc/sfqmd6b941sgfj47z2nn_gnh0000gn/T/ipykernel_78887/3367311559.py\u001b[0m in \u001b[0;36mexplore_moves\u001b[0;34m(rooms, hallway, doors, max_cost)\u001b[0m\n\u001b[1;32m     11\u001b[0m         \u001b[0;32mif\u001b[0m \u001b[0mgame_stalled\u001b[0m\u001b[0;34m(\u001b[0m\u001b[0mnew_rooms\u001b[0m\u001b[0;34m,\u001b[0m \u001b[0mnew_hallway\u001b[0m\u001b[0;34m,\u001b[0m \u001b[0mdoors\u001b[0m\u001b[0;34m)\u001b[0m \u001b[0;32mand\u001b[0m \u001b[0;32mnot\u001b[0m \u001b[0mgame_finished\u001b[0m\u001b[0;34m(\u001b[0m\u001b[0mnew_rooms\u001b[0m\u001b[0;34m,\u001b[0m \u001b[0mnew_hallway\u001b[0m\u001b[0;34m,\u001b[0m \u001b[0mdoors\u001b[0m\u001b[0;34m)\u001b[0m\u001b[0;34m:\u001b[0m\u001b[0;34m\u001b[0m\u001b[0;34m\u001b[0m\u001b[0m\n\u001b[1;32m     12\u001b[0m             \u001b[0;32mcontinue\u001b[0m\u001b[0;34m\u001b[0m\u001b[0;34m\u001b[0m\u001b[0m\n\u001b[0;32m---> 13\u001b[0;31m         \u001b[0mresulting_cost\u001b[0m \u001b[0;34m=\u001b[0m \u001b[0mexplore_moves\u001b[0m\u001b[0;34m(\u001b[0m\u001b[0mnew_rooms\u001b[0m\u001b[0;34m,\u001b[0m \u001b[0mnew_hallway\u001b[0m\u001b[0;34m,\u001b[0m \u001b[0mdoors\u001b[0m\u001b[0;34m,\u001b[0m \u001b[0mmin_cost\u001b[0m\u001b[0;34m)\u001b[0m\u001b[0;34m\u001b[0m\u001b[0;34m\u001b[0m\u001b[0m\n\u001b[0m\u001b[1;32m     14\u001b[0m         \u001b[0;32mif\u001b[0m \u001b[0mresulting_cost\u001b[0m \u001b[0;34m==\u001b[0m \u001b[0;34m-\u001b[0m\u001b[0;36m1\u001b[0m\u001b[0;34m:\u001b[0m\u001b[0;34m\u001b[0m\u001b[0;34m\u001b[0m\u001b[0m\n\u001b[1;32m     15\u001b[0m             \u001b[0;32mcontinue\u001b[0m\u001b[0;34m\u001b[0m\u001b[0;34m\u001b[0m\u001b[0m\n",
      "\u001b[0;32m/var/folders/zc/sfqmd6b941sgfj47z2nn_gnh0000gn/T/ipykernel_78887/3367311559.py\u001b[0m in \u001b[0;36mexplore_moves\u001b[0;34m(rooms, hallway, doors, max_cost)\u001b[0m\n\u001b[1;32m     11\u001b[0m         \u001b[0;32mif\u001b[0m \u001b[0mgame_stalled\u001b[0m\u001b[0;34m(\u001b[0m\u001b[0mnew_rooms\u001b[0m\u001b[0;34m,\u001b[0m \u001b[0mnew_hallway\u001b[0m\u001b[0;34m,\u001b[0m \u001b[0mdoors\u001b[0m\u001b[0;34m)\u001b[0m \u001b[0;32mand\u001b[0m \u001b[0;32mnot\u001b[0m \u001b[0mgame_finished\u001b[0m\u001b[0;34m(\u001b[0m\u001b[0mnew_rooms\u001b[0m\u001b[0;34m,\u001b[0m \u001b[0mnew_hallway\u001b[0m\u001b[0;34m,\u001b[0m \u001b[0mdoors\u001b[0m\u001b[0;34m)\u001b[0m\u001b[0;34m:\u001b[0m\u001b[0;34m\u001b[0m\u001b[0;34m\u001b[0m\u001b[0m\n\u001b[1;32m     12\u001b[0m             \u001b[0;32mcontinue\u001b[0m\u001b[0;34m\u001b[0m\u001b[0;34m\u001b[0m\u001b[0m\n\u001b[0;32m---> 13\u001b[0;31m         \u001b[0mresulting_cost\u001b[0m \u001b[0;34m=\u001b[0m \u001b[0mexplore_moves\u001b[0m\u001b[0;34m(\u001b[0m\u001b[0mnew_rooms\u001b[0m\u001b[0;34m,\u001b[0m \u001b[0mnew_hallway\u001b[0m\u001b[0;34m,\u001b[0m \u001b[0mdoors\u001b[0m\u001b[0;34m,\u001b[0m \u001b[0mmin_cost\u001b[0m\u001b[0;34m)\u001b[0m\u001b[0;34m\u001b[0m\u001b[0;34m\u001b[0m\u001b[0m\n\u001b[0m\u001b[1;32m     14\u001b[0m         \u001b[0;32mif\u001b[0m \u001b[0mresulting_cost\u001b[0m \u001b[0;34m==\u001b[0m \u001b[0;34m-\u001b[0m\u001b[0;36m1\u001b[0m\u001b[0;34m:\u001b[0m\u001b[0;34m\u001b[0m\u001b[0;34m\u001b[0m\u001b[0m\n\u001b[1;32m     15\u001b[0m             \u001b[0;32mcontinue\u001b[0m\u001b[0;34m\u001b[0m\u001b[0;34m\u001b[0m\u001b[0m\n",
      "\u001b[0;32m/var/folders/zc/sfqmd6b941sgfj47z2nn_gnh0000gn/T/ipykernel_78887/3367311559.py\u001b[0m in \u001b[0;36mexplore_moves\u001b[0;34m(rooms, hallway, doors, max_cost)\u001b[0m\n\u001b[1;32m     11\u001b[0m         \u001b[0;32mif\u001b[0m \u001b[0mgame_stalled\u001b[0m\u001b[0;34m(\u001b[0m\u001b[0mnew_rooms\u001b[0m\u001b[0;34m,\u001b[0m \u001b[0mnew_hallway\u001b[0m\u001b[0;34m,\u001b[0m \u001b[0mdoors\u001b[0m\u001b[0;34m)\u001b[0m \u001b[0;32mand\u001b[0m \u001b[0;32mnot\u001b[0m \u001b[0mgame_finished\u001b[0m\u001b[0;34m(\u001b[0m\u001b[0mnew_rooms\u001b[0m\u001b[0;34m,\u001b[0m \u001b[0mnew_hallway\u001b[0m\u001b[0;34m,\u001b[0m \u001b[0mdoors\u001b[0m\u001b[0;34m)\u001b[0m\u001b[0;34m:\u001b[0m\u001b[0;34m\u001b[0m\u001b[0;34m\u001b[0m\u001b[0m\n\u001b[1;32m     12\u001b[0m             \u001b[0;32mcontinue\u001b[0m\u001b[0;34m\u001b[0m\u001b[0;34m\u001b[0m\u001b[0m\n\u001b[0;32m---> 13\u001b[0;31m         \u001b[0mresulting_cost\u001b[0m \u001b[0;34m=\u001b[0m \u001b[0mexplore_moves\u001b[0m\u001b[0;34m(\u001b[0m\u001b[0mnew_rooms\u001b[0m\u001b[0;34m,\u001b[0m \u001b[0mnew_hallway\u001b[0m\u001b[0;34m,\u001b[0m \u001b[0mdoors\u001b[0m\u001b[0;34m,\u001b[0m \u001b[0mmin_cost\u001b[0m\u001b[0;34m)\u001b[0m\u001b[0;34m\u001b[0m\u001b[0;34m\u001b[0m\u001b[0m\n\u001b[0m\u001b[1;32m     14\u001b[0m         \u001b[0;32mif\u001b[0m \u001b[0mresulting_cost\u001b[0m \u001b[0;34m==\u001b[0m \u001b[0;34m-\u001b[0m\u001b[0;36m1\u001b[0m\u001b[0;34m:\u001b[0m\u001b[0;34m\u001b[0m\u001b[0;34m\u001b[0m\u001b[0m\n\u001b[1;32m     15\u001b[0m             \u001b[0;32mcontinue\u001b[0m\u001b[0;34m\u001b[0m\u001b[0;34m\u001b[0m\u001b[0m\n",
      "\u001b[0;32m/var/folders/zc/sfqmd6b941sgfj47z2nn_gnh0000gn/T/ipykernel_78887/3367311559.py\u001b[0m in \u001b[0;36mexplore_moves\u001b[0;34m(rooms, hallway, doors, max_cost)\u001b[0m\n\u001b[1;32m     11\u001b[0m         \u001b[0;32mif\u001b[0m \u001b[0mgame_stalled\u001b[0m\u001b[0;34m(\u001b[0m\u001b[0mnew_rooms\u001b[0m\u001b[0;34m,\u001b[0m \u001b[0mnew_hallway\u001b[0m\u001b[0;34m,\u001b[0m \u001b[0mdoors\u001b[0m\u001b[0;34m)\u001b[0m \u001b[0;32mand\u001b[0m \u001b[0;32mnot\u001b[0m \u001b[0mgame_finished\u001b[0m\u001b[0;34m(\u001b[0m\u001b[0mnew_rooms\u001b[0m\u001b[0;34m,\u001b[0m \u001b[0mnew_hallway\u001b[0m\u001b[0;34m,\u001b[0m \u001b[0mdoors\u001b[0m\u001b[0;34m)\u001b[0m\u001b[0;34m:\u001b[0m\u001b[0;34m\u001b[0m\u001b[0;34m\u001b[0m\u001b[0m\n\u001b[1;32m     12\u001b[0m             \u001b[0;32mcontinue\u001b[0m\u001b[0;34m\u001b[0m\u001b[0;34m\u001b[0m\u001b[0m\n\u001b[0;32m---> 13\u001b[0;31m         \u001b[0mresulting_cost\u001b[0m \u001b[0;34m=\u001b[0m \u001b[0mexplore_moves\u001b[0m\u001b[0;34m(\u001b[0m\u001b[0mnew_rooms\u001b[0m\u001b[0;34m,\u001b[0m \u001b[0mnew_hallway\u001b[0m\u001b[0;34m,\u001b[0m \u001b[0mdoors\u001b[0m\u001b[0;34m,\u001b[0m \u001b[0mmin_cost\u001b[0m\u001b[0;34m)\u001b[0m\u001b[0;34m\u001b[0m\u001b[0;34m\u001b[0m\u001b[0m\n\u001b[0m\u001b[1;32m     14\u001b[0m         \u001b[0;32mif\u001b[0m \u001b[0mresulting_cost\u001b[0m \u001b[0;34m==\u001b[0m \u001b[0;34m-\u001b[0m\u001b[0;36m1\u001b[0m\u001b[0;34m:\u001b[0m\u001b[0;34m\u001b[0m\u001b[0;34m\u001b[0m\u001b[0m\n\u001b[1;32m     15\u001b[0m             \u001b[0;32mcontinue\u001b[0m\u001b[0;34m\u001b[0m\u001b[0;34m\u001b[0m\u001b[0m\n",
      "\u001b[0;32m/var/folders/zc/sfqmd6b941sgfj47z2nn_gnh0000gn/T/ipykernel_78887/3367311559.py\u001b[0m in \u001b[0;36mexplore_moves\u001b[0;34m(rooms, hallway, doors, max_cost)\u001b[0m\n\u001b[1;32m     11\u001b[0m         \u001b[0;32mif\u001b[0m \u001b[0mgame_stalled\u001b[0m\u001b[0;34m(\u001b[0m\u001b[0mnew_rooms\u001b[0m\u001b[0;34m,\u001b[0m \u001b[0mnew_hallway\u001b[0m\u001b[0;34m,\u001b[0m \u001b[0mdoors\u001b[0m\u001b[0;34m)\u001b[0m \u001b[0;32mand\u001b[0m \u001b[0;32mnot\u001b[0m \u001b[0mgame_finished\u001b[0m\u001b[0;34m(\u001b[0m\u001b[0mnew_rooms\u001b[0m\u001b[0;34m,\u001b[0m \u001b[0mnew_hallway\u001b[0m\u001b[0;34m,\u001b[0m \u001b[0mdoors\u001b[0m\u001b[0;34m)\u001b[0m\u001b[0;34m:\u001b[0m\u001b[0;34m\u001b[0m\u001b[0;34m\u001b[0m\u001b[0m\n\u001b[1;32m     12\u001b[0m             \u001b[0;32mcontinue\u001b[0m\u001b[0;34m\u001b[0m\u001b[0;34m\u001b[0m\u001b[0m\n\u001b[0;32m---> 13\u001b[0;31m         \u001b[0mresulting_cost\u001b[0m \u001b[0;34m=\u001b[0m \u001b[0mexplore_moves\u001b[0m\u001b[0;34m(\u001b[0m\u001b[0mnew_rooms\u001b[0m\u001b[0;34m,\u001b[0m \u001b[0mnew_hallway\u001b[0m\u001b[0;34m,\u001b[0m \u001b[0mdoors\u001b[0m\u001b[0;34m,\u001b[0m \u001b[0mmin_cost\u001b[0m\u001b[0;34m)\u001b[0m\u001b[0;34m\u001b[0m\u001b[0;34m\u001b[0m\u001b[0m\n\u001b[0m\u001b[1;32m     14\u001b[0m         \u001b[0;32mif\u001b[0m \u001b[0mresulting_cost\u001b[0m \u001b[0;34m==\u001b[0m \u001b[0;34m-\u001b[0m\u001b[0;36m1\u001b[0m\u001b[0;34m:\u001b[0m\u001b[0;34m\u001b[0m\u001b[0;34m\u001b[0m\u001b[0m\n\u001b[1;32m     15\u001b[0m             \u001b[0;32mcontinue\u001b[0m\u001b[0;34m\u001b[0m\u001b[0;34m\u001b[0m\u001b[0m\n",
      "\u001b[0;32m/var/folders/zc/sfqmd6b941sgfj47z2nn_gnh0000gn/T/ipykernel_78887/3367311559.py\u001b[0m in \u001b[0;36mexplore_moves\u001b[0;34m(rooms, hallway, doors, max_cost)\u001b[0m\n\u001b[1;32m     11\u001b[0m         \u001b[0;32mif\u001b[0m \u001b[0mgame_stalled\u001b[0m\u001b[0;34m(\u001b[0m\u001b[0mnew_rooms\u001b[0m\u001b[0;34m,\u001b[0m \u001b[0mnew_hallway\u001b[0m\u001b[0;34m,\u001b[0m \u001b[0mdoors\u001b[0m\u001b[0;34m)\u001b[0m \u001b[0;32mand\u001b[0m \u001b[0;32mnot\u001b[0m \u001b[0mgame_finished\u001b[0m\u001b[0;34m(\u001b[0m\u001b[0mnew_rooms\u001b[0m\u001b[0;34m,\u001b[0m \u001b[0mnew_hallway\u001b[0m\u001b[0;34m,\u001b[0m \u001b[0mdoors\u001b[0m\u001b[0;34m)\u001b[0m\u001b[0;34m:\u001b[0m\u001b[0;34m\u001b[0m\u001b[0;34m\u001b[0m\u001b[0m\n\u001b[1;32m     12\u001b[0m             \u001b[0;32mcontinue\u001b[0m\u001b[0;34m\u001b[0m\u001b[0;34m\u001b[0m\u001b[0m\n\u001b[0;32m---> 13\u001b[0;31m         \u001b[0mresulting_cost\u001b[0m \u001b[0;34m=\u001b[0m \u001b[0mexplore_moves\u001b[0m\u001b[0;34m(\u001b[0m\u001b[0mnew_rooms\u001b[0m\u001b[0;34m,\u001b[0m \u001b[0mnew_hallway\u001b[0m\u001b[0;34m,\u001b[0m \u001b[0mdoors\u001b[0m\u001b[0;34m,\u001b[0m \u001b[0mmin_cost\u001b[0m\u001b[0;34m)\u001b[0m\u001b[0;34m\u001b[0m\u001b[0;34m\u001b[0m\u001b[0m\n\u001b[0m\u001b[1;32m     14\u001b[0m         \u001b[0;32mif\u001b[0m \u001b[0mresulting_cost\u001b[0m \u001b[0;34m==\u001b[0m \u001b[0;34m-\u001b[0m\u001b[0;36m1\u001b[0m\u001b[0;34m:\u001b[0m\u001b[0;34m\u001b[0m\u001b[0;34m\u001b[0m\u001b[0m\n\u001b[1;32m     15\u001b[0m             \u001b[0;32mcontinue\u001b[0m\u001b[0;34m\u001b[0m\u001b[0;34m\u001b[0m\u001b[0m\n",
      "\u001b[0;32m/var/folders/zc/sfqmd6b941sgfj47z2nn_gnh0000gn/T/ipykernel_78887/3367311559.py\u001b[0m in \u001b[0;36mexplore_moves\u001b[0;34m(rooms, hallway, doors, max_cost)\u001b[0m\n\u001b[1;32m     11\u001b[0m         \u001b[0;32mif\u001b[0m \u001b[0mgame_stalled\u001b[0m\u001b[0;34m(\u001b[0m\u001b[0mnew_rooms\u001b[0m\u001b[0;34m,\u001b[0m \u001b[0mnew_hallway\u001b[0m\u001b[0;34m,\u001b[0m \u001b[0mdoors\u001b[0m\u001b[0;34m)\u001b[0m \u001b[0;32mand\u001b[0m \u001b[0;32mnot\u001b[0m \u001b[0mgame_finished\u001b[0m\u001b[0;34m(\u001b[0m\u001b[0mnew_rooms\u001b[0m\u001b[0;34m,\u001b[0m \u001b[0mnew_hallway\u001b[0m\u001b[0;34m,\u001b[0m \u001b[0mdoors\u001b[0m\u001b[0;34m)\u001b[0m\u001b[0;34m:\u001b[0m\u001b[0;34m\u001b[0m\u001b[0;34m\u001b[0m\u001b[0m\n\u001b[1;32m     12\u001b[0m             \u001b[0;32mcontinue\u001b[0m\u001b[0;34m\u001b[0m\u001b[0;34m\u001b[0m\u001b[0m\n\u001b[0;32m---> 13\u001b[0;31m         \u001b[0mresulting_cost\u001b[0m \u001b[0;34m=\u001b[0m \u001b[0mexplore_moves\u001b[0m\u001b[0;34m(\u001b[0m\u001b[0mnew_rooms\u001b[0m\u001b[0;34m,\u001b[0m \u001b[0mnew_hallway\u001b[0m\u001b[0;34m,\u001b[0m \u001b[0mdoors\u001b[0m\u001b[0;34m,\u001b[0m \u001b[0mmin_cost\u001b[0m\u001b[0;34m)\u001b[0m\u001b[0;34m\u001b[0m\u001b[0;34m\u001b[0m\u001b[0m\n\u001b[0m\u001b[1;32m     14\u001b[0m         \u001b[0;32mif\u001b[0m \u001b[0mresulting_cost\u001b[0m \u001b[0;34m==\u001b[0m \u001b[0;34m-\u001b[0m\u001b[0;36m1\u001b[0m\u001b[0;34m:\u001b[0m\u001b[0;34m\u001b[0m\u001b[0;34m\u001b[0m\u001b[0m\n\u001b[1;32m     15\u001b[0m             \u001b[0;32mcontinue\u001b[0m\u001b[0;34m\u001b[0m\u001b[0;34m\u001b[0m\u001b[0m\n",
      "\u001b[0;32m/var/folders/zc/sfqmd6b941sgfj47z2nn_gnh0000gn/T/ipykernel_78887/3367311559.py\u001b[0m in \u001b[0;36mexplore_moves\u001b[0;34m(rooms, hallway, doors, max_cost)\u001b[0m\n\u001b[1;32m     11\u001b[0m         \u001b[0;32mif\u001b[0m \u001b[0mgame_stalled\u001b[0m\u001b[0;34m(\u001b[0m\u001b[0mnew_rooms\u001b[0m\u001b[0;34m,\u001b[0m \u001b[0mnew_hallway\u001b[0m\u001b[0;34m,\u001b[0m \u001b[0mdoors\u001b[0m\u001b[0;34m)\u001b[0m \u001b[0;32mand\u001b[0m \u001b[0;32mnot\u001b[0m \u001b[0mgame_finished\u001b[0m\u001b[0;34m(\u001b[0m\u001b[0mnew_rooms\u001b[0m\u001b[0;34m,\u001b[0m \u001b[0mnew_hallway\u001b[0m\u001b[0;34m,\u001b[0m \u001b[0mdoors\u001b[0m\u001b[0;34m)\u001b[0m\u001b[0;34m:\u001b[0m\u001b[0;34m\u001b[0m\u001b[0;34m\u001b[0m\u001b[0m\n\u001b[1;32m     12\u001b[0m             \u001b[0;32mcontinue\u001b[0m\u001b[0;34m\u001b[0m\u001b[0;34m\u001b[0m\u001b[0m\n\u001b[0;32m---> 13\u001b[0;31m         \u001b[0mresulting_cost\u001b[0m \u001b[0;34m=\u001b[0m \u001b[0mexplore_moves\u001b[0m\u001b[0;34m(\u001b[0m\u001b[0mnew_rooms\u001b[0m\u001b[0;34m,\u001b[0m \u001b[0mnew_hallway\u001b[0m\u001b[0;34m,\u001b[0m \u001b[0mdoors\u001b[0m\u001b[0;34m,\u001b[0m \u001b[0mmin_cost\u001b[0m\u001b[0;34m)\u001b[0m\u001b[0;34m\u001b[0m\u001b[0;34m\u001b[0m\u001b[0m\n\u001b[0m\u001b[1;32m     14\u001b[0m         \u001b[0;32mif\u001b[0m \u001b[0mresulting_cost\u001b[0m \u001b[0;34m==\u001b[0m \u001b[0;34m-\u001b[0m\u001b[0;36m1\u001b[0m\u001b[0;34m:\u001b[0m\u001b[0;34m\u001b[0m\u001b[0;34m\u001b[0m\u001b[0m\n\u001b[1;32m     15\u001b[0m             \u001b[0;32mcontinue\u001b[0m\u001b[0;34m\u001b[0m\u001b[0;34m\u001b[0m\u001b[0m\n",
      "\u001b[0;32m/var/folders/zc/sfqmd6b941sgfj47z2nn_gnh0000gn/T/ipykernel_78887/3367311559.py\u001b[0m in \u001b[0;36mexplore_moves\u001b[0;34m(rooms, hallway, doors, max_cost)\u001b[0m\n\u001b[1;32m      9\u001b[0m             \u001b[0;32mcontinue\u001b[0m\u001b[0;34m\u001b[0m\u001b[0;34m\u001b[0m\u001b[0m\n\u001b[1;32m     10\u001b[0m         \u001b[0mnew_rooms\u001b[0m\u001b[0;34m,\u001b[0m \u001b[0mnew_hallway\u001b[0m \u001b[0;34m=\u001b[0m \u001b[0mdo_move\u001b[0m\u001b[0;34m(\u001b[0m\u001b[0mpiece\u001b[0m\u001b[0;34m,\u001b[0m \u001b[0;34m(\u001b[0m\u001b[0mma\u001b[0m\u001b[0;34m,\u001b[0m \u001b[0mmb\u001b[0m\u001b[0;34m)\u001b[0m\u001b[0;34m,\u001b[0m \u001b[0mrooms\u001b[0m\u001b[0;34m,\u001b[0m \u001b[0mhallway\u001b[0m\u001b[0;34m)\u001b[0m\u001b[0;34m\u001b[0m\u001b[0;34m\u001b[0m\u001b[0m\n\u001b[0;32m---> 11\u001b[0;31m         \u001b[0;32mif\u001b[0m \u001b[0mgame_stalled\u001b[0m\u001b[0;34m(\u001b[0m\u001b[0mnew_rooms\u001b[0m\u001b[0;34m,\u001b[0m \u001b[0mnew_hallway\u001b[0m\u001b[0;34m,\u001b[0m \u001b[0mdoors\u001b[0m\u001b[0;34m)\u001b[0m \u001b[0;32mand\u001b[0m \u001b[0;32mnot\u001b[0m \u001b[0mgame_finished\u001b[0m\u001b[0;34m(\u001b[0m\u001b[0mnew_rooms\u001b[0m\u001b[0;34m,\u001b[0m \u001b[0mnew_hallway\u001b[0m\u001b[0;34m,\u001b[0m \u001b[0mdoors\u001b[0m\u001b[0;34m)\u001b[0m\u001b[0;34m:\u001b[0m\u001b[0;34m\u001b[0m\u001b[0;34m\u001b[0m\u001b[0m\n\u001b[0m\u001b[1;32m     12\u001b[0m             \u001b[0;32mcontinue\u001b[0m\u001b[0;34m\u001b[0m\u001b[0;34m\u001b[0m\u001b[0m\n\u001b[1;32m     13\u001b[0m         \u001b[0mresulting_cost\u001b[0m \u001b[0;34m=\u001b[0m \u001b[0mexplore_moves\u001b[0m\u001b[0;34m(\u001b[0m\u001b[0mnew_rooms\u001b[0m\u001b[0;34m,\u001b[0m \u001b[0mnew_hallway\u001b[0m\u001b[0;34m,\u001b[0m \u001b[0mdoors\u001b[0m\u001b[0;34m,\u001b[0m \u001b[0mmin_cost\u001b[0m\u001b[0;34m)\u001b[0m\u001b[0;34m\u001b[0m\u001b[0;34m\u001b[0m\u001b[0m\n",
      "\u001b[0;32m/var/folders/zc/sfqmd6b941sgfj47z2nn_gnh0000gn/T/ipykernel_78887/4070735618.py\u001b[0m in \u001b[0;36mgame_finished\u001b[0;34m(rooms, hallway, doors)\u001b[0m\n\u001b[1;32m      1\u001b[0m \u001b[0;32mdef\u001b[0m \u001b[0mgame_finished\u001b[0m\u001b[0;34m(\u001b[0m\u001b[0mrooms\u001b[0m\u001b[0;34m,\u001b[0m \u001b[0mhallway\u001b[0m\u001b[0;34m,\u001b[0m \u001b[0mdoors\u001b[0m\u001b[0;34m)\u001b[0m\u001b[0;34m:\u001b[0m\u001b[0;34m\u001b[0m\u001b[0;34m\u001b[0m\u001b[0m\n\u001b[0;32m----> 2\u001b[0;31m     \u001b[0;32mif\u001b[0m \u001b[0msum\u001b[0m\u001b[0;34m(\u001b[0m\u001b[0mh\u001b[0m \u001b[0;32mis\u001b[0m \u001b[0;32mnot\u001b[0m \u001b[0;32mNone\u001b[0m \u001b[0;32mfor\u001b[0m \u001b[0mh\u001b[0m \u001b[0;32min\u001b[0m \u001b[0mhallway\u001b[0m\u001b[0;34m)\u001b[0m \u001b[0;34m==\u001b[0m \u001b[0;36m0\u001b[0m\u001b[0;34m:\u001b[0m\u001b[0;34m\u001b[0m\u001b[0;34m\u001b[0m\u001b[0m\n\u001b[0m\u001b[1;32m      3\u001b[0m         \u001b[0mwrong_room\u001b[0m \u001b[0;34m=\u001b[0m \u001b[0;32mFalse\u001b[0m\u001b[0;34m\u001b[0m\u001b[0;34m\u001b[0m\u001b[0m\n\u001b[1;32m      4\u001b[0m         \u001b[0;32mfor\u001b[0m \u001b[0mpiece\u001b[0m\u001b[0;34m,\u001b[0m \u001b[0mi\u001b[0m \u001b[0;32min\u001b[0m \u001b[0mhome_rooms\u001b[0m\u001b[0;34m.\u001b[0m\u001b[0mitems\u001b[0m\u001b[0;34m(\u001b[0m\u001b[0;34m)\u001b[0m\u001b[0;34m:\u001b[0m\u001b[0;34m\u001b[0m\u001b[0;34m\u001b[0m\u001b[0m\n\u001b[1;32m      5\u001b[0m             \u001b[0;32mif\u001b[0m \u001b[0mrooms\u001b[0m\u001b[0;34m[\u001b[0m\u001b[0mi\u001b[0m\u001b[0;34m]\u001b[0m\u001b[0;34m[\u001b[0m\u001b[0;36m0\u001b[0m\u001b[0;34m]\u001b[0m\u001b[0;34m[\u001b[0m\u001b[0;36m0\u001b[0m\u001b[0;34m]\u001b[0m \u001b[0;34m!=\u001b[0m \u001b[0mpiece\u001b[0m \u001b[0;32mor\u001b[0m \u001b[0mrooms\u001b[0m\u001b[0;34m[\u001b[0m\u001b[0mi\u001b[0m\u001b[0;34m]\u001b[0m\u001b[0;34m[\u001b[0m\u001b[0;36m1\u001b[0m\u001b[0;34m]\u001b[0m\u001b[0;34m[\u001b[0m\u001b[0;36m0\u001b[0m\u001b[0;34m]\u001b[0m \u001b[0;34m!=\u001b[0m \u001b[0mpiece\u001b[0m\u001b[0;34m:\u001b[0m\u001b[0;34m\u001b[0m\u001b[0;34m\u001b[0m\u001b[0m\n",
      "\u001b[0;32m/var/folders/zc/sfqmd6b941sgfj47z2nn_gnh0000gn/T/ipykernel_78887/4070735618.py\u001b[0m in \u001b[0;36m<genexpr>\u001b[0;34m(.0)\u001b[0m\n\u001b[1;32m      1\u001b[0m \u001b[0;32mdef\u001b[0m \u001b[0mgame_finished\u001b[0m\u001b[0;34m(\u001b[0m\u001b[0mrooms\u001b[0m\u001b[0;34m,\u001b[0m \u001b[0mhallway\u001b[0m\u001b[0;34m,\u001b[0m \u001b[0mdoors\u001b[0m\u001b[0;34m)\u001b[0m\u001b[0;34m:\u001b[0m\u001b[0;34m\u001b[0m\u001b[0;34m\u001b[0m\u001b[0m\n\u001b[0;32m----> 2\u001b[0;31m     \u001b[0;32mif\u001b[0m \u001b[0msum\u001b[0m\u001b[0;34m(\u001b[0m\u001b[0mh\u001b[0m \u001b[0;32mis\u001b[0m \u001b[0;32mnot\u001b[0m \u001b[0;32mNone\u001b[0m \u001b[0;32mfor\u001b[0m \u001b[0mh\u001b[0m \u001b[0;32min\u001b[0m \u001b[0mhallway\u001b[0m\u001b[0;34m)\u001b[0m \u001b[0;34m==\u001b[0m \u001b[0;36m0\u001b[0m\u001b[0;34m:\u001b[0m\u001b[0;34m\u001b[0m\u001b[0;34m\u001b[0m\u001b[0m\n\u001b[0m\u001b[1;32m      3\u001b[0m         \u001b[0mwrong_room\u001b[0m \u001b[0;34m=\u001b[0m \u001b[0;32mFalse\u001b[0m\u001b[0;34m\u001b[0m\u001b[0;34m\u001b[0m\u001b[0m\n\u001b[1;32m      4\u001b[0m         \u001b[0;32mfor\u001b[0m \u001b[0mpiece\u001b[0m\u001b[0;34m,\u001b[0m \u001b[0mi\u001b[0m \u001b[0;32min\u001b[0m \u001b[0mhome_rooms\u001b[0m\u001b[0;34m.\u001b[0m\u001b[0mitems\u001b[0m\u001b[0;34m(\u001b[0m\u001b[0;34m)\u001b[0m\u001b[0;34m:\u001b[0m\u001b[0;34m\u001b[0m\u001b[0;34m\u001b[0m\u001b[0m\n\u001b[1;32m      5\u001b[0m             \u001b[0;32mif\u001b[0m \u001b[0mrooms\u001b[0m\u001b[0;34m[\u001b[0m\u001b[0mi\u001b[0m\u001b[0;34m]\u001b[0m\u001b[0;34m[\u001b[0m\u001b[0;36m0\u001b[0m\u001b[0;34m]\u001b[0m\u001b[0;34m[\u001b[0m\u001b[0;36m0\u001b[0m\u001b[0;34m]\u001b[0m \u001b[0;34m!=\u001b[0m \u001b[0mpiece\u001b[0m \u001b[0;32mor\u001b[0m \u001b[0mrooms\u001b[0m\u001b[0;34m[\u001b[0m\u001b[0mi\u001b[0m\u001b[0;34m]\u001b[0m\u001b[0;34m[\u001b[0m\u001b[0;36m1\u001b[0m\u001b[0;34m]\u001b[0m\u001b[0;34m[\u001b[0m\u001b[0;36m0\u001b[0m\u001b[0;34m]\u001b[0m \u001b[0;34m!=\u001b[0m \u001b[0mpiece\u001b[0m\u001b[0;34m:\u001b[0m\u001b[0;34m\u001b[0m\u001b[0;34m\u001b[0m\u001b[0m\n",
      "\u001b[0;31mKeyboardInterrupt\u001b[0m: "
     ]
    }
   ],
   "source": [
    "explore_moves(rooms, hallway, doors, 1e100)"
   ]
  },
  {
   "cell_type": "code",
   "execution_count": null,
   "id": "68c3501b",
   "metadata": {},
   "outputs": [],
   "source": []
  },
  {
   "cell_type": "markdown",
   "id": "4c78af75",
   "metadata": {},
   "source": [
    "## Part 2"
   ]
  },
  {
   "cell_type": "code",
   "execution_count": null,
   "id": "13f343d5",
   "metadata": {},
   "outputs": [],
   "source": []
  },
  {
   "cell_type": "code",
   "execution_count": null,
   "id": "546f4830",
   "metadata": {},
   "outputs": [],
   "source": []
  },
  {
   "cell_type": "code",
   "execution_count": null,
   "id": "2a17bbe0",
   "metadata": {},
   "outputs": [],
   "source": []
  }
 ],
 "metadata": {
  "kernelspec": {
   "display_name": "Python 3 (ipykernel)",
   "language": "python",
   "name": "python3"
  },
  "language_info": {
   "codemirror_mode": {
    "name": "ipython",
    "version": 3
   },
   "file_extension": ".py",
   "mimetype": "text/x-python",
   "name": "python",
   "nbconvert_exporter": "python",
   "pygments_lexer": "ipython3",
   "version": "3.9.9"
  }
 },
 "nbformat": 4,
 "nbformat_minor": 5
}
