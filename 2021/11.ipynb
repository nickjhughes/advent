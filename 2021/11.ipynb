{
 "cells": [
  {
   "cell_type": "code",
   "execution_count": 1,
   "id": "f71fe61c",
   "metadata": {},
   "outputs": [],
   "source": [
    "import numpy as np\n",
    "import pandas as pd"
   ]
  },
  {
   "cell_type": "code",
   "execution_count": 56,
   "id": "37066f70",
   "metadata": {},
   "outputs": [],
   "source": [
    "with open('input11', 'r') as f:\n",
    "    lines = [l.strip() for l in f.readlines()]"
   ]
  },
  {
   "cell_type": "markdown",
   "id": "13ae2ad9",
   "metadata": {},
   "source": [
    "## Part 1"
   ]
  },
  {
   "cell_type": "code",
   "execution_count": 49,
   "id": "7474f761",
   "metadata": {},
   "outputs": [],
   "source": [
    "lines = [\n",
    "    '5483143223',\n",
    "    '2745854711',\n",
    "    '5264556173',\n",
    "    '6141336146',\n",
    "    '6357385478',\n",
    "    '4167524645',\n",
    "    '2176841721',\n",
    "    '6882881134',\n",
    "    '4846848554',\n",
    "    '5283751526',\n",
    "]"
   ]
  },
  {
   "cell_type": "code",
   "execution_count": 46,
   "id": "77f857f3",
   "metadata": {},
   "outputs": [
    {
     "name": "stdout",
     "output_type": "stream",
     "text": [
      "1617\n"
     ]
    }
   ],
   "source": [
    "grid = np.zeros((len(lines), len(lines[0])))\n",
    "for i, line in enumerate(lines):\n",
    "    grid[i,:] = [int(v) for v in line]\n",
    "\n",
    "# Step\n",
    "num_flashes = 0\n",
    "for step in range(100):\n",
    "    # 1\n",
    "    grid += 1\n",
    "    # 2\n",
    "    while len(grid[grid > 9]) > 0:\n",
    "        for y in range(grid.shape[0]):\n",
    "            for x in range(grid.shape[1]):\n",
    "                if grid[y, x] > 9:\n",
    "                    grid[y, x] = -100\n",
    "                    if y > 0:\n",
    "                        grid[y-1, x] += 1\n",
    "                        if x > 0:\n",
    "                            grid[y-1, x-1] += 1\n",
    "                        if x < grid.shape[1] - 1:\n",
    "                            grid[y-1, x+1] += 1\n",
    "                    if x > 0:\n",
    "                        grid[y, x-1] += 1\n",
    "                    if x < grid.shape[1] - 1:\n",
    "                        grid[y, x+1] += 1\n",
    "                    if y < grid.shape[0] - 1:\n",
    "                        grid[y+1, x] += 1\n",
    "                        if x > 0:\n",
    "                            grid[y+1, x-1] += 1\n",
    "                        if x < grid.shape[1] - 1:\n",
    "                            grid[y+1, x+1] += 1\n",
    "    # 3\n",
    "    num_flashes += len(grid[grid < 0])\n",
    "    grid[grid < 0] = 0\n",
    "print(num_flashes)"
   ]
  },
  {
   "cell_type": "markdown",
   "id": "4c78af75",
   "metadata": {},
   "source": [
    "## Part 2"
   ]
  },
  {
   "cell_type": "code",
   "execution_count": 57,
   "id": "0633705e",
   "metadata": {},
   "outputs": [
    {
     "name": "stdout",
     "output_type": "stream",
     "text": [
      "258\n"
     ]
    }
   ],
   "source": [
    "grid = np.zeros((len(lines), len(lines[0])))\n",
    "for i, line in enumerate(lines):\n",
    "    grid[i,:] = [int(v) for v in line]\n",
    "\n",
    "# Step\n",
    "for step in range(1000):\n",
    "    # 1\n",
    "    grid += 1\n",
    "    # 2\n",
    "    while len(grid[grid > 9]) > 0:\n",
    "        for y in range(grid.shape[0]):\n",
    "            for x in range(grid.shape[1]):\n",
    "                if grid[y, x] > 9:\n",
    "                    grid[y, x] = -100\n",
    "                    if y > 0:\n",
    "                        grid[y-1, x] += 1\n",
    "                        if x > 0:\n",
    "                            grid[y-1, x-1] += 1\n",
    "                        if x < grid.shape[1] - 1:\n",
    "                            grid[y-1, x+1] += 1\n",
    "                    if x > 0:\n",
    "                        grid[y, x-1] += 1\n",
    "                    if x < grid.shape[1] - 1:\n",
    "                        grid[y, x+1] += 1\n",
    "                    if y < grid.shape[0] - 1:\n",
    "                        grid[y+1, x] += 1\n",
    "                        if x > 0:\n",
    "                            grid[y+1, x-1] += 1\n",
    "                        if x < grid.shape[1] - 1:\n",
    "                            grid[y+1, x+1] += 1\n",
    "    # 3\n",
    "    if len(grid[grid < 0]) == grid.shape[0] * grid.shape[1]:\n",
    "        print(step + 1)\n",
    "        break\n",
    "    grid[grid < 0] = 0"
   ]
  }
 ],
 "metadata": {
  "kernelspec": {
   "display_name": "Python 3 (ipykernel)",
   "language": "python",
   "name": "python3"
  },
  "language_info": {
   "codemirror_mode": {
    "name": "ipython",
    "version": 3
   },
   "file_extension": ".py",
   "mimetype": "text/x-python",
   "name": "python",
   "nbconvert_exporter": "python",
   "pygments_lexer": "ipython3",
   "version": "3.8.0"
  }
 },
 "nbformat": 4,
 "nbformat_minor": 5
}
