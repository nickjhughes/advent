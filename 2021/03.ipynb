{
 "cells": [
  {
   "cell_type": "code",
   "execution_count": 23,
   "id": "ba326e9d",
   "metadata": {},
   "outputs": [],
   "source": [
    "import numpy as np\n",
    "import pandas as pd"
   ]
  },
  {
   "cell_type": "code",
   "execution_count": 46,
   "id": "2755d6d9",
   "metadata": {},
   "outputs": [],
   "source": [
    "with open('input3', 'r') as f:\n",
    "    lines = [l.strip() for l in f.readlines()]"
   ]
  },
  {
   "cell_type": "markdown",
   "id": "1598adbf",
   "metadata": {},
   "source": [
    "## Part 1"
   ]
  },
  {
   "cell_type": "code",
   "execution_count": 25,
   "id": "91d627c1",
   "metadata": {},
   "outputs": [
    {
     "name": "stdout",
     "output_type": "stream",
     "text": [
      "349 3746 1307354\n"
     ]
    }
   ],
   "source": [
    "num_bits = len(lines[0])\n",
    "gamma_bits = []\n",
    "omega_bits = []\n",
    "for i in range(num_bits):\n",
    "    one_prop = sum([int(l[i]) for l in lines]) / len(lines)\n",
    "    if one_prop > 0.5:\n",
    "        gamma_bits.append(1)\n",
    "        omega_bits.append(0)\n",
    "    else:\n",
    "        gamma_bits.append(0)\n",
    "        omega_bits.append(1)\n",
    "gamma = int(''.join(str(b) for b in gamma_bits), 2)\n",
    "omega = int(''.join(str(b) for b in omega_bits), 2)\n",
    "print(gamma, omega, gamma * omega)"
   ]
  },
  {
   "cell_type": "markdown",
   "id": "7847f9ae",
   "metadata": {},
   "source": [
    "## Part 2"
   ]
  },
  {
   "cell_type": "code",
   "execution_count": 45,
   "id": "ed9c59e9",
   "metadata": {},
   "outputs": [
    {
     "name": "stdout",
     "output_type": "stream",
     "text": [
      "125\n"
     ]
    }
   ],
   "source": [
    "num_bits = len(lines[0])\n",
    "for i in range(num_bits):\n",
    "    one_prop = sum([int(l[i]) for l in lines]) / len(lines)\n",
    "    new_lines = [l for l in lines if int(l[i]) == int(one_prop >= 0.5)]\n",
    "    if len(new_lines) == 1:\n",
    "        oxygen = new_lines[0]\n",
    "        break\n",
    "    lines = new_lines\n",
    "print(int(''.join(str(b) for b in oxygen), 2))"
   ]
  },
  {
   "cell_type": "code",
   "execution_count": 47,
   "id": "3bfd3cc2",
   "metadata": {},
   "outputs": [
    {
     "name": "stdout",
     "output_type": "stream",
     "text": [
      "3860\n"
     ]
    }
   ],
   "source": [
    "num_bits = len(lines[0])\n",
    "for i in range(num_bits):\n",
    "    one_prop = sum([int(l[i]) for l in lines]) / len(lines)\n",
    "    new_lines = [l for l in lines if int(l[i]) == int(one_prop < 0.5)]\n",
    "    if len(new_lines) == 1:\n",
    "        oxygen = new_lines[0]\n",
    "        break\n",
    "    lines = new_lines\n",
    "print(int(''.join(str(b) for b in oxygen), 2))"
   ]
  },
  {
   "cell_type": "code",
   "execution_count": 48,
   "id": "6cf01d86",
   "metadata": {},
   "outputs": [
    {
     "data": {
      "text/plain": [
       "482500"
      ]
     },
     "execution_count": 48,
     "metadata": {},
     "output_type": "execute_result"
    }
   ],
   "source": [
    "125 * 3860"
   ]
  }
 ],
 "metadata": {
  "kernelspec": {
   "display_name": "Python 3 (ipykernel)",
   "language": "python",
   "name": "python3"
  },
  "language_info": {
   "codemirror_mode": {
    "name": "ipython",
    "version": 3
   },
   "file_extension": ".py",
   "mimetype": "text/x-python",
   "name": "python",
   "nbconvert_exporter": "python",
   "pygments_lexer": "ipython3",
   "version": "3.8.0"
  }
 },
 "nbformat": 4,
 "nbformat_minor": 5
}
