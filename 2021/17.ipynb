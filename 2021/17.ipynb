{
 "cells": [
  {
   "cell_type": "code",
   "execution_count": 68,
   "id": "f71fe61c",
   "metadata": {},
   "outputs": [],
   "source": [
    "import json\n",
    "import math\n",
    "import os\n",
    "import numpy as np\n",
    "import pandas as pd\n",
    "import matplotlib.pyplot as plt\n",
    "from collections import Counter, defaultdict\n",
    "%matplotlib inline"
   ]
  },
  {
   "cell_type": "code",
   "execution_count": 98,
   "id": "37066f70",
   "metadata": {},
   "outputs": [],
   "source": [
    "with open('input17', 'r') as f:\n",
    "    lines = [l.strip() for l in f.readlines()]\n",
    "line = lines[0]"
   ]
  },
  {
   "cell_type": "markdown",
   "id": "13ae2ad9",
   "metadata": {},
   "source": [
    "## Part 1"
   ]
  },
  {
   "cell_type": "code",
   "execution_count": 91,
   "id": "7474f761",
   "metadata": {},
   "outputs": [],
   "source": [
    "line = 'target area: x=20..30, y=-10..-5'"
   ]
  },
  {
   "cell_type": "code",
   "execution_count": 99,
   "id": "d047d0f4",
   "metadata": {},
   "outputs": [],
   "source": [
    "xrange_str, yrange_str = line[13:].split(', ')\n",
    "xrange = [int(v) for v in xrange_str.split('=')[1].split('..')]\n",
    "yrange = [int(v) for v in yrange_str.split('=')[1].split('..')]"
   ]
  },
  {
   "cell_type": "code",
   "execution_count": 100,
   "id": "00b6a185",
   "metadata": {},
   "outputs": [],
   "source": [
    "def simulate_probe(vx, vy):\n",
    "    x, y = 0, 0\n",
    "    maxy = 0\n",
    "    while True:\n",
    "        x += vx\n",
    "        y += vy\n",
    "        \n",
    "        if y > maxy:\n",
    "            maxy = y\n",
    "        \n",
    "        if x >= xrange[0] and x <= xrange[1] and y >= yrange[0] and y <= yrange[1]:\n",
    "            return True, maxy, x, y\n",
    "        \n",
    "        if y < yrange[0]:\n",
    "            return False, maxy, x, y\n",
    "\n",
    "        if vx > 0:\n",
    "            vx -= 1\n",
    "        elif vx < 0:\n",
    "            vx += 1\n",
    "        vy -= 1"
   ]
  },
  {
   "cell_type": "code",
   "execution_count": 84,
   "id": "c7d4a83a",
   "metadata": {},
   "outputs": [
    {
     "name": "stdout",
     "output_type": "stream",
     "text": [
      "5050\n"
     ]
    }
   ],
   "source": [
    "overall_maxy = 0\n",
    "for y in range(300):\n",
    "    for x in range(xrange[1] + 1):\n",
    "        hit, maxy, endx, endy = simulate_probe(x, y)\n",
    "        if maxy > overall_maxy and hit:\n",
    "            overall_maxy = maxy\n",
    "print(overall_maxy)"
   ]
  },
  {
   "cell_type": "markdown",
   "id": "4c78af75",
   "metadata": {},
   "source": [
    "## Part 2"
   ]
  },
  {
   "cell_type": "code",
   "execution_count": 105,
   "id": "da31b150",
   "metadata": {},
   "outputs": [
    {
     "name": "stdout",
     "output_type": "stream",
     "text": [
      "2223\n"
     ]
    }
   ],
   "source": [
    "hits = 0\n",
    "for y in range(yrange[0], 300):\n",
    "    for x in range(1, xrange[1] + 1):\n",
    "        hit, maxy, endx, endy = simulate_probe(x, y)\n",
    "        if hit:\n",
    "            hits += 1\n",
    "print(hits)"
   ]
  }
 ],
 "metadata": {
  "kernelspec": {
   "display_name": "Python 3 (ipykernel)",
   "language": "python",
   "name": "python3"
  },
  "language_info": {
   "codemirror_mode": {
    "name": "ipython",
    "version": 3
   },
   "file_extension": ".py",
   "mimetype": "text/x-python",
   "name": "python",
   "nbconvert_exporter": "python",
   "pygments_lexer": "ipython3",
   "version": "3.8.0"
  }
 },
 "nbformat": 4,
 "nbformat_minor": 5
}
