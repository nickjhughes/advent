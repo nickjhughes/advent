{
 "cells": [
  {
   "cell_type": "code",
   "execution_count": 11,
   "id": "f71fe61c",
   "metadata": {},
   "outputs": [],
   "source": [
    "import json\n",
    "import math\n",
    "import os\n",
    "import numpy as np\n",
    "import pandas as pd\n",
    "import requests\n",
    "import browser_cookie3\n",
    "import matplotlib.pyplot as plt\n",
    "from collections import Counter, defaultdict\n",
    "%matplotlib inline"
   ]
  },
  {
   "cell_type": "code",
   "execution_count": 12,
   "id": "55deaf8e",
   "metadata": {},
   "outputs": [],
   "source": [
    "if not os.path.exists('input14'):\n",
    "    cookies = browser_cookie3.firefox(domain_name=\"adventofcode.com\")\n",
    "    session_cookie = [c for c in list(cookies) if c.name == \"session\"][0].value\n",
    "    resp = requests.get('https://adventofcode.com/2021/day/14/input', cookies={'session': session_cookie})\n",
    "    with open('input14', 'w') as f:\n",
    "        f.write(resp.text)"
   ]
  },
  {
   "cell_type": "code",
   "execution_count": 13,
   "id": "37066f70",
   "metadata": {},
   "outputs": [],
   "source": [
    "with open('input14', 'r') as f:\n",
    "    lines = [l.strip() for l in f.readlines()]"
   ]
  },
  {
   "cell_type": "markdown",
   "id": "13ae2ad9",
   "metadata": {},
   "source": [
    "## Part 1"
   ]
  },
  {
   "cell_type": "code",
   "execution_count": 4,
   "id": "7474f761",
   "metadata": {},
   "outputs": [],
   "source": [
    "lines = [\n",
    "    'NNCB',\n",
    "    '',\n",
    "    'CH -> B',\n",
    "    'HH -> N',\n",
    "    'CB -> H',\n",
    "    'NH -> C',\n",
    "    'HB -> C',\n",
    "    'HC -> B',\n",
    "    'HN -> C',\n",
    "    'NN -> C',\n",
    "    'BH -> H',\n",
    "    'NC -> B',\n",
    "    'NB -> B',\n",
    "    'BN -> B',\n",
    "    'BB -> N',\n",
    "    'BC -> B',\n",
    "    'CC -> N',\n",
    "    'CN -> C',\n",
    "]"
   ]
  },
  {
   "cell_type": "code",
   "execution_count": 14,
   "id": "39287531",
   "metadata": {},
   "outputs": [],
   "source": [
    "polymer = lines[0]\n",
    "rules = {}\n",
    "for line in lines[2:]:\n",
    "    k, v = line.split(' -> ')\n",
    "    rules[k] = v"
   ]
  },
  {
   "cell_type": "code",
   "execution_count": 15,
   "id": "3d926580",
   "metadata": {},
   "outputs": [],
   "source": [
    "for step in range(10):\n",
    "    new_polymer = [polymer[0]]\n",
    "    for i in range(len(polymer) - 1):\n",
    "        new_polymer.append(rules[polymer[i] + polymer[i+1]])\n",
    "        new_polymer.append(polymer[i+1])\n",
    "    polymer = ''.join(new_polymer)\n",
    "counts = Counter(polymer)"
   ]
  },
  {
   "cell_type": "code",
   "execution_count": 16,
   "id": "de3a01db",
   "metadata": {},
   "outputs": [
    {
     "data": {
      "text/plain": [
       "2509"
      ]
     },
     "execution_count": 16,
     "metadata": {},
     "output_type": "execute_result"
    }
   ],
   "source": [
    "max(counts.values()) - min(counts.values())"
   ]
  },
  {
   "cell_type": "markdown",
   "id": "4c78af75",
   "metadata": {},
   "source": [
    "## Part 2"
   ]
  },
  {
   "cell_type": "code",
   "execution_count": 17,
   "id": "ed1884b5",
   "metadata": {},
   "outputs": [],
   "source": [
    "polymer = lines[0]\n",
    "rules = {}\n",
    "for line in lines[2:]:\n",
    "    k, v = line.split(' -> ')\n",
    "    rules[k] = v"
   ]
  },
  {
   "cell_type": "code",
   "execution_count": 18,
   "id": "ecb55549",
   "metadata": {},
   "outputs": [],
   "source": [
    "pairs = defaultdict(int)\n",
    "for i in range(len(polymer) - 1):\n",
    "    pairs[polymer[i] + polymer[i+1]] += 1\n",
    "\n",
    "for step in range(40):\n",
    "    new_pairs = defaultdict(int)\n",
    "    for pair, count in pairs.items():\n",
    "        new_pairs[pair[0] + rules[pair]] += count\n",
    "        new_pairs[rules[pair] + pair[1]] += count\n",
    "    pairs = new_pairs\n",
    "\n",
    "counts = defaultdict(int)        \n",
    "for pair, count in pairs.items():\n",
    "    counts[pair[0]] += count\n",
    "    counts[pair[1]] += count"
   ]
  },
  {
   "cell_type": "code",
   "execution_count": 19,
   "id": "2415795b",
   "metadata": {},
   "outputs": [
    {
     "data": {
      "text/plain": [
       "2827627697643"
      ]
     },
     "execution_count": 19,
     "metadata": {},
     "output_type": "execute_result"
    }
   ],
   "source": [
    "(max(counts.values()) - min(counts.values())) // 2 + 1"
   ]
  }
 ],
 "metadata": {
  "kernelspec": {
   "display_name": "Python 3 (ipykernel)",
   "language": "python",
   "name": "python3"
  },
  "language_info": {
   "codemirror_mode": {
    "name": "ipython",
    "version": 3
   },
   "file_extension": ".py",
   "mimetype": "text/x-python",
   "name": "python",
   "nbconvert_exporter": "python",
   "pygments_lexer": "ipython3",
   "version": "3.9.9"
  }
 },
 "nbformat": 4,
 "nbformat_minor": 5
}
