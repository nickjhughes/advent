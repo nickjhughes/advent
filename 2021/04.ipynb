{
 "cells": [
  {
   "cell_type": "code",
   "execution_count": 120,
   "id": "37ea8a6f",
   "metadata": {},
   "outputs": [],
   "source": [
    "import numpy as np\n",
    "import pandas as pd"
   ]
  },
  {
   "cell_type": "code",
   "execution_count": 121,
   "id": "5d7c1b85",
   "metadata": {},
   "outputs": [],
   "source": [
    "with open('input4', 'r') as f:\n",
    "    lines = [l.strip() for l in f.readlines()]"
   ]
  },
  {
   "cell_type": "markdown",
   "id": "6fba3f8b",
   "metadata": {},
   "source": [
    "## Part 1"
   ]
  },
  {
   "cell_type": "code",
   "execution_count": 118,
   "id": "7be5cd25",
   "metadata": {},
   "outputs": [],
   "source": [
    "lines = [\n",
    "    '7,4,9,5,11,17,23,2,0,14,21,24,10,16,13,6,15,25,12,22,18,20,8,19,3,26,1',\n",
    "    '',\n",
    "    '22 13 17 11  0',\n",
    "    ' 8  2 23  4 24',\n",
    "    '21  9 14 16  7',\n",
    "    ' 6 10  3 18  5',\n",
    "    ' 1 12 20 15 19',\n",
    "    '',\n",
    "    ' 3 15  0  2 22',\n",
    "    ' 9 18 13 17  5',\n",
    "    '19  8  7 25 23',\n",
    "    '20 11 10 24  4',\n",
    "    '14 21 16 12  6',\n",
    "    '',\n",
    "    '14 21 17 24  4',\n",
    "    '10 16 15  9 19',\n",
    "    '18  8 23 26 20',\n",
    "    '22 11 13  6  5',\n",
    "    ' 2  0 12  3  7',\n",
    "]"
   ]
  },
  {
   "cell_type": "code",
   "execution_count": 122,
   "id": "a2a716dc",
   "metadata": {},
   "outputs": [],
   "source": [
    "marked_numbers = [int(n) for n in lines[0].split(',')]\n",
    "boards = []\n",
    "for line in lines[1:]:\n",
    "    if len(line) == 0:\n",
    "        current_board = np.zeros((5, 5))\n",
    "        board_index = 0\n",
    "    else:\n",
    "        current_board[board_index, :] = [int(n) for n in line.split()]\n",
    "        board_index += 1\n",
    "        if board_index == 5:\n",
    "            boards.append(current_board.reshape(1, 5, 5))\n",
    "boards = np.concatenate(boards)"
   ]
  },
  {
   "cell_type": "code",
   "execution_count": 94,
   "id": "4716166a",
   "metadata": {},
   "outputs": [
    {
     "name": "stdout",
     "output_type": "stream",
     "text": [
      "85 766 95 72770\n",
      "[[55. 15. 85. 39.  4.]\n",
      " [ 0.  0.  0.  0.  0.]\n",
      " [ 0. 47. 61.  9. 66.]\n",
      " [82. 32.  0.  0. 16.]\n",
      " [50. 96. 14. 60. 35.]]\n"
     ]
    }
   ],
   "source": [
    "for num in marked_numbers:\n",
    "    boards[boards == num] = -1\n",
    "    col_sums = boards.sum(axis=1)\n",
    "    row_sums = boards.sum(axis=2)\n",
    "    win_index, _ = np.where(row_sums == -5)\n",
    "    if len(win_index) > 0:\n",
    "        win_board = boards[win_index[0], :, :]\n",
    "        win_board[win_board == -1] = 0\n",
    "        print(win_index[0], int(win_board.sum()), num, num * int(win_board.sum()))\n",
    "        print(boards[win_index[0], :, :])\n",
    "        break\n",
    "    win_index, _ = np.where(col_sums == -5)\n",
    "    if len(win_index) > 0:\n",
    "        win_board = boards[win_index[0], :, :]\n",
    "        win_board[win_board == -1] = 0\n",
    "        print(win_index[0], int(win_board.sum()), num, num * int(win_board.sum()))\n",
    "        print(boards[win_index[0], :, :])\n",
    "        break"
   ]
  },
  {
   "cell_type": "markdown",
   "id": "0f063b93",
   "metadata": {},
   "source": [
    "## Part 2"
   ]
  },
  {
   "cell_type": "code",
   "execution_count": 123,
   "id": "10d626fc",
   "metadata": {},
   "outputs": [
    {
     "name": "stdout",
     "output_type": "stream",
     "text": [
      "75 296 47 13912\n"
     ]
    }
   ],
   "source": [
    "winners = []\n",
    "for num in marked_numbers:\n",
    "    boards[boards == num] = -1\n",
    "    col_sums = boards.sum(axis=1)\n",
    "    row_sums = boards.sum(axis=2)\n",
    "    win_index, _ = np.where(row_sums == -5)\n",
    "    for w in win_index:\n",
    "        if w not in winners:\n",
    "            winners.append(w)\n",
    "    win_index, _ = np.where(col_sums == -5)\n",
    "    for w in win_index:\n",
    "        if w not in winners:\n",
    "            winners.append(w)\n",
    "    if len(winners) == boards.shape[0]:\n",
    "        win_board = boards[winners[-1], :, :]\n",
    "        win_board[win_board == -1] = 0\n",
    "        print(winners[-1], int(win_board.sum()), num, num * int(win_board.sum()))\n",
    "        break"
   ]
  }
 ],
 "metadata": {
  "kernelspec": {
   "display_name": "Python 3 (ipykernel)",
   "language": "python",
   "name": "python3"
  },
  "language_info": {
   "codemirror_mode": {
    "name": "ipython",
    "version": 3
   },
   "file_extension": ".py",
   "mimetype": "text/x-python",
   "name": "python",
   "nbconvert_exporter": "python",
   "pygments_lexer": "ipython3",
   "version": "3.8.0"
  }
 },
 "nbformat": 4,
 "nbformat_minor": 5
}
