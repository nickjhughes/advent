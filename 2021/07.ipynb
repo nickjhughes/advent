{
 "cells": [
  {
   "cell_type": "code",
   "execution_count": 91,
   "id": "e7df85b9",
   "metadata": {},
   "outputs": [],
   "source": [
    "import numpy as np\n",
    "import pandas as pd\n",
    "import matplotlib.pyplot as plt\n",
    "\n",
    "%matplotlib inline"
   ]
  },
  {
   "cell_type": "code",
   "execution_count": 114,
   "id": "db26b461",
   "metadata": {},
   "outputs": [],
   "source": [
    "with open('input7', 'r') as f:\n",
    "    numbers = [int(n) for n in f.read().strip().split(',')]"
   ]
  },
  {
   "cell_type": "markdown",
   "id": "7cc0f39c",
   "metadata": {},
   "source": [
    "## Part 1"
   ]
  },
  {
   "cell_type": "code",
   "execution_count": 98,
   "id": "72f989f4",
   "metadata": {},
   "outputs": [],
   "source": [
    "numbers = [16,1,2,0,4,2,7,1,2,14]"
   ]
  },
  {
   "cell_type": "code",
   "execution_count": 90,
   "id": "15a50444",
   "metadata": {},
   "outputs": [
    {
     "data": {
      "text/plain": [
       "336120"
      ]
     },
     "execution_count": 90,
     "metadata": {},
     "output_type": "execute_result"
    }
   ],
   "source": [
    "x = np.arange(0, max(numbers) + 1)\n",
    "np.abs(np.array(numbers).reshape(len(numbers), 1) - x).sum(axis=0).min()"
   ]
  },
  {
   "cell_type": "markdown",
   "id": "8acf7116",
   "metadata": {},
   "source": [
    "## Part 2"
   ]
  },
  {
   "cell_type": "code",
   "execution_count": 116,
   "id": "2a17ee5d",
   "metadata": {},
   "outputs": [
    {
     "data": {
      "text/plain": [
       "96864235"
      ]
     },
     "execution_count": 116,
     "metadata": {},
     "output_type": "execute_result"
    }
   ],
   "source": [
    "x = np.arange(0, max(numbers) + 1)\n",
    "num_array = np.array(numbers).reshape(len(numbers), 1)\n",
    "int(((np.abs(num_array - x) * (np.abs(num_array - x) + 1)) / 2).sum(axis=0).min())"
   ]
  }
 ],
 "metadata": {
  "kernelspec": {
   "display_name": "Python 3 (ipykernel)",
   "language": "python",
   "name": "python3"
  },
  "language_info": {
   "codemirror_mode": {
    "name": "ipython",
    "version": 3
   },
   "file_extension": ".py",
   "mimetype": "text/x-python",
   "name": "python",
   "nbconvert_exporter": "python",
   "pygments_lexer": "ipython3",
   "version": "3.8.0"
  }
 },
 "nbformat": 4,
 "nbformat_minor": 5
}
