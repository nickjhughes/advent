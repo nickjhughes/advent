{
 "cells": [
  {
   "cell_type": "code",
   "execution_count": 1,
   "id": "3561ca9e",
   "metadata": {},
   "outputs": [],
   "source": [
    "import numpy as np\n",
    "import pandas as pd"
   ]
  },
  {
   "cell_type": "code",
   "execution_count": 37,
   "id": "c4c67662",
   "metadata": {},
   "outputs": [],
   "source": [
    "with open('input10', 'r') as f:\n",
    "    lines = [l.strip() for l in f.readlines()]"
   ]
  },
  {
   "cell_type": "markdown",
   "id": "04537375",
   "metadata": {},
   "source": [
    "## Part 1"
   ]
  },
  {
   "cell_type": "code",
   "execution_count": 21,
   "id": "db1e9f06",
   "metadata": {},
   "outputs": [],
   "source": [
    "lines = [\n",
    "    '[({(<(())[]>[[{[]{<()<>>',\n",
    "    '[(()[<>])]({[<{<<[]>>(',\n",
    "    '{([(<{}[<>[]}>{[]{[(<()>',\n",
    "    '(((({<>}<{<{<>}{[]{[]{}',\n",
    "    '[[<[([]))<([[{}[[()]]]',\n",
    "    '[{[{({}]{}}([{[{{{}}([]',\n",
    "    '{<[[]]>}<{[{[{[]{()[[[]',\n",
    "    '[<(<(<(<{}))><([]([]()',\n",
    "    '<{([([[(<>()){}]>(<<{{',\n",
    "    '<{([{{}}[<[[[<>{}]]]>[]]',\n",
    "]"
   ]
  },
  {
   "cell_type": "code",
   "execution_count": 38,
   "id": "30efac06",
   "metadata": {},
   "outputs": [],
   "source": [
    "start_chars = ['(', '[', '{', '<']\n",
    "end_chars = [')', ']', '}', '>']\n",
    "scores1 = {\n",
    "    ')': 3,\n",
    "    ']': 57,\n",
    "    '}': 1197,\n",
    "    '>': 25137,\n",
    "}"
   ]
  },
  {
   "cell_type": "code",
   "execution_count": 20,
   "id": "d3bd7e44",
   "metadata": {},
   "outputs": [
    {
     "name": "stdout",
     "output_type": "stream",
     "text": [
      "321237\n"
     ]
    }
   ],
   "source": [
    "score = 0\n",
    "for line in lines:\n",
    "    stack = []\n",
    "    for char in line:\n",
    "        if char in start_chars:\n",
    "            stack.append(char)\n",
    "        else:\n",
    "            expected_char = end_chars[start_chars.index(stack[-1])]\n",
    "            if expected_char == char:\n",
    "                stack.pop()\n",
    "            else:\n",
    "                score += scores1[char]\n",
    "                break\n",
    "print(score)"
   ]
  },
  {
   "cell_type": "markdown",
   "id": "37694cfe",
   "metadata": {},
   "source": [
    "## Part 2"
   ]
  },
  {
   "cell_type": "code",
   "execution_count": 39,
   "id": "65fa58c9",
   "metadata": {},
   "outputs": [],
   "source": [
    "scores2 = {\n",
    "    ')': 1,\n",
    "    ']': 2,\n",
    "    '}': 3,\n",
    "    '>': 4,\n",
    "}"
   ]
  },
  {
   "cell_type": "code",
   "execution_count": 40,
   "id": "d319dc07",
   "metadata": {},
   "outputs": [
    {
     "name": "stdout",
     "output_type": "stream",
     "text": [
      "2360030859\n"
     ]
    }
   ],
   "source": [
    "line_scores = []\n",
    "for line in lines:\n",
    "    stack = []\n",
    "    corrupted_line = False\n",
    "    for char in line:\n",
    "        # Discard corrupted lines\n",
    "        if char in start_chars:\n",
    "            stack.append(char)\n",
    "        else:\n",
    "            expected_char = end_chars[start_chars.index(stack[-1])]\n",
    "            if expected_char == char:\n",
    "                stack.pop()\n",
    "            else:\n",
    "                corrupted_line = True\n",
    "    # Finish incomplete lines\n",
    "    if corrupted_line:\n",
    "        continue\n",
    "    completion_string = ''\n",
    "    for i in range(len(stack)):\n",
    "        completion_string += end_chars[start_chars.index(stack.pop())]\n",
    "    line_score = 0\n",
    "    for char in completion_string:\n",
    "        line_score *= 5\n",
    "        line_score += scores2[char]\n",
    "    line_scores.append(line_score)\n",
    "print(sorted(line_scores)[int(len(line_scores)/2)])"
   ]
  }
 ],
 "metadata": {
  "kernelspec": {
   "display_name": "Python 3 (ipykernel)",
   "language": "python",
   "name": "python3"
  },
  "language_info": {
   "codemirror_mode": {
    "name": "ipython",
    "version": 3
   },
   "file_extension": ".py",
   "mimetype": "text/x-python",
   "name": "python",
   "nbconvert_exporter": "python",
   "pygments_lexer": "ipython3",
   "version": "3.9.9"
  }
 },
 "nbformat": 4,
 "nbformat_minor": 5
}
