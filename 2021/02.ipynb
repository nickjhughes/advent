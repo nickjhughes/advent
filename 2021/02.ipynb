{
 "cells": [
  {
   "cell_type": "code",
   "execution_count": 1,
   "id": "511b733a",
   "metadata": {},
   "outputs": [],
   "source": [
    "import numpy as np\n",
    "import pandas as pd"
   ]
  },
  {
   "cell_type": "code",
   "execution_count": 16,
   "id": "6cab1db9",
   "metadata": {},
   "outputs": [],
   "source": [
    "with open('input2', 'r') as f:\n",
    "    lines = [l.strip().split() for l in f.readlines()]"
   ]
  },
  {
   "cell_type": "markdown",
   "id": "7915e027",
   "metadata": {},
   "source": [
    "## Part 1"
   ]
  },
  {
   "cell_type": "code",
   "execution_count": 10,
   "id": "a83a55b5",
   "metadata": {},
   "outputs": [
    {
     "name": "stdout",
     "output_type": "stream",
     "text": [
      "2073 850 1762050\n"
     ]
    }
   ],
   "source": [
    "horz = 0\n",
    "depth = 0\n",
    "for direction, value in lines:\n",
    "    if direction == 'forward':\n",
    "        horz += int(value)\n",
    "    elif direction == 'down':\n",
    "        depth += int(value)\n",
    "    elif direction == 'up':\n",
    "        depth -= int(value)\n",
    "print(horz, depth, horz * depth)"
   ]
  },
  {
   "cell_type": "markdown",
   "id": "a5b25bed",
   "metadata": {},
   "source": [
    "## Part 2"
   ]
  },
  {
   "cell_type": "code",
   "execution_count": 18,
   "id": "9d44d751",
   "metadata": {},
   "outputs": [
    {
     "name": "stdout",
     "output_type": "stream",
     "text": [
      "2073 895269 850 1855892637\n"
     ]
    }
   ],
   "source": [
    "horz = 0\n",
    "depth = 0\n",
    "aim = 0\n",
    "for direction, value in lines:\n",
    "    if direction == 'forward':\n",
    "        horz += int(value)\n",
    "        depth += aim * int(value)\n",
    "    elif direction == 'down':\n",
    "        aim += int(value)\n",
    "    elif direction == 'up':\n",
    "        aim -= int(value)\n",
    "print(horz, depth, aim, horz * depth)"
   ]
  }
 ],
 "metadata": {
  "kernelspec": {
   "display_name": "Python 3 (ipykernel)",
   "language": "python",
   "name": "python3"
  },
  "language_info": {
   "codemirror_mode": {
    "name": "ipython",
    "version": 3
   },
   "file_extension": ".py",
   "mimetype": "text/x-python",
   "name": "python",
   "nbconvert_exporter": "python",
   "pygments_lexer": "ipython3",
   "version": "3.8.0"
  }
 },
 "nbformat": 4,
 "nbformat_minor": 5
}
