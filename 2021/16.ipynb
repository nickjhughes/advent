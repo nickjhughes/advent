{
 "cells": [
  {
   "cell_type": "code",
   "execution_count": 1,
   "id": "f71fe61c",
   "metadata": {},
   "outputs": [],
   "source": [
    "import json\n",
    "import math\n",
    "import os\n",
    "import numpy as np\n",
    "import pandas as pd\n",
    "import requests\n",
    "import browser_cookie3\n",
    "import matplotlib.pyplot as plt\n",
    "from collections import Counter, defaultdict\n",
    "%matplotlib inline"
   ]
  },
  {
   "cell_type": "code",
   "execution_count": 2,
   "id": "55deaf8e",
   "metadata": {},
   "outputs": [],
   "source": [
    "if not os.path.exists('input16'):\n",
    "    cookies = browser_cookie3.firefox(domain_name=\"adventofcode.com\")\n",
    "    session_cookie = [c for c in list(cookies) if c.name == \"session\"][0].value\n",
    "    resp = requests.get('https://adventofcode.com/2021/day/16/input', cookies={'session': session_cookie})\n",
    "    with open('input16', 'w') as f:\n",
    "        f.write(resp.text)"
   ]
  },
  {
   "cell_type": "code",
   "execution_count": 57,
   "id": "37066f70",
   "metadata": {},
   "outputs": [],
   "source": [
    "with open('input16', 'r') as f:\n",
    "    lines = [l.strip() for l in f.readlines()]\n",
    "line = '1' + lines[0]"
   ]
  },
  {
   "cell_type": "markdown",
   "id": "13ae2ad9",
   "metadata": {},
   "source": [
    "## Part 1"
   ]
  },
  {
   "cell_type": "code",
   "execution_count": null,
   "id": "7474f761",
   "metadata": {},
   "outputs": [],
   "source": [
    "line = '1' + 'A0016C880162017C3686B18A3D4780'"
   ]
  },
  {
   "cell_type": "code",
   "execution_count": null,
   "id": "d18d899b",
   "metadata": {},
   "outputs": [],
   "source": [
    "binary = bin(int(line, 16))[3:]"
   ]
  },
  {
   "cell_type": "code",
   "execution_count": null,
   "id": "5b9a8877",
   "metadata": {},
   "outputs": [],
   "source": [
    "def parse_packets(binary):\n",
    "    packets = []\n",
    "    i = 0\n",
    "    if sum(int(v) for v in binary) == 0:\n",
    "        return [], 0\n",
    "    pversion = int(binary[i:i+3], 2)\n",
    "    ptype = int(binary[i+3:i+6], 2)\n",
    "    i += 6\n",
    "    if ptype == 4:\n",
    "        # Literal\n",
    "        value_groups = []\n",
    "        while True:\n",
    "            value_groups.append(binary[i+1:i+5])\n",
    "            i += 5\n",
    "            if int(binary[i-5]) == 0:\n",
    "                break\n",
    "        value = int(''.join(value_groups), 2)\n",
    "        packets.append((pversion, ptype, value))\n",
    "    else:\n",
    "        # Operator\n",
    "        length_type_id = int(binary[i])\n",
    "        i += 1\n",
    "        if length_type_id == 0:\n",
    "            # Length of subpackets specified\n",
    "            sub_packets_length = int(binary[i:i+15], 2)\n",
    "            i += 15\n",
    "            end_subpackets_index = i + sub_packets_length\n",
    "            while i < end_subpackets_index:\n",
    "                new_packets, num_bits = parse_packets(binary[i:])\n",
    "                packets.extend(new_packets)\n",
    "                i += num_bits\n",
    "            packets.append((pversion, ptype, length_type_id, sub_packets_length))\n",
    "        else:\n",
    "            # Number of subpackets specified\n",
    "            num_sub_packets = int(binary[i:i+11], 2)\n",
    "            i += 11\n",
    "            num_new_packets = 0\n",
    "            while num_new_packets < num_sub_packets:\n",
    "                new_packets, num_bits = parse_packets(binary[i:])\n",
    "                packets.extend(new_packets)\n",
    "                num_new_packets += 1\n",
    "                i += num_bits\n",
    "            packets.append((pversion, ptype, length_type_id, num_sub_packets))\n",
    "    return packets, i"
   ]
  },
  {
   "cell_type": "code",
   "execution_count": null,
   "id": "e917796a",
   "metadata": {},
   "outputs": [],
   "source": [
    "packets, _ = parse_packets(binary)\n",
    "sum([p[0] for p in packets])"
   ]
  },
  {
   "cell_type": "markdown",
   "id": "4c78af75",
   "metadata": {},
   "source": [
    "## Part 2"
   ]
  },
  {
   "cell_type": "code",
   "execution_count": 51,
   "id": "2415795b",
   "metadata": {},
   "outputs": [],
   "source": [
    "line = '1' + '9C0141080250320F1802104A08'"
   ]
  },
  {
   "cell_type": "code",
   "execution_count": 58,
   "id": "9c21e43a",
   "metadata": {},
   "outputs": [],
   "source": [
    "binary = bin(int(line, 16))[3:]"
   ]
  },
  {
   "cell_type": "code",
   "execution_count": 59,
   "id": "4b0513ab",
   "metadata": {},
   "outputs": [],
   "source": [
    "def parse_packets(binary):\n",
    "    packets = []\n",
    "    i = 0\n",
    "    if sum(int(v) for v in binary) == 0:\n",
    "        return [], 0\n",
    "    pversion = int(binary[i:i+3], 2)\n",
    "    ptype = int(binary[i+3:i+6], 2)\n",
    "    i += 6\n",
    "    if ptype == 4:\n",
    "        # Literal\n",
    "        value_groups = []\n",
    "        while True:\n",
    "            value_groups.append(binary[i+1:i+5])\n",
    "            i += 5\n",
    "            if int(binary[i-5]) == 0:\n",
    "                break\n",
    "        value = int(''.join(value_groups), 2)\n",
    "        packets.append((ptype, value))\n",
    "    else:\n",
    "        # Operator\n",
    "        length_type_id = int(binary[i])\n",
    "        i += 1\n",
    "        if length_type_id == 0:\n",
    "            # Length of subpackets specified\n",
    "            sub_packets_length = int(binary[i:i+15], 2)\n",
    "            i += 15\n",
    "            end_subpackets_index = i + sub_packets_length\n",
    "            sub_packets = []\n",
    "            while i < end_subpackets_index:\n",
    "                new_packets, num_bits = parse_packets(binary[i:])\n",
    "                sub_packets.extend(new_packets)\n",
    "                i += num_bits\n",
    "            packets.append((ptype, sub_packets))\n",
    "        else:\n",
    "            # Number of subpackets specified\n",
    "            num_sub_packets = int(binary[i:i+11], 2)\n",
    "            i += 11\n",
    "            sub_packets = []\n",
    "            while len(sub_packets) < num_sub_packets:\n",
    "                new_packets, num_bits = parse_packets(binary[i:])\n",
    "                sub_packets.extend(new_packets)\n",
    "                i += num_bits\n",
    "            packets.append((ptype, sub_packets))\n",
    "    return packets, i"
   ]
  },
  {
   "cell_type": "code",
   "execution_count": 60,
   "id": "046c406e",
   "metadata": {},
   "outputs": [],
   "source": [
    "packets, _ = parse_packets(binary)"
   ]
  },
  {
   "cell_type": "code",
   "execution_count": 61,
   "id": "43776f3e",
   "metadata": {},
   "outputs": [],
   "source": [
    "def get_packets_value(packets):\n",
    "    values = []\n",
    "    for packet in packets:\n",
    "        ptype = packet[0]\n",
    "        if ptype == 4:\n",
    "            values.append(packet[1])\n",
    "        else:\n",
    "            sub_packets = packet[1]\n",
    "            sub_packets_value = get_packets_value(sub_packets)\n",
    "            if ptype == 0:\n",
    "                values.append(sum(sub_packets_value))\n",
    "            elif ptype == 1:\n",
    "                values.append(math.prod(sub_packets_value))\n",
    "            elif ptype == 2:\n",
    "                values.append(min(sub_packets_value))\n",
    "            elif ptype == 3:\n",
    "                values.append(max(sub_packets_value))\n",
    "            elif ptype == 5:\n",
    "                values.append(int(sub_packets_value[0] > sub_packets_value[1]))\n",
    "            elif ptype == 6:\n",
    "                values.append(int(sub_packets_value[0] < sub_packets_value[1]))\n",
    "            elif ptype == 7:\n",
    "                values.append(int(sub_packets_value[0] == sub_packets_value[1]))\n",
    "    return values"
   ]
  },
  {
   "cell_type": "code",
   "execution_count": 63,
   "id": "b7bc7d40",
   "metadata": {},
   "outputs": [
    {
     "data": {
      "text/plain": [
       "2223947372407"
      ]
     },
     "execution_count": 63,
     "metadata": {},
     "output_type": "execute_result"
    }
   ],
   "source": [
    "get_packets_value(packets)[0]"
   ]
  }
 ],
 "metadata": {
  "kernelspec": {
   "display_name": "Python 3 (ipykernel)",
   "language": "python",
   "name": "python3"
  },
  "language_info": {
   "codemirror_mode": {
    "name": "ipython",
    "version": 3
   },
   "file_extension": ".py",
   "mimetype": "text/x-python",
   "name": "python",
   "nbconvert_exporter": "python",
   "pygments_lexer": "ipython3",
   "version": "3.9.9"
  }
 },
 "nbformat": 4,
 "nbformat_minor": 5
}
