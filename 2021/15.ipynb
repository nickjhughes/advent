{
 "cells": [
  {
   "cell_type": "code",
   "execution_count": 2,
   "id": "f71fe61c",
   "metadata": {},
   "outputs": [],
   "source": [
    "import json\n",
    "import math\n",
    "import os\n",
    "import numpy as np\n",
    "import pandas as pd\n",
    "import requests\n",
    "import browser_cookie3\n",
    "import matplotlib.pyplot as plt\n",
    "from collections import Counter, defaultdict\n",
    "%matplotlib inline"
   ]
  },
  {
   "cell_type": "code",
   "execution_count": 3,
   "id": "55deaf8e",
   "metadata": {},
   "outputs": [],
   "source": [
    "if not os.path.exists('input15'):\n",
    "    cookies = browser_cookie3.firefox(domain_name=\"adventofcode.com\")\n",
    "    session_cookie = [c for c in list(cookies) if c.name == \"session\"][0].value\n",
    "    resp = requests.get('https://adventofcode.com/2021/day/15/input', cookies={'session': session_cookie})\n",
    "    with open('input15', 'w') as f:\n",
    "        f.write(resp.text)"
   ]
  },
  {
   "cell_type": "code",
   "execution_count": 4,
   "id": "e6d80d99",
   "metadata": {},
   "outputs": [
    {
     "name": "stdout",
     "output_type": "stream",
     "text": [
      "7135912411912798932871391322889941544645211112288183969191588665579426181549613954113914616349281119\r\n",
      "8818482819182139319112316373697999126211219541956811442497469891197212131227119531231231297911937841\r\n",
      "1514575112959236914131559711156719336447259942553728322911271774241293394881913682176891871931225931\r\n",
      "3911411211611179328267522115348239963876196416413136271519591723261183181259792938429689524986199662\r\n",
      "7641142151561121642912253491632132312682391976219236246811321441614458168298442897517119286294427143\r\n",
      "2121192132289162313728563181871122493359816197929334844219181379799666376121879896792359861963352341\r\n",
      "7824634877975124922137296299957468954179392824124437392871314337752916614225212219614414683959191151\r\n",
      "4697413917922193912419678321922133939613861216689158123571322738228138479426524278182172119312848883\r\n",
      "8924576358796711856729358848547891622733114113537182199512138345191419912781799661213494977849752719\r\n",
      "9132169172714432689989487585816291188372945729446982887385921614921294423815188486235978437499258722\r\n"
     ]
    }
   ],
   "source": [
    "!head input15"
   ]
  },
  {
   "cell_type": "code",
   "execution_count": 123,
   "id": "37066f70",
   "metadata": {},
   "outputs": [],
   "source": [
    "with open('input15', 'r') as f:\n",
    "    lines = [l.strip() for l in f.readlines()]"
   ]
  },
  {
   "cell_type": "markdown",
   "id": "13ae2ad9",
   "metadata": {},
   "source": [
    "## Part 1"
   ]
  },
  {
   "cell_type": "code",
   "execution_count": 6,
   "id": "7474f761",
   "metadata": {},
   "outputs": [],
   "source": [
    "lines = [\n",
    "    '1163751742',\n",
    "    '1381373672',\n",
    "    '2136511328',\n",
    "    '3694931569',\n",
    "    '7463417111',\n",
    "    '1319128137',\n",
    "    '1359912421',\n",
    "    '3125421639',\n",
    "    '1293138521',\n",
    "    '2311944581',\n",
    "]"
   ]
  },
  {
   "cell_type": "code",
   "execution_count": 120,
   "id": "d18d899b",
   "metadata": {},
   "outputs": [],
   "source": [
    "height = len(lines)\n",
    "width = len(lines[0])\n",
    "costs = np.zeros((height, width))\n",
    "for i, line in enumerate(lines):\n",
    "    costs[i,:] = [int(v) for v in line]"
   ]
  },
  {
   "cell_type": "code",
   "execution_count": 17,
   "id": "39287531",
   "metadata": {},
   "outputs": [],
   "source": [
    "Q = set()\n",
    "dist = {}\n",
    "prev = {}\n",
    "for r in range(height):\n",
    "    for c in range(width):\n",
    "        dist[(r, c)] = 1e100\n",
    "        prev[(r, c)] = None\n",
    "        Q.add((r, c))\n",
    "dist[(0, 0)] = 0\n",
    "\n",
    "while len(Q) > 0:\n",
    "    min_dist = 1e200\n",
    "    min_q = None\n",
    "    for q in Q:\n",
    "        if dist[q] < min_dist:\n",
    "            min_dist = dist[q]\n",
    "            min_q = q\n",
    "    u = min_q\n",
    "    Q.remove(u)\n",
    "    ur, uc = u\n",
    "    if ur > 0:\n",
    "        v = (ur - 1, uc)\n",
    "        alt = dist[u] + costs[v]\n",
    "        if alt < dist[v]:\n",
    "            dist[v] = alt\n",
    "            prev[v] = u\n",
    "    if ur < width - 1:\n",
    "        v = (ur + 1, uc)\n",
    "        alt = dist[u] + costs[v]\n",
    "        if alt < dist[v]:\n",
    "            dist[v] = alt\n",
    "            prev[v] = u\n",
    "    if uc > 0:\n",
    "        v = (ur, uc - 1)\n",
    "        alt = dist[u] + costs[v]\n",
    "        if alt < dist[v]:\n",
    "            dist[v] = alt\n",
    "            prev[v] = u\n",
    "    if uc < height - 1:\n",
    "        v = (ur, uc + 1)\n",
    "        alt = dist[u] + costs[v]\n",
    "        if alt < dist[v]:\n",
    "            dist[v] = alt\n",
    "            prev[v] = u"
   ]
  },
  {
   "cell_type": "code",
   "execution_count": 18,
   "id": "de3a01db",
   "metadata": {},
   "outputs": [
    {
     "data": {
      "text/plain": [
       "441.0"
      ]
     },
     "execution_count": 18,
     "metadata": {},
     "output_type": "execute_result"
    }
   ],
   "source": [
    "dist[(height-1, width-1)]"
   ]
  },
  {
   "cell_type": "markdown",
   "id": "4c78af75",
   "metadata": {},
   "source": [
    "## Part 2"
   ]
  },
  {
   "cell_type": "code",
   "execution_count": 124,
   "id": "ecb55549",
   "metadata": {},
   "outputs": [],
   "source": [
    "orig_height = len(lines)\n",
    "orig_width = len(lines[0])\n",
    "orig_costs = np.zeros((orig_height, orig_width))\n",
    "for i, line in enumerate(lines):\n",
    "    orig_costs[i,:] = [int(v) for v in line]"
   ]
  },
  {
   "cell_type": "code",
   "execution_count": 125,
   "id": "2415795b",
   "metadata": {},
   "outputs": [],
   "source": [
    "height = orig_height * 5\n",
    "width = orig_width * 5\n",
    "costs = np.zeros((height, width))\n",
    "for i in range(5):\n",
    "    for j in range(5):\n",
    "        costs[i*orig_height:(i+1)*orig_height, j*orig_width:(j+1)*orig_width] = (orig_costs - 1) + i + j\n",
    "costs = (costs % 9) + 1"
   ]
  },
  {
   "cell_type": "code",
   "execution_count": 126,
   "id": "9c21e43a",
   "metadata": {},
   "outputs": [],
   "source": [
    "def get_h_cost(u, v):\n",
    "    ux, uy = u\n",
    "    vx, vy = v\n",
    "    return abs(ux - vx) + abs(vx - vy)"
   ]
  },
  {
   "cell_type": "code",
   "execution_count": 127,
   "id": "c4537bd4",
   "metadata": {},
   "outputs": [],
   "source": [
    "Q = set()\n",
    "closed = set()\n",
    "dist = {}\n",
    "fdist = {}\n",
    "prev = {}\n",
    "Q.add((0, 0))\n",
    "dist[(0, 0)] = 0\n",
    "fdist[(0, 0)] = 0 + get_h_cost((0, 0), (height-1, width-1))\n",
    "\n",
    "while len(Q) > 0:\n",
    "    min_dist = 1e200\n",
    "    min_q = None\n",
    "    for q in Q:\n",
    "        if fdist[q] < min_dist:\n",
    "            min_dist = fdist[q]\n",
    "            min_q = q\n",
    "    u = min_q\n",
    "    if u == (height-1, width-1):\n",
    "        break\n",
    "    Q.remove(u)\n",
    "    closed.add(u)\n",
    "    ur, uc = u\n",
    "    neighbours = []\n",
    "    if ur > 0:\n",
    "        neighbours.append((ur - 1, uc))\n",
    "    if ur < width - 1:\n",
    "        neighbours.append((ur + 1, uc))\n",
    "    if uc > 0:\n",
    "        neighbours.append((ur, uc - 1))\n",
    "    if uc < height - 1:\n",
    "        neighbours.append((ur, uc + 1))\n",
    "    for v in neighbours:\n",
    "        if v in closed:\n",
    "            continue\n",
    "        alt = dist[u] + costs[v]\n",
    "        if v not in Q:\n",
    "            Q.add(v)\n",
    "            prev[v] = u\n",
    "            dist[v] = alt\n",
    "            fdist[v] = alt + get_h_cost(u, v)\n",
    "        elif alt < dist[v]:\n",
    "            prev[v] = u\n",
    "            dist[v] = alt\n",
    "            fdist[v] = alt + get_h_cost(u, v)"
   ]
  },
  {
   "cell_type": "code",
   "execution_count": 128,
   "id": "381dfd0f",
   "metadata": {},
   "outputs": [
    {
     "data": {
      "text/plain": [
       "2849.0"
      ]
     },
     "execution_count": 128,
     "metadata": {},
     "output_type": "execute_result"
    }
   ],
   "source": [
    "dist[(height-1, width-1)]"
   ]
  }
 ],
 "metadata": {
  "kernelspec": {
   "display_name": "Python 3 (ipykernel)",
   "language": "python",
   "name": "python3"
  },
  "language_info": {
   "codemirror_mode": {
    "name": "ipython",
    "version": 3
   },
   "file_extension": ".py",
   "mimetype": "text/x-python",
   "name": "python",
   "nbconvert_exporter": "python",
   "pygments_lexer": "ipython3",
   "version": "3.9.9"
  }
 },
 "nbformat": 4,
 "nbformat_minor": 5
}
