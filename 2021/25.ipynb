{
 "cells": [
  {
   "cell_type": "code",
   "execution_count": 41,
   "id": "f71fe61c",
   "metadata": {},
   "outputs": [],
   "source": [
    "import json\n",
    "import math\n",
    "import os\n",
    "import time\n",
    "import numpy as np\n",
    "import pandas as pd\n",
    "import requests\n",
    "import browser_cookie3\n",
    "import matplotlib.pyplot as plt\n",
    "from collections import Counter, defaultdict\n",
    "%matplotlib inline"
   ]
  },
  {
   "cell_type": "code",
   "execution_count": 42,
   "id": "37066f70",
   "metadata": {},
   "outputs": [],
   "source": [
    "with open('input25', 'r') as f:\n",
    "    lines = [l.strip() for l in f.readlines()]"
   ]
  },
  {
   "cell_type": "markdown",
   "id": "13ae2ad9",
   "metadata": {},
   "source": [
    "## Part 1"
   ]
  },
  {
   "cell_type": "code",
   "execution_count": 5,
   "id": "a918955f",
   "metadata": {},
   "outputs": [],
   "source": [
    "lines = [\n",
    "    'v...>>.vv>',\n",
    "    '.vv>>.vv..',\n",
    "    '>>.>v>...v',\n",
    "    '>>v>>.>.v.',\n",
    "    'v>v.vv.v..',\n",
    "    '>.>>..v...',\n",
    "    '.vv..>.>v.',\n",
    "    'v.v..>>v.v',\n",
    "    '....v..v.>',\n",
    "]"
   ]
  },
  {
   "cell_type": "code",
   "execution_count": 13,
   "id": "13f93d43",
   "metadata": {},
   "outputs": [],
   "source": [
    "def print_map(m):\n",
    "    for i in range(m.shape[0]):\n",
    "        for j in range(m.shape[1]):\n",
    "            if m[i,j] == 0:\n",
    "                print('.', end='')\n",
    "            elif m[i,j] == 1:\n",
    "                print('>', end='')\n",
    "            else:\n",
    "                print('v', end='')\n",
    "        print()\n",
    "    print()"
   ]
  },
  {
   "cell_type": "code",
   "execution_count": 43,
   "id": "a35b4b14",
   "metadata": {},
   "outputs": [
    {
     "name": "stdout",
     "output_type": "stream",
     "text": [
      "513\n"
     ]
    }
   ],
   "source": [
    "c = np.zeros((len(lines), len(lines[0])))\n",
    "for i, line in enumerate(lines):\n",
    "    for j, char in enumerate(line):\n",
    "        if char == '.':\n",
    "            res = 0\n",
    "        elif char == '>':\n",
    "            res = 1\n",
    "        elif char == 'v':\n",
    "            res = 2\n",
    "        c[i,j] = res\n",
    "\n",
    "num_steps = 0\n",
    "while True:\n",
    "    num_moves = 0\n",
    "    for movetype in [1, 2]:\n",
    "        newc = np.zeros(c.shape)\n",
    "        for i in range(c.shape[0]):\n",
    "            for j in range(c.shape[1]):\n",
    "                if c[i,j] != movetype and c[i,j] != 0:\n",
    "                    newc[i,j] = c[i,j]\n",
    "                elif c[i,j] == 0:\n",
    "                    continue\n",
    "                else:\n",
    "                    if movetype == 1:\n",
    "                        # East\n",
    "                        if j < c.shape[1] - 1:\n",
    "                            if c[i,j+1] == 0:\n",
    "                                newc[i,j+1] = c[i,j]\n",
    "                                num_moves += 1\n",
    "                            else:\n",
    "                                newc[i,j] = c[i,j]\n",
    "                        else:\n",
    "                            if c[i,0] == 0:\n",
    "                                newc[i,0] = c[i,j]\n",
    "                                num_moves += 1\n",
    "                            else:\n",
    "                                newc[i,j] = c[i,j]\n",
    "                    else:\n",
    "                        # South\n",
    "                        if i < c.shape[0] - 1:\n",
    "                            if c[i+1,j] == 0:\n",
    "                                newc[i+1,j] = c[i,j]\n",
    "                                num_moves += 1\n",
    "                            else:\n",
    "                                newc[i,j] = c[i,j]\n",
    "                        else:\n",
    "                            if c[0,j] == 0:\n",
    "                                newc[0,j] = c[i,j]\n",
    "                                num_moves += 1\n",
    "                            else:\n",
    "                                newc[i,j] = c[i,j]\n",
    "        c = newc.copy()\n",
    "    num_steps += 1\n",
    "    if num_moves == 0:\n",
    "        print(num_steps)\n",
    "        break"
   ]
  }
 ],
 "metadata": {
  "kernelspec": {
   "display_name": "Python 3 (ipykernel)",
   "language": "python",
   "name": "python3"
  },
  "language_info": {
   "codemirror_mode": {
    "name": "ipython",
    "version": 3
   },
   "file_extension": ".py",
   "mimetype": "text/x-python",
   "name": "python",
   "nbconvert_exporter": "python",
   "pygments_lexer": "ipython3",
   "version": "3.9.9"
  }
 },
 "nbformat": 4,
 "nbformat_minor": 5
}
