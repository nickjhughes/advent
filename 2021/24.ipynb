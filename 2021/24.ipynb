{
 "cells": [
  {
   "cell_type": "code",
   "execution_count": 9,
   "id": "f71fe61c",
   "metadata": {},
   "outputs": [],
   "source": [
    "import json\n",
    "import math\n",
    "import os\n",
    "import time\n",
    "import numpy as np\n",
    "import pandas as pd\n",
    "import requests\n",
    "import browser_cookie3\n",
    "import matplotlib.pyplot as plt\n",
    "from collections import Counter, defaultdict\n",
    "%matplotlib inline"
   ]
  },
  {
   "cell_type": "code",
   "execution_count": 10,
   "id": "37066f70",
   "metadata": {},
   "outputs": [],
   "source": [
    "with open('input24', 'r') as f:\n",
    "    lines = [l.strip() for l in f.readlines()]"
   ]
  },
  {
   "cell_type": "markdown",
   "id": "13ae2ad9",
   "metadata": {},
   "source": [
    "## Part 1"
   ]
  },
  {
   "cell_type": "code",
   "execution_count": 11,
   "id": "a918955f",
   "metadata": {},
   "outputs": [],
   "source": [
    "def parse_var(v):\n",
    "    if v in ['w', 'x', 'y', 'z']:\n",
    "        return v\n",
    "    else:\n",
    "        return int(v)"
   ]
  },
  {
   "cell_type": "code",
   "execution_count": 12,
   "id": "59b0eea1",
   "metadata": {},
   "outputs": [],
   "source": [
    "def is_var(v):\n",
    "    return v in ['w', 'x', 'y', 'z']"
   ]
  },
  {
   "cell_type": "code",
   "execution_count": 13,
   "id": "bd793464",
   "metadata": {},
   "outputs": [],
   "source": [
    "instructions = []\n",
    "for line in lines:\n",
    "    items = line.split()\n",
    "    ins = items[0]\n",
    "    if ins == 'inp':\n",
    "        instructions.append((ins, items[1], None))\n",
    "    elif ins == 'add':\n",
    "        instructions.append((ins, items[1], parse_var(items[2])))\n",
    "    elif ins == 'mul':\n",
    "        instructions.append((ins, items[1], parse_var(items[2])))\n",
    "    elif ins == 'div':\n",
    "        instructions.append((ins, items[1], parse_var(items[2])))\n",
    "    elif ins == 'mod':\n",
    "        instructions.append((ins, items[1], parse_var(items[2])))\n",
    "    elif ins == 'eql':\n",
    "        instructions.append((ins, items[1], parse_var(items[2])))"
   ]
  },
  {
   "cell_type": "code",
   "execution_count": 14,
   "id": "cda5d2ff",
   "metadata": {},
   "outputs": [],
   "source": [
    "def run_program(input_value, instructions):\n",
    "    var = {\n",
    "        'w': 0,\n",
    "        'x': 0,\n",
    "        'y': 0,\n",
    "        'z': 0,\n",
    "    }\n",
    "    for ins, var1, var2 in instructions:\n",
    "        if ins == 'inp':\n",
    "            var[var1] = input_value.pop(0)\n",
    "        elif ins == 'add':\n",
    "            if is_var(var2):\n",
    "                res = var[var1] + var[var2]\n",
    "            else:\n",
    "                res = var[var1] + var2\n",
    "            var[var1] = res\n",
    "        elif ins == 'mul':\n",
    "            if is_var(var2):\n",
    "                res = var[var1] * var[var2]\n",
    "            else:\n",
    "                res = var[var1] * var2\n",
    "            var[var1] = res\n",
    "        elif ins == 'div':\n",
    "            if is_var(var2):\n",
    "                res = var[var1] / var[var2]\n",
    "            else:\n",
    "                res = var[var1] / var2\n",
    "            var[var1] = int(res)\n",
    "        elif ins == 'mod':\n",
    "            if is_var(var2):\n",
    "                res = var[var1] % var[var2]\n",
    "            else:\n",
    "                res = var[var1] % var2\n",
    "            var[var1] = res\n",
    "        elif ins == 'eql':\n",
    "            if is_var(var2):\n",
    "                res = var[var1] == var[var2]\n",
    "            else:\n",
    "                res = var[var1] == var2\n",
    "            var[var1] = int(res)\n",
    "    return var['z']"
   ]
  },
  {
   "cell_type": "code",
   "execution_count": 15,
   "id": "cc0f1ff7",
   "metadata": {},
   "outputs": [
    {
     "data": {
      "text/plain": [
       "5520918016"
      ]
     },
     "execution_count": 15,
     "metadata": {},
     "output_type": "execute_result"
    }
   ],
   "source": [
    "run_program([int(v) for v in str(99999999999999)], instructions)"
   ]
  },
  {
   "cell_type": "code",
   "execution_count": 16,
   "id": "71cb2e5b",
   "metadata": {},
   "outputs": [],
   "source": [
    "inputs = [f'in{i:02d}' for i in range(14)]\n",
    "code = []\n",
    "for ins, var1, var2 in instructions:\n",
    "    if ins == 'inp':\n",
    "        code.append(f'{var1} = {inputs.pop(0)}')\n",
    "    elif ins == 'add':\n",
    "        if is_var(var2):\n",
    "            code.append(f'{var1} = {var1} + {var2}')\n",
    "        else:\n",
    "            code.append(f'{var1} = {var1} + {var2}')\n",
    "    elif ins == 'mul':\n",
    "        if is_var(var2):\n",
    "            code.append(f'{var1} = {var1} * {var2}')\n",
    "        else:\n",
    "            code.append(f'{var1} = {var1} * {var2}')\n",
    "    elif ins == 'div':\n",
    "        if is_var(var2):\n",
    "            code.append(f'{var1} = int({var1} / {var2})')\n",
    "        else:\n",
    "            code.append(f'{var1} = int({var1} / {var2})')\n",
    "    elif ins == 'mod':\n",
    "        if is_var(var2):\n",
    "            code.append(f'{var1} = {var1} % {var2}')\n",
    "        else:\n",
    "            code.append(f'{var1} = {var1} % {var2}')\n",
    "    elif ins == 'eql':\n",
    "        if is_var(var2):\n",
    "            code.append(f'{var1} = int({var1} == {var2})')\n",
    "        else:\n",
    "            code.append(f'{var1} = int({var1} == {var2})')"
   ]
  },
  {
   "cell_type": "code",
   "execution_count": 17,
   "id": "314fecc9",
   "metadata": {
    "scrolled": true
   },
   "outputs": [],
   "source": [
    "# for line in code:\n",
    "#     if 'in0' in line or 'in1' in line:\n",
    "#         print()\n",
    "#     print(line)"
   ]
  },
  {
   "cell_type": "code",
   "execution_count": 18,
   "id": "9fa1ab3f",
   "metadata": {},
   "outputs": [],
   "source": [
    "def function(*inputs):\n",
    "    in00, in01, in02, in03, in04, in05, in06, in07, in08, in09, in10, in11, in12, in13 = inputs\n",
    "    x, y, z = 0, 0, 0\n",
    "\n",
    "    x = z % 26\n",
    "    x = x + 13\n",
    "    x = int(x != in00)\n",
    "    y = 25 * x\n",
    "    y = y + 1\n",
    "    z = z * y\n",
    "    y = in00 + 8\n",
    "    y = y * x\n",
    "    z = z + y\n",
    "\n",
    "    x = z % 26\n",
    "    x = x + 12\n",
    "    x = int(x != in01)\n",
    "    y = 25 * x\n",
    "    y = y + 1\n",
    "    z = z * y\n",
    "    y = in01 + 13\n",
    "    y = y * x\n",
    "    z = z + y\n",
    "\n",
    "    x = z % 26\n",
    "    x = x + 12\n",
    "    x = int(x != in02)\n",
    "    y = 25 * x\n",
    "    y = y + 1\n",
    "    z = z * y\n",
    "    y = in02 + 8\n",
    "    y = y * x\n",
    "    z = z + y\n",
    "\n",
    "    x = z % 26\n",
    "    x = x + 10\n",
    "    x = int(x != in03)\n",
    "    y = 25 * x\n",
    "    y = y + 1\n",
    "    z = z * y\n",
    "    y = in03 + 10\n",
    "    y = y * x\n",
    "    z = z + y\n",
    "\n",
    "    x = z % 26\n",
    "    z = int(z / 26)\n",
    "    x = x - 11\n",
    "    x = int(x != in04)\n",
    "    y = 25 * x\n",
    "    y = y + 1\n",
    "    z = z * y\n",
    "    y = in04 + 12\n",
    "    y = y * x\n",
    "    z = z + y\n",
    "\n",
    "    x = z % 26\n",
    "    z = int(z / 26)\n",
    "    x = x - 13\n",
    "    x = int(x != in05)\n",
    "    y = 25 * x\n",
    "    y = y + 1\n",
    "    z = z * y\n",
    "    y = in05 + 1\n",
    "    y = y * x\n",
    "    z = z + y\n",
    "\n",
    "    x = z % 26\n",
    "    x = x + 15\n",
    "    x = int(x != in06)\n",
    "    y = 25 * x\n",
    "    y = y + 1\n",
    "    z = z * y\n",
    "    y = in06 + 13\n",
    "    y = y * x\n",
    "    z = z + y\n",
    "\n",
    "    x = z % 26\n",
    "    x = x + 10\n",
    "    x = int(x != in07)\n",
    "    y = 25 * x\n",
    "    y = y + 1\n",
    "    z = z * y\n",
    "    y = in07 + 5\n",
    "    y = y * x\n",
    "    z = z + y\n",
    "\n",
    "    x = z % 26\n",
    "    z = int(z / 26)\n",
    "    x = x - 2\n",
    "    x = int(x != in08)\n",
    "    y = 25 * x\n",
    "    y = y + 1\n",
    "    z = z * y\n",
    "    y = in08 + 10\n",
    "    y = y * x\n",
    "    z = z + y\n",
    "\n",
    "    x = z % 26\n",
    "    z = int(z / 26)\n",
    "    x = x - 6\n",
    "    x = int(x != in09)\n",
    "    y = 25 * x\n",
    "    y = y + 1\n",
    "    z = z * y\n",
    "    y = in09 + 3\n",
    "    y = y * x\n",
    "    z = z + y\n",
    "\n",
    "    x = z % 26\n",
    "    x = x + 14\n",
    "    x = int(x != in10)\n",
    "    y = 25 * x\n",
    "    y = y + 1\n",
    "    z = z * y\n",
    "    y = in10 + 2\n",
    "    y = y * x\n",
    "    z = z + y\n",
    "\n",
    "    x = z % 26\n",
    "    z = int(z / 26)\n",
    "    x = int(x != in11)\n",
    "    y = 25 * x\n",
    "    y = y + 1\n",
    "    z = z * y\n",
    "    y = in11 + 2\n",
    "    y = y * x\n",
    "    z = z + y\n",
    "\n",
    "    x = z % 26\n",
    "    z = int(z / 26)\n",
    "    x = x - 15\n",
    "    x = int(x != in12)\n",
    "    y = 25 * x\n",
    "    y = y + 1\n",
    "    z = z * y\n",
    "    y = in12 + 12\n",
    "    y = y * x\n",
    "    z = z + y\n",
    "\n",
    "    x = z % 26\n",
    "    z = int(z / 26)\n",
    "    x = x - 4\n",
    "    x = int(x != in13)\n",
    "    y = 25 * x\n",
    "    y = y + 1\n",
    "    z = z * y\n",
    "    y = in13 + 7\n",
    "    y = y * x\n",
    "    z = z + y\n",
    "    \n",
    "    return z"
   ]
  },
  {
   "cell_type": "code",
   "execution_count": 40,
   "id": "26283a8b",
   "metadata": {},
   "outputs": [
    {
     "data": {
      "text/plain": [
       "5520917938"
      ]
     },
     "execution_count": 40,
     "metadata": {},
     "output_type": "execute_result"
    }
   ],
   "source": [
    "function(9, 9, 9, 9, 9, 9, 9, 9, 9, 6, 8, 9, 9, 9)"
   ]
  },
  {
   "cell_type": "code",
   "execution_count": null,
   "id": "16eb0bb0",
   "metadata": {},
   "outputs": [],
   "source": [
    "# result = 0\n",
    "# For each input:\n",
    "#   x = result mod 26\n",
    "#   x += a number depending on position (13, 12, 12, 10, -11, -13, 15, 10, -2, -6, 14, 0, -15, -4)\n",
    "#   If input index is 5, 6, 9, 10, 12, 13, 14: divide result by 26\n",
    "#   Check if x == current input:\n",
    "#     If yes (x=0), do nothing\n",
    "#     If no (x=1):\n",
    "#       Multiply result by 26\n",
    "#       y = current input + a number depending on position (8, 13, 8, 10, 12, 1, 13, 5, 10, 3, 2, 2, 12, 7)\n",
    "#       Add y to result"
   ]
  },
  {
   "cell_type": "code",
   "execution_count": 36,
   "id": "249e7d99",
   "metadata": {},
   "outputs": [],
   "source": [
    "def function2(*inputs):\n",
    "    in00, in01, in02, in03, in04, in05, in06, in07, in08, in09, in10, in11, in12, in13 = inputs\n",
    "    x, y, z = 0, 0, 0\n",
    "\n",
    "    if (z % 26) + 13 != in00:\n",
    "        z *= 26\n",
    "        z += in00 + 8\n",
    "    \n",
    "    if (z % 26) + 12 != in01:\n",
    "        z *= 26\n",
    "        z += in01 + 13\n",
    "    \n",
    "    if (z % 26) + 12 != in02:\n",
    "        z *= 26\n",
    "        z += in02 + 8\n",
    "\n",
    "    if (z % 26) + 10 != in03:\n",
    "        z *= 26\n",
    "        z += in03 + 10\n",
    "    \n",
    "    x = (z % 26) - 11\n",
    "    z = int(z / 26)\n",
    "    if x != in04:\n",
    "        z *= 26\n",
    "        z += in04 + 12\n",
    "\n",
    "    x = (z % 26) - 13\n",
    "    z = int(z / 26)\n",
    "    if x != in05:\n",
    "        z *= 26\n",
    "        z += in05 + 1\n",
    "\n",
    "    if (z % 26) + 15 != in06:\n",
    "        z *= 26\n",
    "        z += in06 + 13\n",
    "    \n",
    "    if (z % 26) + 10 != in07:\n",
    "        z *= 26\n",
    "        z += in07 + 5\n",
    "    \n",
    "    x = (z % 26) - 2\n",
    "    z = int(z / 26)\n",
    "    if x != in08:\n",
    "        z *= 26\n",
    "        z += in08 + 10\n",
    "    \n",
    "    x = (z % 26) - 6\n",
    "    z = int(z / 26)\n",
    "    if x != in09:\n",
    "        z *= 26\n",
    "        z += in09 + 3\n",
    "    \n",
    "    if (z % 26) + 14 != in10:\n",
    "        z *= 26\n",
    "        z += in10 + 2\n",
    "    \n",
    "    x = z % 26\n",
    "    z = int(z / 26)\n",
    "    if x != in11:\n",
    "        z *= 26\n",
    "        z += in11 + 2\n",
    "    \n",
    "    x = (z % 26) - 15\n",
    "    z = int(z / 26)\n",
    "    if x != in12:\n",
    "        z *= 26\n",
    "        z += in12 + 12\n",
    "    \n",
    "    x = (z % 26) - 4\n",
    "    z = int(z / 26)\n",
    "    if x != in13:\n",
    "        z *= 26\n",
    "        z += in13 + 7\n",
    "    \n",
    "    return z"
   ]
  },
  {
   "cell_type": "code",
   "execution_count": 41,
   "id": "dcfc92d7",
   "metadata": {},
   "outputs": [
    {
     "data": {
      "text/plain": [
       "5520917938"
      ]
     },
     "execution_count": 41,
     "metadata": {},
     "output_type": "execute_result"
    }
   ],
   "source": [
    "function2(9, 9, 9, 9, 9, 9, 9, 9, 9, 6, 8, 9, 9, 9)"
   ]
  },
  {
   "cell_type": "code",
   "execution_count": 44,
   "id": "93ca24b5",
   "metadata": {},
   "outputs": [
    {
     "name": "stdout",
     "output_type": "stream",
     "text": [
      "5 1 0\n",
      "6 2 0\n",
      "7 3 0\n",
      "8 4 0\n",
      "9 5 0\n",
      "10 6 0\n",
      "11 7 0\n",
      "12 8 0\n",
      "13 9 0\n"
     ]
    }
   ],
   "source": [
    "for z in range(26):\n",
    "    for in12 in range(1, 10):\n",
    "        x = (z % 26) - 4\n",
    "        z2 = int(z / 26)\n",
    "        if x != in12:\n",
    "            z2 *= 26\n",
    "            z2 += in12 + 7\n",
    "        if z2 == 0:\n",
    "            print(z, in12, z2)"
   ]
  },
  {
   "cell_type": "code",
   "execution_count": 599,
   "id": "d61a2437",
   "metadata": {},
   "outputs": [],
   "source": [
    "def part11(z, in11):\n",
    "    x = z % 26\n",
    "    z = int(z / 26)\n",
    "    x = int(x != in11)\n",
    "    y = 25 * x\n",
    "    y = y + 1\n",
    "    z = z * y\n",
    "    y = in11 + 2\n",
    "    y = y * x\n",
    "    z = z + y\n",
    "    return z"
   ]
  },
  {
   "cell_type": "code",
   "execution_count": 584,
   "id": "94a1d9d3",
   "metadata": {},
   "outputs": [],
   "source": [
    "def part12(z, in12):\n",
    "    x = z % 26\n",
    "    z = int(z / 26)\n",
    "    x = x - 15\n",
    "    x = int(x != in12)\n",
    "    y = 25 * x\n",
    "    y = y + 1\n",
    "    z = z * y\n",
    "    y = in12 + 12\n",
    "    y = y * x\n",
    "    z = z + y\n",
    "    return z"
   ]
  },
  {
   "cell_type": "code",
   "execution_count": 577,
   "id": "6e710a88",
   "metadata": {},
   "outputs": [],
   "source": [
    "def part13(z, in13):\n",
    "    x = z % 26\n",
    "    z = int(z / 26)\n",
    "    x = x - 4\n",
    "    x = int(x != in13)\n",
    "    y = 25 * x\n",
    "    y = y + 1\n",
    "    z = z * y\n",
    "    y = in13 + 7\n",
    "    y = y * x\n",
    "    z = z + y\n",
    "    return z"
   ]
  },
  {
   "cell_type": "code",
   "execution_count": 578,
   "id": "8356bffa",
   "metadata": {},
   "outputs": [],
   "source": [
    "# Part 10\n",
    "# Need in10 == (z % 26) + 14 to zero out result\n",
    "# Not possible.\n",
    "# So need result after this to be 0 mod 26\n",
    "\n",
    "# Part 11\n",
    "# Need in11 == (z % 26) to zero out result\n",
    "\n",
    "# Part 12\n",
    "# Need in12 == (z % 26) - 15 to zero out result\n",
    "\n",
    "# Part 13\n",
    "# Need in13 == (z % 26) - 4 to zero out result\n",
    "\n",
    "# (13, 12, 12, 10, -11, -13, 15, 10, -2, -6, 14, 0, -15, -4)"
   ]
  },
  {
   "cell_type": "code",
   "execution_count": 602,
   "id": "5976eb6e",
   "metadata": {},
   "outputs": [
    {
     "name": "stdout",
     "output_type": "stream",
     "text": [
      "1 3\n",
      "2 0\n",
      "3 5\n",
      "4 6\n",
      "5 7\n",
      "6 8\n",
      "7 9\n",
      "8 10\n",
      "9 11\n"
     ]
    }
   ],
   "source": [
    "for i in range(1, 10):\n",
    "    print(i, part11(2, i))"
   ]
  },
  {
   "cell_type": "code",
   "execution_count": null,
   "id": "58d5578f",
   "metadata": {},
   "outputs": [],
   "source": []
  },
  {
   "cell_type": "code",
   "execution_count": null,
   "id": "82683be6",
   "metadata": {},
   "outputs": [],
   "source": []
  },
  {
   "cell_type": "markdown",
   "id": "4c78af75",
   "metadata": {},
   "source": [
    "## Part 2"
   ]
  },
  {
   "cell_type": "code",
   "execution_count": null,
   "id": "afc49cb6",
   "metadata": {},
   "outputs": [],
   "source": []
  },
  {
   "cell_type": "code",
   "execution_count": null,
   "id": "fa8e5820",
   "metadata": {},
   "outputs": [],
   "source": []
  },
  {
   "cell_type": "code",
   "execution_count": null,
   "id": "2df98437",
   "metadata": {},
   "outputs": [],
   "source": []
  }
 ],
 "metadata": {
  "kernelspec": {
   "display_name": "Python 3 (ipykernel)",
   "language": "python",
   "name": "python3"
  },
  "language_info": {
   "codemirror_mode": {
    "name": "ipython",
    "version": 3
   },
   "file_extension": ".py",
   "mimetype": "text/x-python",
   "name": "python",
   "nbconvert_exporter": "python",
   "pygments_lexer": "ipython3",
   "version": "3.9.9"
  }
 },
 "nbformat": 4,
 "nbformat_minor": 5
}
