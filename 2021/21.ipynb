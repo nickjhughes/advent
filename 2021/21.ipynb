{
 "cells": [
  {
   "cell_type": "code",
   "execution_count": 108,
   "id": "f71fe61c",
   "metadata": {},
   "outputs": [],
   "source": [
    "import json\n",
    "import math\n",
    "import os\n",
    "import numpy as np\n",
    "import pandas as pd\n",
    "import matplotlib.pyplot as plt\n",
    "from collections import Counter, defaultdict\n",
    "%matplotlib inline"
   ]
  },
  {
   "cell_type": "code",
   "execution_count": 109,
   "id": "37066f70",
   "metadata": {},
   "outputs": [],
   "source": [
    "with open('input21', 'r') as f:\n",
    "    lines = [l.strip() for l in f.readlines()]"
   ]
  },
  {
   "cell_type": "markdown",
   "id": "13ae2ad9",
   "metadata": {},
   "source": [
    "## Part 1"
   ]
  },
  {
   "cell_type": "code",
   "execution_count": 4,
   "id": "11bea8a6",
   "metadata": {},
   "outputs": [],
   "source": [
    "lines = [\n",
    "    'Player 1 starting position: 4',\n",
    "    'Player 2 starting position: 8',\n",
    "]"
   ]
  },
  {
   "cell_type": "code",
   "execution_count": 5,
   "id": "4baf26af",
   "metadata": {},
   "outputs": [
    {
     "name": "stdout",
     "output_type": "stream",
     "text": [
      "739785\n"
     ]
    }
   ],
   "source": [
    "positions = [\n",
    "    int(lines[0].rsplit(' ', 1)[1]),\n",
    "    int(lines[1].rsplit(' ', 1)[1])\n",
    "]\n",
    "scores = [0, 0]\n",
    "last_dice_value = 100\n",
    "num_dice_rolls = 0\n",
    "\n",
    "cur_player = 0\n",
    "while max(scores) < 1000:\n",
    "    values = np.arange(last_dice_value + 1, last_dice_value + 4)\n",
    "    values[values > 100] -= 100\n",
    "    last_dice_value = values[-1]\n",
    "    num_dice_rolls += 3\n",
    "    roll = values.sum()\n",
    "    positions[cur_player] += roll\n",
    "    while positions[cur_player] > 10:\n",
    "        positions[cur_player] -= 10\n",
    "    scores[cur_player] += positions[cur_player]\n",
    "    if cur_player == 0:\n",
    "        cur_player = 1\n",
    "    else:\n",
    "        cur_player = 0\n",
    "print(min(scores) * num_dice_rolls)"
   ]
  },
  {
   "cell_type": "markdown",
   "id": "4c78af75",
   "metadata": {},
   "source": [
    "## Part 2"
   ]
  },
  {
   "cell_type": "code",
   "execution_count": 110,
   "id": "4f063cb0",
   "metadata": {},
   "outputs": [],
   "source": [
    "rolls = defaultdict(int)\n",
    "for i in range(1, 4):\n",
    "    for j in range(1, 4):\n",
    "        for k in range(1, 4):\n",
    "            rolls[i+j+k] += 1"
   ]
  },
  {
   "cell_type": "code",
   "execution_count": 111,
   "id": "9cf9e836",
   "metadata": {},
   "outputs": [],
   "source": [
    "def do_turn(p0, p1, s0, s1, player):\n",
    "    outcomes = defaultdict(int)\n",
    "    for roll, universe_count in rolls.items():\n",
    "        if player == 0:\n",
    "            new_p0 = p0 + roll\n",
    "            if new_p0 > 10:\n",
    "                new_p0 -= 10\n",
    "            new_s0 = s0 + new_p0\n",
    "            outcomes[(new_p0, p1, new_s0, s1)] += universe_count\n",
    "        else:\n",
    "            new_p1 = p1 + roll\n",
    "            if new_p1 > 10:\n",
    "                new_p1 -= 10\n",
    "            new_s1 = s1 + new_p1\n",
    "            outcomes[(p0, new_p1, s0, new_s1)] += universe_count\n",
    "    return outcomes"
   ]
  },
  {
   "cell_type": "code",
   "execution_count": 114,
   "id": "78fb1b0b",
   "metadata": {},
   "outputs": [
    {
     "name": "stdout",
     "output_type": "stream",
     "text": [
      "133029050096658 74014892331523\n"
     ]
    }
   ],
   "source": [
    "positions = [\n",
    "    int(lines[0].rsplit(' ', 1)[1]),\n",
    "    int(lines[1].rsplit(' ', 1)[1])\n",
    "]\n",
    "\n",
    "states = defaultdict(int)\n",
    "states[(positions[0], positions[1], 0, 0)] = 1\n",
    "player = 0\n",
    "while True:\n",
    "    new_states = defaultdict(int)\n",
    "    for state, current_count in states.items():\n",
    "        if max(state[2], state[3]) < 21:\n",
    "            new_turn_states = do_turn(*state, player)\n",
    "            for new_state, new_count in new_turn_states.items():\n",
    "                new_states[new_state] += current_count * new_count\n",
    "        else:\n",
    "            new_states[state] += current_count\n",
    "    states = new_states\n",
    "    \n",
    "    num_winning_states = 0\n",
    "    for state in new_states:\n",
    "        if max(state[2], state[3]) >= 21:\n",
    "            num_winning_states += 1\n",
    "    if num_winning_states == len(new_states):\n",
    "        break\n",
    "    \n",
    "    if player == 0:\n",
    "        player = 1\n",
    "    else:\n",
    "        player = 0\n",
    "\n",
    "p1_wins = 0\n",
    "p2_wins = 0\n",
    "for state, universe_count in states.items():\n",
    "    if state[2] > state[3]:\n",
    "        p1_wins += universe_count\n",
    "    else:\n",
    "        p2_wins += universe_count\n",
    "print(p1_wins, p2_wins)"
   ]
  }
 ],
 "metadata": {
  "kernelspec": {
   "display_name": "Python 3 (ipykernel)",
   "language": "python",
   "name": "python3"
  },
  "language_info": {
   "codemirror_mode": {
    "name": "ipython",
    "version": 3
   },
   "file_extension": ".py",
   "mimetype": "text/x-python",
   "name": "python",
   "nbconvert_exporter": "python",
   "pygments_lexer": "ipython3",
   "version": "3.8.0"
  }
 },
 "nbformat": 4,
 "nbformat_minor": 5
}
