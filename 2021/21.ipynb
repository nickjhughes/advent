{
 "cells": [
  {
   "cell_type": "code",
   "execution_count": 45,
   "id": "f71fe61c",
   "metadata": {},
   "outputs": [],
   "source": [
    "import json\n",
    "import math\n",
    "import os\n",
    "import numpy as np\n",
    "import pandas as pd\n",
    "import requests\n",
    "import browser_cookie3\n",
    "import matplotlib.pyplot as plt\n",
    "from collections import Counter, defaultdict\n",
    "%matplotlib inline"
   ]
  },
  {
   "cell_type": "code",
   "execution_count": 46,
   "id": "37066f70",
   "metadata": {},
   "outputs": [],
   "source": [
    "with open('input21', 'r') as f:\n",
    "    lines = [l.strip() for l in f.readlines()]"
   ]
  },
  {
   "cell_type": "markdown",
   "id": "13ae2ad9",
   "metadata": {},
   "source": [
    "## Part 1"
   ]
  },
  {
   "cell_type": "code",
   "execution_count": 43,
   "id": "11bea8a6",
   "metadata": {},
   "outputs": [],
   "source": [
    "lines = [\n",
    "    'Player 1 starting position: 4',\n",
    "    'Player 2 starting position: 8',\n",
    "]"
   ]
  },
  {
   "cell_type": "code",
   "execution_count": 47,
   "id": "4baf26af",
   "metadata": {},
   "outputs": [
    {
     "name": "stdout",
     "output_type": "stream",
     "text": [
      "805932\n"
     ]
    }
   ],
   "source": [
    "positions = [\n",
    "    int(lines[0].rsplit(' ', 1)[1]),\n",
    "    int(lines[1].rsplit(' ', 1)[1])\n",
    "]\n",
    "scores = [0, 0]\n",
    "last_dice_value = 100\n",
    "num_dice_rolls = 0\n",
    "\n",
    "cur_player = 0\n",
    "while max(scores) < 1000:\n",
    "    values = np.arange(last_dice_value + 1, last_dice_value + 4)\n",
    "    values[values > 100] -= 100\n",
    "    last_dice_value = values[-1]\n",
    "    num_dice_rolls += 3\n",
    "    roll = values.sum()\n",
    "    positions[cur_player] += roll\n",
    "    while positions[cur_player] > 10:\n",
    "        positions[cur_player] -= 10\n",
    "    scores[cur_player] += positions[cur_player]\n",
    "    if cur_player == 0:\n",
    "        cur_player = 1\n",
    "    else:\n",
    "        cur_player = 0\n",
    "print(min(scores) * num_dice_rolls)"
   ]
  },
  {
   "cell_type": "markdown",
   "id": "4c78af75",
   "metadata": {},
   "source": [
    "## Part 2"
   ]
  },
  {
   "cell_type": "code",
   "execution_count": 58,
   "id": "c93f4ee5",
   "metadata": {},
   "outputs": [],
   "source": [
    "lines = [\n",
    "    'Player 1 starting position: 4',\n",
    "    'Player 2 starting position: 8',\n",
    "]\n",
    "positions = [\n",
    "    int(lines[0].rsplit(' ', 1)[1]),\n",
    "    int(lines[1].rsplit(' ', 1)[1])\n",
    "]"
   ]
  },
  {
   "cell_type": "code",
   "execution_count": 57,
   "id": "97f60786",
   "metadata": {},
   "outputs": [
    {
     "data": {
      "text/plain": [
       "defaultdict(int, {3: 1, 4: 3, 5: 6, 6: 7, 7: 6, 8: 3, 9: 1})"
      ]
     },
     "execution_count": 57,
     "metadata": {},
     "output_type": "execute_result"
    }
   ],
   "source": [
    "outcomes = defaultdict(int)\n",
    "for i in range(1, 4):\n",
    "    for j in range(1, 4):\n",
    "        for k in range(1, 4):\n",
    "            outcomes[i+j+k] += 1\n",
    "outcomes"
   ]
  },
  {
   "cell_type": "code",
   "execution_count": 71,
   "id": "49a79daf",
   "metadata": {},
   "outputs": [
    {
     "data": {
      "text/plain": [
       "array([ 7,  8,  9, 10,  1,  2,  3])"
      ]
     },
     "execution_count": 71,
     "metadata": {},
     "output_type": "execute_result"
    }
   ],
   "source": [
    "rolls = np.arange(3, 10)\n",
    "new_pos = ((positions[0] - 1) + rolls) % 10 + 1\n",
    "new_pos"
   ]
  },
  {
   "cell_type": "code",
   "execution_count": null,
   "id": "58235c76",
   "metadata": {},
   "outputs": [],
   "source": []
  },
  {
   "cell_type": "code",
   "execution_count": null,
   "id": "0a64283b",
   "metadata": {},
   "outputs": [],
   "source": []
  }
 ],
 "metadata": {
  "kernelspec": {
   "display_name": "Python 3 (ipykernel)",
   "language": "python",
   "name": "python3"
  },
  "language_info": {
   "codemirror_mode": {
    "name": "ipython",
    "version": 3
   },
   "file_extension": ".py",
   "mimetype": "text/x-python",
   "name": "python",
   "nbconvert_exporter": "python",
   "pygments_lexer": "ipython3",
   "version": "3.9.9"
  }
 },
 "nbformat": 4,
 "nbformat_minor": 5
}
