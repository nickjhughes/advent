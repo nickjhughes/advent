{
 "cells": [
  {
   "cell_type": "code",
   "execution_count": 2,
   "id": "f71fe61c",
   "metadata": {},
   "outputs": [],
   "source": [
    "import json\n",
    "import math\n",
    "import os\n",
    "import numpy as np\n",
    "import pandas as pd\n",
    "import matplotlib.pyplot as plt\n",
    "from matplotlib.patches import Rectangle\n",
    "from collections import Counter, defaultdict\n",
    "%matplotlib inline"
   ]
  },
  {
   "cell_type": "code",
   "execution_count": 3,
   "id": "37066f70",
   "metadata": {},
   "outputs": [],
   "source": [
    "with open('input22', 'r') as f:\n",
    "    lines = [l.strip() for l in f.readlines()]"
   ]
  },
  {
   "cell_type": "markdown",
   "id": "13ae2ad9",
   "metadata": {},
   "source": [
    "## Part 1"
   ]
  },
  {
   "cell_type": "code",
   "execution_count": 5,
   "id": "11bea8a6",
   "metadata": {},
   "outputs": [],
   "source": [
    "lines = [\n",
    "    'on x=-20..26,y=-36..17,z=-47..7',\n",
    "    'on x=-20..33,y=-21..23,z=-26..28',\n",
    "    'on x=-22..28,y=-29..23,z=-38..16',\n",
    "    'on x=-46..7,y=-6..46,z=-50..-1',\n",
    "    'on x=-49..1,y=-3..46,z=-24..28',\n",
    "    'on x=2..47,y=-22..22,z=-23..27',\n",
    "    'on x=-27..23,y=-28..26,z=-21..29',\n",
    "    'on x=-39..5,y=-6..47,z=-3..44',\n",
    "    'on x=-30..21,y=-8..43,z=-13..34',\n",
    "    'on x=-22..26,y=-27..20,z=-29..19',\n",
    "    'off x=-48..-32,y=26..41,z=-47..-37',\n",
    "    'on x=-12..35,y=6..50,z=-50..-2',\n",
    "    'off x=-48..-32,y=-32..-16,z=-15..-5',\n",
    "    'on x=-18..26,y=-33..15,z=-7..46',\n",
    "    'off x=-40..-22,y=-38..-28,z=23..41',\n",
    "    'on x=-16..35,y=-41..10,z=-47..6',\n",
    "    'off x=-32..-23,y=11..30,z=-14..3',\n",
    "    'on x=-49..-5,y=-3..45,z=-29..18',\n",
    "    'off x=18..30,y=-20..-8,z=-3..13',\n",
    "    'on x=-41..9,y=-7..43,z=-33..15',\n",
    "#     'on x=-54112..-39298,y=-85059..-49293,z=-27449..7877',\n",
    "#     'on x=967..23432,y=45373..81175,z=27513..53682',\n",
    "]"
   ]
  },
  {
   "cell_type": "code",
   "execution_count": 6,
   "id": "4ea2fe31",
   "metadata": {},
   "outputs": [],
   "source": [
    "steps = []\n",
    "for line in lines: #lines[:20]:  # Just steps within [-50, 50]\n",
    "    state, coords = line.split()\n",
    "    state = 1 if state == 'on' else 0\n",
    "    ranges = []\n",
    "    for coord in coords.split(','):\n",
    "        _, range_ = coord.split('=')\n",
    "        ranges.append(tuple(int(v) for v in range_.split('..')))\n",
    "    steps.append((state, ranges))"
   ]
  },
  {
   "cell_type": "code",
   "execution_count": 7,
   "id": "fc9ea5a4",
   "metadata": {},
   "outputs": [
    {
     "name": "stdout",
     "output_type": "stream",
     "text": [
      "590784\n"
     ]
    }
   ],
   "source": [
    "xrange, yrange, zrange = np.arange(-50, 51), np.arange(-50, 51), np.arange(-50, 51)\n",
    "cubes = np.zeros((len(xrange), len(yrange), len(zrange)))\n",
    "\n",
    "for step in steps:\n",
    "    state, ranges = step\n",
    "    x, y, z = ranges\n",
    "    x = np.clip(x, -50, 50) + 50\n",
    "    y = np.clip(y, -50, 50) + 50\n",
    "    z = np.clip(z, -50, 50) + 50\n",
    "    cubes[x[0]:x[1]+1, y[0]:y[1]+1, z[0]:z[1]+1] = state\n",
    "print(int(cubes.sum()))"
   ]
  },
  {
   "cell_type": "markdown",
   "id": "4c78af75",
   "metadata": {},
   "source": [
    "## Part 2"
   ]
  },
  {
   "cell_type": "code",
   "execution_count": 88,
   "id": "49e8329f",
   "metadata": {},
   "outputs": [],
   "source": [
    "lines = [\n",
    "    'on x=-5..47,y=-31..22,z=-19..33',\n",
    "    'on x=-44..5,y=-27..21,z=-14..35',\n",
    "    'on x=-49..-1,y=-11..42,z=-10..38',\n",
    "    'on x=-20..34,y=-40..6,z=-44..1',\n",
    "    'off x=26..39,y=40..50,z=-2..11',\n",
    "    'on x=-41..5,y=-41..6,z=-36..8',\n",
    "    'off x=-43..-33,y=-45..-28,z=7..25',\n",
    "    'on x=-33..15,y=-32..19,z=-34..11',\n",
    "    'off x=35..47,y=-46..-34,z=-11..5',\n",
    "    'on x=-14..36,y=-6..44,z=-16..29',\n",
    "    'on x=-57795..-6158,y=29564..72030,z=20435..90618',\n",
    "    'on x=36731..105352,y=-21140..28532,z=16094..90401',\n",
    "    'on x=30999..107136,y=-53464..15513,z=8553..71215',\n",
    "    'on x=13528..83982,y=-99403..-27377,z=-24141..23996',\n",
    "    'on x=-72682..-12347,y=18159..111354,z=7391..80950',\n",
    "    'on x=-1060..80757,y=-65301..-20884,z=-103788..-16709',\n",
    "    'on x=-83015..-9461,y=-72160..-8347,z=-81239..-26856',\n",
    "    'on x=-52752..22273,y=-49450..9096,z=54442..119054',\n",
    "    'on x=-29982..40483,y=-108474..-28371,z=-24328..38471',\n",
    "    'on x=-4958..62750,y=40422..118853,z=-7672..65583',\n",
    "    'on x=55694..108686,y=-43367..46958,z=-26781..48729',\n",
    "    'on x=-98497..-18186,y=-63569..3412,z=1232..88485',\n",
    "    'on x=-726..56291,y=-62629..13224,z=18033..85226',\n",
    "    'on x=-110886..-34664,y=-81338..-8658,z=8914..63723',\n",
    "    'on x=-55829..24974,y=-16897..54165,z=-121762..-28058',\n",
    "    'on x=-65152..-11147,y=22489..91432,z=-58782..1780',\n",
    "    'on x=-120100..-32970,y=-46592..27473,z=-11695..61039',\n",
    "    'on x=-18631..37533,y=-124565..-50804,z=-35667..28308',\n",
    "    'on x=-57817..18248,y=49321..117703,z=5745..55881',\n",
    "    'on x=14781..98692,y=-1341..70827,z=15753..70151',\n",
    "    'on x=-34419..55919,y=-19626..40991,z=39015..114138',\n",
    "    'on x=-60785..11593,y=-56135..2999,z=-95368..-26915',\n",
    "    'on x=-32178..58085,y=17647..101866,z=-91405..-8878',\n",
    "    'on x=-53655..12091,y=50097..105568,z=-75335..-4862',\n",
    "    'on x=-111166..-40997,y=-71714..2688,z=5609..50954',\n",
    "    'on x=-16602..70118,y=-98693..-44401,z=5197..76897',\n",
    "    'on x=16383..101554,y=4615..83635,z=-44907..18747',\n",
    "    'off x=-95822..-15171,y=-19987..48940,z=10804..104439',\n",
    "    'on x=-89813..-14614,y=16069..88491,z=-3297..45228',\n",
    "    'on x=41075..99376,y=-20427..49978,z=-52012..13762',\n",
    "    'on x=-21330..50085,y=-17944..62733,z=-112280..-30197',\n",
    "    'on x=-16478..35915,y=36008..118594,z=-7885..47086',\n",
    "    'off x=-98156..-27851,y=-49952..43171,z=-99005..-8456',\n",
    "    'off x=2032..69770,y=-71013..4824,z=7471..94418',\n",
    "    'on x=43670..120875,y=-42068..12382,z=-24787..38892',\n",
    "    'off x=37514..111226,y=-45862..25743,z=-16714..54663',\n",
    "    'off x=25699..97951,y=-30668..59918,z=-15349..69697',\n",
    "    'off x=-44271..17935,y=-9516..60759,z=49131..112598',\n",
    "    'on x=-61695..-5813,y=40978..94975,z=8655..80240',\n",
    "    'off x=-101086..-9439,y=-7088..67543,z=33935..83858',\n",
    "    'off x=18020..114017,y=-48931..32606,z=21474..89843',\n",
    "    'off x=-77139..10506,y=-89994..-18797,z=-80..59318',\n",
    "    'off x=8476..79288,y=-75520..11602,z=-96624..-24783',\n",
    "    'on x=-47488..-1262,y=24338..100707,z=16292..72967',\n",
    "    'off x=-84341..13987,y=2429..92914,z=-90671..-1318',\n",
    "    'off x=-37810..49457,y=-71013..-7894,z=-105357..-13188',\n",
    "    'off x=-27365..46395,y=31009..98017,z=15428..76570',\n",
    "    'off x=-70369..-16548,y=22648..78696,z=-1892..86821',\n",
    "    'on x=-53470..21291,y=-120233..-33476,z=-44150..38147',\n",
    "    'off x=-93533..-4276,y=-16170..68771,z=-104985..-24507',\n",
    "]"
   ]
  },
  {
   "cell_type": "code",
   "execution_count": 3,
   "id": "83467771",
   "metadata": {},
   "outputs": [],
   "source": [
    "lines = [\n",
    "    'on x=-20..26,y=-36..17,z=-47..7',\n",
    "    'on x=-20..33,y=-21..23,z=-26..28',\n",
    "    'on x=-22..28,y=-29..23,z=-38..16',\n",
    "    'on x=-46..7,y=-6..46,z=-50..-1',\n",
    "    'on x=-49..1,y=-3..46,z=-24..28',\n",
    "    'on x=2..47,y=-22..22,z=-23..27',\n",
    "    'on x=-27..23,y=-28..26,z=-21..29',\n",
    "    'on x=-39..5,y=-6..47,z=-3..44',\n",
    "    'on x=-30..21,y=-8..43,z=-13..34',\n",
    "    'on x=-22..26,y=-27..20,z=-29..19',\n",
    "    'off x=-48..-32,y=26..41,z=-47..-37',\n",
    "    'on x=-12..35,y=6..50,z=-50..-2',\n",
    "    'off x=-48..-32,y=-32..-16,z=-15..-5',\n",
    "    'on x=-18..26,y=-33..15,z=-7..46',\n",
    "    'off x=-40..-22,y=-38..-28,z=23..41',\n",
    "    'on x=-16..35,y=-41..10,z=-47..6',\n",
    "    'off x=-32..-23,y=11..30,z=-14..3',\n",
    "    'on x=-49..-5,y=-3..45,z=-29..18',\n",
    "    'off x=18..30,y=-20..-8,z=-3..13',\n",
    "    'on x=-41..9,y=-7..43,z=-33..15',\n",
    "]"
   ]
  },
  {
   "cell_type": "code",
   "execution_count": 4,
   "id": "78580d78",
   "metadata": {},
   "outputs": [],
   "source": [
    "lines = [\n",
    "    'on x=10..12,y=10..12,z=10..12',\n",
    "    'on x=11..13,y=11..13,z=11..13',\n",
    "    'off x=9..11,y=9..11,z=9..11',\n",
    "    'on x=10..10,y=10..10,z=10..10',\n",
    "]"
   ]
  },
  {
   "cell_type": "code",
   "execution_count": 5,
   "id": "e6cae5f7",
   "metadata": {},
   "outputs": [],
   "source": [
    "steps = []\n",
    "for line in lines:\n",
    "    state, coords = line.split()\n",
    "    state = 1 if state == 'on' else 0\n",
    "    ranges = []\n",
    "    for coord in coords.split(','):\n",
    "        _, range_ = coord.split('=')\n",
    "        ranges.append(tuple(int(v) for v in range_.split('..')))\n",
    "    steps.append((state, ranges))"
   ]
  },
  {
   "cell_type": "code",
   "execution_count": 158,
   "id": "b43feb04",
   "metadata": {},
   "outputs": [],
   "source": [
    "def range_size(r):\n",
    "    x, y, z = r\n",
    "    return (x[1] + 1 - x[0]) * (y[1] + 1 - y[0]) * (z[1] + 1 - z[0])"
   ]
  },
  {
   "cell_type": "code",
   "execution_count": 159,
   "id": "3620329b",
   "metadata": {},
   "outputs": [],
   "source": [
    "def range_intersection_size(r1, r2):\n",
    "    intersection = range_intersection(r1, r2)\n",
    "    if intersection:\n",
    "        return range_size(intersection)\n",
    "    else:\n",
    "        return 0"
   ]
  },
  {
   "cell_type": "code",
   "execution_count": 160,
   "id": "d288c342",
   "metadata": {},
   "outputs": [],
   "source": [
    "def range_intersection(r1, r2):\n",
    "    x1, y1, z1 = r1\n",
    "    x2, y2, z2 = r2\n",
    "    if (x1[0] <= x2[1] and x1[1] >= x2[0]) and (y1[0] <= y2[1] and y1[1] >= y2[0]) and (z1[0] <= z2[1] and z1[1] >= z2[0]):\n",
    "        xi = [max(x1[0], x2[0]), min(x1[1], x2[1])]\n",
    "        yi = [max(y1[0], y2[0]), min(y1[1], y2[1])]\n",
    "        zi = [max(z1[0], z2[0]), min(z1[1], z2[1])]\n",
    "        return (xi, yi, zi)\n",
    "    else:\n",
    "        return None"
   ]
  },
  {
   "cell_type": "code",
   "execution_count": 167,
   "id": "6625c0f3",
   "metadata": {},
   "outputs": [
    {
     "name": "stdout",
     "output_type": "stream",
     "text": [
      "8\n",
      "1\n",
      "0\n",
      "([11, 12], [11, 12], [11, 12])\n",
      "None\n",
      "46\n"
     ]
    }
   ],
   "source": [
    "total_cubes = 0\n",
    "on_steps = [s for s in steps if s[0] == 1]\n",
    "\n",
    "# Sum on ranges\n",
    "for step in on_steps:\n",
    "    state, ranges = step\n",
    "    total_cubes += range_size(ranges)\n",
    "\n",
    "# Subtract pairwise intersections of on ranges\n",
    "for i, step1 in enumerate(on_steps):\n",
    "    for j, step2 in enumerate(on_steps):\n",
    "        if i >= j:\n",
    "            continue\n",
    "        state1, ranges1 = step1\n",
    "        state2, ranges2 = step2\n",
    "        print(range_intersection_size(ranges1, ranges2))\n",
    "        total_cubes -= range_intersection_size(ranges1, ranges2)\n",
    "\n",
    "# Add back interesection of all on ranges\n",
    "intersection = on_steps[0][1]\n",
    "for step in on_steps[1:]:\n",
    "    intersection = range_intersection(intersection, step[1])\n",
    "    print(intersection)\n",
    "    if intersection is None:\n",
    "        break\n",
    "if intersection:\n",
    "    total_cubes += range_size(intersection)\n",
    "\n",
    "print(total_cubes)"
   ]
  },
  {
   "cell_type": "code",
   "execution_count": null,
   "id": "59cbd635",
   "metadata": {},
   "outputs": [],
   "source": []
  },
  {
   "cell_type": "code",
   "execution_count": 93,
   "id": "21e5c332",
   "metadata": {},
   "outputs": [
    {
     "name": "stdout",
     "output_type": "stream",
     "text": [
      "0 1 62322\n",
      "0 2 101614\n",
      "0 3 31584\n",
      "0 4 14784\n",
      "0 5 31000\n",
      "0 6 58696\n",
      "0 7 6864\n",
      "0 8 22932\n",
      "0 9 78255\n",
      "0 10 0\n",
      "0 11 21528\n",
      "0 12 0\n",
      "0 13 33075\n",
      "0 14 0\n",
      "0 15 109134\n",
      "0 16 0\n",
      "0 17 12432\n",
      "0 18 1287\n",
      "0 19 30750\n",
      "1 2 94815\n",
      "1 3 21840\n",
      "1 4 31482\n",
      "1 5 71808\n",
      "1 6 99000\n",
      "1 7 24960\n",
      "1 8 56448\n",
      "1 9 90804\n",
      "1 10 0\n",
      "1 11 20700\n",
      "1 12 0\n",
      "1 13 59940\n",
      "1 14 0\n",
      "1 15 52800\n",
      "1 16 0\n",
      "1 17 19440\n",
      "1 18 2873\n",
      "1 19 39060\n",
      "2 3 34200\n",
      "2 4 26568\n",
      "2 5 48600\n",
      "2 6 90896\n",
      "2 7 16800\n",
      "2 8 42240\n",
      "2 9 108192\n",
      "2 10 0\n",
      "2 11 27306\n",
      "2 12 0\n",
      "2 13 48600\n",
      "2 14 0\n",
      "2 15 81000\n",
      "2 16 0\n",
      "2 17 22356\n",
      "2 18 2431\n",
      "2 19 48608\n",
      "3 4 57600\n",
      "3 5 4002\n",
      "3 6 24255\n",
      "3 7 7155\n",
      "3 8 24700\n",
      "3 9 23490\n",
      "3 10 2640\n",
      "3 11 40180\n",
      "3 12 0\n",
      "3 13 4004\n",
      "3 14 0\n",
      "3 15 19176\n",
      "3 16 2800\n",
      "3 17 59682\n",
      "3 18 0\n",
      "3 19 80850\n",
      "4 5 0\n",
      "4 6 43500\n",
      "4 7 65600\n",
      "4 8 63168\n",
      "4 9 25344\n",
      "4 10 0\n",
      "4 11 13202\n",
      "4 12 0\n",
      "4 13 13680\n",
      "4 14 0\n",
      "4 15 7812\n",
      "4 16 3600\n",
      "4 17 94815\n",
      "4 18 0\n",
      "4 19 80840\n",
      "5 6 48510\n",
      "5 7 3596\n",
      "5 8 25420\n",
      "5 9 46225\n",
      "5 10 0\n",
      "5 11 12716\n",
      "5 12 0\n",
      "5 13 33250\n",
      "5 14 0\n",
      "5 15 33660\n",
      "5 16 0\n",
      "5 17 0\n",
      "5 18 2873\n",
      "5 19 9360\n",
      "6 7 35937\n",
      "6 8 73745\n",
      "6 9 90528\n",
      "6 10 0\n",
      "6 11 15120\n",
      "6 12 0\n",
      "6 13 68376\n",
      "6 14 42\n",
      "6 15 43680\n",
      "6 16 1440\n",
      "6 17 27600\n",
      "6 18 1326\n",
      "6 19 46546\n",
      "7 8 68400\n",
      "7 9 17388\n",
      "7 10 0\n",
      "7 11 1512\n",
      "7 12 0\n",
      "7 13 25344\n",
      "7 14 0\n",
      "7 15 3740\n",
      "7 16 1400\n",
      "7 17 37730\n",
      "7 18 0\n",
      "7 19 42750\n",
      "8 9 42108\n",
      "8 10 0\n",
      "8 11 15504\n",
      "8 12 0\n",
      "8 13 40320\n",
      "8 14 0\n",
      "8 15 14440\n",
      "8 16 2720\n",
      "8 17 39104\n",
      "8 18 68\n",
      "8 19 59160\n",
      "9 10 0\n",
      "9 11 16380\n",
      "9 12 0\n",
      "9 13 52245\n",
      "9 14 0\n",
      "9 15 58824\n",
      "9 16 0\n",
      "9 17 20736\n",
      "9 18 1989\n",
      "9 19 40320\n",
      "10 11 0\n",
      "10 12 0\n",
      "10 13 0\n",
      "10 14 0\n",
      "10 15 0\n",
      "10 16 0\n",
      "10 17 0\n",
      "10 18 0\n",
      "10 19 0\n",
      "11 12 0\n",
      "11 13 2340\n",
      "11 14 0\n",
      "11 15 11040\n",
      "11 16 0\n",
      "11 17 8960\n",
      "11 18 0\n",
      "11 19 26752\n",
      "12 13 0\n",
      "12 14 0\n",
      "12 15 0\n",
      "12 16 0\n",
      "12 17 0\n",
      "12 18 0\n",
      "12 19 0\n",
      "13 14 0\n",
      "13 15 26488\n",
      "13 16 0\n",
      "13 17 6916\n",
      "13 18 1989\n",
      "13 19 14812\n",
      "14 15 0\n",
      "14 16 0\n",
      "14 17 0\n",
      "14 18 0\n",
      "14 19 0\n",
      "15 16 0\n",
      "15 17 6048\n",
      "15 18 1690\n",
      "15 19 18720\n",
      "16 17 3600\n",
      "16 18 0\n",
      "16 19 3600\n",
      "17 18 0\n",
      "17 19 78255\n",
      "18 19 0\n"
     ]
    }
   ],
   "source": [
    "combo_results = []\n",
    "for i, step1 in enumerate(steps):\n",
    "    for j, step2 in enumerate(steps):\n",
    "        if i >= j:\n",
    "            continue\n",
    "        state1, ranges1 = step1\n",
    "        state2, ranges2 = step2\n",
    "        size1 = range_size(ranges1[0], ranges1[1], ranges1[2])\n",
    "        size2 = range_size(ranges2[0], ranges2[1], ranges2[2])\n",
    "        intersection = range_intersection(ranges1[0], ranges1[1], ranges1[2], ranges2[0], ranges2[1], ranges2[2])\n",
    "        print(i, j, intersection)\n",
    "#         if state1 == state2 and state1 == 0:\n",
    "#             continue\n",
    "#         elif state1 == state2 and state2 == 1:\n",
    "#             combo_results.append(size1 + size2 - intersection)\n",
    "#         elif state1 == 1 and state2 == 0:\n",
    "#             combo_results.append(size1 - intersection)\n",
    "#         elif state1 == 0 and state2 == 1:\n",
    "#             combo_results.append(size2 - intersection)\n",
    "# print(sum(combo_results))"
   ]
  },
  {
   "cell_type": "code",
   "execution_count": null,
   "id": "31f787a3",
   "metadata": {},
   "outputs": [],
   "source": []
  },
  {
   "cell_type": "code",
   "execution_count": null,
   "id": "15728fc9",
   "metadata": {},
   "outputs": [],
   "source": []
  },
  {
   "cell_type": "code",
   "execution_count": null,
   "id": "a5581cfe",
   "metadata": {},
   "outputs": [],
   "source": []
  },
  {
   "cell_type": "markdown",
   "id": "b7167890",
   "metadata": {},
   "source": [
    "## 2D Example"
   ]
  },
  {
   "cell_type": "code",
   "execution_count": 3,
   "id": "f673be01",
   "metadata": {},
   "outputs": [],
   "source": [
    "def range_area(r):\n",
    "    x, y = r\n",
    "    if x[1] <= x[0]:\n",
    "        return 0\n",
    "    if y[1] <= y[0]:\n",
    "        return 0\n",
    "    return (x[1] - x[0]) * (y[1] - y[0])"
   ]
  },
  {
   "cell_type": "code",
   "execution_count": 4,
   "id": "3af91da2",
   "metadata": {},
   "outputs": [],
   "source": [
    "orig_steps = [\n",
    "    (1, [(1, 4+1), (2, 5+1)]),\n",
    "    (1, [(2, 5+1), (-1, 3+1)]),\n",
    "    (1, [(4, 6+1), (3, 6+1)]),\n",
    "    (0, [(3, 8), (-2, 1)])\n",
    "]"
   ]
  },
  {
   "cell_type": "code",
   "execution_count": 5,
   "id": "5ebfedd6",
   "metadata": {},
   "outputs": [
    {
     "data": {
      "image/png": "[encoded data removed]",
      "text/plain": [
       "<Figure size 720x720 with 1 Axes>"
      ]
     },
     "metadata": {
      "needs_background": "light"
     },
     "output_type": "display_data"
    }
   ],
   "source": [
    "ax = plt.figure(figsize=(10, 10)).add_subplot(111)\n",
    "\n",
    "for i, step in enumerate(orig_steps):\n",
    "    state, ranges = step\n",
    "    x, y = ranges\n",
    "    ax.add_patch(Rectangle(\n",
    "        (x[0], y[0]), x[1] - x[0], y[1] - y[0],\n",
    "        color='red' if state == 1 else 'blue',\n",
    "        alpha=0.25,\n",
    "        linewidth=4\n",
    "    ))\n",
    "    ax.text(x[0], y[0], str(i+1))\n",
    "ax.plot([0, 0], [0, 0])\n",
    "ax.set(xlim=[-2, 8], ylim=[-2, 8]);"
   ]
  },
  {
   "cell_type": "code",
   "execution_count": 74,
   "id": "a7083d0b",
   "metadata": {},
   "outputs": [],
   "source": [
    "lines = [\n",
    "    'on x=-20..26,y=-36..17,z=-47..7',\n",
    "    'on x=-20..33,y=-21..23,z=-26..28',\n",
    "    'on x=-22..28,y=-29..23,z=-38..16',\n",
    "    'on x=-46..7,y=-6..46,z=-50..-1',\n",
    "    'on x=-49..1,y=-3..46,z=-24..28',\n",
    "    'on x=2..47,y=-22..22,z=-23..27',\n",
    "    'on x=-27..23,y=-28..26,z=-21..29',\n",
    "    'on x=-39..5,y=-6..47,z=-3..44',\n",
    "    'on x=-30..21,y=-8..43,z=-13..34',\n",
    "    'on x=-22..26,y=-27..20,z=-29..19',\n",
    "    'off x=-48..-32,y=26..41,z=-47..-37',\n",
    "    'on x=-12..35,y=6..50,z=-50..-2',\n",
    "    'off x=-48..-32,y=-32..-16,z=-15..-5',\n",
    "    'on x=-18..26,y=-33..15,z=-7..46',\n",
    "    'off x=-40..-22,y=-38..-28,z=23..41',\n",
    "    'on x=-16..35,y=-41..10,z=-47..6',\n",
    "    'off x=-32..-23,y=11..30,z=-14..3',\n",
    "    'on x=-49..-5,y=-3..45,z=-29..18',\n",
    "    'off x=18..30,y=-20..-8,z=-3..13',\n",
    "    'on x=-41..9,y=-7..43,z=-33..15',\n",
    "]"
   ]
  },
  {
   "cell_type": "code",
   "execution_count": 75,
   "id": "cd752c52",
   "metadata": {},
   "outputs": [
    {
     "name": "stdout",
     "output_type": "stream",
     "text": [
      "[(1, [(-20, 26), (-36, 17)], 0), (1, [(-20, 33), (-21, 23)], 1), (1, [(-22, 28), (-29, 23)], 2), (1, [(-46, 7), (-6, 46)], 3), (1, [(-49, 1), (-3, 46)], 4), (1, [(2, 47), (-22, 22)], 5), (1, [(-27, 23), (-28, 26)], 6), (1, [(-39, 5), (-6, 47)], 7), (1, [(-30, 21), (-8, 43)], 8), (1, [(-22, 26), (-27, 20)], 9), (0, [(-48, -32), (26, 41)], 10), (1, [(-12, 35), (6, 50)], 11), (0, [(-48, -32), (-32, -16)], 12), (1, [(-18, 26), (-33, 15)], 13), (0, [(-40, -22), (-38, -28)], 14), (1, [(-16, 35), (-41, 10)], 15), (0, [(-32, -23), (11, 30)], 16), (1, [(-49, -5), (-3, 45)], 17), (0, [(18, 30), (-20, -8)], 18), (1, [(-41, 9), (-7, 43)], 19)]\n"
     ]
    }
   ],
   "source": [
    "steps = []\n",
    "for i, line in enumerate(lines):\n",
    "    state, coords = line.split()\n",
    "    state = 1 if state == 'on' else 0\n",
    "    ranges = []\n",
    "    for coord in coords.split(',')[:2]:\n",
    "        _, range_ = coord.split('=')\n",
    "        ranges.append(tuple(int(v) for v in range_.split('..')))\n",
    "    steps.append((state, ranges, i))\n",
    "print(steps)"
   ]
  },
  {
   "cell_type": "code",
   "execution_count": 76,
   "id": "da085e4d",
   "metadata": {},
   "outputs": [],
   "source": [
    "orig_steps = steps\n",
    "# for line in lines\n",
    "    \n",
    "\n",
    "# orig_steps = [\n",
    "#     (1, [(1, 4+1), (2, 5+1)], 0),\n",
    "#     (1, [(2, 5+1), (-1, 3+1)], 1),\n",
    "#     (0, [(3, 5+1), (5, 6+1)], 2),\n",
    "#     (1, [(4, 6+1), (3, 6+1)], 3),\n",
    "#     (0, [(3, 7+1), (-2, 0+1)], 4),\n",
    "#     (0, [(0, 3+1), (-1, 0+1)], 5),\n",
    "# ]\n",
    "\n",
    "steps = orig_steps\n",
    "\n",
    "found_intersections = True\n",
    "while found_intersections:\n",
    "    found_intersections = False\n",
    "    new_steps = []\n",
    "    steps_split = []\n",
    "    for i, step1 in enumerate(steps):\n",
    "        for j, step2 in enumerate(steps):\n",
    "            if i >= j:\n",
    "                continue\n",
    "\n",
    "            state1, ranges1, seq1 = step1\n",
    "            x1, y1 = ranges1\n",
    "            state2, ranges2, seq2 = step2\n",
    "            x2, y2 = ranges2\n",
    "            \n",
    "            if found_intersections:\n",
    "                if i not in steps_split:\n",
    "                    new_steps.append(step1)\n",
    "                if j not in steps_split:\n",
    "                    new_steps.append(step2)\n",
    "                continue\n",
    "\n",
    "            # Intersection\n",
    "            xi = [max(x1[0], x2[0]), min(x1[1], x2[1])]\n",
    "            yi = [max(y1[0], y2[0]), min(y1[1], y2[1])]\n",
    "            if range_area((xi, yi)) > 0 and (range_area((xi, yi)) != range_area(ranges2) or state1 == state2):\n",
    "                # print(xi, yi)\n",
    "                # print(f'{iteration}: {step1} ({i+1}) and {step2} ({j+1}) overlap')\n",
    "                found_intersections = True\n",
    "                if state1 != state2:\n",
    "                    if seq1 > seq2:\n",
    "                        new_steps.append((state1, [xi, yi], seq1))\n",
    "                    else:\n",
    "                        new_steps.append((state2, [xi, yi], seq2))\n",
    "                else:\n",
    "                    new_steps.append((state1, [xi, yi], max(seq1, seq2)))\n",
    "                steps_split.extend([i, j])\n",
    "            else:\n",
    "                new_steps.extend([step1, step2])\n",
    "                continue\n",
    "\n",
    "            # y-aligned portion at lower x\n",
    "            xi = [min(x1[0], x2[0]), max(x1[0], x2[0])]\n",
    "            yi = [max(y1[0], y2[0]), min(y1[1], y2[1])]\n",
    "            new_state = state1 if min(x1[0], x2[0]) == x1[0] else state2\n",
    "            new_seq = seq1 if min(x1[0], x2[0]) == x1[0] else seq2\n",
    "            if range_area((xi, yi)) > 0:\n",
    "                new_steps.append((new_state, [xi, yi], new_seq))\n",
    "\n",
    "            # y-aligned portion at higher x\n",
    "            xi = [min(x1[1], x2[1]), max(x1[1], x2[1])]\n",
    "            yi = [max(y1[0], y2[0]), min(y1[1], y2[1])]\n",
    "            new_state = state1 if max(x1[1], x2[1]) == x1[1] else state2\n",
    "            new_seq = seq1 if max(x1[1], x2[1]) == x1[1] else seq2\n",
    "            if range_area((xi, yi)) > 0:\n",
    "                new_steps.append((new_state, [xi, yi], new_seq))\n",
    "\n",
    "            # remainder of lower y range\n",
    "            xi = x1 if min(y1[0], y2[0]) == y1[0] else x2\n",
    "            yi = [min(y1[0], y2[0]), max(y1[0], y2[0])]\n",
    "            new_state = state1 if min(y1[0], y2[0]) == y1[0] else state2\n",
    "            new_seq = seq1 if min(y1[0], y2[0]) == y1[0] else seq2\n",
    "            if range_area((xi, yi)) > 0:\n",
    "                new_steps.append((new_state, [xi, yi], new_seq))\n",
    "\n",
    "            # remainder of higher y range\n",
    "            xi = x1 if max(y1[1], y2[1]) == y1[1] else x2\n",
    "            yi = [min(y1[1], y2[1]), max(y1[1], y2[1])]\n",
    "            new_state = state1 if max(y1[1], y2[1]) == y1[1] else state2\n",
    "            new_seq = seq1 if max(y1[1], y2[1]) == y1[1]else seq2\n",
    "            if range_area((xi, yi)) > 0:\n",
    "                new_steps.append((new_state, [xi, yi], new_seq))\n",
    "    \n",
    "    # Remove split steps\n",
    "    if len(steps_split) > 0:\n",
    "        splits_removed = []\n",
    "        for step in new_steps:\n",
    "            state, ranges, seq = step\n",
    "            x, y = ranges\n",
    "            found = False\n",
    "            for other in [steps[steps_split[0]], steps[steps_split[1]]]:\n",
    "                state1, ranges1, seq1 = other\n",
    "                x1, y1 = ranges1\n",
    "                if state == state1 and x[0] == x1[0] and x[1] == x1[1] and y[0] == y1[0] and y[1] == y1[1]:\n",
    "                    found = True\n",
    "                    break\n",
    "            if not found:\n",
    "                splits_removed.append(step)\n",
    "        new_steps = splits_removed\n",
    "\n",
    "    deduped_steps = []\n",
    "    for step in new_steps:\n",
    "        state, ranges, seq = step\n",
    "        x, y = ranges\n",
    "        found = False\n",
    "        for other in deduped_steps:\n",
    "            state1, ranges1, seq1 = other\n",
    "            x1, y1 = ranges1\n",
    "            if state == state1 and x[0] == x1[0] and x[1] == x1[1] and y[0] == y1[0] and y[1] == y1[1]:\n",
    "                found = True\n",
    "                break\n",
    "        if not found:\n",
    "            deduped_steps.append(step)\n",
    "    steps = deduped_steps\n",
    "# print(len(steps))\n",
    "# print(steps)"
   ]
  },
  {
   "cell_type": "code",
   "execution_count": 77,
   "id": "01237ac4",
   "metadata": {},
   "outputs": [
    {
     "name": "stdout",
     "output_type": "stream",
     "text": [
      "5172\n"
     ]
    }
   ],
   "source": [
    "total_area = 0\n",
    "for state, ranges, _ in steps:\n",
    "    if state == 1:\n",
    "        total_area += range_area(ranges)\n",
    "print(total_area)"
   ]
  },
  {
   "cell_type": "code",
   "execution_count": 78,
   "id": "21f41659",
   "metadata": {},
   "outputs": [
    {
     "data": {
      "image/png": "[encoded data removed]",
      "text/plain": [
       "<Figure size 720x720 with 1 Axes>"
      ]
     },
     "metadata": {
      "needs_background": "light"
     },
     "output_type": "display_data"
    }
   ],
   "source": [
    "ax = plt.figure(figsize=(10, 10)).add_subplot(111)\n",
    "\n",
    "for i, step in enumerate(steps):\n",
    "    state, ranges, seq = step\n",
    "    x, y = ranges\n",
    "    ax.add_patch(Rectangle(\n",
    "        (x[0], y[0]), x[1] - x[0], y[1] - y[0],\n",
    "        color='red' if state == 1 else 'blue',\n",
    "        alpha=0.25,\n",
    "        linewidth=4\n",
    "    ))\n",
    "    ax.text(x[0], y[0], str(i+1))\n",
    "ax.plot([0, 0], [0, 0]);\n",
    "# ax.set(xlim=[-2, 8], ylim=[-2, 8]);"
   ]
  },
  {
   "cell_type": "code",
   "execution_count": null,
   "id": "5681affd",
   "metadata": {},
   "outputs": [],
   "source": []
  },
  {
   "cell_type": "code",
   "execution_count": null,
   "id": "2911b30c",
   "metadata": {},
   "outputs": [],
   "source": []
  },
  {
   "cell_type": "code",
   "execution_count": 39,
   "id": "5d94970d",
   "metadata": {},
   "outputs": [],
   "source": [
    "lines = [\n",
    "    'on x=-20..26,y=-36..17,z=-47..7',\n",
    "    'on x=-20..33,y=-21..23,z=-26..28',\n",
    "    'on x=-22..28,y=-29..23,z=-38..16',\n",
    "    'on x=-46..7,y=-6..46,z=-50..-1',\n",
    "    'on x=-49..1,y=-3..46,z=-24..28',\n",
    "    'on x=2..47,y=-22..22,z=-23..27',\n",
    "    'on x=-27..23,y=-28..26,z=-21..29',\n",
    "    'on x=-39..5,y=-6..47,z=-3..44',\n",
    "    'on x=-30..21,y=-8..43,z=-13..34',\n",
    "    'on x=-22..26,y=-27..20,z=-29..19',\n",
    "    'off x=-48..-32,y=26..41,z=-47..-37',\n",
    "    'on x=-12..35,y=6..50,z=-50..-2',\n",
    "    'off x=-48..-32,y=-32..-16,z=-15..-5',\n",
    "    'on x=-18..26,y=-33..15,z=-7..46',\n",
    "    'off x=-40..-22,y=-38..-28,z=23..41',\n",
    "    'on x=-16..35,y=-41..10,z=-47..6',\n",
    "    'off x=-32..-23,y=11..30,z=-14..3',\n",
    "    'on x=-49..-5,y=-3..45,z=-29..18',\n",
    "    'off x=18..30,y=-20..-8,z=-3..13',\n",
    "    'on x=-41..9,y=-7..43,z=-33..15',\n",
    "#     'on x=-54112..-39298,y=-85059..-49293,z=-27449..7877',\n",
    "#     'on x=967..23432,y=45373..81175,z=27513..53682',\n",
    "]"
   ]
  },
  {
   "cell_type": "code",
   "execution_count": 40,
   "id": "d2228964",
   "metadata": {},
   "outputs": [],
   "source": [
    "steps = []\n",
    "for line in lines: #lines[:20]:  # Just steps within [-50, 50]\n",
    "    state, coords = line.split()\n",
    "    state = 1 if state == 'on' else 0\n",
    "    ranges = []\n",
    "    for coord in coords.split(','):\n",
    "        _, range_ = coord.split('=')\n",
    "        ranges.append(tuple(int(v) for v in range_.split('..')))\n",
    "    steps.append((state, ranges))"
   ]
  },
  {
   "cell_type": "code",
   "execution_count": 41,
   "id": "490f11fd",
   "metadata": {},
   "outputs": [
    {
     "name": "stdout",
     "output_type": "stream",
     "text": [
      "7192\n"
     ]
    }
   ],
   "source": [
    "xrange, yrange = np.arange(-50, 51), np.arange(-50, 51)\n",
    "cubes = np.zeros((len(xrange), len(yrange)))\n",
    "\n",
    "for step in steps:\n",
    "    state, ranges = step\n",
    "    x, y, _ = ranges\n",
    "    x = np.clip(x, -50, 50) + 50\n",
    "    y = np.clip(y, -50, 50) + 50\n",
    "    cubes[x[0]:x[1]+1, y[0]:y[1]+1] = state\n",
    "print(int(cubes.sum()))"
   ]
  },
  {
   "cell_type": "code",
   "execution_count": null,
   "id": "a6a62b18",
   "metadata": {},
   "outputs": [],
   "source": []
  },
  {
   "cell_type": "markdown",
   "id": "9da8ae5d",
   "metadata": {},
   "source": [
    "## Sweep"
   ]
  },
  {
   "cell_type": "code",
   "execution_count": 8,
   "id": "aba28384",
   "metadata": {},
   "outputs": [],
   "source": [
    "lines = [\n",
    "    'on x=10..12,y=10..12,z=10..12',\n",
    "    'on x=11..13,y=11..13,z=11..13',\n",
    "    'off x=9..11,y=9..11,z=9..11',\n",
    "    'on x=10..10,y=10..10,z=10..10',\n",
    "]"
   ]
  },
  {
   "cell_type": "code",
   "execution_count": 9,
   "id": "d057c2df",
   "metadata": {},
   "outputs": [],
   "source": [
    "steps = []\n",
    "for line in lines:\n",
    "    state, coords = line.split()\n",
    "    state = 1 if state == 'on' else 0\n",
    "    ranges = []\n",
    "    for coord in coords.split(','):\n",
    "        _, range_ = coord.split('=')\n",
    "        ranges.append(tuple(int(v) for v in range_.split('..')))\n",
    "    steps.append((state, ranges))"
   ]
  },
  {
   "cell_type": "code",
   "execution_count": 15,
   "id": "a12594e7",
   "metadata": {},
   "outputs": [
    {
     "name": "stdout",
     "output_type": "stream",
     "text": [
      "11\n"
     ]
    }
   ],
   "source": [
    "xrange, yrange = np.arange(-50, 51), np.arange(-50, 51)\n",
    "cubes = np.zeros((len(xrange), len(yrange)))\n",
    "\n",
    "for step in steps:\n",
    "    state, ranges = step\n",
    "    x, y, _ = ranges\n",
    "    x = np.clip(x, -50, 50) + 50\n",
    "    y = np.clip(y, -50, 50) + 50\n",
    "    cubes[x[0]:x[1]+1, y[0]:y[1]+1] = state\n",
    "print(int(cubes.sum()))"
   ]
  },
  {
   "cell_type": "code",
   "execution_count": 22,
   "id": "03493e48",
   "metadata": {},
   "outputs": [
    {
     "data": {
      "image/png": "[encoded data removed]",
      "text/plain": [
       "<Figure size 576x576 with 1 Axes>"
      ]
     },
     "metadata": {
      "needs_background": "light"
     },
     "output_type": "display_data"
    }
   ],
   "source": [
    "ax = plt.figure(figsize=(8, 8)).add_subplot(111)\n",
    "\n",
    "for i, step in enumerate(steps):\n",
    "    state, ranges = step\n",
    "    x, y, _ = ranges\n",
    "    ax.add_patch(Rectangle(\n",
    "        (x[0], y[0]), x[1] - x[0] + 1, y[1] - y[0] + 1,\n",
    "        color='red' if state == 1 else 'blue',\n",
    "        alpha=0.25,\n",
    "        linewidth=4\n",
    "    ))\n",
    "    ax.text(x[0], y[0], str(i+1))\n",
    "ax.plot([10, 10], [10, 10]);"
   ]
  },
  {
   "cell_type": "code",
   "execution_count": null,
   "id": "f8cae81b",
   "metadata": {},
   "outputs": [],
   "source": []
  },
  {
   "cell_type": "code",
   "execution_count": null,
   "id": "f03cafb9",
   "metadata": {},
   "outputs": [],
   "source": [
    "endpoints = [\n",
    "    (9, 'off', 'start', 2),\n",
    "    (10, 'on', 'start', 0),\n",
    "    (10, 'on', 'start', 3),\n",
    "    (11, 'on', 'start', 1),\n",
    "    (11, 'on', 'end', 3),\n",
    "    (12, 'off', 'end', 2),\n",
    "    (13, 'on', 'end', 0),\n",
    "    (14, 'on', 'end', 1),\n",
    "]\n",
    "endpoints = sorted(endpoints, lambda e: (e[0], e[3]))\n",
    "\n",
    "cur_on = None\n",
    "cur_on_seq = None\n",
    "cur_off = None\n",
    "cur_off_seq = None\n",
    "for x, state, se, seq in endpoints:\n",
    "    if "
   ]
  },
  {
   "cell_type": "code",
   "execution_count": null,
   "id": "9624eb62",
   "metadata": {},
   "outputs": [],
   "source": []
  },
  {
   "cell_type": "raw",
   "id": "94f16318",
   "metadata": {},
   "source": [
    "\n",
    "    r   r   r\n",
    "        r   r   r\n",
    "b   b   b\n",
    "    r\n",
    "--------------------------\n",
    "09  10  11  12  13  14  15\n",
    "--------------------------\n",
    "    rs          re\n",
    "        rs          re\n",
    "bs          be\n",
    "    rs  re\n",
    "\n",
    "\n",
    "bs\n",
    "01  01  01  01  01  01\n",
    "be\n",
    "00  00  00  01  01  01\n",
    "rs\n",
    "00  02  03  03  03  03\n",
    "re\n",
    "00  00  01  01  02  03\n",
    "\n",
    "\n",
    "bs  be  bs  be\n",
    "    rs  re  rs      re\n",
    "\n",
    "--------------------------\n",
    "09  10  11  12  13  14  15\n",
    "--------------------------\n",
    "00  01  00  01  01  00  00\n",
    "\n"
   ]
  },
  {
   "cell_type": "code",
   "execution_count": 43,
   "id": "bfc9465b",
   "metadata": {},
   "outputs": [],
   "source": [
    "minx, maxx = 1e100, -1e100\n",
    "for step in steps:\n",
    "    _, ranges = step\n",
    "    xr, _, _ = ranges\n",
    "    if xr[0] < minx:\n",
    "        minx = xr[0]\n",
    "    if xr[1] > maxx:\n",
    "        maxx = xr[1]\n",
    "\n",
    "all_x_ranges = []\n",
    "for x in range(minx, maxx + 1):\n",
    "    x_ranges = []\n",
    "    for i, step in enumerate(steps):\n",
    "        state, ranges = step\n",
    "        xr, yr, _ = ranges\n",
    "        if xr[0] <= x <= xr[1]:\n",
    "            x_ranges.append((state, xr, i))\n",
    "    all_x_ranges.append(x_ranges)"
   ]
  },
  {
   "cell_type": "code",
   "execution_count": 61,
   "id": "74179a52",
   "metadata": {},
   "outputs": [
    {
     "name": "stdout",
     "output_type": "stream",
     "text": [
      "[(9, 10, 0), (10, 11, 1), (12, 12, 0)]\n"
     ]
    }
   ],
   "source": [
    "endpoints = []\n",
    "for i, xrange in enumerate(all_x_ranges[1]):\n",
    "    state, xr, seq = xrange\n",
    "    endpoints.append((xr[0], 0, state, seq, i))\n",
    "    endpoints.append((xr[1], 1, state, seq, i))\n",
    "endpoints = sorted(endpoints, key=lambda e: (e[0], e[1]))\n",
    "\n",
    "le, re = 0, 0\n",
    "last_zero = -1\n",
    "last_state = endpoints[0][2]\n",
    "supersets = []\n",
    "for i, endpoint in enumerate(endpoints):\n",
    "    x, se, state, seq, interval = endpoint\n",
    "    if state != last_state:\n",
    "        le, re = 0, 0\n",
    "        supersets.append((endpoints[last_zero+1][0], x, last_state))\n",
    "        last_zero = i\n",
    "    if se == 0:\n",
    "        le += 1\n",
    "    elif se == 1:\n",
    "        re += 1\n",
    "    if le - re == 0:\n",
    "        le, re = 0, 0\n",
    "        supersets.append((endpoints[last_zero+1][0], x, state))\n",
    "        last_zero = i\n",
    "    last_state = state\n",
    "print(supersets)"
   ]
  },
  {
   "cell_type": "code",
   "execution_count": null,
   "id": "056b4ebd",
   "metadata": {},
   "outputs": [],
   "source": []
  },
  {
   "cell_type": "markdown",
   "id": "3e77fe5b",
   "metadata": {},
   "source": [
    "## 1D"
   ]
  },
  {
   "cell_type": "code",
   "execution_count": 59,
   "id": "b6a72749",
   "metadata": {},
   "outputs": [
    {
     "name": "stdout",
     "output_type": "stream",
     "text": [
      "[(1, (-5, 20), 0), (1, (-44, 5), 1), (1, (-49, -1), 2), (1, (-20, 20), 3), (0, (26, 39), 4), (1, (-41, 5), 5), (0, (-43, -33), 6), (1, (-33, 15), 7), (0, (35, 47), 8), (1, (-14, 19), 9), (1, (30, 40), 10)]\n"
     ]
    }
   ],
   "source": [
    "lines = [\n",
    "    'on x=-5..20',\n",
    "    'on x=-44..5',\n",
    "    'on x=-49..-1',\n",
    "    'on x=-20..20',\n",
    "    'off x=26..39',\n",
    "    'on x=-41..5',\n",
    "    'off x=-43..-33',\n",
    "    'on x=-33..15',\n",
    "    'off x=35..47',\n",
    "    'on x=-14..19',\n",
    "    'on x=30..40'\n",
    "]\n",
    "steps = []\n",
    "for i, line in enumerate(lines):\n",
    "    state, coords = line.split()\n",
    "    state = 1 if state == 'on' else 0\n",
    "    ranges = []\n",
    "    for coord in coords.split(',')[:2]:\n",
    "        _, range_ = coord.split('=')\n",
    "        ranges.append(tuple(int(v) for v in range_.split('..')))\n",
    "    steps.append((state, ranges[0], i))\n",
    "print(steps)"
   ]
  },
  {
   "cell_type": "code",
   "execution_count": 60,
   "id": "6ffbb4f7",
   "metadata": {},
   "outputs": [
    {
     "data": {
      "image/png": "[encoded data removed]",
      "text/plain": [
       "<Figure size 1152x576 with 1 Axes>"
      ]
     },
     "metadata": {
      "needs_background": "light"
     },
     "output_type": "display_data"
    }
   ],
   "source": [
    "ax = plt.figure(figsize=(16, 8)).add_subplot(111)\n",
    "\n",
    "for state, x, i in steps:\n",
    "    y = [i, i + 0.5]\n",
    "    ax.add_patch(Rectangle(\n",
    "        (x[0], y[0]), x[1] - x[0] + 1, y[1] - y[0],\n",
    "        color='red' if state == 1 else 'blue',\n",
    "        alpha=0.25,\n",
    "        linewidth=4\n",
    "    ))\n",
    "    ax.text(x[0], y[0], str(i+1))\n",
    "ax.grid(which='major', alpha=0.5)\n",
    "ax.grid(which='minor', alpha=0.2)\n",
    "ax.set_xticks(np.arange(-100, 100), minor=True)\n",
    "ax.set_yticks(np.arange(-100, 100))\n",
    "ax.plot([10, 10], [10, 10]);"
   ]
  },
  {
   "cell_type": "code",
   "execution_count": 90,
   "id": "80acc703",
   "metadata": {},
   "outputs": [],
   "source": [
    "endpoints = []\n",
    "for state, x, i in steps:\n",
    "    endpoints.append((state, x[0], i, 'start'))\n",
    "    endpoints.append((state, x[1], i, 'end'))\n",
    "endpoints.sort(key=lambda v: (v[1], 0 if v[3] == 'start' else 1))"
   ]
  },
  {
   "cell_type": "code",
   "execution_count": 91,
   "id": "3c48beda",
   "metadata": {},
   "outputs": [
    {
     "name": "stdout",
     "output_type": "stream",
     "text": [
      "7 -33 1 0\n",
      "[(1, -49), (0, -43), (1, -33), (0, 21), (1, 30), (0, 41), (0, 48)]\n"
     ]
    }
   ],
   "source": [
    "current_state = 0\n",
    "current_index = -1\n",
    "current_ranges = {}\n",
    "new_endpoints = []\n",
    "for state, x, i, end in endpoints:\n",
    "    if end == 'start':\n",
    "        current_ranges[i] = state\n",
    "        if i > current_index:\n",
    "            if i == 7:\n",
    "                print(i, x, state, current_state)\n",
    "            current_index = i\n",
    "            if current_state != state:\n",
    "                new_endpoints.append((state, x))\n",
    "            current_state = state\n",
    "    elif end == 'end':\n",
    "        del current_ranges[i]\n",
    "        next_range = sorted(current_ranges.items(), key=lambda item: item[0])\n",
    "        if next_range:\n",
    "            if current_state != next_range[-1][1]:\n",
    "                new_endpoints.append((next_range[-1][1], x + 1))\n",
    "            current_index, current_state = next_range[-1]\n",
    "        else:\n",
    "            current_index = -1\n",
    "            current_state = 0\n",
    "            new_endpoints.append((current_state, x + 1))\n",
    "print(new_endpoints)"
   ]
  },
  {
   "cell_type": "code",
   "execution_count": 92,
   "id": "7f7ca4a3",
   "metadata": {},
   "outputs": [
    {
     "data": {
      "image/png": "[encoded data removed]",
      "text/plain": [
       "<Figure size 1152x576 with 1 Axes>"
      ]
     },
     "metadata": {
      "needs_background": "light"
     },
     "output_type": "display_data"
    }
   ],
   "source": [
    "ax = plt.figure(figsize=(16, 8)).add_subplot(111)\n",
    "\n",
    "max_y = 0\n",
    "for state, x, i in steps:\n",
    "    y = [i, i + 0.5]\n",
    "    max_y = y[0]\n",
    "    ax.add_patch(Rectangle(\n",
    "        (x[0], y[0]), x[1] - x[0] + 1, y[1] - y[0],\n",
    "        color='red' if state == 1 else 'blue',\n",
    "        alpha=0.25,\n",
    "        linewidth=4\n",
    "    ))\n",
    "    ax.text(x[0], y[0], str(i+1))\n",
    "\n",
    "y = [max_y + 1, max_y + 1.5]\n",
    "for i, endpoint in enumerate(new_endpoints[:-1]):\n",
    "    x = [new_endpoints[i][1], new_endpoints[i+1][1]]\n",
    "    ax.add_patch(Rectangle(\n",
    "        (x[0], y[0]), x[1] - x[0], y[1] - y[0],\n",
    "        color='red' if endpoint[0] == 1 else 'blue',\n",
    "        alpha=0.25,\n",
    "        linewidth=4\n",
    "    ))\n",
    "\n",
    "ax.grid(which='major', alpha=0.5)\n",
    "ax.grid(which='minor', alpha=0.2)\n",
    "ax.set_xticks(np.arange(-100, 100), minor=True)\n",
    "ax.set_yticks(np.arange(-100, 100))\n",
    "ax.plot([10, 10], [10, 10]);"
   ]
  },
  {
   "cell_type": "code",
   "execution_count": null,
   "id": "af87e81f",
   "metadata": {},
   "outputs": [],
   "source": []
  }
 ],
 "metadata": {
  "kernelspec": {
   "display_name": "Python 3 (ipykernel)",
   "language": "python",
   "name": "python3"
  },
  "language_info": {
   "codemirror_mode": {
    "name": "ipython",
    "version": 3
   },
   "file_extension": ".py",
   "mimetype": "text/x-python",
   "name": "python",
   "nbconvert_exporter": "python",
   "pygments_lexer": "ipython3",
   "version": "3.10.2"
  }
 },
 "nbformat": 4,
 "nbformat_minor": 5
}
