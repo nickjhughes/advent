{
 "cells": [
  {
   "cell_type": "code",
   "execution_count": 70,
   "id": "50188bb7",
   "metadata": {},
   "outputs": [],
   "source": [
    "import numpy as np\n",
    "import pandas as pd\n",
    "from collections import defaultdict"
   ]
  },
  {
   "cell_type": "code",
   "execution_count": 71,
   "id": "35cbaf10",
   "metadata": {},
   "outputs": [],
   "source": [
    "with open('input5', 'r') as f:\n",
    "    flines = [l.strip() for l in f.readlines()]"
   ]
  },
  {
   "cell_type": "code",
   "execution_count": 39,
   "id": "b12574ea",
   "metadata": {},
   "outputs": [],
   "source": [
    "flines = [\n",
    "    '0,9 -> 5,9',\n",
    "    '8,0 -> 0,8',\n",
    "    '9,4 -> 3,4',\n",
    "    '2,2 -> 2,1',\n",
    "    '7,0 -> 7,4',\n",
    "    '6,4 -> 2,0',\n",
    "    '0,9 -> 2,9',\n",
    "    '3,4 -> 1,4',\n",
    "    '0,0 -> 8,8',\n",
    "    '5,5 -> 8,2',\n",
    "]"
   ]
  },
  {
   "cell_type": "markdown",
   "id": "c8276e4c",
   "metadata": {},
   "source": [
    "## Part 1"
   ]
  },
  {
   "cell_type": "code",
   "execution_count": 72,
   "id": "1ec6ca38",
   "metadata": {},
   "outputs": [],
   "source": [
    "lines = []\n",
    "for fline in flines:\n",
    "    # x1,y1 -> x2,y2\n",
    "    p1, p2 = fline.split(' -> ')\n",
    "    x1, y1 = p1.split(',')\n",
    "    x2, y2 = p2.split(',')\n",
    "    lines.append((int(x1), int(y1), int(x2), int(y2)))"
   ]
  },
  {
   "cell_type": "code",
   "execution_count": 36,
   "id": "29d6b22d",
   "metadata": {},
   "outputs": [
    {
     "data": {
      "text/plain": [
       "6283"
      ]
     },
     "execution_count": 36,
     "metadata": {},
     "output_type": "execute_result"
    }
   ],
   "source": [
    "points = defaultdict(int)\n",
    "for line in lines:\n",
    "#     print(line, end=': ')\n",
    "    x1, y1, x2, y2 = line\n",
    "    if x1 == x2:\n",
    "        if y1 > y2:\n",
    "            for y in range(y2, y1 + 1):\n",
    "#                 print((x1, y), end=', ')\n",
    "                points[(x1, y)] += 1\n",
    "        else:\n",
    "            for y in range(y1, y2 + 1):\n",
    "#                 print((x1, y), end=', ')\n",
    "                points[(x1, y)] += 1\n",
    "    elif y1 == y2:\n",
    "        if x1 > x2:\n",
    "            for x in range(x2, x1 + 1):\n",
    "#                 print((x, y1), end=', ')\n",
    "                points[(x, y1)] += 1\n",
    "        else:\n",
    "            for x in range(x1, x2 + 1):\n",
    "#                 print((x, y1), end=', ')\n",
    "                points[(x, y1)] += 1\n",
    "#     print()\n",
    "len([k for k, v in points.items() if v > 1])"
   ]
  },
  {
   "cell_type": "markdown",
   "id": "349bf549",
   "metadata": {},
   "source": [
    "## Part 2"
   ]
  },
  {
   "cell_type": "code",
   "execution_count": 73,
   "id": "c318e99d",
   "metadata": {},
   "outputs": [
    {
     "data": {
      "text/plain": [
       "18864"
      ]
     },
     "execution_count": 73,
     "metadata": {},
     "output_type": "execute_result"
    }
   ],
   "source": [
    "points = defaultdict(int)\n",
    "for line in lines:\n",
    "    x1, y1, x2, y2 = line\n",
    "    if x1 == x2:\n",
    "        if y1 > y2:\n",
    "            for y in range(y2, y1 + 1):\n",
    "                points[(x1, y)] += 1\n",
    "        else:\n",
    "            for y in range(y1, y2 + 1):\n",
    "                points[(x1, y)] += 1\n",
    "    elif y1 == y2:\n",
    "        if x1 > x2:\n",
    "            for x in range(x2, x1 + 1):\n",
    "                points[(x, y1)] += 1\n",
    "        else:\n",
    "            for x in range(x1, x2 + 1):\n",
    "                points[(x, y1)] += 1\n",
    "    else:\n",
    "        for x, y in list(zip(list(range(x1, x2 + (1 if x2 > x1 else -1), -1 if x1 > x2 else 1)), list(range(y1, y2 + (1 if y2 > y1 else -1), -1 if y1 > y2 else 1)))):\n",
    "            points[(x, y)] += 1\n",
    "len([k for k, v in points.items() if v > 1])"
   ]
  },
  {
   "cell_type": "code",
   "execution_count": 69,
   "id": "761ff717",
   "metadata": {},
   "outputs": [
    {
     "name": "stdout",
     "output_type": "stream",
     "text": [
      "1.1....11.\n",
      ".111...2..\n",
      "..2.1.111.\n",
      "...1.2.2..\n",
      ".112313211\n",
      "...1.2....\n",
      "..1...1...\n",
      ".1.....1..\n",
      "1.......1.\n",
      "222111....\n"
     ]
    }
   ],
   "source": [
    "for y in range(10):\n",
    "    for x in range(10):\n",
    "        if points[(x, y)] > 0:\n",
    "            print(points[(x, y)], end='')\n",
    "        else:\n",
    "            print('.', end='')\n",
    "    print()"
   ]
  }
 ],
 "metadata": {
  "kernelspec": {
   "display_name": "Python 3 (ipykernel)",
   "language": "python",
   "name": "python3"
  },
  "language_info": {
   "codemirror_mode": {
    "name": "ipython",
    "version": 3
   },
   "file_extension": ".py",
   "mimetype": "text/x-python",
   "name": "python",
   "nbconvert_exporter": "python",
   "pygments_lexer": "ipython3",
   "version": "3.8.0"
  }
 },
 "nbformat": 4,
 "nbformat_minor": 5
}
