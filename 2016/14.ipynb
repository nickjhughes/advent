{
 "cells": [
  {
   "cell_type": "code",
   "execution_count": 2,
   "id": "6cc55422",
   "metadata": {},
   "outputs": [],
   "source": [
    "from hashlib import md5"
   ]
  },
  {
   "cell_type": "markdown",
   "id": "13ae2ad9",
   "metadata": {},
   "source": [
    "## Part 1"
   ]
  },
  {
   "cell_type": "code",
   "execution_count": 25,
   "id": "7474f761",
   "metadata": {},
   "outputs": [],
   "source": [
    "salt = 'abc'"
   ]
  },
  {
   "cell_type": "code",
   "execution_count": 26,
   "id": "991610b3",
   "metadata": {},
   "outputs": [],
   "source": [
    "def hash_string(string):\n",
    "    h = md5()\n",
    "    h.update(string.encode('ascii'))\n",
    "    return h.hexdigest()"
   ]
  },
  {
   "cell_type": "code",
   "execution_count": 35,
   "id": "2d3ca9b5",
   "metadata": {},
   "outputs": [],
   "source": [
    "def test_index(index):\n",
    "    hex_hash = hash_string(salt + str(index))\n",
    "    for char in '0123456789abcdef':\n",
    "        if char + char + char in hex_hash:\n",
    "            for new_index in range(index + 1, index + 1001):\n",
    "                new_hex_hash = hash_string(salt + str(new_index))\n",
    "                if char + char + char + char + char in new_hex_hash:\n",
    "                    print(index, char, hex_hash, new_hex_hash)\n",
    "                    return True\n",
    "    return False"
   ]
  },
  {
   "cell_type": "code",
   "execution_count": 36,
   "id": "b9019a1a",
   "metadata": {},
   "outputs": [
    {
     "name": "stdout",
     "output_type": "stream",
     "text": [
      "39 e 347dac6ee8eeea4652c7476d0f97bee5 3aeeeee1367614f3061d165a5fe3cac3\n",
      "92 9 ae2e85dd75d63e916a525df95e999ea0 83501e9109999965af11270ef8d61a4f\n",
      "110 9 7af7fa13b999d68bbce565971ddbae27 83501e9109999965af11270ef8d61a4f\n",
      "184 e 02164648eee4fd760cdab7e343effd74 3aeeeee1367614f3061d165a5fe3cac3\n",
      "291 4 d7c86a1c1af63c851fe876e44427da83 edd652be33204a7a544444d3c722fc01\n",
      "314 3 b76a587a333a5de4fbd566b426e1254c d3037333338c0e36482facef46a5d375\n",
      "343 4 d3c939a6e3739444983e1961fad091d8 edd652be33204a7a544444d3c722fc01\n",
      "385 4 d847a4440f2a4423b79fe9bdc1cde659 edd652be33204a7a544444d3c722fc01\n",
      "459 3 77b05e16607a333bae2dee537ce16b9a d3037333338c0e36482facef46a5d375\n",
      "461 3 d2c1333bc7b740a6af0c51eded05e70f d3037333338c0e36482facef46a5d375\n",
      "489 4 3168351b76dee9d74442c60fb7947758 edd652be33204a7a544444d3c722fc01\n",
      "534 e 4fc7df57777400b3eeef5350a6eecbdf 3aeeeee1367614f3061d165a5fe3cac3\n",
      "771 3 f4fc8ddb4c3336ad9fc5e6985bf10bfc d3037333338c0e36482facef46a5d375\n",
      "781 4 05cc3a44479f138930aef93d09adb271 edd652be33204a7a544444d3c722fc01\n",
      "887 4 6224443f4f20b285f198a5928240b8f9 edd652be33204a7a544444d3c722fc01\n",
      "955 4 067e32c47bb94441fb1ddb164028f1a0 edd652be33204a7a544444d3c722fc01\n",
      "1144 4 2e65dc4b3a55644440750cb643d3547c edd652be33204a7a544444d3c722fc01\n",
      "5742 d 839454c56aa6dddc15cfb3d2409bb5f1 5b67f4fddddd4715225d90a48d64ad3f\n",
      "5781 d c50ff03d396edaddd83f4276ab16bb20 5b67f4fddddd4715225d90a48d64ad3f\n",
      "5783 d a510c007dddee781e646b4f5fb8d8556 5b67f4fddddd4715225d90a48d64ad3f\n",
      "6016 d 0e30d5ff60b6a89ddd9e54697dab036a 5b67f4fddddd4715225d90a48d64ad3f\n",
      "6093 d b892716e7eae5f8ddd9339f70842b358 5b67f4fddddd4715225d90a48d64ad3f\n",
      "6219 d f1563b896d2ddda0f1f45b8adec413b7 5b67f4fddddd4715225d90a48d64ad3f\n",
      "7833 1 fab1a818df14b380111ff51230f15f5b c3d313e7a72ea2111114dd4963979596\n",
      "7857 1 175697873eccc49ac690322111307eb7 c3d313e7a72ea2111114dd4963979596\n",
      "7858 0 21dc11447df0bbab74d750bac5b66000 33700000d206321cabda144e627f9c58\n",
      "7918 0 feb714940e4bec85b85e1ae582fb0001 33700000d206321cabda144e627f9c58\n",
      "7937 0 9c62f9cddf7000fc82243fe63f633397 33700000d206321cabda144e627f9c58\n",
      "8042 1 a508b217c92312d6a111af6253bff7bb c3d313e7a72ea2111114dd4963979596\n",
      "8045 1 1611103e70484e441e006f1bfb2b3374 c3d313e7a72ea2111114dd4963979596\n",
      "8183 1 eda733b036c18c11134f8c60faacafc9 c3d313e7a72ea2111114dd4963979596\n",
      "8189 1 cc1111a7b059f0326fe4d4fc96fb50d3 c3d313e7a72ea2111114dd4963979596\n",
      "8205 0 3dbee9bccf49a50000346e221d54bb93 33700000d206321cabda144e627f9c58\n",
      "8232 1 f611148c30ba768ee1be17cccb00acda c3d313e7a72ea2111114dd4963979596\n",
      "8375 1 f11113032a16c4dfefcaa1d3eb43357c c3d313e7a72ea2111114dd4963979596\n",
      "8407 0 66c6c08de62ab7000533b6b6450cf1f0 33700000d206321cabda144e627f9c58\n",
      "8431 0 b91baf5000515c05cd2300a88abe7e6e 33700000d206321cabda144e627f9c58\n",
      "8503 0 0a09e8a057d6912b5cd26d86000171f1 33700000d206321cabda144e627f9c58\n",
      "8517 1 5bb71493cb844593059c9385af111498 c3d313e7a72ea2111114dd4963979596\n",
      "8626 0 1d000dd00e3653c29e0fa801d35de7b4 33700000d206321cabda144e627f9c58\n",
      "8672 0 0a164547f03ee46ece5f2c2e15580007 33700000d206321cabda144e627f9c58\n",
      "8717 1 06a3745d258e9aaaf11126226be217aa c3d313e7a72ea2111114dd4963979596\n",
      "8730 0 5d4e1288f07a53bd6ad1a8000bca06eb 33700000d206321cabda144e627f9c58\n",
      "8811 1 c3d313e7a72ea2111114dd4963979596 b5dd0c7468236111114393c27c5240a0\n",
      "9497 1 2edf9fa11161b0286de6f62ee44e8e4d b5dd0c7468236111114393c27c5240a0\n",
      "9536 1 7253e53e81115f72f6540cae6a2a5e59 b5dd0c7468236111114393c27c5240a0\n",
      "13268 b bbbe024fb60e070c922a3c9dd81454c6 72cac2742bbbbbe00b99a814c73ff80e\n",
      "13439 b bbbef7b3f98b65e148ae2a617786a11f 72cac2742bbbbbe00b99a814c73ff80e\n",
      "13479 b 2581d6a23925ef5f6c55241c821abbb3 72cac2742bbbbbe00b99a814c73ff80e\n",
      "13560 b 24826802dd3d78327eac3b7b02bbbf29 72cac2742bbbbbe00b99a814c73ff80e\n",
      "13663 b c8e73ad52e71b460b2a2bebbb6efa8a8 72cac2742bbbbbe00b99a814c73ff80e\n",
      "15758 7 db94f13a807206bca93ea732ed877789 614079777771bb3be988406f8f346f83\n",
      "15883 7 8a77735462adb00c441a99571e351b7b 614079777771bb3be988406f8f346f83\n",
      "16187 7 a0872401e67ee77722ba756ba03cea2f 614079777771bb3be988406f8f346f83\n",
      "16342 7 561ad5b016b7771247e33564ffc3d7b2 614079777771bb3be988406f8f346f83\n",
      "16479 7 54a71b5c827b7bf88b67776339e1568d 614079777771bb3be988406f8f346f83\n",
      "20087 a 2663ce2f67f5d4e35aab8aaa84da292f 4a31aaaaad6e0a6dc6c5911f2fef2321\n",
      "20371 a 714981a50246c55aaa14bc8baff48cf6 4a31aaaaad6e0a6dc6c5911f2fef2321\n",
      "20544 a bc264555aaa0229d7ed653241ad76a92 4a31aaaaad6e0a6dc6c5911f2fef2321\n",
      "20582 a 3946e417e23aaabb3735a4551718ffff 4a31aaaaad6e0a6dc6c5911f2fef2321\n",
      "20635 a 67e1d093a6cfe1ea8b40173aaad64273 4a31aaaaad6e0a6dc6c5911f2fef2321\n",
      "20669 a 1f7eb500d1f09b3569a762ee5c8aaacd 4a31aaaaad6e0a6dc6c5911f2fef2321\n",
      "21908 c bf0d82c707319dd1934556e2914ccc9a 1e15d83ba7591b79ccccc2e9a22f78b8\n",
      "21927 c 74e0ccc5c8b7336be72d7dc1b9b36486 1e15d83ba7591b79ccccc2e9a22f78b8\n",
      "[39, 92, 110, 184, 291, 314, 343, 385, 459, 461, 489, 534, 771, 781, 887, 955, 1144, 5742, 5781, 5783, 6016, 6093, 6219, 7833, 7857, 7858, 7918, 7937, 8042, 8045, 8183, 8189, 8205, 8232, 8375, 8407, 8431, 8503, 8517, 8626, 8672, 8717, 8730, 8811, 9497, 9536, 13268, 13439, 13479, 13560, 13663, 15758, 15883, 16187, 16342, 16479, 20087, 20371, 20544, 20582, 20635, 20669, 21908, 21927]\n"
     ]
    }
   ],
   "source": [
    "key_count = 0\n",
    "keys = []\n",
    "index = 0\n",
    "while True:\n",
    "    result = test_index(index)\n",
    "    if result:\n",
    "        keys.append(index)\n",
    "        key_count += 1\n",
    "        if key_count == 64:\n",
    "            break\n",
    "    index += 1\n",
    "print(keys)"
   ]
  },
  {
   "cell_type": "markdown",
   "id": "4c78af75",
   "metadata": {},
   "source": [
    "## Part 2"
   ]
  },
  {
   "cell_type": "code",
   "execution_count": null,
   "id": "2cd0aa79",
   "metadata": {},
   "outputs": [],
   "source": []
  }
 ],
 "metadata": {
  "kernelspec": {
   "display_name": "Python 3 (ipykernel)",
   "language": "python",
   "name": "python3"
  },
  "language_info": {
   "codemirror_mode": {
    "name": "ipython",
    "version": 3
   },
   "file_extension": ".py",
   "mimetype": "text/x-python",
   "name": "python",
   "nbconvert_exporter": "python",
   "pygments_lexer": "ipython3",
   "version": "3.9.10"
  }
 },
 "nbformat": 4,
 "nbformat_minor": 5
}
