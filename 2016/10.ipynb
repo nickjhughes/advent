{
 "cells": [
  {
   "cell_type": "code",
   "execution_count": 3,
   "id": "f71fe61c",
   "metadata": {},
   "outputs": [],
   "source": [
    "from collections import defaultdict"
   ]
  },
  {
   "cell_type": "code",
   "execution_count": 17,
   "id": "37066f70",
   "metadata": {},
   "outputs": [],
   "source": [
    "with open('input10', 'r') as f:\n",
    "    lines = [l.strip() for l in f.readlines()]"
   ]
  },
  {
   "cell_type": "markdown",
   "id": "13ae2ad9",
   "metadata": {},
   "source": [
    "## Part 1"
   ]
  },
  {
   "cell_type": "code",
   "execution_count": 8,
   "id": "7474f761",
   "metadata": {},
   "outputs": [],
   "source": [
    "lines = [\n",
    "    'value 5 goes to bot 2',\n",
    "    'bot 2 gives low to bot 1 and high to bot 0',\n",
    "    'value 3 goes to bot 1',\n",
    "    'bot 1 gives low to output 1 and high to bot 0',\n",
    "    'bot 0 gives low to output 2 and high to output 0',\n",
    "    'value 2 goes to bot 2',\n",
    "]"
   ]
  },
  {
   "cell_type": "code",
   "execution_count": 19,
   "id": "32913ef5",
   "metadata": {},
   "outputs": [
    {
     "name": "stdout",
     "output_type": "stream",
     "text": [
      "Bot 113 compares chips 17 and 61\n"
     ]
    }
   ],
   "source": [
    "state = {'bot': defaultdict(list), 'output': defaultdict(list)}\n",
    "instructions = {}\n",
    "for line in lines:\n",
    "    words = line.split()\n",
    "    if words[0] == 'value':\n",
    "        chip, bot = int(words[1]), int(words[5])\n",
    "        state['bot'][bot].append(chip)\n",
    "    elif words[0] == 'bot':\n",
    "        bot = int(words[1])\n",
    "        low, high = int(words[6]), int(words[11])\n",
    "        low_type, high_type = words[5], words[10]\n",
    "        instructions[bot] = {\n",
    "            'low': (low_type, low),\n",
    "            'high': (high_type, high),\n",
    "        }\n",
    "\n",
    "while True:\n",
    "    did_change = False\n",
    "    for bot, chips in state['bot'].items():\n",
    "        if len(chips) != 2:\n",
    "            continue\n",
    "        low_chip, high_chip = min(chips), max(chips)\n",
    "        if 17 in chips and 61 in chips:\n",
    "            print(f\"Bot {bot} compares chips 17 and 61\")\n",
    "        low_type, low = instructions[bot]['low']\n",
    "        high_type, high = instructions[bot]['high']\n",
    "        state['bot'][bot] = []\n",
    "        state[low_type][low].append(low_chip)\n",
    "        state[high_type][high].append(high_chip)\n",
    "        did_change = True\n",
    "        break\n",
    "    if not did_change:\n",
    "        break"
   ]
  },
  {
   "cell_type": "markdown",
   "id": "4c78af75",
   "metadata": {},
   "source": [
    "## Part 2"
   ]
  },
  {
   "cell_type": "code",
   "execution_count": 22,
   "id": "98a5038a",
   "metadata": {},
   "outputs": [
    {
     "name": "stdout",
     "output_type": "stream",
     "text": [
      "12803\n"
     ]
    }
   ],
   "source": [
    "state = {'bot': defaultdict(list), 'output': defaultdict(list)}\n",
    "instructions = {}\n",
    "for line in lines:\n",
    "    words = line.split()\n",
    "    if words[0] == 'value':\n",
    "        chip, bot = int(words[1]), int(words[5])\n",
    "        state['bot'][bot].append(chip)\n",
    "    elif words[0] == 'bot':\n",
    "        bot = int(words[1])\n",
    "        low, high = int(words[6]), int(words[11])\n",
    "        low_type, high_type = words[5], words[10]\n",
    "        instructions[bot] = {\n",
    "            'low': (low_type, low),\n",
    "            'high': (high_type, high),\n",
    "        }\n",
    "\n",
    "while True:\n",
    "    did_change = False\n",
    "    for bot, chips in state['bot'].items():\n",
    "        if len(chips) != 2:\n",
    "            continue\n",
    "        low_chip, high_chip = min(chips), max(chips)\n",
    "        low_type, low = instructions[bot]['low']\n",
    "        high_type, high = instructions[bot]['high']\n",
    "        state['bot'][bot] = []\n",
    "        state[low_type][low].append(low_chip)\n",
    "        state[high_type][high].append(high_chip)\n",
    "        did_change = True\n",
    "        break\n",
    "    if not did_change:\n",
    "        break\n",
    "\n",
    "print(state['output'][0][0] * state['output'][1][0] * state['output'][2][0])"
   ]
  }
 ],
 "metadata": {
  "kernelspec": {
   "display_name": "Python 3 (ipykernel)",
   "language": "python",
   "name": "python3"
  },
  "language_info": {
   "codemirror_mode": {
    "name": "ipython",
    "version": 3
   },
   "file_extension": ".py",
   "mimetype": "text/x-python",
   "name": "python",
   "nbconvert_exporter": "python",
   "pygments_lexer": "ipython3",
   "version": "3.9.10"
  }
 },
 "nbformat": 4,
 "nbformat_minor": 5
}
