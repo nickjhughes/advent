{
 "cells": [
  {
   "cell_type": "code",
   "execution_count": 15,
   "id": "37066f70",
   "metadata": {},
   "outputs": [],
   "source": [
    "with open('input12', 'r') as f:\n",
    "    lines = [l.strip() for l in f.readlines()]"
   ]
  },
  {
   "cell_type": "markdown",
   "id": "13ae2ad9",
   "metadata": {},
   "source": [
    "## Part 1"
   ]
  },
  {
   "cell_type": "code",
   "execution_count": 2,
   "id": "7474f761",
   "metadata": {},
   "outputs": [],
   "source": [
    "lines = [\n",
    "    'cpy 41 a',\n",
    "    'inc a',\n",
    "    'inc a',\n",
    "    'dec a',\n",
    "    'jnz a 2',\n",
    "    'dec a',\n",
    "]"
   ]
  },
  {
   "cell_type": "code",
   "execution_count": 22,
   "id": "a62ce35e",
   "metadata": {},
   "outputs": [],
   "source": [
    "program = []\n",
    "for line in lines:\n",
    "    words = line.split()\n",
    "    ins = words[0]\n",
    "    if ins == 'cpy':\n",
    "        value = words[1]\n",
    "        reg = words[2]\n",
    "        if value not in ['a', 'b', 'c', 'd']:\n",
    "            value = int(value)\n",
    "        program.append((ins, value, reg))\n",
    "    elif ins == 'jnz':\n",
    "        value = words[1]\n",
    "        if value not in ['a', 'b', 'c', 'd']:\n",
    "            value = int(value)\n",
    "        jmp = int(words[2])\n",
    "        program.append((ins, value, jmp))\n",
    "    elif ins == 'inc' or ins == 'dec':\n",
    "        reg = words[1]\n",
    "        program.append((ins, reg))"
   ]
  },
  {
   "cell_type": "code",
   "execution_count": 24,
   "id": "454dc3c4",
   "metadata": {},
   "outputs": [
    {
     "name": "stdout",
     "output_type": "stream",
     "text": [
      "{'a': 318007, 'b': 196418, 'c': 0, 'd': 0}\n"
     ]
    }
   ],
   "source": [
    "registers = {'a': 0, 'b': 0, 'c': 0, 'd': 0}\n",
    "pc = 0\n",
    "while pc < len(program):\n",
    "    line = program[pc]\n",
    "    ins = line[0]\n",
    "    if ins == 'cpy':\n",
    "        reg = line[2]\n",
    "        value = line[1]\n",
    "        if type(value) is int:\n",
    "            registers[reg] = value\n",
    "        else:\n",
    "            registers[reg] = registers[value]\n",
    "        pc += 1\n",
    "    elif ins == 'jnz':\n",
    "        jmp = line[2]\n",
    "        value = line[1]\n",
    "        if type(value) is not int:\n",
    "            value = registers[value]\n",
    "        if value != 0:\n",
    "            pc += jmp\n",
    "        else:\n",
    "            pc += 1\n",
    "    elif ins == 'inc':\n",
    "        reg = line[1]\n",
    "        registers[reg] += 1\n",
    "        pc += 1\n",
    "    elif ins == 'dec':\n",
    "        reg = line[1]\n",
    "        registers[reg] -= 1\n",
    "        pc += 1\n",
    "\n",
    "print(registers)"
   ]
  },
  {
   "cell_type": "markdown",
   "id": "4c78af75",
   "metadata": {},
   "source": [
    "## Part 2"
   ]
  },
  {
   "cell_type": "code",
   "execution_count": 25,
   "id": "2e002048",
   "metadata": {},
   "outputs": [
    {
     "name": "stdout",
     "output_type": "stream",
     "text": [
      "{'a': 9227661, 'b': 5702887, 'c': 0, 'd': 0}\n"
     ]
    }
   ],
   "source": [
    "registers = {'a': 0, 'b': 0, 'c': 1, 'd': 0}\n",
    "pc = 0\n",
    "while pc < len(program):\n",
    "    line = program[pc]\n",
    "    ins = line[0]\n",
    "    if ins == 'cpy':\n",
    "        reg = line[2]\n",
    "        value = line[1]\n",
    "        if type(value) is int:\n",
    "            registers[reg] = value\n",
    "        else:\n",
    "            registers[reg] = registers[value]\n",
    "        pc += 1\n",
    "    elif ins == 'jnz':\n",
    "        jmp = line[2]\n",
    "        value = line[1]\n",
    "        if type(value) is not int:\n",
    "            value = registers[value]\n",
    "        if value != 0:\n",
    "            pc += jmp\n",
    "        else:\n",
    "            pc += 1\n",
    "    elif ins == 'inc':\n",
    "        reg = line[1]\n",
    "        registers[reg] += 1\n",
    "        pc += 1\n",
    "    elif ins == 'dec':\n",
    "        reg = line[1]\n",
    "        registers[reg] -= 1\n",
    "        pc += 1\n",
    "\n",
    "print(registers)"
   ]
  }
 ],
 "metadata": {
  "kernelspec": {
   "display_name": "Python 3 (ipykernel)",
   "language": "python",
   "name": "python3"
  },
  "language_info": {
   "codemirror_mode": {
    "name": "ipython",
    "version": 3
   },
   "file_extension": ".py",
   "mimetype": "text/x-python",
   "name": "python",
   "nbconvert_exporter": "python",
   "pygments_lexer": "ipython3",
   "version": "3.9.10"
  }
 },
 "nbformat": 4,
 "nbformat_minor": 5
}
