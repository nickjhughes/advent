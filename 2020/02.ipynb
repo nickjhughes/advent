{
 "cells": [
  {
   "cell_type": "code",
   "execution_count": 1,
   "id": "bc9cfbbe",
   "metadata": {},
   "outputs": [],
   "source": [
    "import numpy as np\n",
    "import pandas as pd"
   ]
  },
  {
   "cell_type": "code",
   "execution_count": 18,
   "id": "aef6faf7",
   "metadata": {},
   "outputs": [],
   "source": [
    "with open('input2', 'r') as f:\n",
    "    lines = [l.strip() for l in f.readlines()]"
   ]
  },
  {
   "cell_type": "markdown",
   "id": "7ebbd1fc",
   "metadata": {},
   "source": [
    "## Part 1"
   ]
  },
  {
   "cell_type": "code",
   "execution_count": 15,
   "id": "bb96d03a",
   "metadata": {},
   "outputs": [],
   "source": [
    "lines = [\n",
    "    '1-3 a: abcde',\n",
    "    '1-3 b: cdefg',\n",
    "    '2-9 c: ccccccccc',\n",
    "]"
   ]
  },
  {
   "cell_type": "code",
   "execution_count": 14,
   "id": "21a58b9d",
   "metadata": {},
   "outputs": [
    {
     "name": "stdout",
     "output_type": "stream",
     "text": [
      "434\n"
     ]
    }
   ],
   "source": [
    "valid_count = 0\n",
    "for line in lines:\n",
    "    counts, char, password = line.split()\n",
    "    low_count, high_count = [int(n) for n in counts.split('-')]\n",
    "    char = char.replace(':', '')\n",
    "    char_count = sum([c == char for c in password])\n",
    "    if char_count >= low_count and char_count <= high_count:\n",
    "        valid_count += 1\n",
    "print(valid_count)"
   ]
  },
  {
   "cell_type": "markdown",
   "id": "a1c4dfac",
   "metadata": {},
   "source": [
    "## Part 2"
   ]
  },
  {
   "cell_type": "code",
   "execution_count": 19,
   "id": "892b6f5b",
   "metadata": {},
   "outputs": [
    {
     "name": "stdout",
     "output_type": "stream",
     "text": [
      "509\n"
     ]
    }
   ],
   "source": [
    "valid_count = 0\n",
    "for line in lines:\n",
    "    counts, char, password = line.split()\n",
    "    pos1, pos2 = [int(n) for n in counts.split('-')]\n",
    "    char = char.replace(':', '')\n",
    "    if sum([password[pos1 - 1] == char, password[pos2 - 1] == char]) == 1:\n",
    "        valid_count += 1\n",
    "print(valid_count)"
   ]
  }
 ],
 "metadata": {
  "kernelspec": {
   "display_name": "Python 3 (ipykernel)",
   "language": "python",
   "name": "python3"
  },
  "language_info": {
   "codemirror_mode": {
    "name": "ipython",
    "version": 3
   },
   "file_extension": ".py",
   "mimetype": "text/x-python",
   "name": "python",
   "nbconvert_exporter": "python",
   "pygments_lexer": "ipython3",
   "version": "3.8.0"
  }
 },
 "nbformat": 4,
 "nbformat_minor": 5
}
