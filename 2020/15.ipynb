{
 "cells": [
  {
   "cell_type": "code",
   "execution_count": 6,
   "id": "207f7caf",
   "metadata": {},
   "outputs": [],
   "source": [
    "from collections import defaultdict"
   ]
  },
  {
   "cell_type": "code",
   "execution_count": 7,
   "id": "062cb125",
   "metadata": {},
   "outputs": [],
   "source": [
    "line = '17,1,3,16,19,0'"
   ]
  },
  {
   "cell_type": "code",
   "execution_count": 8,
   "id": "e15e96ab",
   "metadata": {},
   "outputs": [],
   "source": [
    "starting_numbers = [int(n) for n in line.split(',')]"
   ]
  },
  {
   "cell_type": "markdown",
   "id": "61294d51",
   "metadata": {},
   "source": [
    "## Part 1"
   ]
  },
  {
   "cell_type": "code",
   "execution_count": 9,
   "id": "55dce1c9",
   "metadata": {},
   "outputs": [],
   "source": [
    "starting_numbers = [0, 3, 6]"
   ]
  },
  {
   "cell_type": "code",
   "execution_count": 31,
   "id": "a1ccd1b8",
   "metadata": {},
   "outputs": [
    {
     "ename": "KeyError",
     "evalue": "0",
     "output_type": "error",
     "traceback": [
      "\u001b[1;31m---------------------------------------------------------------------------\u001b[0m",
      "\u001b[1;31mKeyError\u001b[0m                                  Traceback (most recent call last)",
      "\u001b[1;32m~\\AppData\\Local\\Temp/ipykernel_11900/3497902599.py\u001b[0m in \u001b[0;36m<module>\u001b[1;34m\u001b[0m\n\u001b[0;32m     13\u001b[0m             \u001b[0mnumber\u001b[0m \u001b[1;33m=\u001b[0m \u001b[0mi\u001b[0m \u001b[1;33m-\u001b[0m \u001b[0mnumber_last_spoken\u001b[0m\u001b[1;33m[\u001b[0m\u001b[0mprev_number\u001b[0m\u001b[1;33m]\u001b[0m\u001b[1;33m\u001b[0m\u001b[1;33m\u001b[0m\u001b[0m\n\u001b[0;32m     14\u001b[0m     \u001b[0mnumber_counts\u001b[0m\u001b[1;33m[\u001b[0m\u001b[0mnumber\u001b[0m\u001b[1;33m]\u001b[0m \u001b[1;33m+=\u001b[0m \u001b[1;36m1\u001b[0m\u001b[1;33m\u001b[0m\u001b[1;33m\u001b[0m\u001b[0m\n\u001b[1;32m---> 15\u001b[1;33m     \u001b[0mnumber_prev_spoken\u001b[0m\u001b[1;33m[\u001b[0m\u001b[0mnumber\u001b[0m\u001b[1;33m]\u001b[0m \u001b[1;33m=\u001b[0m \u001b[0mnumber_last_spoken\u001b[0m\u001b[1;33m[\u001b[0m\u001b[0mnumber\u001b[0m\u001b[1;33m]\u001b[0m\u001b[1;33m\u001b[0m\u001b[1;33m\u001b[0m\u001b[0m\n\u001b[0m\u001b[0;32m     16\u001b[0m     \u001b[0mnumber_last_spoken\u001b[0m\u001b[1;33m[\u001b[0m\u001b[0mnumber\u001b[0m\u001b[1;33m]\u001b[0m \u001b[1;33m=\u001b[0m \u001b[0mi\u001b[0m\u001b[1;33m\u001b[0m\u001b[1;33m\u001b[0m\u001b[0m\n\u001b[0;32m     17\u001b[0m     \u001b[0mprint\u001b[0m\u001b[1;33m(\u001b[0m\u001b[0mi\u001b[0m\u001b[1;33m,\u001b[0m \u001b[0mprev_number\u001b[0m\u001b[1;33m,\u001b[0m \u001b[0mnumber\u001b[0m\u001b[1;33m)\u001b[0m\u001b[1;33m\u001b[0m\u001b[1;33m\u001b[0m\u001b[0m\n",
      "\u001b[1;31mKeyError\u001b[0m: 0"
     ]
    }
   ],
   "source": [
    "numbers = []\n",
    "number_counts = defaultdict(int)\n",
    "number_prev_spoken = {}\n",
    "number_last_spoken = {}\n",
    "prev_number = None\n",
    "for i in range(5):\n",
    "    if i < len(starting_numbers):\n",
    "        number = starting_numbers[i]\n",
    "    else:\n",
    "        if number_counts[prev_number] == 1:\n",
    "            number = 0\n",
    "        else:\n",
    "            number = i - number_last_spoken[prev_number]\n",
    "    number_counts[number] += 1\n",
    "    number_prev_spoken[number] = number_last_spoken[number]\n",
    "    number_last_spoken[number] = i\n",
    "    print(i, prev_number, number)\n",
    "    prev_number = number\n",
    "    numbers.append(number)"
   ]
  },
  {
   "cell_type": "code",
   "execution_count": 30,
   "id": "5ee830e7",
   "metadata": {},
   "outputs": [
    {
     "data": {
      "text/plain": [
       "3"
      ]
     },
     "execution_count": 30,
     "metadata": {},
     "output_type": "execute_result"
    }
   ],
   "source": [
    "number_last_spoken[0]"
   ]
  },
  {
   "cell_type": "code",
   "execution_count": null,
   "id": "69950bda",
   "metadata": {},
   "outputs": [],
   "source": []
  }
 ],
 "metadata": {
  "kernelspec": {
   "display_name": "Python 3 (ipykernel)",
   "language": "python",
   "name": "python3"
  },
  "language_info": {
   "codemirror_mode": {
    "name": "ipython",
    "version": 3
   },
   "file_extension": ".py",
   "mimetype": "text/x-python",
   "name": "python",
   "nbconvert_exporter": "python",
   "pygments_lexer": "ipython3",
   "version": "3.8.0"
  }
 },
 "nbformat": 4,
 "nbformat_minor": 5
}
