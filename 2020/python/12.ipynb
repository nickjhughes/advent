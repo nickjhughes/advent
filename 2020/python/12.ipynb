{
 "cells": [
  {
   "cell_type": "code",
   "execution_count": 18,
   "id": "f1921aa9",
   "metadata": {},
   "outputs": [],
   "source": [
    "import math"
   ]
  },
  {
   "cell_type": "code",
   "execution_count": 39,
   "id": "f5a762b5",
   "metadata": {},
   "outputs": [],
   "source": [
    "with open('input12', 'r') as f:\n",
    "    lines = [l.strip() for l in f.readlines()]"
   ]
  },
  {
   "cell_type": "markdown",
   "id": "91a167e5",
   "metadata": {},
   "source": [
    "## Part 1"
   ]
  },
  {
   "cell_type": "code",
   "execution_count": 30,
   "id": "e40e1659",
   "metadata": {},
   "outputs": [
    {
     "name": "stdout",
     "output_type": "stream",
     "text": [
      "582\n"
     ]
    }
   ],
   "source": [
    "x, y, a = 0, 0, 0\n",
    "for line in lines:\n",
    "    action = line[0]\n",
    "    value = int(line[1:])\n",
    "    if action == 'N':\n",
    "        y += value\n",
    "    elif action == 'S':\n",
    "        y -= value\n",
    "    elif action == 'E':\n",
    "        x += value\n",
    "    elif action == 'W':\n",
    "        x -= value\n",
    "    elif action == 'L':\n",
    "        a += value\n",
    "    elif action == 'R':\n",
    "        a -= value\n",
    "    elif action == 'F':\n",
    "        x += value * math.cos(a * math.pi / 180)\n",
    "        y += value * math.sin(a * math.pi / 180)\n",
    "    x, y = round(x), round(y)\n",
    "print(abs(x) + abs(y))"
   ]
  },
  {
   "cell_type": "markdown",
   "id": "6b50c5a7",
   "metadata": {},
   "source": [
    "## Part 2"
   ]
  },
  {
   "cell_type": "code",
   "execution_count": 40,
   "id": "72487ef2",
   "metadata": {},
   "outputs": [
    {
     "name": "stdout",
     "output_type": "stream",
     "text": [
      "52069\n"
     ]
    }
   ],
   "source": [
    "wx, wy = 10, 1\n",
    "sx, sy = 0, 0\n",
    "for line in lines:\n",
    "    action = line[0]\n",
    "    value = int(line[1:])\n",
    "    if action == 'N':\n",
    "        wy += value\n",
    "    elif action == 'S':\n",
    "        wy -= value\n",
    "    elif action == 'E':\n",
    "        wx += value\n",
    "    elif action == 'W':\n",
    "        wx -= value\n",
    "    elif action == 'L':\n",
    "        a = value * math.pi / 180\n",
    "        new_wx = wx * math.cos(a) - wy * math.sin(a)\n",
    "        new_wy = wy * math.cos(a) + wx * math.sin(a)\n",
    "        wx, wy = new_wx, new_wy\n",
    "    elif action == 'R':\n",
    "        a = value * math.pi / 180\n",
    "        new_wx = wx * math.cos(-a) - wy * math.sin(-a)\n",
    "        new_wy = wy * math.cos(-a) + wx * math.sin(-a)\n",
    "        wx, wy = new_wx, new_wy\n",
    "    elif action == 'F':\n",
    "        sx += value * wx\n",
    "        sy += value * wy\n",
    "    wx, wy = round(wx), round(wy)\n",
    "    sx, sy = round(sx), round(sy)\n",
    "print(abs(sx) + abs(sy))"
   ]
  }
 ],
 "metadata": {
  "kernelspec": {
   "display_name": "Python 3 (ipykernel)",
   "language": "python",
   "name": "python3"
  },
  "language_info": {
   "codemirror_mode": {
    "name": "ipython",
    "version": 3
   },
   "file_extension": ".py",
   "mimetype": "text/x-python",
   "name": "python",
   "nbconvert_exporter": "python",
   "pygments_lexer": "ipython3",
   "version": "3.8.0"
  }
 },
 "nbformat": 4,
 "nbformat_minor": 5
}
