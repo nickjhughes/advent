{
 "cells": [
  {
   "cell_type": "code",
   "execution_count": 1,
   "id": "71875488",
   "metadata": {},
   "outputs": [],
   "source": [
    "import numpy as np\n",
    "import pandas as pd"
   ]
  },
  {
   "cell_type": "code",
   "execution_count": 6,
   "id": "d6d41c71",
   "metadata": {},
   "outputs": [],
   "source": [
    "with open('input1', 'r') as f:\n",
    "    numbers = [int(l.strip()) for l in f.readlines()]"
   ]
  },
  {
   "cell_type": "markdown",
   "id": "fc428bde",
   "metadata": {},
   "source": [
    "## Part 1"
   ]
  },
  {
   "cell_type": "code",
   "execution_count": 4,
   "id": "f53eb832",
   "metadata": {},
   "outputs": [],
   "source": [
    "numbers = [1721, 979, 366, 299, 675, 1456]"
   ]
  },
  {
   "cell_type": "code",
   "execution_count": 7,
   "id": "6cbc6e5d",
   "metadata": {},
   "outputs": [
    {
     "name": "stdout",
     "output_type": "stream",
     "text": [
      "290784\n"
     ]
    }
   ],
   "source": [
    "for i, n in enumerate(numbers):\n",
    "    for m in numbers[i+1:]:\n",
    "        if n + m == 2020:\n",
    "            print(n * m)"
   ]
  },
  {
   "cell_type": "markdown",
   "id": "283a882a",
   "metadata": {},
   "source": [
    "## Part 2"
   ]
  },
  {
   "cell_type": "code",
   "execution_count": 9,
   "id": "55853a83",
   "metadata": {},
   "outputs": [
    {
     "name": "stdout",
     "output_type": "stream",
     "text": [
      "177337980\n"
     ]
    }
   ],
   "source": [
    "for i, n in enumerate(numbers):\n",
    "    for j, m in enumerate(numbers[i+1:]):\n",
    "        for p in numbers[j+1:]:\n",
    "            if n + m + p == 2020:\n",
    "                print(n * m * p)"
   ]
  }
 ],
 "metadata": {
  "kernelspec": {
   "display_name": "Python 3 (ipykernel)",
   "language": "python",
   "name": "python3"
  },
  "language_info": {
   "codemirror_mode": {
    "name": "ipython",
    "version": 3
   },
   "file_extension": ".py",
   "mimetype": "text/x-python",
   "name": "python",
   "nbconvert_exporter": "python",
   "pygments_lexer": "ipython3",
   "version": "3.8.0"
  }
 },
 "nbformat": 4,
 "nbformat_minor": 5
}
