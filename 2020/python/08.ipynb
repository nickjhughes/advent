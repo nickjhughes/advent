{
 "cells": [
  {
   "cell_type": "code",
   "execution_count": 20,
   "id": "0448ea52",
   "metadata": {},
   "outputs": [],
   "source": [
    "import numpy as np\n",
    "import pandas as pd"
   ]
  },
  {
   "cell_type": "code",
   "execution_count": 32,
   "id": "5594998c",
   "metadata": {},
   "outputs": [],
   "source": [
    "with open('input8', 'r') as f:\n",
    "    lines = [l.strip() for l in f.readlines()]"
   ]
  },
  {
   "cell_type": "markdown",
   "id": "1cdee878",
   "metadata": {},
   "source": [
    "## Part 1"
   ]
  },
  {
   "cell_type": "code",
   "execution_count": 27,
   "id": "1f3f367a",
   "metadata": {},
   "outputs": [],
   "source": [
    "lines = [\n",
    "    'nop +0',\n",
    "    'acc +1',\n",
    "    'jmp +4',\n",
    "    'acc +3',\n",
    "    'jmp -3',\n",
    "    'acc -99',\n",
    "    'acc +1',\n",
    "    'jmp -4',\n",
    "    'acc +6',\n",
    "]"
   ]
  },
  {
   "cell_type": "code",
   "execution_count": 26,
   "id": "d9ee5f29",
   "metadata": {},
   "outputs": [
    {
     "name": "stdout",
     "output_type": "stream",
     "text": [
      "1671\n"
     ]
    }
   ],
   "source": [
    "acc = 0\n",
    "instruction_ptr = 0\n",
    "instructions_ran = set()\n",
    "while True:\n",
    "    if instruction_ptr in instructions_ran:\n",
    "        print(acc)\n",
    "        break\n",
    "    instruction, value = lines[instruction_ptr].split()\n",
    "    value = int(value)\n",
    "    instructions_ran.add(instruction_ptr)\n",
    "    if instruction == 'nop':\n",
    "        instruction_ptr += 1\n",
    "    elif instruction == 'acc':\n",
    "        acc += value\n",
    "        instruction_ptr += 1\n",
    "    elif instruction == 'jmp':\n",
    "        instruction_ptr += value"
   ]
  },
  {
   "cell_type": "markdown",
   "id": "9ef293d2",
   "metadata": {},
   "source": [
    "## Part 2"
   ]
  },
  {
   "cell_type": "code",
   "execution_count": 33,
   "id": "4e83f611",
   "metadata": {},
   "outputs": [
    {
     "name": "stdout",
     "output_type": "stream",
     "text": [
      "892\n"
     ]
    }
   ],
   "source": [
    "for fix_index in [i for i in range(len(lines)) if lines[i].split()[0] in ['jmp', 'nop']]:\n",
    "    acc = 0\n",
    "    instruction_ptr = 0\n",
    "    instructions_ran = set()\n",
    "    while True:\n",
    "        if instruction_ptr in instructions_ran:\n",
    "            break\n",
    "        elif instruction_ptr == len(lines):\n",
    "            print(acc)\n",
    "            break\n",
    "        instruction, value = lines[instruction_ptr].split()\n",
    "        value = int(value)\n",
    "        instructions_ran.add(instruction_ptr)\n",
    "        if instruction == 'nop':\n",
    "            if instruction_ptr == fix_index:\n",
    "                instruction_ptr += value\n",
    "            else:\n",
    "                instruction_ptr += 1\n",
    "        elif instruction == 'acc':\n",
    "            acc += value\n",
    "            instruction_ptr += 1\n",
    "        elif instruction == 'jmp':\n",
    "            if instruction_ptr == fix_index:\n",
    "                instruction_ptr += 1\n",
    "            else:\n",
    "                instruction_ptr += value"
   ]
  }
 ],
 "metadata": {
  "kernelspec": {
   "display_name": "Python 3 (ipykernel)",
   "language": "python",
   "name": "python3"
  },
  "language_info": {
   "codemirror_mode": {
    "name": "ipython",
    "version": 3
   },
   "file_extension": ".py",
   "mimetype": "text/x-python",
   "name": "python",
   "nbconvert_exporter": "python",
   "pygments_lexer": "ipython3",
   "version": "3.8.0"
  }
 },
 "nbformat": 4,
 "nbformat_minor": 5
}
