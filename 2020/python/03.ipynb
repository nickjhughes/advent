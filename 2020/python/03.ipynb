{
 "cells": [
  {
   "cell_type": "code",
   "execution_count": 20,
   "id": "fcc5a693",
   "metadata": {},
   "outputs": [],
   "source": [
    "import math\n",
    "import numpy as np\n",
    "import pandas as pd"
   ]
  },
  {
   "cell_type": "code",
   "execution_count": 16,
   "id": "b53f7e7c",
   "metadata": {},
   "outputs": [],
   "source": [
    "with open('input3', 'r') as f:\n",
    "    lines = [l.strip() for l in f.readlines()]"
   ]
  },
  {
   "cell_type": "markdown",
   "id": "dd85cdaa",
   "metadata": {},
   "source": [
    "## Part 1"
   ]
  },
  {
   "cell_type": "code",
   "execution_count": 12,
   "id": "8c7022cc",
   "metadata": {},
   "outputs": [],
   "source": [
    "lines = [\n",
    "    '..##.......',\n",
    "    '#...#...#..',\n",
    "    '.#....#..#.',\n",
    "    '..#.#...#.#',\n",
    "    '.#...##..#.',\n",
    "    '..#.##.....',\n",
    "    '.#.#.#....#',\n",
    "    '.#........#',\n",
    "    '#.##...#...',\n",
    "    '#...##....#',\n",
    "    '.#..#...#.#',\n",
    "]"
   ]
  },
  {
   "cell_type": "code",
   "execution_count": 11,
   "id": "657f26e9",
   "metadata": {},
   "outputs": [
    {
     "name": "stdout",
     "output_type": "stream",
     "text": [
      "240\n"
     ]
    }
   ],
   "source": [
    "tree_count = 0\n",
    "x, y = 0, 0\n",
    "while y < len(lines) - 1:\n",
    "    y += 1\n",
    "    x = (x + 3) % len(lines[0])\n",
    "    if lines[y][x] == '#':\n",
    "        tree_count += 1\n",
    "print(tree_count)"
   ]
  },
  {
   "cell_type": "markdown",
   "id": "ce969350",
   "metadata": {},
   "source": [
    "## Part 2"
   ]
  },
  {
   "cell_type": "code",
   "execution_count": 21,
   "id": "71b3fce0",
   "metadata": {},
   "outputs": [
    {
     "data": {
      "text/plain": [
       "2832009600"
      ]
     },
     "execution_count": 21,
     "metadata": {},
     "output_type": "execute_result"
    }
   ],
   "source": [
    "slopes = [\n",
    "    (1, 1),\n",
    "    (1, 3),\n",
    "    (1, 5),\n",
    "    (1, 7),\n",
    "    (2, 1),\n",
    "]\n",
    "tree_counts = []\n",
    "for dy, dx in slopes:\n",
    "    tree_count = 0\n",
    "    x, y = 0, 0\n",
    "    while y < len(lines) - 1:\n",
    "        y += dy\n",
    "        x = (x + dx) % len(lines[0])\n",
    "        if lines[y][x] == '#':\n",
    "            tree_count += 1\n",
    "    tree_counts.append(tree_count)\n",
    "math.prod(tree_counts)"
   ]
  }
 ],
 "metadata": {
  "kernelspec": {
   "display_name": "Python 3 (ipykernel)",
   "language": "python",
   "name": "python3"
  },
  "language_info": {
   "codemirror_mode": {
    "name": "ipython",
    "version": 3
   },
   "file_extension": ".py",
   "mimetype": "text/x-python",
   "name": "python",
   "nbconvert_exporter": "python",
   "pygments_lexer": "ipython3",
   "version": "3.8.0"
  }
 },
 "nbformat": 4,
 "nbformat_minor": 5
}
