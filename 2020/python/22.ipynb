{
 "cells": [
  {
   "cell_type": "code",
   "execution_count": 32,
   "id": "6cc55422",
   "metadata": {},
   "outputs": [],
   "source": [
    "with open('input22', 'r') as f:\n",
    "    lines = [l.strip() for l in f.readlines()]"
   ]
  },
  {
   "cell_type": "markdown",
   "id": "13ae2ad9",
   "metadata": {},
   "source": [
    "## Part 1"
   ]
  },
  {
   "cell_type": "code",
   "execution_count": 6,
   "id": "7474f761",
   "metadata": {},
   "outputs": [],
   "source": [
    "lines = [\n",
    "    'Player 1:',\n",
    "    '9',\n",
    "    '2',\n",
    "    '6',\n",
    "    '3',\n",
    "    '1',\n",
    "    '',\n",
    "    'Player 2:',\n",
    "    '5',\n",
    "    '8',\n",
    "    '4',\n",
    "    '7',\n",
    "    '10',\n",
    "]"
   ]
  },
  {
   "cell_type": "code",
   "execution_count": 5,
   "id": "08c67737",
   "metadata": {},
   "outputs": [
    {
     "name": "stdout",
     "output_type": "stream",
     "text": [
      "36257\n"
     ]
    }
   ],
   "source": [
    "decks = [[], []]\n",
    "cur_player = -1\n",
    "for line in lines:\n",
    "    if line.startswith('Player'):\n",
    "        cur_player = int(line.split()[1].replace(':', '')) - 1\n",
    "    else:\n",
    "        if len(line) > 0:\n",
    "            decks[cur_player].append(int(line))\n",
    "\n",
    "while True:\n",
    "    p1, p2 = decks[0].pop(0), decks[1].pop(0)\n",
    "    if p2 > p1:\n",
    "        decks[1].extend([p2, p1])\n",
    "    else:\n",
    "        decks[0].extend([p1, p2])\n",
    "    if len(decks[0]) == 0:\n",
    "        print(sum(a * b for a, b in zip(range(1, len(decks[1]) + 1), decks[1][::-1])))\n",
    "        break\n",
    "    elif len(decks[1]) == 0:\n",
    "        print(sum(a * b for a, b in zip(range(1, len(decks[0]) + 1), decks[0][::-1])))\n",
    "        break"
   ]
  },
  {
   "cell_type": "markdown",
   "id": "4c78af75",
   "metadata": {},
   "source": [
    "## Part 2"
   ]
  },
  {
   "cell_type": "code",
   "execution_count": 34,
   "id": "2cd0aa79",
   "metadata": {},
   "outputs": [
    {
     "name": "stdout",
     "output_type": "stream",
     "text": [
      "33304\n"
     ]
    },
    {
     "data": {
      "text/plain": [
       "0"
      ]
     },
     "execution_count": 34,
     "metadata": {},
     "output_type": "execute_result"
    }
   ],
   "source": [
    "decks = [[], []]\n",
    "cur_player = -1\n",
    "for line in lines:\n",
    "    if line.startswith('Player'):\n",
    "        cur_player = int(line.split()[1].replace(':', '')) - 1\n",
    "    else:\n",
    "        if len(line) > 0:\n",
    "            decks[cur_player].append(int(line))\n",
    "\n",
    "# Check if existing set of hands has existed - if so, p1 wins the game\n",
    "# Otherwise, draw top cards as normal\n",
    "# Check if both players have # cards in deck >= value of drawn card - recurse\n",
    "# Otherwise, player with higher-value card wins the round, as usual (takes both onto bottom of deck)\n",
    "# Play until one player has all the cards, and they win\n",
    "\n",
    "games_count = 0\n",
    "def game(decks, depth=0):\n",
    "    global games_count\n",
    "    games_count += 1\n",
    "    game_num = games_count\n",
    "    # print(f'=== Game {game_num} ===')\n",
    "\n",
    "    past_game_decks = set()\n",
    "    \n",
    "    round_num = 1\n",
    "    while True:\n",
    "        # print(f'-- Round {round_num} (Game {game_num}) --')\n",
    "        # print(\"Player 1's deck: \", ', '.join(str(v) for v in decks[0]))\n",
    "        # print(\"Player 2's deck: \", ', '.join(str(v) for v in decks[1]))\n",
    "\n",
    "        deck_hash = (tuple(decks[0]), tuple(decks[1]))\n",
    "        if deck_hash in past_game_decks:\n",
    "            return 0\n",
    "        past_game_decks.add(deck_hash)\n",
    "        p1, p2 = decks[0].pop(0), decks[1].pop(0)\n",
    "\n",
    "        # print(f'Player 1 plays: {p1}')\n",
    "        # print(f'Player 2 plays: {p2}')\n",
    "\n",
    "        if len(decks[0]) >= p1 and len(decks[1]) >= p2:\n",
    "            subgame_decks = [decks[0][:p1], decks[1][:p2]]\n",
    "            # print('Playing a sub-game to determine the winner...\\n')\n",
    "            round_winner = game(subgame_decks, depth + 1)\n",
    "            # print(f'Player {round_winner+1} wins round {round_num} for game {game_num}!\\n')\n",
    "        else:\n",
    "            if p2 > p1:\n",
    "                # print(f'Player 2 wins round {round_num} for game {game_num}!\\n')\n",
    "                round_winner = 1\n",
    "            else:\n",
    "                # print(f'Player 1 wins round {round_num} for game {game_num}!\\n')\n",
    "                round_winner = 0\n",
    "        if round_winner == 0:\n",
    "            decks[0].extend([p1, p2])\n",
    "        elif round_winner == 1:\n",
    "            decks[1].extend([p2, p1])\n",
    "\n",
    "        if len(decks[0]) == 0:\n",
    "            if depth == 0:\n",
    "                print(sum(a * b for a, b in zip(range(1, len(decks[1]) + 1), decks[1][::-1])))\n",
    "            return 1\n",
    "        elif len(decks[1]) == 0:\n",
    "            if depth == 0:\n",
    "                print(sum(a * b for a, b in zip(range(1, len(decks[0]) + 1), decks[0][::-1])))\n",
    "            return 0\n",
    "        \n",
    "        round_num += 1\n",
    "\n",
    "game(decks)"
   ]
  }
 ],
 "metadata": {
  "kernelspec": {
   "display_name": "Python 3 (ipykernel)",
   "language": "python",
   "name": "python3"
  },
  "language_info": {
   "codemirror_mode": {
    "name": "ipython",
    "version": 3
   },
   "file_extension": ".py",
   "mimetype": "text/x-python",
   "name": "python",
   "nbconvert_exporter": "python",
   "pygments_lexer": "ipython3",
   "version": "3.10.2"
  }
 },
 "nbformat": 4,
 "nbformat_minor": 5
}
