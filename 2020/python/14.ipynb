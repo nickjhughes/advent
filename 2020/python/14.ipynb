{
 "cells": [
  {
   "cell_type": "code",
   "execution_count": 59,
   "id": "f74e8b39",
   "metadata": {},
   "outputs": [],
   "source": [
    "from itertools import product"
   ]
  },
  {
   "cell_type": "code",
   "execution_count": 75,
   "id": "aa14dc6c",
   "metadata": {},
   "outputs": [],
   "source": [
    "with open('input14', 'r') as f:\n",
    "    lines = [l.strip() for l in f.readlines()]"
   ]
  },
  {
   "cell_type": "markdown",
   "id": "204eca4a",
   "metadata": {},
   "source": [
    "## Part 1"
   ]
  },
  {
   "cell_type": "code",
   "execution_count": 38,
   "id": "ebc6dede",
   "metadata": {},
   "outputs": [
    {
     "name": "stdout",
     "output_type": "stream",
     "text": [
      "2346881602152\n"
     ]
    }
   ],
   "source": [
    "memory = {}\n",
    "mask_str = None\n",
    "for line in lines:\n",
    "    if line.startswith('mask = '):\n",
    "        mask_list = line[7:]\n",
    "    elif line.startswith('mem['):\n",
    "        address = int(line.split('[')[1].split(']')[0])\n",
    "        value = int(line.split(' = ')[1])\n",
    "        value_list = list(bin(value)[2:].rjust(36, '0'))\n",
    "        for i in range(len(value_list)):\n",
    "            if mask_list[i] == '1':\n",
    "                value_list[i] = '1'\n",
    "            elif mask_list[i] == '0':\n",
    "                value_list[i] = '0'\n",
    "        memory[address] = int(''.join(value_list), 2)\n",
    "print(sum(memory.values()))"
   ]
  },
  {
   "cell_type": "markdown",
   "id": "7597de9e",
   "metadata": {},
   "source": [
    "## Part 2"
   ]
  },
  {
   "cell_type": "code",
   "execution_count": 73,
   "id": "0a6c1613",
   "metadata": {},
   "outputs": [],
   "source": [
    "lines = [\n",
    "    'mask = 000000000000000000000000000000X1001X',\n",
    "    'mem[42] = 100',\n",
    "    'mask = 00000000000000000000000000000000X0XX',\n",
    "    'mem[26] = 1',\n",
    "]"
   ]
  },
  {
   "cell_type": "code",
   "execution_count": 76,
   "id": "80f7cea2",
   "metadata": {},
   "outputs": [
    {
     "name": "stdout",
     "output_type": "stream",
     "text": [
      "3885232834169\n"
     ]
    }
   ],
   "source": [
    "memory = {}\n",
    "mask_str = None\n",
    "total_writes = 0\n",
    "for line in lines:\n",
    "    if line.startswith('mask = '):\n",
    "        mask_list = line[7:]\n",
    "    elif line.startswith('mem['):\n",
    "        address = int(line.split('[')[1].split(']')[0])\n",
    "        value = int(line.split(' = ')[1])\n",
    "        address_list = list(bin(address)[2:].rjust(36, '0'))\n",
    "        for i in range(len(address_list)):\n",
    "            if mask_list[i] == '1':\n",
    "                address_list[i] = '1'\n",
    "            elif mask_list[i] == 'X':\n",
    "                address_list[i] = 'X'\n",
    "        x_indices = [i for i in range(len(address_list)) if address_list[i] == 'X']\n",
    "        for combo in product(['0', '1'], repeat=len(x_indices)):\n",
    "            address = int(''.join([combo[x_indices.index(i)] if i in x_indices else address_list[i] for i in range(len(address_list))]), 2)\n",
    "            memory[address] = value\n",
    "print(sum(memory.values()))"
   ]
  }
 ],
 "metadata": {
  "kernelspec": {
   "display_name": "Python 3 (ipykernel)",
   "language": "python",
   "name": "python3"
  },
  "language_info": {
   "codemirror_mode": {
    "name": "ipython",
    "version": 3
   },
   "file_extension": ".py",
   "mimetype": "text/x-python",
   "name": "python",
   "nbconvert_exporter": "python",
   "pygments_lexer": "ipython3",
   "version": "3.8.0"
  }
 },
 "nbformat": 4,
 "nbformat_minor": 5
}
