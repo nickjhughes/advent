{
 "cells": [
  {
   "cell_type": "code",
   "execution_count": 88,
   "id": "6a6cb343",
   "metadata": {},
   "outputs": [],
   "source": [
    "import math\n",
    "from collections import defaultdict"
   ]
  },
  {
   "cell_type": "code",
   "execution_count": 79,
   "id": "aa14dc6c",
   "metadata": {},
   "outputs": [],
   "source": [
    "with open('input16', 'r') as f:\n",
    "    lines = [l.strip() for l in f.readlines()]"
   ]
  },
  {
   "cell_type": "markdown",
   "id": "204eca4a",
   "metadata": {},
   "source": [
    "## Part 1"
   ]
  },
  {
   "cell_type": "code",
   "execution_count": 78,
   "id": "ebc6dede",
   "metadata": {},
   "outputs": [],
   "source": [
    "lines = [\n",
    "    'class: 1-3 or 5-7',\n",
    "    'row: 6-11 or 33-44',\n",
    "    'seat: 13-40 or 45-50',\n",
    "    '',\n",
    "    'your ticket:',\n",
    "    '7,1,14',\n",
    "    '',\n",
    "    'nearby tickets:',\n",
    "    '7,3,47',\n",
    "    '40,4,50',\n",
    "    '55,2,20',\n",
    "    '38,6,12',]"
   ]
  },
  {
   "cell_type": "code",
   "execution_count": 41,
   "metadata": {},
   "outputs": [
    {
     "name": "stdout",
     "output_type": "stream",
     "text": [
      "29851\n"
     ]
    }
   ],
   "source": [
    "fields = {}\n",
    "tickets = []\n",
    "section = 'fields'\n",
    "for line in lines:\n",
    "    if len(line) == 0:\n",
    "        continue\n",
    "    if line == 'your ticket:':\n",
    "        section = 'yor_ticket'\n",
    "        continue\n",
    "    if line == 'nearby tickets:':\n",
    "        section = 'nearby_tickets'\n",
    "        continue\n",
    "    if section == 'fields':\n",
    "        field_name, first_range, _, second_range = line.rsplit(' ', 3)\n",
    "        field_name = field_name[:-1]\n",
    "        first_range = [int(v) for v in first_range.split('-')]\n",
    "        second_range = [int(v) for v in second_range.split('-')]\n",
    "        fields[field_name] = list(range(first_range[0], first_range[1] + 1)) + list(range(second_range[0], second_range[1] + 1))\n",
    "    elif section == 'nearby_tickets':\n",
    "        tickets.append([int(v) for v in line.split(',')])\n",
    "\n",
    "all_valid_values = sum(fields.values(), [])\n",
    "invalid_values = []\n",
    "for ticket in tickets:\n",
    "    for value in ticket:\n",
    "        if value not in all_valid_values:\n",
    "            invalid_values.append(value)\n",
    "print(sum(invalid_values))"
   ]
  },
  {
   "cell_type": "markdown",
   "id": "7597de9e",
   "metadata": {},
   "source": [
    "## Part 2"
   ]
  },
  {
   "cell_type": "code",
   "execution_count": 89,
   "id": "50ea3c19",
   "metadata": {},
   "outputs": [
    {
     "name": "stdout",
     "output_type": "stream",
     "text": [
      "3029180675981\n"
     ]
    }
   ],
   "source": [
    "fields = {}\n",
    "tickets = []\n",
    "section = 'fields'\n",
    "for line in lines:\n",
    "    if len(line) == 0:\n",
    "        continue\n",
    "    if line == 'your ticket:':\n",
    "        section = 'your_ticket'\n",
    "        continue\n",
    "    if line == 'nearby tickets:':\n",
    "        section = 'nearby_tickets'\n",
    "        continue\n",
    "    if section == 'fields':\n",
    "        field_name, first_range, _, second_range = line.rsplit(' ', 3)\n",
    "        field_name = field_name[:-1]\n",
    "        first_range = [int(v) for v in first_range.split('-')]\n",
    "        second_range = [int(v) for v in second_range.split('-')]\n",
    "        fields[field_name] = list(range(first_range[0], first_range[1] + 1)) + list(range(second_range[0], second_range[1] + 1))\n",
    "    elif section == 'nearby_tickets':\n",
    "        tickets.append([int(v) for v in line.split(',')])\n",
    "    elif section == 'your_ticket':\n",
    "        my_ticket = [int(v) for v in line.split(',')]\n",
    "\n",
    "all_valid_values = sum(fields.values(), [])\n",
    "valid_tickets = []\n",
    "for ticket in tickets:\n",
    "    invalid_ticket = False\n",
    "    for value in ticket:\n",
    "        if value not in all_valid_values:\n",
    "            invalid_ticket = True\n",
    "    if not invalid_ticket:\n",
    "        valid_tickets.append(ticket)\n",
    "\n",
    "potentional_fields = defaultdict(set)\n",
    "invalid_fields = defaultdict(set)\n",
    "for ticket in valid_tickets:\n",
    "    for i, value in enumerate(ticket):\n",
    "        for name, valid_values in fields.items():\n",
    "            if value in valid_values:\n",
    "                potentional_fields[i].add(name)\n",
    "            else:\n",
    "                invalid_fields[i].add(name)\n",
    "for i in range(len(tickets[0])):\n",
    "    for invalid_field in invalid_fields[i]:\n",
    "        if invalid_field in potentional_fields[i]:\n",
    "            potentional_fields[i].remove(invalid_field)\n",
    "\n",
    "final_fields = {}\n",
    "while True:\n",
    "    num_set = 0\n",
    "    for i in range(len(tickets[0])):\n",
    "        if len(potentional_fields[i]) == 1:\n",
    "            final_fields[i] = potentional_fields[i].pop()\n",
    "            num_set += 1\n",
    "    for i, field in final_fields.items():\n",
    "        for j in range(len(tickets[0])):\n",
    "            if field in potentional_fields[j]:\n",
    "                potentional_fields[j].remove(field)\n",
    "    if num_set == 0:\n",
    "        break\n",
    "\n",
    "my_values = []\n",
    "for i, name in final_fields.items():\n",
    "    if name.startswith('departure '):\n",
    "        my_values.append(my_ticket[i])\n",
    "print(math.prod(my_values))"
   ]
  }
 ],
 "metadata": {
  "kernelspec": {
   "display_name": "Python 3 (ipykernel)",
   "language": "python",
   "name": "python3"
  },
  "language_info": {
   "codemirror_mode": {
    "name": "ipython",
    "version": 3
   },
   "file_extension": ".py",
   "mimetype": "text/x-python",
   "name": "python",
   "nbconvert_exporter": "python",
   "pygments_lexer": "ipython3",
   "version": "3.10.2"
  }
 },
 "nbformat": 4,
 "nbformat_minor": 5
}
