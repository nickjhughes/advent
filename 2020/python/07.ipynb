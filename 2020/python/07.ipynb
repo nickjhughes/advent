{
 "cells": [
  {
   "cell_type": "code",
   "execution_count": 16,
   "id": "920bd62b",
   "metadata": {},
   "outputs": [],
   "source": [
    "import re\n",
    "import numpy as np\n",
    "import pandas as pd"
   ]
  },
  {
   "cell_type": "code",
   "execution_count": 64,
   "id": "a0aaac68",
   "metadata": {},
   "outputs": [],
   "source": [
    "with open('input7', 'r') as f:\n",
    "    lines = [l.strip() for l in f.readlines()]"
   ]
  },
  {
   "cell_type": "markdown",
   "id": "4e82770c",
   "metadata": {},
   "source": [
    "## Part 1"
   ]
  },
  {
   "cell_type": "code",
   "execution_count": 30,
   "id": "00d5019f",
   "metadata": {},
   "outputs": [],
   "source": [
    "lines = [\n",
    "    'light red bags contain 1 bright white bag, 2 muted yellow bags.',\n",
    "    'dark orange bags contain 3 bright white bags, 4 muted yellow bags.',\n",
    "    'bright white bags contain 1 shiny gold bag.',\n",
    "    'muted yellow bags contain 2 shiny gold bags, 9 faded blue bags.',\n",
    "    'shiny gold bags contain 1 dark olive bag, 2 vibrant plum bags.',\n",
    "    'dark olive bags contain 3 faded blue bags, 4 dotted black bags.',\n",
    "    'vibrant plum bags contain 5 faded blue bags, 6 dotted black bags.',\n",
    "    'faded blue bags contain no other bags.',\n",
    "    'dotted black bags contain no other bags.',\n",
    "]"
   ]
  },
  {
   "cell_type": "code",
   "execution_count": 33,
   "id": "058151e5",
   "metadata": {},
   "outputs": [
    {
     "name": "stdout",
     "output_type": "stream",
     "text": [
      "4\n"
     ]
    }
   ],
   "source": [
    "rules = {}\n",
    "for line in lines:\n",
    "    rule_name = ' '.join(line.split()[:2])\n",
    "    rules[rule_name] = []\n",
    "    contained_bags = line.split(' bags contain ')[1]\n",
    "    if contained_bags == 'no other bags.':\n",
    "        continue\n",
    "    for result in re.findall('(\\d+) ([a-z]+ [a-z]+) bags?', contained_bags):\n",
    "        rules[rule_name].append(result[1])\n",
    "shiny_gold_containers = ['shiny gold']\n",
    "bags_added = 1\n",
    "while bags_added > 0:\n",
    "    bags_added = 0\n",
    "    for rule in rules.keys():\n",
    "        for bag in shiny_gold_containers:\n",
    "            if bag in rules[rule] and rule not in shiny_gold_containers:\n",
    "                shiny_gold_containers.append(rule)\n",
    "                bags_added += 1\n",
    "print(len(shiny_gold_containers) - 1)"
   ]
  },
  {
   "cell_type": "markdown",
   "id": "6b874480",
   "metadata": {},
   "source": [
    "## Part 2"
   ]
  },
  {
   "cell_type": "code",
   "execution_count": 65,
   "id": "50487b05",
   "metadata": {},
   "outputs": [],
   "source": [
    "rules = {}\n",
    "for line in lines:\n",
    "    rule_name = ' '.join(line.split()[:2])\n",
    "    rules[rule_name] = []\n",
    "    contained_bags = line.split(' bags contain ')[1]\n",
    "    if contained_bags == 'no other bags.':\n",
    "        continue\n",
    "    for result in re.findall('(\\d+) ([a-z]+ [a-z]+) bags?', contained_bags):\n",
    "        rules[rule_name].append(result)"
   ]
  },
  {
   "cell_type": "code",
   "execution_count": 66,
   "id": "f8457830",
   "metadata": {},
   "outputs": [],
   "source": [
    "def count_bags(rules, bag):\n",
    "    if len(rules[bag]) == 0:\n",
    "        return 1\n",
    "    total_count = 0\n",
    "    for count, new_bag in rules[bag]:\n",
    "        total_count += int(count) * count_bags(rules, new_bag)\n",
    "    return total_count + 1"
   ]
  },
  {
   "cell_type": "code",
   "execution_count": 67,
   "id": "7d8ac55d",
   "metadata": {},
   "outputs": [
    {
     "data": {
      "text/plain": [
       "10219"
      ]
     },
     "execution_count": 67,
     "metadata": {},
     "output_type": "execute_result"
    }
   ],
   "source": [
    "count_bags(rules, 'shiny gold') - 1"
   ]
  }
 ],
 "metadata": {
  "kernelspec": {
   "display_name": "Python 3 (ipykernel)",
   "language": "python",
   "name": "python3"
  },
  "language_info": {
   "codemirror_mode": {
    "name": "ipython",
    "version": 3
   },
   "file_extension": ".py",
   "mimetype": "text/x-python",
   "name": "python",
   "nbconvert_exporter": "python",
   "pygments_lexer": "ipython3",
   "version": "3.8.0"
  }
 },
 "nbformat": 4,
 "nbformat_minor": 5
}
