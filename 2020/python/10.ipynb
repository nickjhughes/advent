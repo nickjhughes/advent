{
 "cells": [
  {
   "cell_type": "code",
   "execution_count": 41,
   "id": "9a30f310",
   "metadata": {},
   "outputs": [],
   "source": [
    "from collections import Counter"
   ]
  },
  {
   "cell_type": "code",
   "execution_count": 42,
   "id": "df85c70c",
   "metadata": {},
   "outputs": [],
   "source": [
    "with open('input10', 'r') as f:\n",
    "    lines = [int(l.strip()) for l in f.readlines()]"
   ]
  },
  {
   "cell_type": "markdown",
   "id": "0f9ea81d",
   "metadata": {},
   "source": [
    "## Part 1"
   ]
  },
  {
   "cell_type": "code",
   "execution_count": 43,
   "id": "8dcf2d97",
   "metadata": {},
   "outputs": [
    {
     "name": "stdout",
     "output_type": "stream",
     "text": [
      "2244\n"
     ]
    }
   ],
   "source": [
    "inbuilt = max(lines) + 3\n",
    "adaptors = lines.copy()\n",
    "chain = [0]\n",
    "diffs = []\n",
    "while len(chain) < len(lines) + 1:\n",
    "    valid = [a for a in adaptors if a <= chain[-1] + 3]\n",
    "    n = min(valid)\n",
    "    adaptors.remove(n)\n",
    "    chain.append(n)\n",
    "    diffs.append(n - chain[-2])\n",
    "chain.append(inbuilt)\n",
    "diffs.append(3)\n",
    "diff_counts = Counter(diffs)\n",
    "print(diff_counts[3] * diff_counts[1])"
   ]
  },
  {
   "cell_type": "markdown",
   "id": "719d6deb",
   "metadata": {},
   "source": [
    "## Part 2"
   ]
  },
  {
   "cell_type": "code",
   "execution_count": 44,
   "id": "f20af855",
   "metadata": {},
   "outputs": [],
   "source": [
    "lines = [16, 10, 15, 5, 1, 11, 7, 19, 6, 12, 4]"
   ]
  },
  {
   "cell_type": "code",
   "execution_count": null,
   "id": "d39b9236",
   "metadata": {},
   "outputs": [],
   "source": []
  },
  {
   "cell_type": "code",
   "execution_count": null,
   "id": "c1f8c9e6",
   "metadata": {},
   "outputs": [],
   "source": []
  }
 ],
 "metadata": {
  "kernelspec": {
   "display_name": "Python 3 (ipykernel)",
   "language": "python",
   "name": "python3"
  },
  "language_info": {
   "codemirror_mode": {
    "name": "ipython",
    "version": 3
   },
   "file_extension": ".py",
   "mimetype": "text/x-python",
   "name": "python",
   "nbconvert_exporter": "python",
   "pygments_lexer": "ipython3",
   "version": "3.8.0"
  }
 },
 "nbformat": 4,
 "nbformat_minor": 5
}
