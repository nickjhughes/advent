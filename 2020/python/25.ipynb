{
 "cells": [
  {
   "cell_type": "code",
   "execution_count": 26,
   "id": "db3b8d51",
   "metadata": {},
   "outputs": [],
   "source": [
    "import math"
   ]
  },
  {
   "cell_type": "code",
   "execution_count": 11,
   "id": "6cc55422",
   "metadata": {},
   "outputs": [],
   "source": [
    "with open('input25', 'r') as f:\n",
    "    lines = [l.strip() for l in f.readlines()]"
   ]
  },
  {
   "cell_type": "markdown",
   "id": "13ae2ad9",
   "metadata": {},
   "source": [
    "## Part 1"
   ]
  },
  {
   "cell_type": "code",
   "execution_count": 2,
   "id": "7474f761",
   "metadata": {},
   "outputs": [],
   "source": [
    "lines = [\n",
    "    '5764801',\n",
    "    '17807724',\n",
    "]"
   ]
  },
  {
   "cell_type": "code",
   "execution_count": 5,
   "id": "84cd6863",
   "metadata": {},
   "outputs": [],
   "source": [
    "def transform(subject_number, loop_size):\n",
    "    divisor = 20201227\n",
    "    value = 1\n",
    "    for _ in range(loop_size):\n",
    "        value *= subject_number\n",
    "        value %= divisor\n",
    "    return value"
   ]
  },
  {
   "cell_type": "code",
   "execution_count": 15,
   "id": "5e64753e",
   "metadata": {},
   "outputs": [
    {
     "ename": "KeyboardInterrupt",
     "evalue": "",
     "output_type": "error",
     "traceback": [
      "\u001b[1;31m---------------------------------------------------------------------------\u001b[0m",
      "\u001b[1;31mKeyboardInterrupt\u001b[0m                         Traceback (most recent call last)",
      "\u001b[1;32mc:\\code\\advent\\2020\\25.ipynb Cell 5'\u001b[0m in \u001b[0;36m<cell line: 5>\u001b[1;34m()\u001b[0m\n\u001b[0;32m      <a href='vscode-notebook-cell:/c%3A/code/advent/2020/25.ipynb#ch0000006?line=3'>4</a>\u001b[0m card_loop_size \u001b[39m=\u001b[39m \u001b[39m0\u001b[39m\n\u001b[0;32m      <a href='vscode-notebook-cell:/c%3A/code/advent/2020/25.ipynb#ch0000006?line=4'>5</a>\u001b[0m \u001b[39mwhile\u001b[39;00m \u001b[39mTrue\u001b[39;00m:\n\u001b[1;32m----> <a href='vscode-notebook-cell:/c%3A/code/advent/2020/25.ipynb#ch0000006?line=5'>6</a>\u001b[0m     result \u001b[39m=\u001b[39m transform(\u001b[39m7\u001b[39m, card_loop_size)\n\u001b[0;32m      <a href='vscode-notebook-cell:/c%3A/code/advent/2020/25.ipynb#ch0000006?line=6'>7</a>\u001b[0m     \u001b[39mif\u001b[39;00m result \u001b[39m==\u001b[39m card_pub:\n\u001b[0;32m      <a href='vscode-notebook-cell:/c%3A/code/advent/2020/25.ipynb#ch0000006?line=7'>8</a>\u001b[0m         \u001b[39mbreak\u001b[39;00m\n",
      "\u001b[1;32mc:\\code\\advent\\2020\\25.ipynb Cell 4'\u001b[0m in \u001b[0;36mtransform\u001b[1;34m(subject_number, loop_size)\u001b[0m\n\u001b[0;32m      <a href='vscode-notebook-cell:/c%3A/code/advent/2020/25.ipynb#ch0000010?line=3'>4</a>\u001b[0m \u001b[39mfor\u001b[39;00m _ \u001b[39min\u001b[39;00m \u001b[39mrange\u001b[39m(loop_size):\n\u001b[0;32m      <a href='vscode-notebook-cell:/c%3A/code/advent/2020/25.ipynb#ch0000010?line=4'>5</a>\u001b[0m     value \u001b[39m*\u001b[39m\u001b[39m=\u001b[39m subject_number\n\u001b[1;32m----> <a href='vscode-notebook-cell:/c%3A/code/advent/2020/25.ipynb#ch0000010?line=5'>6</a>\u001b[0m     value \u001b[39m%\u001b[39m\u001b[39m=\u001b[39m divisor\n\u001b[0;32m      <a href='vscode-notebook-cell:/c%3A/code/advent/2020/25.ipynb#ch0000010?line=6'>7</a>\u001b[0m \u001b[39mreturn\u001b[39;00m value\n",
      "\u001b[1;31mKeyboardInterrupt\u001b[0m: "
     ]
    }
   ],
   "source": [
    "card_pub = int(lines[0])\n",
    "door_pub = int(lines[1])\n",
    "\n",
    "card_loop_size = 0\n",
    "while True:\n",
    "    result = transform(7, card_loop_size)\n",
    "    if result == card_pub:\n",
    "        break\n",
    "    card_loop_size += 1\n",
    "print(card_loop_size)"
   ]
  },
  {
   "cell_type": "code",
   "execution_count": 29,
   "id": "13e6e04b",
   "metadata": {},
   "outputs": [
    {
     "data": {
      "text/plain": [
       "5764801"
      ]
     },
     "execution_count": 29,
     "metadata": {},
     "output_type": "execute_result"
    }
   ],
   "source": [
    "transform(7, 8)"
   ]
  },
  {
   "cell_type": "code",
   "execution_count": 31,
   "id": "e2031e99",
   "metadata": {},
   "outputs": [
    {
     "data": {
      "text/plain": [
       "14897079"
      ]
     },
     "execution_count": 31,
     "metadata": {},
     "output_type": "execute_result"
    }
   ],
   "source": [
    "transform(17807724, 8)"
   ]
  },
  {
   "cell_type": "code",
   "execution_count": 28,
   "id": "01cdbc1d",
   "metadata": {},
   "outputs": [
    {
     "data": {
      "text/plain": [
       "11.0"
      ]
     },
     "execution_count": 28,
     "metadata": {},
     "output_type": "execute_result"
    }
   ],
   "source": [
    "math.log(17807724 + 20201227 * 97) / math.log(7)"
   ]
  },
  {
   "cell_type": "markdown",
   "id": "4c78af75",
   "metadata": {},
   "source": [
    "## Part 2"
   ]
  },
  {
   "cell_type": "code",
   "execution_count": null,
   "id": "863d5d4d",
   "metadata": {},
   "outputs": [],
   "source": []
  },
  {
   "cell_type": "code",
   "execution_count": null,
   "id": "b9eb3ace",
   "metadata": {},
   "outputs": [],
   "source": []
  }
 ],
 "metadata": {
  "kernelspec": {
   "display_name": "Python 3 (ipykernel)",
   "language": "python",
   "name": "python3"
  },
  "language_info": {
   "codemirror_mode": {
    "name": "ipython",
    "version": 3
   },
   "file_extension": ".py",
   "mimetype": "text/x-python",
   "name": "python",
   "nbconvert_exporter": "python",
   "pygments_lexer": "ipython3",
   "version": "3.10.2"
  }
 },
 "nbformat": 4,
 "nbformat_minor": 5
}
