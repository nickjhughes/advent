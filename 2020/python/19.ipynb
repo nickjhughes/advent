{
 "cells": [
  {
   "cell_type": "code",
   "execution_count": 143,
   "id": "61483d6b",
   "metadata": {},
   "outputs": [],
   "source": [
    "from collections import defaultdict\n",
    "import math\n",
    "import re\n",
    "import numpy as np\n",
    "import matplotlib.pyplot as plt\n",
    "%matplotlib inline"
   ]
  },
  {
   "cell_type": "code",
   "execution_count": 144,
   "id": "61ebdb07",
   "metadata": {},
   "outputs": [],
   "source": [
    "with open('input19', 'r') as f:\n",
    "    lines = [l.strip() for l in f.readlines()]"
   ]
  },
  {
   "cell_type": "markdown",
   "id": "1f0e917e",
   "metadata": {},
   "source": [
    "## Part 1"
   ]
  },
  {
   "cell_type": "code",
   "execution_count": 131,
   "id": "e9625667",
   "metadata": {},
   "outputs": [],
   "source": [
    "lines = [\n",
    "    '0: 4 1 5',\n",
    "    '1: 2 3 | 3 2',\n",
    "    '2: 4 4 | 5 5',\n",
    "    '3: 4 5 | 5 4',\n",
    "    '4: \"a\"',\n",
    "    '5: \"b\"',\n",
    "    '',\n",
    "    'ababbb',\n",
    "    'bababa',\n",
    "    'abbbab',\n",
    "    'aaabbb',\n",
    "    'aaaabbb',\n",
    "]"
   ]
  },
  {
   "cell_type": "code",
   "execution_count": 145,
   "id": "539f662d",
   "metadata": {},
   "outputs": [],
   "source": [
    "rules = {}\n",
    "messages = []\n",
    "for line in lines:\n",
    "    if line.startswith('a') or line.startswith('b'):\n",
    "        messages.append(line)\n",
    "    elif len(line) > 0:\n",
    "        rule_num, rule = line.split(': ')\n",
    "        if '|' in rule:\n",
    "            sub_rules = rule.split(' | ')\n",
    "        else:\n",
    "            sub_rules = [rule]\n",
    "        for i in range(len(sub_rules)):\n",
    "            if sub_rules[i].startswith('\"'):\n",
    "                sub_rules[i] = (sub_rules[i].replace('\"', ''),)\n",
    "            else:\n",
    "                sub_rules[i] = tuple([int(v) for v in sub_rules[i].split()])\n",
    "        rules[int(rule_num)] = sub_rules"
   ]
  },
  {
   "cell_type": "code",
   "execution_count": 146,
   "id": "ee9fca30",
   "metadata": {},
   "outputs": [],
   "source": [
    "def expand_rule(rule, rules):\n",
    "    if type(rule) is list:\n",
    "        return '(' + '|'.join(expand_rule(sub_rule, rules) for sub_rule in rule) + ')'\n",
    "    elif type(rule) is tuple:\n",
    "        if len(rule) == 1:\n",
    "            if rule[0] in ['a', 'b']:\n",
    "                return rule[0]\n",
    "            else:\n",
    "                return expand_rule(rules[rule[0]], rules)\n",
    "        else:\n",
    "            expanded_rule = []\n",
    "            for other_rule in rule:\n",
    "                expanded_rule.append(expand_rule(rules[other_rule], rules))\n",
    "            return '(' + ''.join(expanded_rule) + ')'"
   ]
  },
  {
   "cell_type": "code",
   "execution_count": 147,
   "id": "7909f941",
   "metadata": {},
   "outputs": [
    {
     "name": "stdout",
     "output_type": "stream",
     "text": [
      "115\n"
     ]
    }
   ],
   "source": [
    "r = re.compile(expand_rule(rules[0], rules))\n",
    "num_matches = 0\n",
    "for message in messages:\n",
    "    if r.fullmatch(message) is not None:\n",
    "        num_matches += 1\n",
    "print(num_matches)"
   ]
  },
  {
   "cell_type": "markdown",
   "id": "d7aa52ab",
   "metadata": {},
   "source": [
    "## Part 2"
   ]
  },
  {
   "cell_type": "code",
   "execution_count": null,
   "id": "1c63362f",
   "metadata": {},
   "outputs": [],
   "source": []
  },
  {
   "cell_type": "code",
   "execution_count": null,
   "id": "c86e245b",
   "metadata": {},
   "outputs": [],
   "source": []
  },
  {
   "cell_type": "code",
   "execution_count": null,
   "id": "e6343a90",
   "metadata": {},
   "outputs": [],
   "source": []
  }
 ],
 "metadata": {
  "kernelspec": {
   "display_name": "Python 3 (ipykernel)",
   "language": "python",
   "name": "python3"
  },
  "language_info": {
   "codemirror_mode": {
    "name": "ipython",
    "version": 3
   },
   "file_extension": ".py",
   "mimetype": "text/x-python",
   "name": "python",
   "nbconvert_exporter": "python",
   "pygments_lexer": "ipython3",
   "version": "3.8.0"
  }
 },
 "nbformat": 4,
 "nbformat_minor": 5
}
