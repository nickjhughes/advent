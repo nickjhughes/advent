{
 "cells": [
  {
   "cell_type": "code",
   "execution_count": 26,
   "id": "61483d6b",
   "metadata": {},
   "outputs": [],
   "source": [
    "from collections import defaultdict\n",
    "import math\n",
    "import numpy as np\n",
    "import matplotlib.pyplot as plt\n",
    "%matplotlib inline"
   ]
  },
  {
   "cell_type": "code",
   "execution_count": 63,
   "id": "61ebdb07",
   "metadata": {},
   "outputs": [],
   "source": [
    "with open('input21', 'r') as f:\n",
    "    lines = [l.strip() for l in f.readlines()]"
   ]
  },
  {
   "cell_type": "markdown",
   "id": "1f0e917e",
   "metadata": {},
   "source": [
    "## Part 1"
   ]
  },
  {
   "cell_type": "code",
   "execution_count": 7,
   "id": "e9625667",
   "metadata": {},
   "outputs": [],
   "source": [
    "lines = [\n",
    "    'mxmxvkd kfcds sqjhc nhms (contains dairy, fish)',\n",
    "    'trh fvjkl sbzzf mxmxvkd (contains dairy)',\n",
    "    'sqjhc fvjkl (contains soy)',\n",
    "    'sqjhc mxmxvkd sbzzf (contains fish)',\n",
    "]"
   ]
  },
  {
   "cell_type": "code",
   "execution_count": 28,
   "id": "935b3b56",
   "metadata": {},
   "outputs": [
    {
     "name": "stdout",
     "output_type": "stream",
     "text": [
      "2061\n"
     ]
    }
   ],
   "source": [
    "ingredient_counts = defaultdict(int)\n",
    "mapping = {}\n",
    "for line in lines:\n",
    "    ingredients, allergens = line[:-1].split(' (contains ')\n",
    "    ingredients = ingredients.split()\n",
    "    allergens = allergens.split(', ')\n",
    "    \n",
    "    for ingredient in ingredients:\n",
    "        ingredient_counts[ingredient] += 1\n",
    "\n",
    "    for allergen in allergens:\n",
    "        if allergen in mapping:\n",
    "            mapping[allergen] = mapping[allergen].intersection(set(ingredients))\n",
    "        else:\n",
    "            mapping[allergen] = set(ingredients)\n",
    "print(sum(v for k, v in ingredient_counts.items() if k not in set().union(*mapping.values())))"
   ]
  },
  {
   "cell_type": "markdown",
   "id": "d7aa52ab",
   "metadata": {},
   "source": [
    "## Part 2"
   ]
  },
  {
   "cell_type": "code",
   "execution_count": 57,
   "id": "f98fc2d1",
   "metadata": {},
   "outputs": [],
   "source": [
    "lines = [\n",
    "    'mxmxvkd kfcds sqjhc nhms (contains dairy, fish)',\n",
    "    'trh fvjkl sbzzf mxmxvkd (contains dairy)',\n",
    "    'sqjhc fvjkl (contains soy)',\n",
    "    'sqjhc mxmxvkd sbzzf (contains fish)',\n",
    "]"
   ]
  },
  {
   "cell_type": "code",
   "execution_count": 64,
   "id": "ceea33eb",
   "metadata": {},
   "outputs": [
    {
     "name": "stdout",
     "output_type": "stream",
     "text": [
      "cdqvp,dglm,zhqjs,rbpg,xvtrfz,tgmzqjz,mfqgx,rffqhl\n"
     ]
    }
   ],
   "source": [
    "all_allergens = set()\n",
    "mapping = {}\n",
    "for line in lines:\n",
    "    ingredients, allergens = line[:-1].split(' (contains ')\n",
    "    ingredients = ingredients.split()\n",
    "    allergens = allergens.split(', ')\n",
    "    \n",
    "    all_allergens.update(allergens)\n",
    "\n",
    "    for allergen in allergens:\n",
    "        if allergen in mapping:\n",
    "            mapping[allergen] = mapping[allergen].intersection(set(ingredients))\n",
    "        else:\n",
    "            mapping[allergen] = set(ingredients)\n",
    "\n",
    "final_mapping = {}\n",
    "while len(final_mapping) < len(all_allergens):\n",
    "    to_remove = []\n",
    "    for allergen, ingredients in mapping.items():\n",
    "        if len(ingredients) == 1:\n",
    "            final_mapping[allergen] = list(ingredients)[0]\n",
    "            to_remove.append(list(ingredients)[0])\n",
    "            # print(f'Assigned {list(ingredients)[0]} to {allergen}')\n",
    "    new_mapping = {}\n",
    "    for ingredient in to_remove:\n",
    "        for allergen, ingredients in mapping.items():\n",
    "            new_mapping[allergen] = ingredients - set([ingredient])\n",
    "    mapping = new_mapping\n",
    "    if len(to_remove) == 0:\n",
    "        print('Failed')\n",
    "        break\n",
    "print(','.join(m[1] for m in sorted(final_mapping.items(), key=lambda m: m[0])))"
   ]
  }
 ],
 "metadata": {
  "kernelspec": {
   "display_name": "Python 3 (ipykernel)",
   "language": "python",
   "name": "python3"
  },
  "language_info": {
   "codemirror_mode": {
    "name": "ipython",
    "version": 3
   },
   "file_extension": ".py",
   "mimetype": "text/x-python",
   "name": "python",
   "nbconvert_exporter": "python",
   "pygments_lexer": "ipython3",
   "version": "3.8.0"
  }
 },
 "nbformat": 4,
 "nbformat_minor": 5
}
