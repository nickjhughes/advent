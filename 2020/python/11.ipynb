{
 "cells": [
  {
   "cell_type": "code",
   "execution_count": 3,
   "id": "394e0a89",
   "metadata": {},
   "outputs": [],
   "source": [
    "import numpy as np"
   ]
  },
  {
   "cell_type": "code",
   "execution_count": 57,
   "id": "ed29d024",
   "metadata": {},
   "outputs": [],
   "source": [
    "with open('input11', 'r') as f:\n",
    "    lines = [l.strip() for l in f.readlines()]"
   ]
  },
  {
   "cell_type": "markdown",
   "id": "557dd227",
   "metadata": {},
   "source": [
    "## Part 1"
   ]
  },
  {
   "cell_type": "code",
   "execution_count": 35,
   "id": "e87587b0",
   "metadata": {},
   "outputs": [],
   "source": [
    "lines = [\n",
    "    'L.LL.LL.LL',\n",
    "    'LLLLLLL.LL',\n",
    "    'L.L.L..L..',\n",
    "    'LLLL.LL.LL',\n",
    "    'L.LL.LL.LL',\n",
    "    'L.LLLLL.LL',\n",
    "    '..L.L.....',\n",
    "    'LLLLLLLLLL',\n",
    "    'L.LLLLLL.L',\n",
    "    'L.LLLLL.LL',\n",
    "]"
   ]
  },
  {
   "cell_type": "code",
   "execution_count": 37,
   "id": "0681ba3f",
   "metadata": {},
   "outputs": [
    {
     "name": "stdout",
     "output_type": "stream",
     "text": [
      "37\n"
     ]
    }
   ],
   "source": [
    "seats = []\n",
    "for line in lines:\n",
    "    seats.append([c for c in line])\n",
    "rows = len(seats)\n",
    "cols = len(seats[0])\n",
    "\n",
    "while True:\n",
    "    new_seats = []\n",
    "    num_changes = 0\n",
    "    for r in range(rows):\n",
    "        new_seats.append([])\n",
    "        for c in range(cols):\n",
    "            if seats[r][c] == '.':\n",
    "                new_seats[r].append('.')\n",
    "                continue\n",
    "            occupied_neighbours = 0\n",
    "            for dr in [-1, 0, 1]:\n",
    "                for dc in [-1, 0, 1]:\n",
    "                    if r + dr >= 0 and r + dr < rows and c + dc >= 0 and c + dc < cols:\n",
    "                        if dr == 0 and dc == 0:\n",
    "                            continue\n",
    "                        if seats[r + dr][c + dc] == '#':\n",
    "                            occupied_neighbours += 1\n",
    "            if seats[r][c] == 'L' and occupied_neighbours == 0:\n",
    "                new_seats[r].append('#')\n",
    "                num_changes += 1\n",
    "                continue\n",
    "            if seats[r][c] == '#' and occupied_neighbours >= 4:\n",
    "                new_seats[r].append('L')\n",
    "                num_changes += 1\n",
    "                continue\n",
    "            new_seats[r].append(seats[r][c])\n",
    "    seats = new_seats\n",
    "    if num_changes == 0:\n",
    "        break\n",
    "# print('\\n'.join([''.join(s) for s in seats]) + '\\n')\n",
    "print(sum(sum(s == '#' for s in r) for r in seats))"
   ]
  },
  {
   "cell_type": "markdown",
   "id": "e8d63bf7",
   "metadata": {},
   "source": [
    "## Part 2"
   ]
  },
  {
   "cell_type": "code",
   "execution_count": 58,
   "id": "6f309b61",
   "metadata": {},
   "outputs": [
    {
     "name": "stdout",
     "output_type": "stream",
     "text": [
      "2089\n"
     ]
    }
   ],
   "source": [
    "seats = []\n",
    "for line in lines:\n",
    "    seats.append([c for c in line])\n",
    "rows = len(seats)\n",
    "cols = len(seats[0])\n",
    "\n",
    "neighbours = {}\n",
    "for r in range(rows):\n",
    "    for c in range(cols):\n",
    "        indices = []\n",
    "        for dr in [-1, 0, 1]:\n",
    "            for dc in [-1, 0, 1]:\n",
    "                if dr == 0 and dc == 0:\n",
    "                    continue\n",
    "                dist = 1\n",
    "                while True:\n",
    "                    if r + dist * dr >= 0 and r + dist * dr < rows and c + dist * dc >= 0 and c + dist * dc < cols:\n",
    "                        if seats[r + dist * dr][c + dist * dc] != \".\":\n",
    "                            indices.append((r + dist * dr, c + dist * dc))\n",
    "                            break\n",
    "                        dist += 1\n",
    "                    else:\n",
    "                        break\n",
    "        neighbours[(r, c)] = indices\n",
    "\n",
    "while True:\n",
    "    new_seats = []\n",
    "    num_changes = 0\n",
    "    for r in range(rows):\n",
    "        new_seats.append([])\n",
    "        for c in range(cols):\n",
    "            if seats[r][c] == '.':\n",
    "                new_seats[r].append('.')\n",
    "                continue\n",
    "            occupied_neighbours = 0\n",
    "            for nr, nc in neighbours[(r, c)]:\n",
    "                if seats[nr][nc] == '#':\n",
    "                    occupied_neighbours += 1\n",
    "            if seats[r][c] == 'L' and occupied_neighbours == 0:\n",
    "                new_seats[r].append('#')\n",
    "                num_changes += 1\n",
    "                continue\n",
    "            if seats[r][c] == '#' and occupied_neighbours >= 5:\n",
    "                new_seats[r].append('L')\n",
    "                num_changes += 1\n",
    "                continue\n",
    "            new_seats[r].append(seats[r][c])\n",
    "    seats = new_seats\n",
    "    if num_changes == 0:\n",
    "        break\n",
    "#     print('\\n'.join([''.join(s) for s in seats]) + '\\n')\n",
    "print(sum(sum(s == '#' for s in r) for r in seats))"
   ]
  }
 ],
 "metadata": {
  "kernelspec": {
   "display_name": "Python 3 (ipykernel)",
   "language": "python",
   "name": "python3"
  },
  "language_info": {
   "codemirror_mode": {
    "name": "ipython",
    "version": 3
   },
   "file_extension": ".py",
   "mimetype": "text/x-python",
   "name": "python",
   "nbconvert_exporter": "python",
   "pygments_lexer": "ipython3",
   "version": "3.8.0"
  }
 },
 "nbformat": 4,
 "nbformat_minor": 5
}
