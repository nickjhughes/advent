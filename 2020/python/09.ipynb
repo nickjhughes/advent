{
 "cells": [
  {
   "cell_type": "code",
   "execution_count": 25,
   "id": "f14f8de0",
   "metadata": {},
   "outputs": [],
   "source": [
    "with open('input9', 'r') as f:\n",
    "    lines = [int(l.strip()) for l in f.readlines()]"
   ]
  },
  {
   "cell_type": "markdown",
   "id": "c025a8c5",
   "metadata": {},
   "source": [
    "## Part 1"
   ]
  },
  {
   "cell_type": "code",
   "execution_count": 19,
   "id": "db439602",
   "metadata": {},
   "outputs": [
    {
     "name": "stdout",
     "output_type": "stream",
     "text": [
      "144381670\n"
     ]
    }
   ],
   "source": [
    "for i in range(25, len(lines)):\n",
    "    n = lines[i]\n",
    "    nums = lines[i-25:i]\n",
    "    valid_sum = False\n",
    "    for m, p in enumerate(nums):\n",
    "        for q in nums[m+1:]:\n",
    "            if p + q == n:\n",
    "                valid_sum = True\n",
    "                break\n",
    "    if not valid_sum:\n",
    "        print(n)\n",
    "        break"
   ]
  },
  {
   "cell_type": "markdown",
   "id": "bb5372b4",
   "metadata": {},
   "source": [
    "## Part 2"
   ]
  },
  {
   "cell_type": "code",
   "execution_count": 26,
   "id": "bb82826c",
   "metadata": {},
   "outputs": [
    {
     "name": "stdout",
     "output_type": "stream",
     "text": [
      "20532569\n"
     ]
    }
   ],
   "source": [
    "total = 144381670\n",
    "for i in range(len(lines)):\n",
    "    j = i + 1\n",
    "    while j < len(lines) - 1:\n",
    "        nums = lines[i:j+1]\n",
    "        s = sum(nums)\n",
    "        if s == total:\n",
    "            print(min(nums) + max(nums))\n",
    "        elif s > total:\n",
    "            break\n",
    "        j += 1"
   ]
  }
 ],
 "metadata": {
  "kernelspec": {
   "display_name": "Python 3 (ipykernel)",
   "language": "python",
   "name": "python3"
  },
  "language_info": {
   "codemirror_mode": {
    "name": "ipython",
    "version": 3
   },
   "file_extension": ".py",
   "mimetype": "text/x-python",
   "name": "python",
   "nbconvert_exporter": "python",
   "pygments_lexer": "ipython3",
   "version": "3.8.0"
  }
 },
 "nbformat": 4,
 "nbformat_minor": 5
}
