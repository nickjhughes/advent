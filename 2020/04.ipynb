{
 "cells": [
  {
   "cell_type": "code",
   "execution_count": 63,
   "id": "2d8c1e09",
   "metadata": {},
   "outputs": [],
   "source": [
    "import pandas as pd\n",
    "import numpy as np"
   ]
  },
  {
   "cell_type": "code",
   "execution_count": 64,
   "id": "154feb77",
   "metadata": {},
   "outputs": [],
   "source": [
    "with open('input4', 'r') as f:\n",
    "    lines = [l.strip() for l in f.readlines()]"
   ]
  },
  {
   "cell_type": "markdown",
   "id": "580ab576",
   "metadata": {},
   "source": [
    "## Part 1"
   ]
  },
  {
   "cell_type": "code",
   "execution_count": 43,
   "id": "c57f8149",
   "metadata": {},
   "outputs": [],
   "source": [
    "lines = [\n",
    "    'ecl:gry pid:860033327 eyr:2020 hcl:#fffffd',\n",
    "    'byr:1937 iyr:2017 cid:147 hgt:183cm',\n",
    "    '',\n",
    "    'iyr:2013 ecl:amb cid:350 eyr:2023 pid:028048884',\n",
    "    'hcl:#cfa07d byr:1929',\n",
    "    '',\n",
    "    'hcl:#ae17e1 iyr:2013',\n",
    "    'eyr:2024',\n",
    "    'ecl:brn pid:760753108 byr:1931',\n",
    "    'hgt:179cm',\n",
    "    '',\n",
    "    'hcl:#cfa07d eyr:2025 pid:166559648',\n",
    "    'iyr:2011 ecl:brn hgt:59in',\n",
    "]"
   ]
  },
  {
   "cell_type": "code",
   "execution_count": 65,
   "id": "0c8f8894",
   "metadata": {},
   "outputs": [],
   "source": [
    "fields = [   \n",
    "    'byr',\n",
    "    'iyr',\n",
    "    'eyr',\n",
    "    'hgt',\n",
    "    'hcl',\n",
    "    'ecl',\n",
    "    'pid',\n",
    "#     'cid',\n",
    "]"
   ]
  },
  {
   "cell_type": "code",
   "execution_count": 66,
   "id": "f1328b95",
   "metadata": {},
   "outputs": [
    {
     "name": "stdout",
     "output_type": "stream",
     "text": [
      "192\n"
     ]
    }
   ],
   "source": [
    "valid_count = 0\n",
    "passport_count = 0\n",
    "current_passport = {}\n",
    "valid_passports = []\n",
    "for line in lines:\n",
    "    if len(line) == 0:\n",
    "        passport_count += 1\n",
    "        if len(set(fields) - set(current_passport.keys())) == 0:\n",
    "            valid_count += 1\n",
    "            valid_passports.append(current_passport)\n",
    "        current_passport = {}\n",
    "    else:\n",
    "        for pair in line.split():\n",
    "            key, value = pair.split(':')\n",
    "            current_passport[key] = value\n",
    "passport_count += 1\n",
    "if len(set(fields) - set(current_passport.keys())) == 0:\n",
    "    valid_passports.append(current_passport)\n",
    "    valid_count += 1\n",
    "print(valid_count)"
   ]
  },
  {
   "cell_type": "markdown",
   "id": "ffd8c5cf",
   "metadata": {},
   "source": [
    "## Part 2"
   ]
  },
  {
   "cell_type": "markdown",
   "id": "72685b90",
   "metadata": {},
   "source": [
    "- byr (Birth Year) - four digits; at least 1920 and at most 2002.\n",
    "- iyr (Issue Year) - four digits; at least 2010 and at most 2020.\n",
    "- eyr (Expiration Year) - four digits; at least 2020 and at most 2030.\n",
    "- hgt (Height) - a number followed by either cm or in:\n",
    "  - If cm, the number must be at least 150 and at most 193.\n",
    "  - If in, the number must be at least 59 and at most 76.\n",
    "- hcl (Hair Color) - a # followed by exactly six characters 0-9 or a-f.\n",
    "- ecl (Eye Color) - exactly one of: amb blu brn gry grn hzl oth.\n",
    "- pid (Passport ID) - a nine-digit number, including leading zeroes.\n",
    "- cid (Country ID) - ignored, missing or not."
   ]
  },
  {
   "cell_type": "code",
   "execution_count": 80,
   "id": "7c29d605",
   "metadata": {},
   "outputs": [],
   "source": [
    "valid_passports = []\n",
    "for line in lines:\n",
    "    if len(line) == 0:\n",
    "        if len(set(fields) - set(current_passport.keys())) == 0:\n",
    "            valid_passports.append(current_passport)\n",
    "        current_passport = {}\n",
    "    else:\n",
    "        for pair in line.split():\n",
    "            key, value = pair.split(':')\n",
    "            if key != 'cid':\n",
    "                current_passport[key] = value\n",
    "if len(set(fields) - set(current_passport.keys())) == 0:\n",
    "    valid_passports.append(current_passport)"
   ]
  },
  {
   "cell_type": "code",
   "execution_count": 120,
   "id": "c3170acf",
   "metadata": {},
   "outputs": [],
   "source": [
    "df = pd.DataFrame(valid_passports)\n",
    "df['byr'] = df['byr'].astype('int')\n",
    "df['iyr'] = df['iyr'].astype('int')\n",
    "df['eyr'] = df['eyr'].astype('int')\n",
    "df['hgt_value'] = df['hgt'].str.replace('cm', '').str.replace('in', '').astype('int')"
   ]
  },
  {
   "cell_type": "code",
   "execution_count": 140,
   "id": "32283c63",
   "metadata": {},
   "outputs": [
    {
     "name": "stdout",
     "output_type": "stream",
     "text": [
      "101\n"
     ]
    }
   ],
   "source": [
    "df = df.loc[(df['byr'] >= 1920) & (df['byr'] <= 2002)]\n",
    "df = df.loc[(df['iyr'] >= 2010) & (df['iyr'] <= 2020)]\n",
    "df = df.loc[(df['eyr'] >= 2020) & (df['eyr'] <= 2030)]\n",
    "df = df.loc[(df['hgt'].str.endswith('cm') & (df['hgt_value'] >= 150) & (df['hgt_value'] <= 193))\n",
    "            | (df['hgt'].str.endswith('in') & (df['hgt_value'] >= 59) & (df['hgt_value'] <= 76))]\n",
    "df = df.loc[df['hcl'].str.match('\\#[0-9a-f]{6}')]\n",
    "df = df.loc[df['ecl'].isin(['amb', 'blu', 'brn', 'gry', 'grn', 'hzl', 'oth'])]\n",
    "df = df.loc[df['pid'].str.match('[0-9]{9}')]\n",
    "print(len(df))"
   ]
  }
 ],
 "metadata": {
  "kernelspec": {
   "display_name": "Python 3 (ipykernel)",
   "language": "python",
   "name": "python3"
  },
  "language_info": {
   "codemirror_mode": {
    "name": "ipython",
    "version": 3
   },
   "file_extension": ".py",
   "mimetype": "text/x-python",
   "name": "python",
   "nbconvert_exporter": "python",
   "pygments_lexer": "ipython3",
   "version": "3.8.0"
  }
 },
 "nbformat": 4,
 "nbformat_minor": 5
}
