{
 "cells": [
  {
   "cell_type": "code",
   "execution_count": 16,
   "id": "f71fe61c",
   "metadata": {},
   "outputs": [],
   "source": [
    "from collections import defaultdict\n",
    "import numpy as np\n",
    "import pandas as pd"
   ]
  },
  {
   "cell_type": "code",
   "execution_count": 25,
   "id": "37066f70",
   "metadata": {},
   "outputs": [],
   "source": [
    "with open('input6', 'r') as f:\n",
    "    lines = [l.strip() for l in f.readlines()]\n",
    "lines.append('')"
   ]
  },
  {
   "cell_type": "markdown",
   "id": "13ae2ad9",
   "metadata": {},
   "source": [
    "## Part 1"
   ]
  },
  {
   "cell_type": "code",
   "execution_count": 17,
   "id": "878a1d75",
   "metadata": {},
   "outputs": [],
   "source": [
    "lines = [\n",
    "    'abc',\n",
    "    '',\n",
    "    'a',\n",
    "    'b',\n",
    "    'c',\n",
    "    '',\n",
    "    'ab',\n",
    "    'ac',\n",
    "    '',\n",
    "    'a',\n",
    "    'a',\n",
    "    'a',\n",
    "    'a',\n",
    "    '',\n",
    "    'b',\n",
    "    '',\n",
    "]"
   ]
  },
  {
   "cell_type": "code",
   "execution_count": 13,
   "id": "4c1c98e6",
   "metadata": {},
   "outputs": [
    {
     "name": "stdout",
     "output_type": "stream",
     "text": [
      "7120\n"
     ]
    }
   ],
   "source": [
    "sum_counts = 0\n",
    "current_group = []\n",
    "for line in lines:\n",
    "    if len(line) == 0:\n",
    "        sum_counts += len(set(current_group))\n",
    "        current_group = []\n",
    "    else:\n",
    "        current_group.extend(line)\n",
    "print(sum_counts)"
   ]
  },
  {
   "cell_type": "markdown",
   "id": "4c78af75",
   "metadata": {},
   "source": [
    "## Part 2"
   ]
  },
  {
   "cell_type": "code",
   "execution_count": 26,
   "id": "b050f49c",
   "metadata": {},
   "outputs": [
    {
     "name": "stdout",
     "output_type": "stream",
     "text": [
      "3570\n"
     ]
    }
   ],
   "source": [
    "sum_counts = 0\n",
    "current_group = defaultdict(int)\n",
    "group_size = 0\n",
    "for line in lines:\n",
    "    if len(line) == 0:\n",
    "        sum_counts += len([k for k, v in current_group.items() if v == group_size])\n",
    "        current_group = defaultdict(int)\n",
    "        group_size = 0\n",
    "    else:\n",
    "        group_size += 1\n",
    "        for answer in line:\n",
    "            current_group[answer] += 1\n",
    "print(sum_counts)"
   ]
  }
 ],
 "metadata": {
  "kernelspec": {
   "display_name": "Python 3 (ipykernel)",
   "language": "python",
   "name": "python3"
  },
  "language_info": {
   "codemirror_mode": {
    "name": "ipython",
    "version": 3
   },
   "file_extension": ".py",
   "mimetype": "text/x-python",
   "name": "python",
   "nbconvert_exporter": "python",
   "pygments_lexer": "ipython3",
   "version": "3.8.0"
  }
 },
 "nbformat": 4,
 "nbformat_minor": 5
}
