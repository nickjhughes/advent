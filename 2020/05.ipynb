{
 "cells": [
  {
   "cell_type": "code",
   "execution_count": 1,
   "id": "f71fe61c",
   "metadata": {},
   "outputs": [],
   "source": [
    "import numpy as np\n",
    "import pandas as pd"
   ]
  },
  {
   "cell_type": "code",
   "execution_count": 15,
   "id": "37066f70",
   "metadata": {},
   "outputs": [],
   "source": [
    "with open('input5', 'r') as f:\n",
    "    lines = [l.strip() for l in f.readlines()]"
   ]
  },
  {
   "cell_type": "markdown",
   "id": "13ae2ad9",
   "metadata": {},
   "source": [
    "## Part 1"
   ]
  },
  {
   "cell_type": "code",
   "execution_count": 4,
   "id": "4c1c98e6",
   "metadata": {},
   "outputs": [],
   "source": [
    "lines = [\n",
    "    'FBFBBFFRLR',\n",
    "    'BFFFBBFRRR',\n",
    "    'FFFBBBFRRR',\n",
    "    'BBFFBBFRLL'\n",
    "]"
   ]
  },
  {
   "cell_type": "code",
   "execution_count": 32,
   "id": "39287531",
   "metadata": {},
   "outputs": [
    {
     "data": {
      "text/plain": [
       "906"
      ]
     },
     "execution_count": 32,
     "metadata": {},
     "output_type": "execute_result"
    }
   ],
   "source": [
    "seat_ids = []\n",
    "for line in lines:\n",
    "    rows = list(range(128))\n",
    "    for i in range(7):\n",
    "        if line[i] == 'F':\n",
    "            rows = rows[:int(len(rows)/2)]\n",
    "        elif line[i] == 'B':\n",
    "            rows = rows[int(len(rows)/2):]\n",
    "    cols = list(range(8))\n",
    "    for i in range(3):\n",
    "        if line[7 + i] == 'L':\n",
    "            cols = cols[:int(len(cols)/2)]\n",
    "        elif line[7 + i] == 'R':\n",
    "            cols = cols[int(len(cols)/2):]\n",
    "    seat_ids.append(rows[0] * 8 + cols[0])\n",
    "max(seat_ids)"
   ]
  },
  {
   "cell_type": "markdown",
   "id": "4c78af75",
   "metadata": {},
   "source": [
    "## Part 2"
   ]
  },
  {
   "cell_type": "code",
   "execution_count": 33,
   "id": "b050f49c",
   "metadata": {},
   "outputs": [
    {
     "data": {
      "text/plain": [
       "519"
      ]
     },
     "execution_count": 33,
     "metadata": {},
     "output_type": "execute_result"
    }
   ],
   "source": [
    "sorted(seat_ids)[np.where(np.diff(np.array(sorted(seat_ids))) == 2)[0][0]] + 1"
   ]
  }
 ],
 "metadata": {
  "kernelspec": {
   "display_name": "Python 3 (ipykernel)",
   "language": "python",
   "name": "python3"
  },
  "language_info": {
   "codemirror_mode": {
    "name": "ipython",
    "version": 3
   },
   "file_extension": ".py",
   "mimetype": "text/x-python",
   "name": "python",
   "nbconvert_exporter": "python",
   "pygments_lexer": "ipython3",
   "version": "3.8.0"
  }
 },
 "nbformat": 4,
 "nbformat_minor": 5
}
