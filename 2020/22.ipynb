{
 "cells": [
  {
   "cell_type": "code",
   "execution_count": 17,
   "id": "6cc55422",
   "metadata": {},
   "outputs": [],
   "source": [
    "with open('input22', 'r') as f:\n",
    "    lines = [l.strip() for l in f.readlines()]"
   ]
  },
  {
   "cell_type": "markdown",
   "id": "13ae2ad9",
   "metadata": {},
   "source": [
    "## Part 1"
   ]
  },
  {
   "cell_type": "code",
   "execution_count": 5,
   "id": "7474f761",
   "metadata": {},
   "outputs": [],
   "source": [
    "lines = [\n",
    "    'Player 1:',\n",
    "    '9',\n",
    "    '2',\n",
    "    '6',\n",
    "    '3',\n",
    "    '1',\n",
    "    '',\n",
    "    'Player 2:',\n",
    "    '5',\n",
    "    '8',\n",
    "    '4',\n",
    "    '7',\n",
    "    '10',\n",
    "]"
   ]
  },
  {
   "cell_type": "code",
   "execution_count": 18,
   "id": "08c67737",
   "metadata": {},
   "outputs": [
    {
     "name": "stdout",
     "output_type": "stream",
     "text": [
      "36257\n"
     ]
    }
   ],
   "source": [
    "decks = [[], []]\n",
    "cur_player = -1\n",
    "for line in lines:\n",
    "    if line.startswith('Player'):\n",
    "        cur_player = int(line.split()[1].replace(':', '')) - 1\n",
    "    else:\n",
    "        if len(line) > 0:\n",
    "            decks[cur_player].append(int(line))\n",
    "\n",
    "while True:\n",
    "    p1, p2 = decks[0].pop(0), decks[1].pop(0)\n",
    "    if p2 > p1:\n",
    "        decks[1].extend([p2, p1])\n",
    "    else:\n",
    "        decks[0].extend([p1, p2])\n",
    "    if len(decks[0]) == 0:\n",
    "        print(sum(a * b for a, b in zip(range(1, len(decks[1]) + 1), decks[1][::-1])))\n",
    "        break\n",
    "    elif len(decks[1]) == 0:\n",
    "        print(sum(a * b for a, b in zip(range(1, len(decks[0]) + 1), decks[0][::-1])))\n",
    "        break"
   ]
  },
  {
   "cell_type": "markdown",
   "id": "4c78af75",
   "metadata": {},
   "source": [
    "## Part 2"
   ]
  },
  {
   "cell_type": "code",
   "execution_count": null,
   "id": "2cd0aa79",
   "metadata": {},
   "outputs": [],
   "source": []
  },
  {
   "cell_type": "code",
   "execution_count": null,
   "id": "87d612f6",
   "metadata": {},
   "outputs": [],
   "source": []
  }
 ],
 "metadata": {
  "kernelspec": {
   "display_name": "Python 3 (ipykernel)",
   "language": "python",
   "name": "python3"
  },
  "language_info": {
   "codemirror_mode": {
    "name": "ipython",
    "version": 3
   },
   "file_extension": ".py",
   "mimetype": "text/x-python",
   "name": "python",
   "nbconvert_exporter": "python",
   "pygments_lexer": "ipython3",
   "version": "3.9.10"
  }
 },
 "nbformat": 4,
 "nbformat_minor": 5
}
