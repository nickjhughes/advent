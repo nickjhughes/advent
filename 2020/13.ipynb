{
 "cells": [
  {
   "cell_type": "code",
   "execution_count": 127,
   "id": "a462a879",
   "metadata": {},
   "outputs": [],
   "source": [
    "import math"
   ]
  },
  {
   "cell_type": "code",
   "execution_count": 128,
   "id": "007fcff3",
   "metadata": {},
   "outputs": [],
   "source": [
    "with open('input13', 'r') as f:\n",
    "    lines = [l.strip() for l in f.readlines()]"
   ]
  },
  {
   "cell_type": "markdown",
   "id": "4c6628e9",
   "metadata": {},
   "source": [
    "## Part 1"
   ]
  },
  {
   "cell_type": "code",
   "execution_count": 15,
   "id": "3617810c",
   "metadata": {},
   "outputs": [],
   "source": [
    "earliest_time = int(lines[0])\n",
    "buses = [int(b) for b in lines[1].split(',') if b != 'x']"
   ]
  },
  {
   "cell_type": "code",
   "execution_count": 16,
   "id": "4b6e5425",
   "metadata": {},
   "outputs": [
    {
     "name": "stdout",
     "output_type": "stream",
     "text": [
      "2045\n"
     ]
    }
   ],
   "source": [
    "min_time = 1e100\n",
    "min_bus = None\n",
    "min_wait = None\n",
    "for bus in buses:\n",
    "    time = math.ceil(earliest_time / bus) * bus\n",
    "    if time < min_time:\n",
    "        min_time = time\n",
    "        min_bus = bus\n",
    "        min_wait = time - earliest_time\n",
    "print(min_bus * min_wait)"
   ]
  },
  {
   "cell_type": "markdown",
   "id": "ea2db1ed",
   "metadata": {},
   "source": [
    "## Part 2"
   ]
  },
  {
   "cell_type": "code",
   "execution_count": 129,
   "id": "9497a30b",
   "metadata": {},
   "outputs": [],
   "source": [
    "buses = [(int(b), i) for i, b in enumerate(lines[1].split(',')) if b != 'x']\n",
    "buses = sorted(buses, key=lambda b: b[0], reverse=True)"
   ]
  },
  {
   "cell_type": "code",
   "execution_count": 130,
   "id": "cb29b5b7",
   "metadata": {},
   "outputs": [],
   "source": [
    "modulos = [b[0] for b in buses]\n",
    "remainders = [-b[1] % b[0] for b in buses]"
   ]
  },
  {
   "cell_type": "code",
   "execution_count": 131,
   "id": "f6167dd2",
   "metadata": {},
   "outputs": [],
   "source": [
    "def extended_gcd(a, b):\n",
    "    old_r, r = a, b\n",
    "    old_s, s = 1, 0\n",
    "    old_t, t = 0, 1\n",
    "    while r != 0:\n",
    "        quotient = old_r // r\n",
    "        old_r, r = r, old_r - quotient * r\n",
    "        old_s, s = s, old_s - quotient * s\n",
    "        old_t, t = t, old_t - quotient * t\n",
    "    return old_s, old_t"
   ]
  },
  {
   "cell_type": "code",
   "execution_count": 132,
   "id": "a79ae9fd",
   "metadata": {},
   "outputs": [],
   "source": [
    "def crt(m1, m2, r1, r2):\n",
    "    a, b = extended_gcd(m1, m2)\n",
    "    return (r1 * m2 * b + r2 * m1 * a) % (m1 * m2)"
   ]
  },
  {
   "cell_type": "code",
   "execution_count": 133,
   "id": "5fbb9e6b",
   "metadata": {},
   "outputs": [
    {
     "data": {
      "text/plain": [
       "402251700208309"
      ]
     },
     "execution_count": 133,
     "metadata": {},
     "output_type": "execute_result"
    }
   ],
   "source": [
    "equations = list(zip(modulos, remainders))\n",
    "m1, r1 = equations.pop(0)\n",
    "while len(equations) > 0:\n",
    "    m2, r2 = equations.pop(0)\n",
    "    t = crt(m1, m2, r1, r2)\n",
    "    m1 = m1 * m2\n",
    "    r1 = t\n",
    "r1"
   ]
  }
 ],
 "metadata": {
  "kernelspec": {
   "display_name": "Python 3 (ipykernel)",
   "language": "python",
   "name": "python3"
  },
  "language_info": {
   "codemirror_mode": {
    "name": "ipython",
    "version": 3
   },
   "file_extension": ".py",
   "mimetype": "text/x-python",
   "name": "python",
   "nbconvert_exporter": "python",
   "pygments_lexer": "ipython3",
   "version": "3.8.0"
  }
 },
 "nbformat": 4,
 "nbformat_minor": 5
}
